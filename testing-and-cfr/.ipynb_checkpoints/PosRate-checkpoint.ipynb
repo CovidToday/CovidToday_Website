{
 "cells": [
  {
   "cell_type": "code",
   "execution_count": 1,
   "metadata": {
    "colab": {
     "base_uri": "https://localhost:8080/",
     "height": 53
    },
    "colab_type": "code",
    "id": "qdrLAD7dIiCX",
    "outputId": "2c100d22-38c8-4d59-d43d-a4b91d64e0b6"
   },
   "outputs": [
    {
     "name": "stdout",
     "output_type": "stream",
     "text": [
      "Requirement already satisfied: wget in /usr/local/lib/python3.6/dist-packages (3.2)\n",
      "Drive already mounted at /content/gdrive; to attempt to forcibly remount, call drive.mount(\"/content/gdrive\", force_remount=True).\n"
     ]
    }
   ],
   "source": [
    "!pip install wget\n",
    "import numpy as np\n",
    "import matplotlib.pyplot as plt\n",
    "import pandas as pd\n",
    "from subprocess import call\n",
    "from scipy.stats.distributions import gamma,lognorm\n",
    "import json \n",
    "import wget\n",
    "import os\n",
    "import os.path\n",
    "from collections import OrderedDict\n",
    "from google.colab import drive\n",
    "#os.chdir('/content/gdrive/My Drive')\n",
    "drive.mount('/content/gdrive')"
   ]
  },
  {
   "cell_type": "code",
   "execution_count": 2,
   "metadata": {
    "colab": {},
    "colab_type": "code",
    "id": "LteMOqIxIqjD"
   },
   "outputs": [],
   "source": [
    "os.chdir('/content/gdrive/My Drive/test')"
   ]
  },
  {
   "cell_type": "code",
   "execution_count": 3,
   "metadata": {
    "colab": {
     "base_uri": "https://localhost:8080/",
     "height": 35
    },
    "colab_type": "code",
    "id": "qQ6DWxRsI4eH",
    "outputId": "90b5af42-a692-4176-bf86-0d40ee5ac0c8"
   },
   "outputs": [
    {
     "data": {
      "text/plain": [
       "'/content/gdrive/My Drive/test//test.json'"
      ]
     },
     "execution_count": 3,
     "metadata": {
      "tags": []
     },
     "output_type": "execute_result"
    }
   ],
   "source": [
    "wget.download('https://api.covid19india.org/v3/data-all.json', os.getcwd()+\"//test.json\")"
   ]
  },
  {
   "cell_type": "code",
   "execution_count": 4,
   "metadata": {
    "colab": {},
    "colab_type": "code",
    "id": "sxgCRnnBJEoe"
   },
   "outputs": [],
   "source": [
    "def fn(mon):\n",
    "  if(mon == \"01\"):\n",
    "    return \" January\"\n",
    "  if(mon == \"02\"):\n",
    "    return \" February\"\n",
    "  if(mon == \"03\"):\n",
    "    return \" March\"\n",
    "  if(mon == \"04\"):\n",
    "    return \" April\"\n",
    "  if(mon == \"05\"):\n",
    "    return \" May\"\n",
    "  if(mon == \"06\"):\n",
    "    return \" June\"\n",
    "  if(mon == \"07\"):\n",
    "    return \" July\"\n",
    "  if(mon == \"08\"):\n",
    "    return \" August\"\n",
    "  if(mon == \"09\"):\n",
    "    return \" September\"\n",
    "  if(mon == \"10\"):\n",
    "    return \" October\"\n",
    "  if(mon == \"11\"):\n",
    "    return \" November\"\n",
    "  if(mon == \"12\"):\n",
    "    return \" December\"\n",
    "def convert(dat): \n",
    "    return  str(dat[8:10]) + fn(str(dat[5:7]))"
   ]
  },
  {
   "cell_type": "code",
   "execution_count": 5,
   "metadata": {
    "colab": {},
    "colab_type": "code",
    "id": "ZvzH27KwGfZ5"
   },
   "outputs": [],
   "source": [
    "dataset=pd.read_csv('./population.csv')\n",
    "population=pd.DataFrame()\n",
    "population[\"State\"]=dataset['State'][:37]\n",
    "population[\"Population\"]=dataset['Population'][:37]\n",
    "population=population.set_index('State')"
   ]
  },
  {
   "cell_type": "code",
   "execution_count": 6,
   "metadata": {
    "colab": {},
    "colab_type": "code",
    "id": "OoKpSD7mJ89D"
   },
   "outputs": [],
   "source": [
    "state_id = {\n",
    "  \"TT\":\"India\",\n",
    "  \"MH\":\"Maharashtra\",\n",
    "  \"TN\":\"Tamil Nadu\",\n",
    "  \"DL\":\"Delhi\",\n",
    "  \"GJ\":\"Gujarat\",\n",
    "  \"RJ\":\"Rajasthan\",\n",
    "  \"UP\":\"Uttar Pradesh\",\n",
    "  \"MP\":\"Madhya Pradesh\",\n",
    "  \"WB\":\"West Bengal\",\n",
    "  \"KA\":\"Karnataka\",\n",
    "  \"BR\":\"Bihar\",\n",
    "  \"AP\":\"Andhra Pradesh\",\n",
    "  \"HR\":\"Haryana\",\n",
    "  \"TG\":\"Telangana\",\n",
    "  \"JK\":\"Jammu and Kashmir\",\n",
    "  \"OR\":\"Odisha\",\n",
    "  \"PB\":\"Punjab\",\n",
    "  \"AS\":\"Assam\",\n",
    "  \"KL\":\"Kerala\",\n",
    "  \"UT\":\"Uttarakhand\",\n",
    "  \"JH\":\"Jharkhand\",\n",
    "  \"CT\":\"Chhattisgarh\",\n",
    "  \"TR\":\"Tripura\",\n",
    "  \"HP\":\"Himachal Pradesh\",\n",
    "  \"CH\":\"Chandigarh\",\n",
    "  \"GA\":\"Goa\",\n",
    "  \"MN\":\"Manipur\",\n",
    "  \"NL\":\"Nagaland\",\n",
    "  \"PY\":\"Puducherry\",\n",
    "  \"LA\":\"Ladakh\",\n",
    "  \"AR\":\"Arunachal Pradesh\",\n",
    "  \"AN\":\"Andaman and Nicobar Islands\",\n",
    "  \"ML\":\"Meghalaya\",\n",
    "  \"MZ\":\"Mizoram\",\n",
    "  \"DN\":\"Dadra and Nagar Haveli and Daman and Diu\",\n",
    "  \"SK\":\"Sikkim\",\n",
    "}"
   ]
  },
  {
   "cell_type": "code",
   "execution_count": 7,
   "metadata": {
    "colab": {},
    "colab_type": "code",
    "id": "GJeqy8_OKP1X"
   },
   "outputs": [],
   "source": [
    "from datetime import datetime\n",
    "x=datetime.today()\n",
    "dd=pd.date_range(start=\"2020-01-30\",end=x)\n",
    "dates=[]\n",
    "for i in range(len(dd)):\n",
    "  dates.append((str(dd[i])[:10]))\n",
    "#dates\n",
    "dates1=[]\n",
    "for w in range (len(dates)):\n",
    "  if len(dates[w]):\n",
    "    dates1.append(convert(dates[w]))\n",
    "states={}\n",
    "csv_dates=[]\n",
    "csv_states=[]\n",
    "csv_total_cases=[]\n",
    "csv_cum_recovered=[]\n",
    "csv_daily_recovered=[]\n",
    "csv_cum_deceased=[]\n",
    "csv_daily_deceased=[]\n",
    "csv_positivity_rate_cumulative=[]\n",
    "csv_daily_positive_cases=[]\n",
    "csv_daily_positivity_rate=[]\n",
    "csv_daily_positive_cases_ma=[]\n",
    "csv_daily_positivity_rate_ma=[]\n",
    "csv_test_per_million=[]\n",
    "csv_daily_tested=[]\n",
    "csv_cum_tested=[]\n",
    "test=json.load(open('test.json'))\n",
    "for j in state_id.keys():\n",
    "  test_per_million=['']*len(dates)\n",
    "  pos_cum=['']*len(dates)\n",
    "  pos_rate_cum=['']*len(dates)\n",
    "  daily_pos=['']*len(dates)\n",
    "  daily_pos_ma=['']*len(dates)\n",
    "  daily_tested=['']*len(dates)\n",
    "  daily_pos_rate=['']*len(dates)\n",
    "  daily_pos_rate_ma=['']*len(dates)\n",
    "  tested_cum=['']*len(dates)\n",
    "  tested_daily=['']*len(dates)\n",
    "  deceased_cum=['']*len(dates)\n",
    "  daily_deceased=['']*len(dates)\n",
    "  recovered_cum=['']*len(dates)\n",
    "  daily_recovered=['']*len(dates)\n",
    "  for i in range(len(dates)):\n",
    "    if dates[i] in test.keys():\n",
    "      temp=json.load(open('test.json'))[dates[i]]\n",
    "    if j in temp.keys():\n",
    "      if 'total' in temp[j].keys():\n",
    "        if 'confirmed' in temp[j]['total'].keys():\n",
    "          pos_cum[i]=temp[j]['total']['confirmed']\n",
    "\n",
    "        if 'tested' in temp[j]['total'].keys():\n",
    "          tested_cum[i]=abs(temp[j]['total']['tested'])\n",
    "          test_per_million[i]=temp[j]['total']['tested']*1000000/int(population[\"Population\"][state_id[j]])\n",
    "            \n",
    "        if 'deceased' in temp[j]['total'].keys():\n",
    "          deceased_cum[i]=temp[j]['total']['deceased']\n",
    "        \n",
    "        if 'recovered' in temp[j]['total'].keys():\n",
    "          recovered_cum[i]=temp[j]['total']['recovered']\n",
    "        \n",
    "        if len(str(pos_cum[i])) and len(str(tested_cum[i])):\n",
    "          pos_rate_cum[i]= pos_cum[i]*100/tested_cum[i]\n",
    "\n",
    "      if 'delta' in temp[j].keys():\n",
    "        if 'confirmed' in temp[j]['delta'].keys():\n",
    "          daily_pos[i]=temp[j]['delta']['confirmed']\n",
    "\n",
    "        if 'tested' in temp[j]['delta'].keys():\n",
    "          daily_tested[i]=abs(temp[j]['delta']['tested'])\n",
    "        \n",
    "        if 'deceased' in temp[j]['delta'].keys():\n",
    "          daily_deceased[i]=temp[j]['delta']['deceased']\n",
    "        \n",
    "        if 'recovered' in temp[j]['delta'].keys():\n",
    "          daily_recovered[i]=temp[j]['delta']['recovered']\n",
    "        \n",
    "        if len(str(daily_pos[i])) and len(str(daily_tested[i])):\n",
    "          daily_pos_rate[i]=int(daily_pos[i])*100/int(daily_tested[i])\n",
    "\n",
    "  for w in range(7,len(daily_pos)):\n",
    "    sum1=0\n",
    "    sum2=0\n",
    "    for s in range(7):\n",
    "      if (len(str(daily_pos[w-s]))!=0 and len(str(daily_tested[w-s]))!=0):\n",
    "        sum1+=int(daily_pos[w-s])\n",
    "        sum2+=int(daily_tested[w-s])\n",
    "    if (sum2!=0):\n",
    "      daily_pos_rate_ma[w]=sum1*100/abs(sum2)\n",
    "  \n",
    "  for w in range(7,len(daily_pos)):\n",
    "    sum1=0\n",
    "    count=0\n",
    "    for s in range(7):\n",
    "      if (len(str(daily_pos[w-s]))!=0):\n",
    "        sum1+=int(daily_pos[w-s])\n",
    "        count+=1\n",
    "    if count!=0:\n",
    "      daily_pos_ma[w]=sum1/count\n",
    "\n",
    "  st=state_id[j]\n",
    "\n",
    "  for i in range(len(dates)):\n",
    "    csv_dates.append(dates1[i])\n",
    "    csv_states.append(st)\n",
    "    csv_total_cases.append(pos_cum[i])\n",
    "    csv_positivity_rate_cumulative.append(pos_rate_cum[i])\n",
    "    csv_daily_positive_cases.append(daily_pos[i])\n",
    "    csv_cum_recovered.append(recovered_cum[i])\n",
    "    csv_daily_recovered.append(daily_recovered[i])\n",
    "    csv_cum_deceased.append(deceased_cum[i])\n",
    "    csv_daily_deceased.append(daily_deceased[i])\n",
    "    csv_daily_positivity_rate.append(daily_pos_rate[i])\n",
    "    csv_daily_positive_cases_ma.append(daily_pos_ma[i])\n",
    "    csv_daily_positivity_rate_ma.append(daily_pos_rate_ma[i])\n",
    "    csv_daily_tested.append(daily_tested[i])\n",
    "    csv_cum_tested.append(tested_cum[i])\n",
    "    csv_test_per_million.append(test_per_million[i])\n",
    "\n",
    "  states[st]={\n",
    "                    'dates':dates1,\n",
    "                    'cum_positive_cases':pos_cum,\n",
    "                    'cum_positivity_rate':pos_rate_cum[:-1],\n",
    "                    'daily_positive_cases':daily_pos[:-1],\n",
    "                    'cum_recovered':recovered_cum,\n",
    "                    'daily_recovered':daily_recovered[:-1],\n",
    "                    'cum_deceased':deceased_cum,\n",
    "                    'daily_deceased':daily_deceased[:-1],\n",
    "                    'daily_positivity_rate':daily_pos_rate[:-1],\n",
    "                    'daily_positive_cases_ma': daily_pos_ma[:-1],\n",
    "                    'daily_positivity_rate_ma':daily_pos_rate_ma[:-1] , \n",
    "                    'daily_tests': daily_tested[:-1],\n",
    "                    'cum_tests': tested_cum,\n",
    "                    'test_per_million':test_per_million[:-1],    \n",
    "              }"
   ]
  },
  {
   "cell_type": "code",
   "execution_count": 8,
   "metadata": {
    "colab": {},
    "colab_type": "code",
    "id": "V_4I2vqzzW8G"
   },
   "outputs": [],
   "source": [
    "from datetime import datetime\n",
    "states['datetime']=str(datetime.now())\n",
    "with open('positivity_Rate.json', 'w') as outfile:\n",
    "    json.dump(states, outfile,indent=4)"
   ]
  },
  {
   "cell_type": "code",
   "execution_count": 9,
   "metadata": {
    "colab": {},
    "colab_type": "code",
    "id": "eguHuU6nCPWl"
   },
   "outputs": [],
   "source": [
    "df=pd.DataFrame()\n",
    "df['dates']=csv_dates\n",
    "df['state']=csv_states\n",
    "df['cum_positive_cases']=csv_total_cases\n",
    "df['cum_positivity_rate']=csv_positivity_rate_cumulative\n",
    "df['cum_recovered']=csv_cum_recovered\n",
    "df['daily_recovered']:csv_daily_recovered\n",
    "df['cum_deceased']=csv_cum_deceased\n",
    "df['daily_deceased']:daily_deceased\n",
    "df['daily_positive_cases']=csv_daily_positive_cases\n",
    "df['daily_positivity_rate']=csv_daily_positivity_rate\n",
    "df['daily_positive_cases_ma']=csv_daily_positive_cases_ma\n",
    "df['daily_positivity_rate_ma']=    csv_daily_positivity_rate_ma\n",
    "df['daily_tests']=csv_daily_tested\n",
    "df['cum_tested']=csv_cum_tested\n",
    "df['test_per_million']=csv_test_per_million\n",
    "df.to_csv('positivity_Rate.csv',index=False)"
   ]
  }
 ],
 "metadata": {
  "colab": {
   "collapsed_sections": [],
   "name": "PosRate.ipynb",
   "provenance": []
  },
  "kernelspec": {
   "display_name": "Python 3",
   "language": "python",
   "name": "python3"
  },
  "language_info": {
   "codemirror_mode": {
    "name": "ipython",
    "version": 3
   },
   "file_extension": ".py",
   "mimetype": "text/x-python",
   "name": "python",
   "nbconvert_exporter": "python",
   "pygments_lexer": "ipython3",
   "version": "3.7.6"
  }
 },
 "nbformat": 4,
 "nbformat_minor": 1
}
