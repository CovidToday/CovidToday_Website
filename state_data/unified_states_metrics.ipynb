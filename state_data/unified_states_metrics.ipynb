{
 "cells": [
  {
   "cell_type": "code",
   "execution_count": 1,
   "metadata": {
    "colab": {},
    "colab_type": "code",
    "id": "1MGiletA7xev",
    "scrolled": false
   },
   "outputs": [],
   "source": [
    "#!pip install wget\n",
    "#!pip install urllib3"
   ]
  },
  {
   "cell_type": "code",
   "execution_count": 2,
   "metadata": {
    "colab": {},
    "colab_type": "code",
    "id": "5Bg5JGkOoFkM",
    "scrolled": false
   },
   "outputs": [],
   "source": [
    "import numpy as np\n",
    "import matplotlib.pyplot as plt\n",
    "import pandas as pd\n",
    "from subprocess import call\n",
    "from scipy.stats.distributions import gamma,lognorm\n",
    "import json \n",
    "import wget\n",
    "import os\n",
    "import os.path\n",
    "from datetime import datetime,timedelta\n",
    "import pytz \n",
    "from collections import OrderedDict\n",
    "\n",
    "from urllib.request import urlopen\n",
    "import copy\n",
    "import collections"
   ]
  },
  {
   "cell_type": "code",
   "execution_count": 3,
   "metadata": {
    "colab": {},
    "colab_type": "code",
    "id": "Mbqk2GCWvBe2",
    "scrolled": false
   },
   "outputs": [],
   "source": [
    "#!git clone https://github.com/CovidToday/backend"
   ]
  },
  {
   "cell_type": "code",
   "execution_count": null,
   "metadata": {
    "colab": {
     "base_uri": "https://localhost:8080/",
     "height": 36
    },
    "colab_type": "code",
    "id": "GbTAAECqo4b8",
    "outputId": "0f734e94-212c-45fe-d590-10b55a2954cb",
    "scrolled": false
   },
   "outputs": [
    {
     "name": "stdout",
     "output_type": "stream",
     "text": [
      " 97% [..................................................  ] 33292288 / 34106027"
     ]
    }
   ],
   "source": [
    "if os.path.exists(\"test.json\"):\n",
    "  os.remove(\"test.json\")\n",
    "wget.download('https://api.covid19india.org/v3/data-all.json', os.path.join(os.getcwd(),'test.json')) #os.path.join instead of concating string together"
   ]
  },
  {
   "cell_type": "code",
   "execution_count": null,
   "metadata": {
    "colab": {},
    "colab_type": "code",
    "id": "b_Mmdu4qo8np",
    "scrolled": false
   },
   "outputs": [],
   "source": [
    "def convert(dat): \n",
    "    return datetime.strptime(dat, '%Y-%m-%d').strftime('%d %B')"
   ]
  },
  {
   "cell_type": "code",
   "execution_count": null,
   "metadata": {
    "colab": {},
    "colab_type": "code",
    "id": "j96Uf-HsCAoa",
    "outputId": "88ec20e4-40b9-4a5f-f4e1-dd521d6466e5"
   },
   "outputs": [],
   "source": [
    "json.load(open('test.json')).keys()"
   ]
  },
  {
   "cell_type": "code",
   "execution_count": null,
   "metadata": {
    "colab": {
     "base_uri": "https://localhost:8080/",
     "height": 36
    },
    "colab_type": "code",
    "id": "EH9igVdY8IwB",
    "outputId": "4a6e7f07-dc00-4974-dee1-c04059c3a07f",
    "scrolled": false
   },
   "outputs": [],
   "source": [
    "dt = '2020-05-30'\n",
    "convert(dt)"
   ]
  },
  {
   "cell_type": "code",
   "execution_count": null,
   "metadata": {
    "colab": {},
    "colab_type": "code",
    "id": "mwwDMhrB9Axj",
    "scrolled": false
   },
   "outputs": [],
   "source": [
    "# maybe helpful \n",
    "\n",
    "def split_date_json(pos_rate_json,state):\n",
    "  td =  pd.DataFrame(pos_rate_json[state]['dates'])\n",
    "  \n",
    "  df = td.apply(lambda x: [x[0][:3],x[0][3:]],  result_type=\"expand\",axis=1)\n",
    "  df.columns=['date','month']\n",
    "  return df"
   ]
  },
  {
   "cell_type": "code",
   "execution_count": null,
   "metadata": {
    "colab": {},
    "colab_type": "code",
    "id": "hx19gK_Vo_5J",
    "scrolled": false
   },
   "outputs": [],
   "source": [
    "#dataset=pd.read_csv('https://raw.githubusercontent.com/CovidToday/backend/master/testing-and-cfr/population.csv')\n",
    "dataset=pd.read_csv('population.csv')\n",
    "population=pd.DataFrame()\n",
    "population[\"State\"]=dataset['State'][:37]\n",
    "population[\"Population\"]=dataset['Population'][:37]\n",
    "population=population.set_index('State')"
   ]
  },
  {
   "cell_type": "code",
   "execution_count": null,
   "metadata": {
    "colab": {},
    "colab_type": "code",
    "id": "489_2jZ1pDAe",
    "scrolled": false
   },
   "outputs": [],
   "source": [
    "state_id = {\n",
    "  \"TT\":\"India\",\n",
    "  \"MH\":\"Maharashtra\",\n",
    "  \"TN\":\"Tamil Nadu\",\n",
    "  \"DL\":\"Delhi\",\n",
    "  \"GJ\":\"Gujarat\",\n",
    "  \"RJ\":\"Rajasthan\",\n",
    "  \"UP\":\"Uttar Pradesh\",\n",
    "  \"MP\":\"Madhya Pradesh\",\n",
    "  \"WB\":\"West Bengal\",\n",
    "  \"KA\":\"Karnataka\",\n",
    "  \"BR\":\"Bihar\",\n",
    "  \"AP\":\"Andhra Pradesh\",\n",
    "  \"HR\":\"Haryana\",\n",
    "  \"TG\":\"Telangana\",\n",
    "  \"JK\":\"Jammu and Kashmir\",\n",
    "  \"OR\":\"Odisha\",\n",
    "  \"PB\":\"Punjab\",\n",
    "  \"AS\":\"Assam\",\n",
    "  \"KL\":\"Kerala\",\n",
    "  \"UT\":\"Uttarakhand\",\n",
    "  \"JH\":\"Jharkhand\",\n",
    "  \"CT\":\"Chhattisgarh\",\n",
    "  \"TR\":\"Tripura\",\n",
    "  \"HP\":\"Himachal Pradesh\",\n",
    "  \"CH\":\"Chandigarh\",\n",
    "  \"GA\":\"Goa\",\n",
    "  \"MN\":\"Manipur\",\n",
    "  \"NL\":\"Nagaland\",\n",
    "  \"PY\":\"Puducherry\",\n",
    "  \"LA\":\"Ladakh\",\n",
    "  \"AR\":\"Arunachal Pradesh\",\n",
    "  \"AN\":\"Andaman and Nicobar Islands\",\n",
    "  \"ML\":\"Meghalaya\",\n",
    "  \"MZ\":\"Mizoram\",\n",
    "  \"DN\":\"Dadra and Nagar Haveli and Daman and Diu\",\n",
    "  \"SK\":\"Sikkim\",\n",
    "}"
   ]
  },
  {
   "cell_type": "code",
   "execution_count": null,
   "metadata": {
    "colab": {},
    "colab_type": "code",
    "id": "AmRFhGM1pFYS",
    "scrolled": false
   },
   "outputs": [],
   "source": [
    "#Changed\n",
    "\n",
    "'''\n",
    "from datetime import timedelta\n",
    "start=datetime.now()\n",
    "x1=datetime.now(pytz.timezone('Asia/Kolkata')).date()\n",
    "#x1 = datetime.today()\n",
    "#y1 = timedelta(days=7)\n",
    "y1=[]\n",
    "#x1=str(x1)[:10]\n",
    "for i in range(7,0,-1):\n",
    "  y1.append(str(datetime.today()-timedelta(days=i))[:10])\n",
    "#print(y1)\n",
    "##y1=str(y1)[:10]\n",
    "t=y1\n",
    "t\n",
    "'''\n",
    "def dates_gen(periods=7):\n",
    "  t = pd.Series(pd.date_range(end = datetime.now(pytz.timezone('Asia/Kolkata'))-timedelta(1), periods = periods)).dt.strftime('%Y-%m-%d').tolist()\n",
    "\n",
    "  return t"
   ]
  },
  {
   "cell_type": "code",
   "execution_count": null,
   "metadata": {
    "colab": {},
    "colab_type": "code",
    "id": "OthKZGr36TQ-",
    "scrolled": false
   },
   "outputs": [],
   "source": [
    "t=dates_gen()"
   ]
  },
  {
   "cell_type": "code",
   "execution_count": null,
   "metadata": {
    "colab": {},
    "colab_type": "code",
    "id": "knVTbqqKCArC"
   },
   "outputs": [],
   "source": [
    "from datetime import datetime\n",
    "x=datetime.today()\n",
    "dd=pd.date_range(start=\"2020-01-30\",end=x)\n",
    "dates=[]\n",
    "for i in range(len(dd)):\n",
    "  dates.append((str(dd[i])[:10]))\n",
    "#dates\n",
    "dates1=[]\n",
    "for w in range (len(dates)):\n",
    "  if len(dates[w]):\n",
    "    dates1.append(convert(dates[w]))"
   ]
  },
  {
   "cell_type": "code",
   "execution_count": null,
   "metadata": {
    "colab": {},
    "colab_type": "code",
    "id": "1519rmaaCArY",
    "outputId": "f4a6425f-1081-49e2-9bcb-3f4ba22c8f8c"
   },
   "outputs": [],
   "source": [
    "dates[-1]"
   ]
  },
  {
   "cell_type": "markdown",
   "metadata": {
    "colab_type": "text",
    "id": "tSQkd78jaS2a"
   },
   "source": [
    "# Positive Rate (All metrics)\n",
    "\n"
   ]
  },
  {
   "cell_type": "markdown",
   "metadata": {
    "colab_type": "text",
    "id": "qtRi5qu_CArt"
   },
   "source": [
    "## GroundZero"
   ]
  },
  {
   "cell_type": "code",
   "execution_count": null,
   "metadata": {
    "colab": {},
    "colab_type": "code",
    "id": "JHlGmEBtCArx",
    "outputId": "996d035d-640e-4501-eb16-3cc53fc89104"
   },
   "outputs": [],
   "source": [
    "'''\n",
    "start=datetime.now()\n",
    "states={}\n",
    "\n",
    "csv_dates=[]\n",
    "csv_states=[]\n",
    "csv_total_cases=[]\n",
    "csv_cum_recovered=[]\n",
    "csv_daily_recovered=[]\n",
    "csv_cum_deceased=[]\n",
    "csv_daily_deceased=[]\n",
    "csv_positivity_rate_cumulative=[]\n",
    "csv_daily_positive_cases=[]\n",
    "csv_daily_positivity_rate=[]\n",
    "csv_daily_positive_cases_ma=[]\n",
    "csv_daily_positivity_rate_ma=[]\n",
    "csv_test_per_million=[]\n",
    "csv_daily_tested=[]\n",
    "csv_cum_tested=[]\n",
    "\n",
    "csv_daily_case_per_million = []\n",
    "csv_daily_test_per_million = []\n",
    "csv_daily_test_ma = []\n",
    "csv_daily_deceased_ma = []\n",
    "\n",
    "\n",
    "test=json.load(open('test.json'))\n",
    "\n",
    "for j in state_id.keys():\n",
    "  print(\"Working : \",state_id[j])\n",
    "  test_per_million=['']*len(dates)\n",
    "  pos_cum=['']*len(dates)\n",
    "  pos_rate_cum=['']*len(dates)\n",
    "  daily_pos=['']*len(dates)\n",
    "  daily_pos_ma=['']*len(dates)\n",
    "  daily_tested=['']*len(dates)\n",
    "  daily_pos_rate=['']*len(dates)\n",
    "  daily_pos_rate_ma=['']*len(dates)\n",
    "  tested_cum=['']*len(dates)\n",
    "  tested_daily=['']*len(dates)\n",
    "  deceased_cum=['']*len(dates)\n",
    "  daily_deceased=['']*len(dates)\n",
    "  recovered_cum=['']*len(dates)\n",
    "  daily_recovered=['']*len(dates)    \n",
    "  \n",
    "  daily_case_per_million = ['']*len(dates)\n",
    "  daily_test_per_million = ['']*len(dates)\n",
    "  daily_test_ma = ['']*len(dates)\n",
    "  daily_deceased_ma = ['']*len(dates)\n",
    "    \n",
    "  for i in range(len(dates)):\n",
    "    if dates[i] in test.keys():\n",
    "        temp=test[dates[i]]\n",
    "    \n",
    "        if j in temp.keys():\n",
    "          if 'total' in temp[j].keys():\n",
    "            if 'confirmed' in temp[j]['total'].keys():\n",
    "              pos_cum[i]=temp[j]['total']['confirmed']\n",
    "\n",
    "            if 'tested' in temp[j]['total'].keys():\n",
    "              tested_cum[i]=abs(temp[j]['total']['tested'])\n",
    "              test_per_million[i]=temp[j]['total']['tested']*1000000/int(population[\"Population\"][state_id[j]])\n",
    "\n",
    "            if 'deceased' in temp[j]['total'].keys():\n",
    "              deceased_cum[i]=temp[j]['total']['deceased']\n",
    "\n",
    "            if 'recovered' in temp[j]['total'].keys():\n",
    "              recovered_cum[i]=temp[j]['total']['recovered']\n",
    "\n",
    "            if len(str(pos_cum[i])) and len(str(tested_cum[i])):\n",
    "              pos_rate_cum[i]= pos_cum[i]*100/tested_cum[i]\n",
    "\n",
    "          if 'delta' in temp[j].keys():\n",
    "            if 'confirmed' in temp[j]['delta'].keys():\n",
    "              daily_pos[i]=temp[j]['delta']['confirmed']\n",
    "              daily_case_per_million[i] =temp[j]['delta']['confirmed']*1000000/int(population[\"Population\"][state_id[j]])   #New\n",
    "\n",
    "            if 'tested' in temp[j]['delta'].keys():\n",
    "              daily_tested[i]=abs(temp[j]['delta']['tested'])\n",
    "              daily_test_per_million[i] = temp[j]['delta']['tested']*1000000/int(population[\"Population\"][state_id[j]])    #New\n",
    "\n",
    "            if 'deceased' in temp[j]['delta'].keys():\n",
    "              daily_deceased[i]=temp[j]['delta']['deceased']\n",
    "\n",
    "            if 'recovered' in temp[j]['delta'].keys():\n",
    "              daily_recovered[i]=temp[j]['delta']['recovered']\n",
    "\n",
    "            if len(str(daily_pos[i])) and len(str(daily_tested[i])):\n",
    "              daily_pos_rate[i]=int(daily_pos[i])*100/int(daily_tested[i])\n",
    "\n",
    "  for w in range(7,len(daily_pos)):\n",
    "    sum1=0\n",
    "    sum2=0\n",
    "    for s in range(7):\n",
    "      if (len(str(daily_pos[w-s]))!=0 and len(str(daily_tested[w-s]))!=0):\n",
    "        sum1+=int(daily_pos[w-s])\n",
    "        sum2+=int(daily_tested[w-s])\n",
    "    if (sum2!=0):\n",
    "      daily_pos_rate_ma[w]=sum1*100/abs(sum2)\n",
    "  \n",
    "  for w in range(7,len(daily_pos)):\n",
    "    sum1=0\n",
    "    count=0\n",
    "    for s in range(7):\n",
    "      if (len(str(daily_pos[w-s]))!=0):\n",
    "        sum1+=int(daily_pos[w-s])\n",
    "        count+=1\n",
    "    if count!=0:\n",
    "      daily_pos_ma[w]=sum1/count\n",
    "    \n",
    "  #New\n",
    "    for w in range(7,len(daily_tested)):\n",
    "      sum1=0\n",
    "      count=0\n",
    "      for s in range(7):\n",
    "        if (len(str(daily_tested[w-s]))!=0):\n",
    "          sum1+=int(daily_tested[w-s])\n",
    "        \n",
    "          count+=1\n",
    "      if count!=0:\n",
    "        daily_test_ma[w]=sum1/count\n",
    "        \n",
    "    #New\n",
    "    for w in range(7,len(daily_deceased)):\n",
    "      sum1=0\n",
    "      count=0\n",
    "      for s in range(7):\n",
    "        if (len(str(daily_deceased[w-s]))!=0):\n",
    "          sum1+=int(daily_deceased[w-s])\n",
    "          count+=1\n",
    "      if count!=0:\n",
    "        daily_deceased_ma[w]=sum1/count\n",
    "\n",
    "  st=state_id[j]\n",
    "\n",
    "  for i in range(len(dates)-1):\n",
    "    csv_dates.append(dates1[i])\n",
    "    csv_states.append(st)\n",
    "    csv_total_cases.append(pos_cum[i])\n",
    "    csv_positivity_rate_cumulative.append(pos_rate_cum[i])\n",
    "    csv_daily_positive_cases.append(daily_pos[i])\n",
    "    csv_cum_recovered.append(recovered_cum[i])\n",
    "    csv_daily_recovered.append(daily_recovered[i])\n",
    "    csv_cum_deceased.append(deceased_cum[i])\n",
    "    csv_daily_deceased.append(daily_deceased[i])\n",
    "    csv_daily_positivity_rate.append(daily_pos_rate[i])\n",
    "    csv_daily_positive_cases_ma.append(daily_pos_ma[i])\n",
    "    csv_daily_positivity_rate_ma.append(daily_pos_rate_ma[i])\n",
    "    csv_daily_tested.append(daily_tested[i])\n",
    "    csv_cum_tested.append(tested_cum[i])\n",
    "    csv_test_per_million.append(test_per_million[i])\n",
    "    \n",
    "    #New\n",
    "    csv_daily_case_per_million.append(daily_case_per_million[i])\n",
    "    csv_daily_test_per_million.append(daily_test_per_million[i])\n",
    "    csv_daily_test_ma.append(daily_test_ma[i])\n",
    "    csv_daily_deceased_ma.append(daily_deceased_ma[i])\n",
    "\n",
    "  states[st]={\n",
    "                    'dates':dates1[:-1],\n",
    "                    'cum_positive_cases':pos_cum[:-1],\n",
    "                    'cum_positivity_rate':pos_rate_cum[:-1],\n",
    "                    'daily_positive_cases':daily_pos[:-1],\n",
    "                    'cum_recovered':recovered_cum[:-1],\n",
    "                    'daily_recovered':daily_recovered[:-1],\n",
    "                    'cum_deceased':deceased_cum[:-1],\n",
    "                    'daily_deceased':daily_deceased[:-1],\n",
    "                    'daily_positivity_rate':daily_pos_rate[:-1],\n",
    "                    'daily_positive_cases_ma': daily_pos_ma[:-1],\n",
    "                    'daily_positivity_rate_ma':daily_pos_rate_ma[:-1] , \n",
    "                    'daily_tests': daily_tested[:-1],\n",
    "                    'cum_tests': tested_cum[:-1],\n",
    "                    'test_per_million':test_per_million[:-1],    \n",
    "                    #New\n",
    "                    'daily_cases_per_million':daily_case_per_million[:-1],\n",
    "                    'daily_tests_per_million':daily_test_per_million[:-1],\n",
    "                    'daily_tests_ma':daily_test_ma[:-1],\n",
    "                    'daily_deceased_ma':daily_deceased_ma[:-1]\n",
    "\n",
    "                   }\n",
    "      \n",
    "states['datetime']=str(datetime.now(pytz.timezone('Asia/Kolkata')))\n",
    "with open('positivity_Rate_new.json', 'w') as outfile:\n",
    "  json.dump(states, outfile,indent=4)\n",
    "'''"
   ]
  },
  {
   "cell_type": "code",
   "execution_count": null,
   "metadata": {
    "colab": {},
    "colab_type": "code",
    "id": "6Yk2SeMuCAsG",
    "outputId": "596b759e-e98b-4353-a835-dadfee7e6e1f"
   },
   "outputs": [],
   "source": []
  },
  {
   "cell_type": "code",
   "execution_count": null,
   "metadata": {
    "colab": {},
    "colab_type": "code",
    "id": "LetLiW_uCAsX",
    "outputId": "a8cccc68-3375-46a9-ad0e-28fe45af499b"
   },
   "outputs": [],
   "source": []
  },
  {
   "cell_type": "markdown",
   "metadata": {
    "colab_type": "text",
    "id": "Aa11bVMFCAsn"
   },
   "source": [
    "## Append"
   ]
  },
  {
   "cell_type": "code",
   "execution_count": null,
   "metadata": {
    "colab": {},
    "colab_type": "code",
    "id": "L24ra_WHIMJs",
    "scrolled": false
   },
   "outputs": [],
   "source": [
    "\n",
    "csv_dates=[]\n",
    "csv_states=[]\n",
    "csv_total_cases=[]\n",
    "csv_cum_recovered=[]\n",
    "csv_daily_recovered=[]\n",
    "csv_cum_deceased=[]\n",
    "csv_daily_deceased=[]\n",
    "csv_positivity_rate_cumulative=[]\n",
    "csv_daily_positive_cases=[]\n",
    "csv_daily_positivity_rate=[]\n",
    "csv_daily_positive_cases_ma=[]\n",
    "csv_daily_positivity_rate_ma=[]\n",
    "csv_test_per_million=[]\n",
    "csv_daily_tested=[]\n",
    "csv_cum_tested=[]\n",
    "\n",
    "#New\n",
    "csv_daily_case_per_million = []\n",
    "csv_daily_test_per_million = []\n",
    "csv_daily_test_ma = []\n",
    "csv_daily_deceased_ma = []\n",
    "'''\n",
    "#Proposed method\n",
    "\n",
    "test_json_url = 'https://api.covid19india.org/v3/data-all.json'\n",
    "test_json = json.loads(urlopen(test_json_url).read())\n",
    "\n",
    "posrat_json_url = 'https://raw.githubusercontent.com/CovidToday/backend/master/testing-and-cfr/positivity_Rate.json'\n",
    "posrat_json = json.loads(urlopen(posrat_json_url).read())\n",
    "\n",
    "\n",
    "test =test_json\n",
    "temp1 = posrat_json\n",
    "\n",
    "'''\n",
    "#Old method\n",
    "\n",
    "#test_json_url = 'https://api.covid19india.org/v3/data-all.json'\n",
    "#test_json = json.loads(urlopen(test_json_url).read())\n",
    "\n",
    "#test = test_json\n",
    "test = json.load(open('test.json'))\n",
    "temp1 = json.load(open('positivity_Rate.json'))\n",
    "\n",
    "\n",
    "for date in t:  \n",
    " \n",
    "  states={}\n",
    "  temp = test[date]\n",
    "  \n",
    "\n",
    "  for i,j in enumerate(state_id.keys()):\n",
    "    k = state_id[j]\n",
    "    #print('posrate() -- Working : ',state_id[j])\n",
    "\n",
    "    test_per_million = temp1[k]['test_per_million']\n",
    "    pos_cum = temp1[k]['cum_positive_cases']\n",
    "    pos_rate_cum = temp1[k]['cum_positivity_rate']\n",
    "    daily_pos = temp1[k]['daily_positive_cases']\n",
    "    daily_pos_ma = temp1[k]['daily_positive_cases_ma']\n",
    "    daily_pos_rate = temp1[k]['daily_positivity_rate']\n",
    "    daily_pos_rate_ma = temp1[k]['daily_positivity_rate_ma']\n",
    "    tested_cum = temp1[k]['cum_tests']\n",
    "    daily_tested = temp1[k]['daily_tests']\n",
    "    deceased_cum = temp1[k]['cum_deceased']\n",
    "    daily_deceased = temp1[k]['daily_deceased']\n",
    "    recovered_cum = temp1[k]['cum_recovered']\n",
    "    daily_recovered = temp1[k]['daily_recovered'] \n",
    "    \n",
    "    \n",
    "    \n",
    "    #New added\n",
    "    daily_case_per_million  = temp1[k]['daily_cases_per_million']\n",
    "    daily_test_per_million  = temp1[k]['daily_tests_per_million']\n",
    "    daily_test_ma  = temp1[k]['daily_tests_ma']\n",
    "    daily_deceased_ma  = temp1[k]['daily_deceased_ma']\n",
    "  \n",
    "    dates=temp1[k]['dates']\n",
    "\n",
    "    if convert(date) not in dates :\n",
    "      print(1)\n",
    "      dates.append(convert(date))\n",
    "      test_per_million.append('')\n",
    "      pos_cum.append('')\n",
    "      pos_rate_cum.append('')\n",
    "      daily_pos.append('')\n",
    "      daily_pos_ma.append('')\n",
    "      daily_pos_rate.append('')\n",
    "      daily_pos_rate_ma.append('')\n",
    "      tested_cum.append('')\n",
    "      daily_tested.append('')\n",
    "      deceased_cum.append('')\n",
    "      daily_deceased.append('')\n",
    "      recovered_cum.append('')\n",
    "      daily_recovered.append('')\n",
    "      \n",
    "      #New added\n",
    "      print(\"Appends\")\n",
    "      daily_case_per_million.append('')\n",
    "      daily_test_per_million.append('')\n",
    "      daily_test_ma.append('')\n",
    "      daily_deceased_ma.append('')\n",
    "\n",
    "      i=len(dates)-1\n",
    "      \n",
    "    for l in range(len(dates)):\n",
    "      if convert(date)==dates[l]:\n",
    "        i=l\n",
    "        break\n",
    "    \n",
    "\n",
    "    if k in temp1.keys():\n",
    "        if 'total' in temp[j].keys():\n",
    "          if 'confirmed' in temp[j]['total'].keys():\n",
    "            pos_cum[i]=temp[j]['total']['confirmed']\n",
    "\n",
    "          if 'tested' in temp[j]['total'].keys():\n",
    "            tested_cum[i]=abs(temp[j]['total']['tested'])\n",
    "            test_per_million[i]=temp[j]['total']['tested']*1000000/int(population[\"Population\"][k])\n",
    "              \n",
    "          if 'deceased' in temp[j]['total'].keys():\n",
    "            deceased_cum[i]=temp[j]['total']['deceased']\n",
    "          \n",
    "          if 'recovered' in temp[j]['total'].keys():\n",
    "            recovered_cum[i]=temp[j]['total']['recovered']\n",
    "          \n",
    "          if len(str(pos_cum[i])) and len(str(tested_cum[i])):\n",
    "            pos_rate_cum[i]= pos_cum[i]*100/tested_cum[i]\n",
    "\n",
    "        if 'delta' in temp[j].keys():\n",
    "          if 'confirmed' in temp[j]['delta'].keys():\n",
    "            daily_pos[i]=temp[j]['delta']['confirmed']\n",
    "            daily_case_per_million[i] =temp[j]['delta']['confirmed']*1000000/int(population[\"Population\"][k])   #New\n",
    "\n",
    "          if 'tested' in temp[j]['delta'].keys():\n",
    "            daily_tested[i]=abs(temp[j]['delta']['tested'])\n",
    "            daily_test_per_million[i] = temp[j]['delta']['tested']*1000000/int(population[\"Population\"][k])    #New\n",
    "\n",
    "          if 'deceased' in temp[j]['delta'].keys():\n",
    "            daily_deceased[i]=temp[j]['delta']['deceased']\n",
    "          \n",
    "          if 'recovered' in temp[j]['delta'].keys():\n",
    "            daily_recovered[i]=temp[j]['delta']['recovered']\n",
    "          \n",
    "          if len(str(daily_pos[i])) and len(str(daily_tested[i])):\n",
    "            daily_pos_rate[i]=int(daily_pos[i])*100/int(daily_tested[i])\n",
    "    \n",
    "   \n",
    "    for w in range(7,len(daily_pos)):\n",
    "      sum1=0\n",
    "      sum2=0\n",
    "      for s in range(7):\n",
    "        if (len(str(daily_pos[w-s]))!=0 and len(str(daily_tested[w-s]))!=0):\n",
    "          sum1+=int(daily_pos[w-s])\n",
    "          sum2+=int(daily_tested[w-s])\n",
    "      if (sum2!=0):\n",
    "        daily_pos_rate_ma[w]=sum1*100/abs(sum2)\n",
    "    \n",
    "    for w in range(7,len(daily_pos)):\n",
    "      sum1=0\n",
    "      count=0\n",
    "      for s in range(7):\n",
    "        if (len(str(daily_pos[w-s]))!=0):\n",
    "          sum1+=int(daily_pos[w-s])\n",
    "          count+=1\n",
    "      if count!=0:\n",
    "        daily_pos_ma[w]=sum1/count\n",
    "  \n",
    "    #New\n",
    "    for w in range(7,len(daily_tested)):\n",
    "      sum1=0\n",
    "      count=0\n",
    "      for s in range(7):\n",
    "        if (len(str(daily_tested[w-s]))!=0):\n",
    "          sum1+=int(daily_tested[w-s])\n",
    "        \n",
    "          count+=1\n",
    "      if count!=0:\n",
    "        daily_test_ma[w]=sum1/count\n",
    "        \n",
    "    #New\n",
    "    for w in range(7,len(daily_deceased)):\n",
    "      sum1=0\n",
    "      count=0\n",
    "      for s in range(7):\n",
    "        if (len(str(daily_deceased[w-s]))!=0):\n",
    "          sum1+=int(daily_deceased[w-s])\n",
    "          count+=1\n",
    "      if count!=0:\n",
    "        daily_deceased_ma[w]=sum1/count\n",
    "   \n",
    "    \n",
    "    #print(len)\n",
    "    st=state_id[j]\n",
    "    for i in range(len(dates)):\n",
    "      '''\n",
    "      if i  == len(dates)//4:\n",
    "        print(\"Progress : 25%\")\n",
    "      if i  == len(dates)//2:\n",
    "        print(\"Progress : 50%\")\n",
    "      if i  == (len(dates)*3)//4:\n",
    "        print(\"Progress : 75%\")  \n",
    "      if i  == len(dates)-1:\n",
    "        print(\"Progres : 100&\")\n",
    "      '''\n",
    "      csv_dates.append(dates[i])\n",
    "      csv_states.append(st)\n",
    "      csv_total_cases.append(pos_cum[i])\n",
    "      csv_positivity_rate_cumulative.append(pos_rate_cum[i])\n",
    "      csv_daily_positive_cases.append(daily_pos[i])\n",
    "      csv_cum_recovered.append(recovered_cum[i])\n",
    "      csv_daily_recovered.append(daily_recovered[i])\n",
    "      csv_cum_deceased.append(deceased_cum[i])\n",
    "      csv_daily_deceased.append(daily_deceased[i])\n",
    "      csv_daily_positivity_rate.append(daily_pos_rate[i])\n",
    "      csv_daily_positive_cases_ma.append(daily_pos_ma[i])\n",
    "      csv_daily_positivity_rate_ma.append(daily_pos_rate_ma[i])\n",
    "      csv_daily_tested.append(daily_tested[i])\n",
    "      csv_cum_tested.append(tested_cum[i])\n",
    "      csv_test_per_million.append(test_per_million[i])\n",
    "\n",
    "      #New\n",
    "      csv_daily_case_per_million.append(daily_case_per_million[i])\n",
    "      csv_daily_test_per_million.append(daily_test_per_million[i])\n",
    "      csv_daily_test_ma.append(daily_test_ma[i])\n",
    "      csv_daily_deceased_ma.append(daily_deceased_ma[i])\n",
    "    \n",
    "    #print(st)\n",
    "    states[st]={\n",
    "                    'dates':dates,\n",
    "                    'cum_positive_cases':pos_cum,\n",
    "                    'cum_positivity_rate':pos_rate_cum,\n",
    "                    'daily_positive_cases':daily_pos,\n",
    "                    'cum_recovered':recovered_cum,\n",
    "                    'daily_recovered':daily_recovered,\n",
    "                    'cum_deceased':deceased_cum,\n",
    "                    'daily_deceased':daily_deceased,\n",
    "                    'daily_positivity_rate':daily_pos_rate,\n",
    "                    'daily_positive_cases_ma': daily_pos_ma,\n",
    "                    'daily_positivity_rate_ma':daily_pos_rate_ma , \n",
    "                    'daily_tests': daily_tested,\n",
    "                    'cum_tests': tested_cum,\n",
    "                    'test_per_million':test_per_million,\n",
    "                    #New\n",
    "                    'daily_cases_per_million':daily_case_per_million,\n",
    "                    'daily_tests_per_million':daily_test_per_million,\n",
    "                    'daily_tests_ma':daily_test_ma,\n",
    "                    'daily_deceased_ma':daily_deceased_ma\n",
    "\n",
    "                   }\n",
    "      \n",
    "states['datetime']=str(datetime.now(pytz.timezone('Asia/Kolkata')))\n",
    "with open('positivity_Rate.json', 'w') as outfile:\n",
    "    json.dump(states, outfile,indent=4)"
   ]
  },
  {
   "cell_type": "code",
   "execution_count": null,
   "metadata": {
    "colab": {},
    "colab_type": "code",
    "id": "M8E1-nnMCAs4"
   },
   "outputs": [],
   "source": []
  },
  {
   "cell_type": "code",
   "execution_count": null,
   "metadata": {
    "colab": {},
    "colab_type": "code",
    "id": "ACZAXp_CCAtE",
    "outputId": "4324c099-761f-49aa-fb08-814ec91aea66"
   },
   "outputs": [],
   "source": [
    "dates"
   ]
  },
  {
   "cell_type": "code",
   "execution_count": null,
   "metadata": {
    "colab": {},
    "colab_type": "code",
    "id": "JVmf41YbCAtX",
    "outputId": "43035f63-fc87-4d9e-ba70-5cd4ace78a80"
   },
   "outputs": [],
   "source": [
    "len(pos_cum)"
   ]
  },
  {
   "cell_type": "code",
   "execution_count": null,
   "metadata": {
    "colab": {},
    "colab_type": "code",
    "id": "Sk3rNxdlCAtu",
    "outputId": "c4af68c5-584f-447a-b10b-848fa5d5ca53"
   },
   "outputs": [],
   "source": [
    "dates[-1]"
   ]
  },
  {
   "cell_type": "code",
   "execution_count": null,
   "metadata": {
    "colab": {},
    "colab_type": "code",
    "id": "XcbsRWlECAt9",
    "outputId": "48d22e51-d419-4232-e59e-a96b510c8742"
   },
   "outputs": [],
   "source": [
    "csv_dates[-1]"
   ]
  },
  {
   "cell_type": "code",
   "execution_count": null,
   "metadata": {
    "colab": {},
    "colab_type": "code",
    "id": "2cz4Ln4JCAuN",
    "outputId": "bbca3a6c-6534-4f94-cc66-093709439ab3"
   },
   "outputs": [],
   "source": [
    "n_states = len(state_id.keys())\n",
    "n_dates = len(dates)\n",
    "\n",
    "rows = n_states*n_dates\n",
    "\n",
    "rows"
   ]
  },
  {
   "cell_type": "code",
   "execution_count": null,
   "metadata": {
    "colab": {},
    "colab_type": "code",
    "id": "qF3CMKsxCAub"
   },
   "outputs": [],
   "source": []
  },
  {
   "cell_type": "code",
   "execution_count": null,
   "metadata": {
    "colab": {},
    "colab_type": "code",
    "id": "S-vXmU2SCAux"
   },
   "outputs": [],
   "source": []
  },
  {
   "cell_type": "markdown",
   "metadata": {
    "colab_type": "text",
    "id": "T4RFAVgPSWtq"
   },
   "source": [
    "# CSV"
   ]
  },
  {
   "cell_type": "code",
   "execution_count": null,
   "metadata": {
    "colab": {},
    "colab_type": "code",
    "id": "KLyUpPIY7Cr0",
    "scrolled": false
   },
   "outputs": [],
   "source": [
    "n_states = len(state_id.keys())\n",
    "n_dates = len(dates)\n",
    "\n",
    "rows = n_states*n_dates\n",
    "\n",
    "\n",
    "df=pd.DataFrame()\n",
    "df['dates']=csv_dates[:rows]\n",
    "df['state']=csv_states[:rows]\n",
    "df['cum_positive_cases']=csv_total_cases[:rows]\n",
    "df['cum_positivity_rate']=csv_positivity_rate_cumulative[:rows]\n",
    "\n",
    "df['cum_recovered']=csv_cum_recovered[:rows]\n",
    "df['daily_recovered']:csv_daily_recovered[:rows]\n",
    "df['cum_deceased']=csv_cum_deceased[:rows]\n",
    "df['daily_deceased']=csv_daily_deceased[:rows]\n",
    "df['daily_positive_cases']=csv_daily_positive_cases[:rows]\n",
    "df['daily_positivity_rate']=csv_daily_positivity_rate[:rows]\n",
    "df['daily_positive_cases_ma']=csv_daily_positive_cases_ma[:rows]\n",
    "df['daily_positivity_rate_ma']=    csv_daily_positivity_rate_ma[:rows]\n",
    "df['daily_tests']=csv_daily_tested[:rows]\n",
    "df['cum_tested']=csv_cum_tested[:rows]\n",
    "df['test_per_million']=csv_test_per_million[:rows]\n",
    "\n",
    "#New\n",
    "df['daily_cases_per_million'] = csv_daily_case_per_million[:rows]\n",
    "df['daily_tests_per_million'] = csv_daily_test_per_million[:rows]\n",
    "df['daily_tests_ma'] = csv_daily_test_ma[:rows]\n",
    "df['daily_deceased_ma'] = csv_daily_deceased_ma[:rows]\n",
    "\n",
    "df.to_csv('positivity_Rate_new.csv',index=False)\n",
    "\n",
    "df_to_concat = copy.deepcopy(df)"
   ]
  },
  {
   "cell_type": "code",
   "execution_count": null,
   "metadata": {
    "colab": {
     "base_uri": "https://localhost:8080/",
     "height": 144
    },
    "colab_type": "code",
    "id": "__Mof2jNcBFT",
    "outputId": "3a776f8a-cf5f-4720-bb76-37a6ee85f758",
    "scrolled": false
   },
   "outputs": [],
   "source": [
    "df.columns"
   ]
  },
  {
   "cell_type": "code",
   "execution_count": null,
   "metadata": {
    "colab": {
     "base_uri": "https://localhost:8080/",
     "height": 617
    },
    "colab_type": "code",
    "id": "ga1avWC1ZMiy",
    "outputId": "2d86eb62-ed57-40a5-b7ce-b30a1481e1aa",
    "scrolled": false
   },
   "outputs": [],
   "source": [
    "df[df['state']=='India']"
   ]
  },
  {
   "cell_type": "markdown",
   "metadata": {
    "colab_type": "text",
    "id": "ye3tsK0SXa9y"
   },
   "source": [
    "# CFR"
   ]
  },
  {
   "cell_type": "code",
   "execution_count": null,
   "metadata": {
    "colab": {},
    "colab_type": "code",
    "id": "vlmqEdncXzt2",
    "scrolled": false
   },
   "outputs": [],
   "source": [
    "#dates = np.array([pd.to_datetime(i['date']) for i in filter(lambda v: v['status'] == 'Confirmed',json.load(open('states.json',))['states_daily'])])\n",
    "#print(dates)\n",
    "data_recovered = pd.DataFrame()\n",
    "data_deceased = pd.DataFrame()\n",
    "data_confirmed = pd.DataFrame()\n",
    "\n",
    "for s in state_id.keys():\n",
    "    st=state_id[s]\n",
    "    data_confirmed[st] = np.array(states[st]['daily_positive_cases'])\n",
    "    data_deceased[st] = np.array(states[st]['daily_deceased'])\n",
    "    data_recovered[st] = np.array(states[st]['daily_recovered'])"
   ]
  },
  {
   "cell_type": "code",
   "execution_count": null,
   "metadata": {
    "colab": {},
    "colab_type": "code",
    "id": "xK8aH0zUiL4h",
    "scrolled": false
   },
   "outputs": [],
   "source": [
    "def n2z(x):\n",
    "    x[np.logical_or(np.isnan(x),np.isinf(x))] = 0\n",
    "    return x"
   ]
  },
  {
   "cell_type": "code",
   "execution_count": null,
   "metadata": {
    "colab": {},
    "colab_type": "code",
    "id": "YylW_gHIjGaX",
    "scrolled": false
   },
   "outputs": [],
   "source": [
    "data_recovered = data_recovered.replace(r'^\\s*$', np.NaN, regex=True).fillna(0)\n",
    "data_recovered = data_recovered.astype(np.int32)\n",
    "data_confirmed = data_confirmed.replace(r'^\\s*$', np.NaN, regex=True).fillna(0)\n",
    "data_confirmed = data_confirmed.astype(np.int32)\n",
    "data_deceased = data_deceased.replace(r'^\\s*$', np.NaN, regex=True).fillna(0)\n",
    "data_deceased = data_deceased.astype(np.int32)\n",
    "data_deceased['date'] = dates\n",
    "data_recovered['date'] = dates\n",
    "data_confirmed['date'] = dates"
   ]
  },
  {
   "cell_type": "code",
   "execution_count": null,
   "metadata": {
    "colab": {
     "base_uri": "https://localhost:8080/",
     "height": 1000
    },
    "colab_type": "code",
    "id": "z-bxCxt9dKPA",
    "outputId": "e38f38d7-0295-416a-c3b9-af0a4fd3b361",
    "scrolled": true
   },
   "outputs": [],
   "source": [
    "json_data={}\n",
    "cfr = pd.DataFrame()\n",
    "final=pd.DataFrame\n",
    "plt.figure(1, figsize=(15, 7))\n",
    "for st in state_id.keys():\n",
    "    print(\"cfr() -- Working : \",state_id[st])\n",
    "\n",
    "    state=state_id[st]\n",
    "    boots = 100\n",
    "    conf = []\n",
    "    for n in range(boots):\n",
    "        if n  == boots//4:\n",
    "          print(\"Progress : 25%\")\n",
    "        if n  == boots//2:\n",
    "          print(\"Progress : 50%\")\n",
    "        if n  == (boots*3)//4:\n",
    "          print(\"Progress : 75%\")  \n",
    "        if n  == boots-1:\n",
    "          print(\"Progress : 100%\")\n",
    "\n",
    "        dataset = np.copy(data_confirmed[state].values)\n",
    "        mean = 13.0+(20.9-8.7)/4*np.random.normal()\n",
    "        sd = 12.7+(26.0-6.4)/4*np.random.normal()\n",
    "        phi = np.sqrt(sd**2 + mean**2)\n",
    "        mu = np.log(mean**2/phi)\n",
    "        sigma = np.sqrt(np.log(phi**2/mean**2))\n",
    "        L = lognorm(s=sigma,scale=np.exp(mu))\n",
    "        for i in range(len(dataset)-1,-1,-1):\n",
    "            send_forward = np.round(L.rvs(np.max([dataset[i],0])))\n",
    "            send_forward = send_forward[i+send_forward<len(dataset)]\n",
    "            dataset[i] = 0\n",
    "            for j in np.unique(np.int32(send_forward)):\n",
    "                dataset[i+j] += np.sum(send_forward==j)\n",
    "        conf.append(dataset)\n",
    "    CFR = np.cumsum(data_deceased[state].values)/np.cumsum(conf,axis=1)\n",
    "    col_mean = np.nanmean(CFR, axis=0)\n",
    "    inds = np.where(np.isnan(CFR))\n",
    "    CFR[inds] = np.take(col_mean, inds[1])\n",
    "    #temp1=list(pd.Series(dates).dt.strftime('%m-%d-%Y'))\n",
    "    #print(temp1[0])\n",
    "    dates = states[state]['dates']\n",
    "    temp = {\n",
    "        'dates':dates,\n",
    "        'cfr1_point':list(n2z(100*np.cumsum(data_deceased[state].values)/np.cumsum(data_confirmed[state].values))),\n",
    "        'cfr2_point':list(n2z(100*np.cumsum(data_deceased[state].values)/(np.cumsum(data_deceased[state].values)+np.cumsum(data_recovered[state].values)))),\n",
    "        'cfr3_point':list(n2z(100*np.median(CFR,axis=0))),\n",
    "        'cfr3_l95':list(n2z(100*np.quantile(CFR,0.025,axis=0))),\n",
    "        'cfr3_u95':list(n2z(100*np.quantile(CFR,0.975,axis=0))),\n",
    "        'cfr3_l50':list(n2z(100*np.quantile(CFR,0.25,axis=0))),\n",
    "        'cfr3_u50':list(n2z(100*np.quantile(CFR,0.75,axis=0))),\n",
    "        }\n",
    "    a=state_id[st]\n",
    "    #print(a)\n",
    "    states[state].update(temp)\n",
    "    json_data[state] = temp\n",
    "    cfr_state=pd.DataFrame()\n",
    "    cfr_state['state']=[str(a)]*len(dates)\n",
    "    cfr_state['dates']=dates\n",
    "    cfr_state['cfr1_point']=(list(100*n2z(np.cumsum(data_deceased[state].values)/np.cumsum(data_confirmed[state].values))))\n",
    "    cfr_state['cfr2_point']=(list(100*n2z(np.cumsum(data_deceased[state].values)/(np.cumsum(data_deceased[state].values)+np.cumsum(data_recovered[state].values)))))\n",
    "    cfr_state['cfr3_point']=(list(100*n2z(np.median(CFR,axis=0))))\n",
    "    cfr_state['cfr3_l95']=(list(100*n2z(np.quantile(CFR,0.025,axis=0))))\n",
    "    cfr_state['cfr3_u95']=(list(100*n2z(np.quantile(CFR,0.975,axis=0))))\n",
    "    cfr_state['cfr3_l50']=(list(100*n2z(np.quantile(CFR,0.25,axis=0))))\n",
    "    cfr_state['cfr3_u50']=(list(100*n2z(np.quantile(CFR,0.75,axis=0))))\n",
    "    cfr=pd.concat([cfr, cfr_state])\n",
    "      \n",
    "    plt.plot(temp['cfr3_point'],label=state)\n",
    "plt.legend()"
   ]
  },
  {
   "cell_type": "code",
   "execution_count": null,
   "metadata": {
    "colab": {},
    "colab_type": "code",
    "id": "lmm0jRg2ihwc",
    "scrolled": false
   },
   "outputs": [],
   "source": [
    "cfr.to_csv('cfr.csv',index=False)\n",
    "from datetime import datetime\n",
    "json_data['datetime']=str(datetime.now(pytz.timezone('Asia/Kolkata')))"
   ]
  },
  {
   "cell_type": "code",
   "execution_count": null,
   "metadata": {
    "colab": {},
    "colab_type": "code",
    "id": "L71oau76mlox",
    "scrolled": false
   },
   "outputs": [],
   "source": [
    "json_data_indented = json.dumps(json_data, indent = 4)\n",
    "with open(\"cfr.json\", \"w\") as outfile: \n",
    "    outfile.write(json_data_indented)"
   ]
  },
  {
   "cell_type": "markdown",
   "metadata": {
    "colab_type": "text",
    "id": "wEhhFwc2dc5l"
   },
   "source": [
    "# Doubling Rate"
   ]
  },
  {
   "cell_type": "code",
   "execution_count": null,
   "metadata": {
    "colab": {},
    "colab_type": "code",
    "id": "hRXAaZHxmn7l",
    "scrolled": false
   },
   "outputs": [],
   "source": [
    "def calc_doublingtimes(x):\n",
    "    vals = []\n",
    "    for i in range(x.shape[0]):\n",
    "        for j in range(i+1,x.shape[0]):\n",
    "            if len(str(x[j])) and len(str(x[i])):\n",
    "                vals.append(np.log(2)*(j-i)/np.log(int(x[j])/int(x[i])))\n",
    "    if not vals:\n",
    "        return 0,0,0\n",
    "    return np.median(vals),np.quantile(vals,0.025),np.quantile(vals,0.975)"
   ]
  },
  {
   "cell_type": "code",
   "execution_count": null,
   "metadata": {
    "colab": {},
    "colab_type": "code",
    "id": "kWkEzdp2dtJv",
    "scrolled": false
   },
   "outputs": [],
   "source": [
    "start=datetime.now()\n",
    "x=datetime.now(pytz.timezone('Asia/Kolkata')).date()\n",
    "dd=pd.date_range(start=\"2020-01-30\",end=x)\n",
    "datess=[]\n",
    "for i in range(len(dd)):\n",
    "  datess.append((str(dd[i])[:10]))"
   ]
  },
  {
   "cell_type": "code",
   "execution_count": null,
   "metadata": {
    "colab": {},
    "colab_type": "code",
    "id": "8R0wO5ONgrCK",
    "scrolled": false
   },
   "outputs": [],
   "source": [
    "dates1=[]\n",
    "for w in range (len(dates)):\n",
    "  if len(dates[w]):\n",
    "    dates1.append(convert(datess[w]))"
   ]
  },
  {
   "cell_type": "code",
   "execution_count": null,
   "metadata": {
    "colab": {
     "base_uri": "https://localhost:8080/",
     "height": 90
    },
    "colab_type": "code",
    "id": "uOGYyp1Rd8N6",
    "outputId": "3390c6a4-70b1-476f-de96-debceb588573",
    "scrolled": false
   },
   "outputs": [],
   "source": [
    "json_data={}\n",
    "\n",
    "#test_json_url = 'https://api.covid19india.org/v3/data-all.json'\n",
    "#test_json = json.loads(urlopen(test_json_url).read())\n",
    "test= json.load(open('test.json'))\n",
    "\n",
    "for j in state_id.keys():\n",
    "    cumul=['']*len(dates)\n",
    "    st=state_id[j]\n",
    "    cumul=states[st]['cum_positive_cases']\n",
    "\n",
    "    cumul_cases=np.array(cumul)\n",
    "    dbt = np.zeros((3,cumul_cases.shape[0]))\n",
    "    for i in range(cumul_cases.shape[0]):\n",
    "        dbt[:,i] = calc_doublingtimes(cumul_cases[i-7:i])\n",
    "    st=state_id[j]\n",
    "    json_data[st] = {\n",
    "            'dates':dates1,\n",
    "            'dbt_point':pd.Series((list(dbt[0,:]))).replace([np.inf, -np.inf], np.nan).fillna('').tolist(),\n",
    "            'dbt_l95':pd.Series((list(dbt[1,:]))).replace([np.inf, -np.inf], np.nan).fillna('').tolist(),\n",
    "            'dbt_u95':pd.Series((list(dbt[2,:]))).replace([np.inf, -np.inf], np.nan).fillna('').tolist()\n",
    "            }\n",
    "    states[st].update(json_data[st])"
   ]
  },
  {
   "cell_type": "markdown",
   "metadata": {
    "colab_type": "text",
    "id": "qGM2uPiQuKGq"
   },
   "source": [
    "# Rt Calculation"
   ]
  },
  {
   "cell_type": "code",
   "execution_count": null,
   "metadata": {
    "colab": {},
    "colab_type": "code",
    "id": "jzCGqUfXuKGs",
    "scrolled": false
   },
   "outputs": [],
   "source": [
    "data_recovered = pd.DataFrame()\n",
    "data_deceased = pd.DataFrame()\n",
    "data_confirmed = pd.DataFrame()\n",
    "for s in state_id.keys():\n",
    "    st=state_id[s]\n",
    "    data_confirmed[st] = np.array(states[st]['daily_positive_cases'])\n",
    "    data_deceased[st] = np.array(states[st]['daily_deceased'])\n",
    "    data_recovered[st] = np.array(states[st]['daily_recovered'])"
   ]
  },
  {
   "cell_type": "code",
   "execution_count": null,
   "metadata": {
    "colab": {},
    "colab_type": "code",
    "id": "vQlPY_0nuKG3",
    "scrolled": false
   },
   "outputs": [],
   "source": [
    "data_recovered = data_recovered.replace(r'^\\s*$', np.NaN, regex=True).fillna(0)\n",
    "data_recovered = data_recovered.astype(np.int32)\n",
    "data_confirmed = data_confirmed.replace(r'^\\s*$', np.NaN, regex=True).fillna(0)\n",
    "data_confirmed = data_confirmed.astype(np.int32)\n",
    "data_deceased = data_deceased.replace(r'^\\s*$', np.NaN, regex=True).fillna(0)\n",
    "data_deceased = data_deceased.astype(np.int32)\n",
    "data_deceased['date'] = dates\n",
    "data_recovered['date'] = dates\n",
    "data_confirmed['date'] = dates"
   ]
  },
  {
   "cell_type": "code",
   "execution_count": null,
   "metadata": {
    "colab": {
     "base_uri": "https://localhost:8080/",
     "height": 1000
    },
    "colab_type": "code",
    "id": "dv1aI8w8uKG-",
    "outputId": "cebbcb05-0b7a-4bbb-e2c7-7f4fefde4575",
    "scrolled": true
   },
   "outputs": [],
   "source": [
    "rt_json = {}\n",
    "\n",
    "rt = pd.DataFrame()\n",
    "# plt.figure(1, figsize=(15, 7))\n",
    "for st in list(state_id.keys()):\n",
    "    state=state_id[st]\n",
    "    print(\"Working : \",state)\n",
    "    \n",
    "    temp = pd.DataFrame()\n",
    "    temp[\"active\"] = np.array(data_confirmed[state]).clip(0).tolist()\n",
    "    temp.to_csv('confirmed.csv')\n",
    "    \n",
    "    #os.system(\"Rscript.exe scripts/Rt_analysis_newGT_TJ.R\")  #Changed\n",
    "    call(['RScript.exe',\"scripts/Rt_analysis_newGT_TJ.R\"])\n",
    "    \n",
    "    values = {\n",
    "\n",
    "            'rt_point':[],\n",
    "            'rt_sd':[],\n",
    "            'rt_l95':[],\n",
    "            'rt_u95':[],\n",
    "            'rt_l50':[],\n",
    "            'rt_u50':[],\n",
    "            't_end':[]\n",
    "            }\n",
    "    for df in [pd.read_csv('rt_temp/'+temp) for temp in os.listdir('rt_temp/')]:\n",
    "        values['rt_point'].append(df['Mean(R)'])\n",
    "        values['rt_sd'].append(df['Std(R)'])\n",
    "        values['rt_l95'].append(df['Quantile.0.025(R)'])\n",
    "        values['rt_u95'].append(df['Quantile.0.975(R)'])\n",
    "        values['rt_l50'].append(df['Quantile.0.25(R)'])\n",
    "        values['rt_u50'].append(df['Quantile.0.75(R)'])\n",
    "        values['t_end'].append(df['t_end']-1)\n",
    "    for i in values:\n",
    "        values[i] = np.median(values[i],axis=0)\n",
    "    values['dates'] = list(data_confirmed['date'][values['t_end']-1])\n",
    "    rt_state=pd.DataFrame()\n",
    "    rt_state['state']=[str(state)]*len(values['dates'])\n",
    "    rt_state['dates']= values['dates']\n",
    "    rt_state['rt_point'] = values['rt_point']\n",
    "    rt_state['rt_sd'] = values['rt_sd']    \n",
    "    rt_state['rt_l95'] = values['rt_l95']    \n",
    "    rt_state['rt_u95'] = values['rt_u95']    \n",
    "    rt_state['rt_l50'] = values['rt_l50']\n",
    "    rt_state['rt_u50'] = values['rt_u50']\n",
    "    rt=pd.concat([rt, rt_state])\n",
    "    \n",
    "    rt_json[st] = values\n",
    "    plt.plot(range(len(values['rt_point'])),values['rt_point'],label=state)\n",
    "    plt.fill_between(range(len(values['rt_point'])),values['rt_l95'],values['rt_u95'],alpha=0.5)\n",
    "    plt.ylim(0,4)\n",
    "    plt.legend()\n",
    "    plt.show()"
   ]
  },
  {
   "cell_type": "code",
   "execution_count": null,
   "metadata": {
    "colab": {},
    "colab_type": "code",
    "id": "OHb-XtLlCAyN"
   },
   "outputs": [],
   "source": [
    "for st in state_id.keys():\n",
    "    state = state_id[st]\n",
    "    states[state].update(rt_json[st])"
   ]
  },
  {
   "cell_type": "code",
   "execution_count": null,
   "metadata": {
    "colab": {},
    "colab_type": "code",
    "id": "KEfUZftEuKHJ",
    "scrolled": false
   },
   "outputs": [],
   "source": [
    "rt.to_csv('rt.csv',index=False)"
   ]
  },
  {
   "cell_type": "code",
   "execution_count": null,
   "metadata": {
    "colab": {},
    "colab_type": "code",
    "id": "-woS8FdiCAyn",
    "outputId": "382769df-a1a8-44cd-d4f0-881de5a01615"
   },
   "outputs": [],
   "source": [
    "len(dates)"
   ]
  },
  {
   "cell_type": "code",
   "execution_count": null,
   "metadata": {
    "colab": {},
    "colab_type": "code",
    "id": "7Kk4_1xQCAyv",
    "outputId": "0ffba58f-0bc1-4017-805c-34358c0ee60d"
   },
   "outputs": [],
   "source": [
    "states['Maharashtra'].keys()"
   ]
  },
  {
   "cell_type": "markdown",
   "metadata": {
    "colab_type": "text",
    "id": "NLsCNBKpCx7O"
   },
   "source": [
    "##Rt Shifting"
   ]
  },
  {
   "cell_type": "code",
   "execution_count": null,
   "metadata": {
    "colab": {},
    "colab_type": "code",
    "id": "MtH6zdMU0EkO",
    "scrolled": false
   },
   "outputs": [],
   "source": [
    "def shift_rt_metrics(dict,key,days=9):\n",
    "  arr = copy.deepcopy(dict[key])\n",
    "  values_shift = collections.deque(arr)\n",
    "  values_shift.rotate(-1*days)\n",
    "\n",
    "  new_val = list(values_shift)\n",
    "\n",
    "  size = len(dict['dates'])\n",
    "  \n",
    "  for i in range(days):\n",
    "    new_val[size-1-i]=''\n",
    "\n",
    "  return new_val\n",
    " "
   ]
  },
  {
   "cell_type": "code",
   "execution_count": null,
   "metadata": {
    "colab": {},
    "colab_type": "code",
    "id": "H-2Y8IBNCAzJ",
    "scrolled": false
   },
   "outputs": [],
   "source": [
    "rt_json_shifted = copy.deepcopy(rt_json)\n",
    "\n",
    "for st in state_id.keys():\n",
    "    \n",
    "    rt_json_shifted[st]['rt_point'] = shift_rt_metrics(rt_json[st],'rt_point',2)\n",
    "    rt_json_shifted[st]['rt_sd'] = shift_rt_metrics(rt_json[st],'rt_sd',2)\n",
    "    rt_json_shifted[st]['rt_l95'] = shift_rt_metrics(rt_json[st],'rt_l95',2)\n",
    "    rt_json_shifted[st]['rt_u95'] = shift_rt_metrics(rt_json[st],'rt_u95',2)\n",
    "    rt_json_shifted[st]['rt_l50'] = shift_rt_metrics(rt_json[st],'rt_l50',2)\n",
    "    rt_json_shifted[st]['rt_u50'] = shift_rt_metrics(rt_json[st],'rt_u50',2)\n",
    "    rt_json_shifted[st]['t_end'] = shift_rt_metrics(rt_json[st],'t_end',2) \n"
   ]
  },
  {
   "cell_type": "code",
   "execution_count": null,
   "metadata": {
    "colab": {},
    "colab_type": "code",
    "id": "GSyjp687CAzX",
    "outputId": "648a758e-2b81-4902-c2e2-826b3ba60a32"
   },
   "outputs": [],
   "source": [
    "dates[-1]"
   ]
  },
  {
   "cell_type": "code",
   "execution_count": null,
   "metadata": {
    "colab": {},
    "colab_type": "code",
    "id": "hCuZ5u9kCA0F"
   },
   "outputs": [],
   "source": [
    "for st in state_id.keys():\n",
    "    state = state_id[st]\n",
    "    leng = len(dates)\n",
    "    \n",
    "    #states[state]['dates'] =  temp1['India']['dates']\n",
    "    for keys in list(rt_json_shifted[st].keys())[:-1]:\n",
    "        if len(rt_json_shifted[st][keys])<leng:\n",
    "            rt_json_shifted[st][keys].extend(['' for i in range(leng-len(rt_json_shifted[st][keys]))]) \n",
    "                \n",
    "    rt_json_shifted[st]['dates'] = dates"
   ]
  },
  {
   "cell_type": "code",
   "execution_count": null,
   "metadata": {
    "colab": {},
    "colab_type": "code",
    "id": "u4bbrTltCA0O",
    "scrolled": false
   },
   "outputs": [],
   "source": [
    "states_shifted = copy.deepcopy(states)\n",
    "\n",
    "for st in state_id.keys():\n",
    "    state = state_id[st]\n",
    "    states_shifted[state].update(rt_json_shifted[st])"
   ]
  },
  {
   "cell_type": "code",
   "execution_count": null,
   "metadata": {
    "colab": {},
    "colab_type": "code",
    "id": "AzXymvM9-k2e",
    "scrolled": false
   },
   "outputs": [],
   "source": [
    "for st in state_id.keys():\n",
    "    for key in rt_json[st].keys():\n",
    "      try:\n",
    "        rt_json[st][key]=rt_json[st][key].tolist()\n",
    "      except:\n",
    "        pass\n"
   ]
  },
  {
   "cell_type": "code",
   "execution_count": null,
   "metadata": {
    "colab": {},
    "colab_type": "code",
    "id": "s101cWw2CA0f",
    "scrolled": false
   },
   "outputs": [],
   "source": [
    "for st in state_id.keys():\n",
    "    state = state_id[st]\n",
    "    \n",
    "    for key in states[state].keys():\n",
    "      try:\n",
    "        states[state][key]=states[state][key].tolist()\n",
    "      except:\n",
    "        pass\n"
   ]
  },
  {
   "cell_type": "code",
   "execution_count": null,
   "metadata": {
    "colab": {},
    "colab_type": "code",
    "id": "dMt2HYrkCA0s",
    "scrolled": false
   },
   "outputs": [],
   "source": [
    "for st in state_id.keys():\n",
    "    state = state_id[st]\n",
    "    leng = len(temp1['India']['dates'])\n",
    "    states[state]['dates'] =  temp1['India']['dates']\n",
    "    \n",
    "    for keys in list(states[state].keys())[1:]:\n",
    "        if len(states[state][keys])<leng:\n",
    "            states[state][keys].extend(['' for i in range(leng-len(states[state][keys]))]) "
   ]
  },
  {
   "cell_type": "code",
   "execution_count": null,
   "metadata": {
    "colab": {},
    "colab_type": "code",
    "id": "eRwg05v9CA04",
    "scrolled": false
   },
   "outputs": [],
   "source": [
    "for st in state_id.keys():\n",
    "    state = state_id[st]\n",
    "    leng = len(temp1['India']['dates'])\n",
    "    states_shifted[state]['dates'] =  temp1['India']['dates']\n",
    "    \n",
    "    for keys in list(states_shifted[state].keys())[1:]:\n",
    "        if len(states_shifted[state][keys])<leng:\n",
    "            states_shifted[state][keys].extend(['' for i in range(leng-len(states_shifted[state][keys]))]) "
   ]
  },
  {
   "cell_type": "markdown",
   "metadata": {
    "colab_type": "text",
    "id": "aVXkhSzq_XBI"
   },
   "source": [
    "## Rt changes for review"
   ]
  },
  {
   "cell_type": "code",
   "execution_count": null,
   "metadata": {
    "colab": {},
    "colab_type": "code",
    "id": "SjNaxt3p_ZhS",
    "scrolled": false
   },
   "outputs": [],
   "source": [
    "with open('rt_shifted.json', 'w') as outfile:\n",
    "  json.dump(rt_json_shifted, outfile,indent=4)"
   ]
  },
  {
   "cell_type": "code",
   "execution_count": null,
   "metadata": {
    "colab": {},
    "colab_type": "code",
    "id": "LKYkPwynzndj",
    "scrolled": false
   },
   "outputs": [],
   "source": [
    "with open('rt.json', 'w') as outfile:\n",
    "  json.dump(rt_json, outfile,indent=4)"
   ]
  },
  {
   "cell_type": "code",
   "execution_count": null,
   "metadata": {
    "colab": {},
    "colab_type": "code",
    "id": "3cg6FWNJCA1O"
   },
   "outputs": [],
   "source": [
    "            \n",
    "rt_graph = copy.deepcopy(rt_json_shifted)\n",
    "\n",
    "de =10\n",
    "\n",
    "for st in state_id.keys():\n",
    "    \n",
    "    for k in rt_json_shifted[st].keys():\n",
    "        rt_graph[st][k] = rt_json_shifted[st][k][:-10]"
   ]
  },
  {
   "cell_type": "code",
   "execution_count": null,
   "metadata": {
    "colab": {},
    "colab_type": "code",
    "id": "XLwHlaWbCA1V"
   },
   "outputs": [],
   "source": [
    "with open('rt_graph.json', 'w') as outfile:\n",
    "  json.dump(rt_graph, outfile,indent=4)"
   ]
  },
  {
   "cell_type": "code",
   "execution_count": null,
   "metadata": {
    "colab": {
     "base_uri": "https://localhost:8080/",
     "height": 72
    },
    "colab_type": "code",
    "id": "p-6gZXTQzMas",
    "outputId": "fc527549-5140-4509-b3cb-ae8a21d4ad52",
    "scrolled": false
   },
   "outputs": [],
   "source": [
    "'''\n",
    "vals = min(len(df_to_concat),len(cfr),len(rt))\n",
    "one = df_to_concat.iloc[:vals]\n",
    "two = cfr.iloc[:vals]\n",
    "three = rt.iloc[:vals]\n",
    "df_list = [one,two]\n",
    "#df_list = [df_to_concat.iloc[:vals],cfr.iloc[:vals],rt.iloc[:vals]]\n",
    "all_dataframes = pd.concat([two,three],axis=1)\n",
    "all_dataframes.to_csv('allmetrics_state.csv',index=False)'''"
   ]
  },
  {
   "cell_type": "markdown",
   "metadata": {
    "colab_type": "text",
    "id": "-7sizcxPuKHZ"
   },
   "source": [
    "#Pooling"
   ]
  },
  {
   "cell_type": "code",
   "execution_count": null,
   "metadata": {
    "colab": {
     "base_uri": "https://localhost:8080/",
     "height": 72
    },
    "colab_type": "code",
    "id": "117lq5wLXCvL",
    "outputId": "222c76b2-da50-45c6-fd44-d5b5a7bbc02d",
    "scrolled": false
   },
   "outputs": [],
   "source": [
    "print(\"No of days of data present: \",len(dates))\n",
    "print(\"Data rows for state dict: \",len(states['India']['dbt_u95']))\n",
    "print(\"No. of states : \",len(states.keys())-1)"
   ]
  },
  {
   "cell_type": "code",
   "execution_count": null,
   "metadata": {
    "colab": {
     "base_uri": "https://localhost:8080/",
     "height": 35
    },
    "colab_type": "code",
    "id": "AYcRWGwfbFqa",
    "outputId": "401df559-9e67-4723-9316-4924aad6bb22",
    "scrolled": false
   },
   "outputs": [],
   "source": [
    "print(\"Date updated : \",states['datetime'])"
   ]
  },
  {
   "cell_type": "code",
   "execution_count": null,
   "metadata": {
    "colab": {},
    "colab_type": "code",
    "id": "L2aGIUgSCA12",
    "outputId": "880c3120-2c4f-4f47-a3f7-c2bc49543ab4"
   },
   "outputs": [],
   "source": [
    "len(states['India']['dates'])"
   ]
  },
  {
   "cell_type": "code",
   "execution_count": null,
   "metadata": {
    "colab": {},
    "colab_type": "code",
    "id": "HWcFATKDGfY5",
    "outputId": "d7db4150-f09c-4dfa-8d84-5cb4db431602",
    "scrolled": true
   },
   "outputs": [],
   "source": [
    "cols=list(states['India'].keys())\n",
    "q=['state']\n",
    "complete=pd.DataFrame(columns=q+cols)\n",
    "keys=list(states.keys())[:-1]\n",
    "\n",
    "for i in keys:\n",
    "  temp=pd.DataFrame()\n",
    "  temp['state']=[str(i)]*len(states['India']['dates'])\n",
    "  for j in cols:\n",
    "    print(j)\n",
    "    temp[j]=list(states[i][j])\n",
    "  complete = pd.concat([complete,temp])"
   ]
  },
  {
   "cell_type": "code",
   "execution_count": null,
   "metadata": {
    "colab": {},
    "colab_type": "code",
    "id": "6WEapwNFCA2G",
    "outputId": "031f6809-65f6-468e-af05-87ce4f290de4"
   },
   "outputs": [],
   "source": [
    "len(states_shifted['India']['dates'])"
   ]
  },
  {
   "cell_type": "code",
   "execution_count": null,
   "metadata": {
    "colab": {},
    "colab_type": "code",
    "id": "g0HcVKPKCA2P",
    "outputId": "6419aeb2-6211-443d-a167-f30def68d7a5",
    "scrolled": true
   },
   "outputs": [],
   "source": [
    "cols=list(states_shifted['India'].keys())\n",
    "q=['state']\n",
    "complete_shifted=pd.DataFrame(columns=q+cols)\n",
    "keys=list(states_shifted.keys())[:-1]\n",
    "\n",
    "for i in keys:\n",
    "  temp=pd.DataFrame()\n",
    "  temp['state']=[str(i)]*len(states_shifted['India']['dates'])\n",
    "  for j in cols:\n",
    "    print(i,j)\n",
    "    temp[j]=list(states_shifted[i][j])\n",
    "  complete_shifted = pd.concat([complete_shifted,temp])"
   ]
  },
  {
   "cell_type": "code",
   "execution_count": null,
   "metadata": {
    "colab": {},
    "colab_type": "code",
    "id": "DQ6mHKcCCA2Y",
    "scrolled": false
   },
   "outputs": [],
   "source": [
    "complete_shifted.to_csv('allmetrics_states.csv',index=False)"
   ]
  },
  {
   "cell_type": "code",
   "execution_count": null,
   "metadata": {
    "colab": {},
    "colab_type": "code",
    "id": "dhye4Qn26bTF",
    "scrolled": false
   },
   "outputs": [],
   "source": [
    "complete.to_csv('com.csv',index=False)"
   ]
  },
  {
   "cell_type": "code",
   "execution_count": null,
   "metadata": {
    "colab": {},
    "colab_type": "code",
    "id": "yoIG5b-qeBF2",
    "scrolled": false
   },
   "outputs": [],
   "source": [
    "json_data_indented = json.dumps(json_data, indent = 4)\n",
    "with open(\"doubling_rate.json\", \"w\") as outfile: \n",
    "    outfile.write(json_data_indented)"
   ]
  },
  {
   "cell_type": "code",
   "execution_count": null,
   "metadata": {
    "colab": {},
    "colab_type": "code",
    "id": "LF5HPhfgniCs",
    "scrolled": false
   },
   "outputs": [],
   "source": [
    "states_indented = json.dumps(states, indent = 4)\n",
    "with open(\"covidtoday.json\", \"w\") as outfile: \n",
    "    outfile.write(states_indented)"
   ]
  },
  {
   "cell_type": "code",
   "execution_count": null,
   "metadata": {
    "colab": {},
    "colab_type": "code",
    "id": "rc9sSIUWCA3F"
   },
   "outputs": [],
   "source": [
    "states_indented = json.dumps(states_shifted, indent = 4)\n",
    "with open(\"allmetrics_states.json\", \"w\") as outfile: \n",
    "    outfile.write(states_indented)"
   ]
  },
  {
   "cell_type": "code",
   "execution_count": null,
   "metadata": {
    "colab": {
     "base_uri": "https://localhost:8080/",
     "height": 181
    },
    "colab_type": "code",
    "id": "OuEakH5cA7u2",
    "outputId": "afa8c1bd-461f-45e8-9ddc-b6234c69d5b2",
    "scrolled": false
   },
   "outputs": [],
   "source": [
    "complete.columns"
   ]
  },
  {
   "cell_type": "code",
   "execution_count": null,
   "metadata": {
    "colab": {},
    "colab_type": "code",
    "id": "OMap2Le5qG8Z",
    "scrolled": false
   },
   "outputs": [],
   "source": []
  },
  {
   "cell_type": "code",
   "execution_count": null,
   "metadata": {
    "colab": {},
    "colab_type": "code",
    "id": "eXBl9A8ZCA3c"
   },
   "outputs": [],
   "source": []
  }
 ],
 "metadata": {
  "colab": {
   "collapsed_sections": [],
   "name": "unified_states_metrics.ipynb",
   "provenance": [],
   "toc_visible": true
  },
  "kernelspec": {
   "display_name": "Python 3",
   "language": "python",
   "name": "python3"
  },
  "language_info": {
   "codemirror_mode": {
    "name": "ipython",
    "version": 3
   },
   "file_extension": ".py",
   "mimetype": "text/x-python",
   "name": "python",
   "nbconvert_exporter": "python",
   "pygments_lexer": "ipython3",
   "version": "3.7.6"
  }
 },
 "nbformat": 4,
 "nbformat_minor": 1
}
