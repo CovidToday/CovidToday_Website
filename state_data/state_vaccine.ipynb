{
 "cells": [
  {
   "cell_type": "code",
   "execution_count": 1,
   "id": "employed-lounge",
   "metadata": {},
   "outputs": [],
   "source": [
    "import pandas as pd\n",
    "import numpy as np\n",
    "import wget\n",
    "import json\n",
    "import os\n",
    "import time\n",
    "from datetime import datetime"
   ]
  },
  {
   "cell_type": "code",
   "execution_count": 2,
   "id": "editorial-tooth",
   "metadata": {},
   "outputs": [
    {
     "name": "stdout",
     "output_type": "stream",
     "text": [
      "100% [............................................................................] 375715 / 375715"
     ]
    }
   ],
   "source": [
    "api = \"https://api.covid19india.org/csv/latest/cowin_vaccine_data_statewise.csv\"\n",
    "\n",
    "if \"cowin_vaccine_data_statewise.csv\" in os.listdir(\".\"):\n",
    "    os.remove(\"cowin_vaccine_data_statewise.csv\")\n",
    "\n",
    "wget.download(api,\"cowin_vaccine_data_statewise.csv\")\n",
    "\n",
    "#dataset=pd.read_csv('https://raw.githubusercontent.com/CovidToday/backend/master/testing-and-cfr/population.csv')\n",
    "dataset=pd.read_csv('population.csv',index_col='State',usecols=['State','Population'])\n",
    "population = dataset.T.to_dict()"
   ]
  },
  {
   "cell_type": "code",
   "execution_count": 3,
   "id": "mineral-pharmacology",
   "metadata": {},
   "outputs": [],
   "source": [
    "use_cols = [\n",
    "    'Updated On', 'State', 'Total Individuals Vaccinated',\n",
    "    'Total Sessions Conducted', 'Total Sites ', 'First Dose Administered',\n",
    "    'Second Dose Administered', 'Male(Individuals Vaccinated)',\n",
    "    'Female(Individuals Vaccinated)', 'Transgender(Individuals Vaccinated)',\n",
    "    'Total Covaxin Administered', 'Total CoviShield Administered',\n",
    "    'Total Individuals Vaccinated', 'Total Doses Administered'\n",
    "]"
   ]
  },
  {
   "cell_type": "code",
   "execution_count": 4,
   "id": "amber-hundred",
   "metadata": {},
   "outputs": [],
   "source": [
    "vacc = pd.read_csv(\"cowin_vaccine_data_statewise.csv\")\n",
    "vacc = vacc[use_cols]\n",
    "\n",
    "#vacc.loc[313,\"State\"] = \"Andhra Pradesh\"\n",
    "\n",
    "if len(vacc[vacc['State']=='Updated On'])>0:\n",
    "    for idx in vacc[vacc['State']=='Updated On'].index:\n",
    "        vacc.loc[idx,'State'] = vacc.loc[idx-1,'State']"
   ]
  },
  {
   "cell_type": "markdown",
   "id": "other-thousand",
   "metadata": {},
   "source": [
    "Updated On\n",
    "State\n",
    "\n",
    "RAW DATA\n",
    "1. Total Individuals Registered - “cum_reg”\n",
    "2. Total Sessions Conducted - “sessions”\n",
    "3. Total Sites - “sites”\n",
    "4. First Dose Administered — “cum_firstdose”\n",
    "5. Second Dose Administered — “cum_seconddose”\n",
    "6. Male(Individuals Vaccinated)- “cum_male”\n",
    "7. Female(Individuals Vaccinated)- “cum_female”\n",
    "8. Transgender(Individuals Vaccinated) — “cum_trans”\n",
    "9. Total Covaxin Administered — “cum_covaxin”\n",
    "10. Total CoviShield Administered — “cum_covishield”\n",
    "11. Total Individuals Vaccinated — Dont pull into our data\n",
    "12. Total Doses Administered — “cum_doses”\n",
    "\n",
    "\n",
    "METRICS\n",
    "1. “Daily_doses” = delta of “cum_doses”\n",
    "2. “daily_doses_ma” = 7 day mvg avg of “daily_doses”\n",
    "(calculate a 7day moving avg same as we did earlier for daily cases and tests)\n",
    "3. “daily_doses_per_million” = “daily_doses_ma” / population \n",
    "4. “pct_population_onedose” = “first dose administered”/population\n",
    "5. “pct_population_twodose” (% fully vaccinated) = “second dose administered”/population\n",
    "6. “Pct_population_reg” = “cum_reg”/population\n",
    "7. “Pct_covishield” = “cum_covishield”/ “cum_covaxin”\n",
    "8. “Pct_female” = female/ (female+male+trans)"
   ]
  },
  {
   "cell_type": "code",
   "execution_count": 5,
   "id": "daily-newfoundland",
   "metadata": {},
   "outputs": [],
   "source": [
    "def convert_vacc(dat): \n",
    "    try:\n",
    "        return datetime.strptime(dat, '%d/%m/%Y').strftime('%d %B')\n",
    "    except:\n",
    "        return datetime.strptime(dat, '%d-%m-%Y').strftime('%d %B')\n",
    "\n",
    "def get_daily_series(a):\n",
    "    return [t - s for s, t in zip(a, a[1:])]\n",
    "\n",
    "def moving_avg(data, window_size=7):\n",
    "    numbers_series = pd.Series(data)\n",
    "    windows = numbers_series.rolling(window_size)\n",
    "    moving_averages = windows.mean()\n",
    "    moving_averages_list = moving_averages.tolist()\n",
    "    return moving_averages_list[window_size - 1:]"
   ]
  },
  {
   "cell_type": "code",
   "execution_count": 6,
   "id": "impossible-johnston",
   "metadata": {},
   "outputs": [],
   "source": [
    "def to_json(df):\n",
    "    json = {}\n",
    "    keys = df['State'].unique()\n",
    "    \n",
    "    for state in keys:\n",
    "        sub_df = df[df['State']==state]\n",
    "        sub_df = sub_df.dropna(axis=0)\n",
    "        json[state] = {}\n",
    "        \n",
    "        # From raw data\n",
    "        json[state]['dates'] = sub_df['Updated On'].apply(convert_vacc).to_list()\n",
    "        json[state]['cum_reg'] = list(sub_df['Total Individuals Vaccinated'].iloc[:,0])\n",
    "        json[state]['sessions'] = list(sub_df['Total Sessions Conducted'])\n",
    "        json[state]['daily_firstdose'] = list(sub_df['First Dose Administered'])\n",
    "        json[state]['daily_seconddose'] = list(sub_df['Second Dose Administered'])\n",
    "        \n",
    "        male_dose = sub_df['Male(Individuals Vaccinated)']\n",
    "        female_dose = sub_df['Female(Individuals Vaccinated)'] \n",
    "        trans_dose = sub_df['Transgender(Individuals Vaccinated)']\n",
    "        json[state]['cum_male'] = list(male_dose)\n",
    "        json[state]['cum_female'] = list(female_dose)\n",
    "        json[state]['cum_trans'] = list(trans_dose)\n",
    "        \n",
    "        '''\n",
    "        Total Covaxin Administered — “cum_covaxin”\n",
    "        Total CoviShield Administered — “cum_covishield”\n",
    "        Total Individuals Vaccinated — Dont pull into our data\n",
    "        Total Doses Administered — “cum_doses\"\n",
    "        '''\n",
    "        json[state]['cum_covaxin'] = list(sub_df['Total Covaxin Administered'])\n",
    "        json[state]['cum_covishield'] = list(sub_df['Total CoviShield Administered'])\n",
    "        json[state]['cum_doses'] = list(sub_df['Total Doses Administered'])\n",
    "        \n",
    "        \n",
    "        # Derived metrics\n",
    "        daily_doses = get_daily_series(sub_df['Total Doses Administered'])\n",
    "        json[state]['daily_doses'] = daily_doses\n",
    "        \n",
    "        daily_doses_ma = moving_avg(daily_doses)\n",
    "        json[state]['daily_doses_ma'] = daily_doses_ma\n",
    "        \n",
    "        json[state]['daily_doses_per_million'] = list(np.array(daily_doses_ma)*1000000/population[state]['Population'])\n",
    "        \n",
    "        json[state]['pct_population_onedose'] = list(sub_df['First Dose Administered']*100/population[state]['Population'])\n",
    "        \n",
    "        seconddose = list(sub_df['Second Dose Administered']*100/population[state]['Population'])\n",
    "        \n",
    "        json[state]['pct_population_twodose'] = seconddose\n",
    "        \n",
    "        json[state]['pct_population_reg'] = list(sub_df['Total Individuals Vaccinated'].iloc[:,0]*100/population[state]['Population'])\n",
    "        \n",
    "        covishield_prop = list(sub_df['Total CoviShield Administered']*100/(sub_df['Total CoviShield Administered']+sub_df['Total Covaxin Administered']))\n",
    "        json[state]['pct_covishield'] = covishield_prop\n",
    "        \n",
    "        #covaxine_prop = list(sub_df['Total Covaxin Administered']/population[state]['Population'])\n",
    "        #json[state]['pct_covaxine'] = covishield_prop*100\n",
    "        \n",
    "        #covishield_prop = list(sub_df['Total Covaxin Administered']/sub_df['Total Doses Administered'])\n",
    "        #json[state]['covishield_dose_prop'] = list(sub_df['Total Covaxin Administered']/sub_df['Total Doses Administered'])\n",
    "        \n",
    "    \n",
    "        json[state]['pct_female'] = list(female_dose/(male_dose+female_dose+trans_dose))\n",
    "        \n",
    "        \n",
    "    return json"
   ]
  },
  {
   "cell_type": "code",
   "execution_count": 7,
   "id": "weighted-heart",
   "metadata": {},
   "outputs": [],
   "source": [
    "state_vacc = to_json(vacc)\n",
    "\n",
    "with open(\"state_vaccine.json\",\"w\") as file:\n",
    "    json.dump(state_vacc,file)"
   ]
  },
  {
   "cell_type": "code",
   "execution_count": null,
   "id": "parental-shoulder",
   "metadata": {},
   "outputs": [],
   "source": []
  }
 ],
 "metadata": {
  "kernelspec": {
   "display_name": "Python 3",
   "language": "python",
   "name": "python3"
  },
  "language_info": {
   "codemirror_mode": {
    "name": "ipython",
    "version": 3
   },
   "file_extension": ".py",
   "mimetype": "text/x-python",
   "name": "python",
   "nbconvert_exporter": "python",
   "pygments_lexer": "ipython3",
   "version": "3.8.8"
  },
  "latex_envs": {
   "LaTeX_envs_menu_present": true,
   "autoclose": false,
   "autocomplete": true,
   "bibliofile": "biblio.bib",
   "cite_by": "apalike",
   "current_citInitial": 1,
   "eqLabelWithNumbers": true,
   "eqNumInitial": 1,
   "hotkeys": {
    "equation": "Ctrl-E",
    "itemize": "Ctrl-I"
   },
   "labels_anchors": false,
   "latex_user_defs": false,
   "report_style_numbering": false,
   "user_envs_cfg": false
  },
  "toc": {
   "base_numbering": 1,
   "nav_menu": {},
   "number_sections": true,
   "sideBar": true,
   "skip_h1_title": false,
   "title_cell": "Table of Contents",
   "title_sidebar": "Contents",
   "toc_cell": false,
   "toc_position": {},
   "toc_section_display": true,
   "toc_window_display": false
  },
  "varInspector": {
   "cols": {
    "lenName": 16,
    "lenType": 16,
    "lenVar": 40
   },
   "kernels_config": {
    "python": {
     "delete_cmd_postfix": "",
     "delete_cmd_prefix": "del ",
     "library": "var_list.py",
     "varRefreshCmd": "print(var_dic_list())"
    },
    "r": {
     "delete_cmd_postfix": ") ",
     "delete_cmd_prefix": "rm(",
     "library": "var_list.r",
     "varRefreshCmd": "cat(var_dic_list()) "
    }
   },
   "types_to_exclude": [
    "module",
    "function",
    "builtin_function_or_method",
    "instance",
    "_Feature"
   ],
   "window_display": false
  }
 },
 "nbformat": 4,
 "nbformat_minor": 5
}
