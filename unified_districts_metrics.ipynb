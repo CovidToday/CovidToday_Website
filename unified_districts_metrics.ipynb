{
  "nbformat": 4,
  "nbformat_minor": 0,
  "metadata": {
    "colab": {
      "name": "unified_districts_metrics.ipynb",
      "provenance": [],
      "collapsed_sections": [],
      "toc_visible": true
    },
    "kernelspec": {
      "name": "python3",
      "display_name": "Python 3"
    },
    "accelerator": "GPU"
  },
  "cells": [
    {
      "cell_type": "code",
      "metadata": {
        "id": "UG28UpVPRFnt",
        "colab_type": "code",
        "colab": {
          "base_uri": "https://localhost:8080/",
          "height": 224
        },
        "outputId": "05bed869-ba6d-47b0-ef18-2030e184e369"
      },
      "source": [
        "!pip install wget\n",
        "!pip install urllib3"
      ],
      "execution_count": null,
      "outputs": [
        {
          "output_type": "stream",
          "text": [
            "Collecting wget\n",
            "  Downloading https://files.pythonhosted.org/packages/47/6a/62e288da7bcda82b935ff0c6cfe542970f04e29c756b0e147251b2fb251f/wget-3.2.zip\n",
            "Building wheels for collected packages: wget\n",
            "  Building wheel for wget (setup.py) ... \u001b[?25l\u001b[?25hdone\n",
            "  Created wheel for wget: filename=wget-3.2-cp36-none-any.whl size=9682 sha256=54808376e831b16fa630d5b1903904f9c43bca9a5b3320ad6dcc992fb273ac7a\n",
            "  Stored in directory: /root/.cache/pip/wheels/40/15/30/7d8f7cea2902b4db79e3fea550d7d7b85ecb27ef992b618f3f\n",
            "Successfully built wget\n",
            "Installing collected packages: wget\n",
            "Successfully installed wget-3.2\n",
            "Requirement already satisfied: urllib3 in /usr/local/lib/python3.6/dist-packages (1.24.3)\n"
          ],
          "name": "stdout"
        }
      ]
    },
    {
      "cell_type": "code",
      "metadata": {
        "id": "vXMBTJTO07Jw",
        "colab_type": "code",
        "colab": {}
      },
      "source": [
        "import numpy as np\n",
        "import matplotlib.pyplot as plt\n",
        "import pandas as pd\n",
        "from subprocess import call\n",
        "from scipy.stats.distributions import gamma,lognorm\n",
        "import json \n",
        "import wget\n",
        "import os\n",
        "import os.path\n",
        "from datetime import datetime\n",
        "import pytz \n",
        "from collections import OrderedDict\n",
        "from google.colab import drive\n",
        "\n",
        "from datetime import datetime,timedelta\n",
        "from urllib.request import urlopen\n",
        "import collections\n",
        "import copy\n",
        "#os.chdir('/content/gdrive/My Drive')\n",
        "#drive.mount('/content/gdrive')"
      ],
      "execution_count": null,
      "outputs": []
    },
    {
      "cell_type": "code",
      "metadata": {
        "id": "zpv7B3H11DYC",
        "colab_type": "code",
        "colab": {
          "base_uri": "https://localhost:8080/",
          "height": 174
        },
        "outputId": "20e9a702-9755-49b7-fe27-2dc725ef75ad"
      },
      "source": [
        "os.chdir('/content/gdrive/My Drive/test')"
      ],
      "execution_count": null,
      "outputs": [
        {
          "output_type": "error",
          "ename": "FileNotFoundError",
          "evalue": "ignored",
          "traceback": [
            "\u001b[0;31m---------------------------------------------------------------------------\u001b[0m",
            "\u001b[0;31mFileNotFoundError\u001b[0m                         Traceback (most recent call last)",
            "\u001b[0;32m<ipython-input-3-e76f19adb694>\u001b[0m in \u001b[0;36m<module>\u001b[0;34m()\u001b[0m\n\u001b[0;32m----> 1\u001b[0;31m \u001b[0mos\u001b[0m\u001b[0;34m.\u001b[0m\u001b[0mchdir\u001b[0m\u001b[0;34m(\u001b[0m\u001b[0;34m'/content/gdrive/My Drive/test'\u001b[0m\u001b[0;34m)\u001b[0m\u001b[0;34m\u001b[0m\u001b[0;34m\u001b[0m\u001b[0m\n\u001b[0m",
            "\u001b[0;31mFileNotFoundError\u001b[0m: [Errno 2] No such file or directory: '/content/gdrive/My Drive/test'"
          ]
        }
      ]
    },
    {
      "cell_type": "code",
      "metadata": {
        "id": "RG7lfhG5QTWq",
        "colab_type": "code",
        "colab": {
          "base_uri": "https://localhost:8080/",
          "height": 130
        },
        "outputId": "1bd16626-548e-4d92-f0ca-98b408c14ca1"
      },
      "source": [
        "from google.colab import drive\n",
        "drive.mount('/content/drive')"
      ],
      "execution_count": null,
      "outputs": [
        {
          "output_type": "stream",
          "text": [
            "Go to this URL in a browser: https://accounts.google.com/o/oauth2/auth?client_id=947318989803-6bn6qk8qdgf4n4g3pfee6491hc0brc4i.apps.googleusercontent.com&redirect_uri=urn%3aietf%3awg%3aoauth%3a2.0%3aoob&response_type=code&scope=email%20https%3a%2f%2fwww.googleapis.com%2fauth%2fdocs.test%20https%3a%2f%2fwww.googleapis.com%2fauth%2fdrive%20https%3a%2f%2fwww.googleapis.com%2fauth%2fdrive.photos.readonly%20https%3a%2f%2fwww.googleapis.com%2fauth%2fpeopleapi.readonly\n",
            "\n",
            "Enter your authorization code:\n",
            "··········\n",
            "Mounted at /content/drive\n"
          ],
          "name": "stdout"
        }
      ]
    },
    {
      "cell_type": "code",
      "metadata": {
        "id": "xzXCUzJI1g5V",
        "colab_type": "code",
        "colab": {
          "base_uri": "https://localhost:8080/",
          "height": 36
        },
        "outputId": "9b803bee-1b11-4370-9111-b8d879ba5089"
      },
      "source": [
        "if os.path.exists(\"test.json\"):\n",
        "  os.remove(\"test.json\")\n",
        "wget.download('https://api.covid19india.org/v4/data-all.json', os.path.join(os.getcwd(),\"test.json\"))"
      ],
      "execution_count": null,
      "outputs": [
        {
          "output_type": "execute_result",
          "data": {
            "application/vnd.google.colaboratory.intrinsic+json": {
              "type": "string"
            },
            "text/plain": [
              "'/content/test.json'"
            ]
          },
          "metadata": {
            "tags": []
          },
          "execution_count": 8
        }
      ]
    },
    {
      "cell_type": "code",
      "metadata": {
        "id": "KYAzxCzgQs3L",
        "colab_type": "code",
        "colab": {
          "base_uri": "https://localhost:8080/",
          "height": 36
        },
        "outputId": "f331ed5c-8b13-424b-81f5-b1b79823cdb8"
      },
      "source": [
        "%cd /content/drive/My Drive/districts"
      ],
      "execution_count": null,
      "outputs": [
        {
          "output_type": "stream",
          "text": [
            "/content/drive/My Drive/districts\n"
          ],
          "name": "stdout"
        }
      ]
    },
    {
      "cell_type": "code",
      "metadata": {
        "id": "FiHfMs4E1YEr",
        "colab_type": "code",
        "colab": {}
      },
      "source": [
        "#New\n",
        "\n",
        "def convert(dat): \n",
        "    return datetime.strptime(dat, '%Y-%m-%d').strftime('%d %B')"
      ],
      "execution_count": null,
      "outputs": []
    },
    {
      "cell_type": "code",
      "metadata": {
        "id": "mRtJmgM9Q0YK",
        "colab_type": "code",
        "colab": {
          "base_uri": "https://localhost:8080/",
          "height": 36
        },
        "outputId": "4a5866eb-6d5e-4a75-896e-7957e39734de"
      },
      "source": [
        "convert('2020-08-09')"
      ],
      "execution_count": null,
      "outputs": [
        {
          "output_type": "execute_result",
          "data": {
            "application/vnd.google.colaboratory.intrinsic+json": {
              "type": "string"
            },
            "text/plain": [
              "'09 August'"
            ]
          },
          "metadata": {
            "tags": []
          },
          "execution_count": 11
        }
      ]
    },
    {
      "cell_type": "code",
      "metadata": {
        "id": "AGqmlbBLfbcv",
        "colab_type": "code",
        "colab": {}
      },
      "source": [
        "dataset=pd.read_csv('https://raw.githubusercontent.com/CovidToday/backend/master/population_districts.csv')"
      ],
      "execution_count": null,
      "outputs": []
    },
    {
      "cell_type": "code",
      "metadata": {
        "id": "H7-1GIvwocSF",
        "colab_type": "code",
        "colab": {}
      },
      "source": [
        "d={}\n",
        "for i in dataset['State_Code'].unique():\n",
        "    d[i] = [dataset['District'][j] for j in dataset[dataset['State_Code']==i].index]"
      ],
      "execution_count": null,
      "outputs": []
    },
    {
      "cell_type": "code",
      "metadata": {
        "id": "OR34mrIt1dYB",
        "colab_type": "code",
        "colab": {
          "base_uri": "https://localhost:8080/",
          "height": 1000
        },
        "outputId": "8ecf25e1-213b-40d6-8ec1-ecfca2512c02"
      },
      "source": [
        "#dataset=pd.read_csv('population_districts.csv')\n",
        "population=pd.DataFrame()\n",
        "population[\"District\"]=dataset['District']\n",
        "population[\"Population\"]=dataset['Population']\n",
        "population = population.set_index('District')\n",
        "population"
      ],
      "execution_count": null,
      "outputs": [
        {
          "output_type": "execute_result",
          "data": {
            "text/html": [
              "<div>\n",
              "<style scoped>\n",
              "    .dataframe tbody tr th:only-of-type {\n",
              "        vertical-align: middle;\n",
              "    }\n",
              "\n",
              "    .dataframe tbody tr th {\n",
              "        vertical-align: top;\n",
              "    }\n",
              "\n",
              "    .dataframe thead th {\n",
              "        text-align: right;\n",
              "    }\n",
              "</style>\n",
              "<table border=\"1\" class=\"dataframe\">\n",
              "  <thead>\n",
              "    <tr style=\"text-align: right;\">\n",
              "      <th></th>\n",
              "      <th>Population</th>\n",
              "    </tr>\n",
              "    <tr>\n",
              "      <th>District</th>\n",
              "      <th></th>\n",
              "    </tr>\n",
              "  </thead>\n",
              "  <tbody>\n",
              "    <tr>\n",
              "      <th>Ahmedabad</th>\n",
              "      <td>7214225</td>\n",
              "    </tr>\n",
              "    <tr>\n",
              "      <th>Anantapur</th>\n",
              "      <td>4081148</td>\n",
              "    </tr>\n",
              "    <tr>\n",
              "      <th>Aurangabad</th>\n",
              "      <td>3701282</td>\n",
              "    </tr>\n",
              "    <tr>\n",
              "      <th>Bengaluru Urban</th>\n",
              "      <td>9621551</td>\n",
              "    </tr>\n",
              "    <tr>\n",
              "      <th>Chengalpattu</th>\n",
              "      <td>2556423</td>\n",
              "    </tr>\n",
              "    <tr>\n",
              "      <th>Chennai</th>\n",
              "      <td>4646732</td>\n",
              "    </tr>\n",
              "    <tr>\n",
              "      <th>Chittoor</th>\n",
              "      <td>4174064</td>\n",
              "    </tr>\n",
              "    <tr>\n",
              "      <th>East Godavari</th>\n",
              "      <td>5154296</td>\n",
              "    </tr>\n",
              "    <tr>\n",
              "      <th>Faridabad</th>\n",
              "      <td>1809733</td>\n",
              "    </tr>\n",
              "    <tr>\n",
              "      <th>Ganjam</th>\n",
              "      <td>3529031</td>\n",
              "    </tr>\n",
              "    <tr>\n",
              "      <th>Gautam Buddha Nagar</th>\n",
              "      <td>1648115</td>\n",
              "    </tr>\n",
              "    <tr>\n",
              "      <th>Ghaziabad</th>\n",
              "      <td>4681645</td>\n",
              "    </tr>\n",
              "    <tr>\n",
              "      <th>Guntur</th>\n",
              "      <td>4887813</td>\n",
              "    </tr>\n",
              "    <tr>\n",
              "      <th>Gurugram</th>\n",
              "      <td>1514432</td>\n",
              "    </tr>\n",
              "    <tr>\n",
              "      <th>Hyderabad</th>\n",
              "      <td>3943323</td>\n",
              "    </tr>\n",
              "    <tr>\n",
              "      <th>Jalgaon</th>\n",
              "      <td>4229917</td>\n",
              "    </tr>\n",
              "    <tr>\n",
              "      <th>Kamrup Metropolitan</th>\n",
              "      <td>1253938</td>\n",
              "    </tr>\n",
              "    <tr>\n",
              "      <th>Kancheepuram</th>\n",
              "      <td>3998252</td>\n",
              "    </tr>\n",
              "    <tr>\n",
              "      <th>Kolkata</th>\n",
              "      <td>4496694</td>\n",
              "    </tr>\n",
              "    <tr>\n",
              "      <th>Kurnool</th>\n",
              "      <td>4053463</td>\n",
              "    </tr>\n",
              "    <tr>\n",
              "      <th>Madurai</th>\n",
              "      <td>3038252</td>\n",
              "    </tr>\n",
              "    <tr>\n",
              "      <th>Medchal Malkajgiri</th>\n",
              "      <td>2440073</td>\n",
              "    </tr>\n",
              "    <tr>\n",
              "      <th>Mumbai</th>\n",
              "      <td>12442373</td>\n",
              "    </tr>\n",
              "    <tr>\n",
              "      <th>Nashik</th>\n",
              "      <td>6107187</td>\n",
              "    </tr>\n",
              "    <tr>\n",
              "      <th>North 24 Parganas</th>\n",
              "      <td>10009781</td>\n",
              "    </tr>\n",
              "    <tr>\n",
              "      <th>Palghar</th>\n",
              "      <td>2990116</td>\n",
              "    </tr>\n",
              "    <tr>\n",
              "      <th>Pune</th>\n",
              "      <td>9429408</td>\n",
              "    </tr>\n",
              "    <tr>\n",
              "      <th>Raigad</th>\n",
              "      <td>2634200</td>\n",
              "    </tr>\n",
              "    <tr>\n",
              "      <th>Ranga Reddy</th>\n",
              "      <td>2446265</td>\n",
              "    </tr>\n",
              "    <tr>\n",
              "      <th>Solapur</th>\n",
              "      <td>4317756</td>\n",
              "    </tr>\n",
              "    <tr>\n",
              "      <th>Surat</th>\n",
              "      <td>6081322</td>\n",
              "    </tr>\n",
              "    <tr>\n",
              "      <th>Thane</th>\n",
              "      <td>8070032</td>\n",
              "    </tr>\n",
              "    <tr>\n",
              "      <th>Thiruvallur</th>\n",
              "      <td>3728104</td>\n",
              "    </tr>\n",
              "    <tr>\n",
              "      <th>Tiruvannamalai</th>\n",
              "      <td>2464875</td>\n",
              "    </tr>\n",
              "    <tr>\n",
              "      <th>Vellore</th>\n",
              "      <td>3936331</td>\n",
              "    </tr>\n",
              "    <tr>\n",
              "      <th>West Godavari</th>\n",
              "      <td>3936966</td>\n",
              "    </tr>\n",
              "  </tbody>\n",
              "</table>\n",
              "</div>"
            ],
            "text/plain": [
              "                     Population\n",
              "District                       \n",
              "Ahmedabad               7214225\n",
              "Anantapur               4081148\n",
              "Aurangabad              3701282\n",
              "Bengaluru Urban         9621551\n",
              "Chengalpattu            2556423\n",
              "Chennai                 4646732\n",
              "Chittoor                4174064\n",
              "East Godavari           5154296\n",
              "Faridabad               1809733\n",
              "Ganjam                  3529031\n",
              "Gautam Buddha Nagar     1648115\n",
              "Ghaziabad               4681645\n",
              "Guntur                  4887813\n",
              "Gurugram                1514432\n",
              "Hyderabad               3943323\n",
              "Jalgaon                 4229917\n",
              "Kamrup Metropolitan     1253938\n",
              "Kancheepuram            3998252\n",
              "Kolkata                 4496694\n",
              "Kurnool                 4053463\n",
              "Madurai                 3038252\n",
              "Medchal Malkajgiri      2440073\n",
              "Mumbai                 12442373\n",
              "Nashik                  6107187\n",
              "North 24 Parganas      10009781\n",
              "Palghar                 2990116\n",
              "Pune                    9429408\n",
              "Raigad                  2634200\n",
              "Ranga Reddy             2446265\n",
              "Solapur                 4317756\n",
              "Surat                   6081322\n",
              "Thane                   8070032\n",
              "Thiruvallur             3728104\n",
              "Tiruvannamalai          2464875\n",
              "Vellore                 3936331\n",
              "West Godavari           3936966"
            ]
          },
          "metadata": {
            "tags": []
          },
          "execution_count": 14
        }
      ]
    },
    {
      "cell_type": "code",
      "metadata": {
        "id": "KLM0_fcn2nnL",
        "colab_type": "code",
        "colab": {}
      },
      "source": [
        "state_id = d\n",
        "x=datetime.now(pytz.timezone('Asia/Kolkata')).date()\n",
        "dd=pd.date_range(start=\"2020-01-31\",end=x)\n",
        "dates=[]\n",
        "for i in range(len(dd)):\n",
        "  dates.append((str(dd[i])[:10]))\n",
        "#dates\n",
        "dates1=[]\n",
        "for w in range (len(dates)):\n",
        "  if len(dates[w]):\n",
        "    dates1.append(convert(dates[w]))"
      ],
      "execution_count": null,
      "outputs": []
    },
    {
      "cell_type": "code",
      "metadata": {
        "id": "Tjvdf2FqsRmy",
        "colab_type": "code",
        "colab": {
          "base_uri": "https://localhost:8080/",
          "height": 148
        },
        "outputId": "1e2007c8-2b8f-4e8d-d10b-6c759dfcc487"
      },
      "source": [
        "{\n",
        "  \"MH\":[\"Mumbai\", \"Thane\", \"Pune\", \"Palghar\", \"Aurangabad\"],\n",
        "  \"TN\":[\"Chennai\", \"Chengalpattu\"],\n",
        "  \"KA\":[\"Bengaluru Urban\"],\n",
        "  \"GJ\":[\"Ahmedabad\", \"Surat\"],\n",
        "  \"WB\":[\"Kolkata\"],\n",
        "  \"HR\":[\"Gurugram\"],\n",
        "  \"TG\":[\"Hyderabad\"],\n",
        "}"
      ],
      "execution_count": null,
      "outputs": [
        {
          "output_type": "execute_result",
          "data": {
            "text/plain": [
              "{'GJ': ['Ahmedabad', 'Surat'],\n",
              " 'HR': ['Gurugram'],\n",
              " 'KA': ['Bengaluru Urban'],\n",
              " 'MH': ['Mumbai', 'Thane', 'Pune', 'Palghar', 'Aurangabad'],\n",
              " 'TG': ['Hyderabad'],\n",
              " 'TN': ['Chennai', 'Chengalpattu'],\n",
              " 'WB': ['Kolkata']}"
            ]
          },
          "metadata": {
            "tags": []
          },
          "execution_count": 16
        }
      ]
    },
    {
      "cell_type": "code",
      "metadata": {
        "id": "BZDtHqQ8N7fN",
        "colab_type": "code",
        "colab": {}
      },
      "source": [
        "'''\n",
        "from datetime import timedelta\n",
        "start=datetime.now()\n",
        "x1=datetime.now(pytz.timezone('Asia/Kolkata')).date()\n",
        "#x1 = datetime.today()\n",
        "#y1 = timedelta(days=7)\n",
        "y1=[]\n",
        "x1=str(x1)[:10]\n",
        "for i in range(7,0,-1):\n",
        "  y1.append(str(datetime.today()-timedelta(days=i))[:10])\n",
        "#print(y1)\n",
        "##y1=str(y1)[:10]\n",
        "t=y1\n",
        "t\n",
        "'''\n",
        "#New\n",
        "def dates_gen(periods=7):\n",
        "  t = pd.Series(pd.date_range(end = datetime.now(pytz.timezone('Asia/Kolkata'))-timedelta(1), periods = periods)).dt.strftime('%Y-%m-%d').tolist()\n",
        "\n",
        "  return t"
      ],
      "execution_count": null,
      "outputs": []
    },
    {
      "cell_type": "code",
      "metadata": {
        "id": "43tj8aKPrWFI",
        "colab_type": "code",
        "colab": {}
      },
      "source": [
        "t = dates_gen()"
      ],
      "execution_count": null,
      "outputs": []
    },
    {
      "cell_type": "markdown",
      "metadata": {
        "id": "8oetMgpqGD3U",
        "colab_type": "text"
      },
      "source": [
        "##Positivity Rate (All metrics"
      ]
    },
    {
      "cell_type": "code",
      "metadata": {
        "id": "J_Hj1PVdIEC4",
        "colab_type": "code",
        "colab": {
          "base_uri": "https://localhost:8080/",
          "height": 611
        },
        "outputId": "8ea82200-fc46-4cc1-f42e-8578608ba09e"
      },
      "source": [
        "start=datetime.now()\n",
        "states={}\n",
        "csv_dates=[]\n",
        "csv_states=[]\n",
        "csv_total_cases=[]\n",
        "csv_cum_recovered=[]\n",
        "csv_daily_recovered=[]\n",
        "csv_cum_deceased=[]\n",
        "csv_daily_deceased=[]\n",
        "csv_positivity_rate_cumulative=[]\n",
        "csv_daily_positive_cases=[]\n",
        "csv_daily_positivity_rate=[]\n",
        "csv_daily_positive_cases_ma=[]\n",
        "csv_daily_positivity_rate_ma=[]\n",
        "csv_test_per_million=[]\n",
        "csv_daily_tested=[]\n",
        "csv_cum_tested=[]\n",
        "\n",
        "csv_daily_case_per_million = []\n",
        "csv_daily_test_per_million = []\n",
        "csv_daily_test_ma = []\n",
        "csv_daily_deceased_ma = []\n",
        "test=json.load(open('test.json'))\n",
        "\n",
        "\n",
        "for j in state_id.keys():\n",
        "  for k in state_id[j]:\n",
        "    print('Working : ',k)\n",
        "    \n",
        "    test_per_million = ['']*len(dates)\n",
        "    pos_cum = ['']*len(dates)\n",
        "    pos_rate_cum = ['']*len(dates)\n",
        "    daily_pos = ['']*len(dates)\n",
        "    daily_pos_ma = ['']*len(dates)\n",
        "    daily_tested = ['']*len(dates)\n",
        "    daily_pos_rate = ['']*len(dates)\n",
        "    daily_pos_rate_ma = ['']*len(dates)\n",
        "    tested_cum = ['']*len(dates)\n",
        "    tested_daily = ['']*len(dates)\n",
        "    deceased_cum = ['']*len(dates)\n",
        "    daily_deceased = ['']*len(dates)\n",
        "    recovered_cum = ['']*len(dates)\n",
        "    daily_recovered = ['']*len(dates)\n",
        "\n",
        "    #New\n",
        "    daily_case_per_million = ['']*len(dates)\n",
        "    daily_test_per_million = ['']*len(dates)\n",
        "    daily_test_ma = ['']*len(dates)\n",
        "    daily_deceased_ma = ['']*len(dates)\n",
        "    \n",
        "    for i in range(len(dates)):\n",
        "      \n",
        "      if i  == len(dates)//4:\n",
        "        print(\"Progress : 25%\")\n",
        "      if i  == len(dates)//2:\n",
        "        print(\"Progress : 50%\")\n",
        "      if i  == (len(dates)*3)//4:\n",
        "        print(\"Progress : 75%\")  \n",
        "      if i  == len(dates)-1:\n",
        "        print(\"Progres : 100&\")\n",
        "      \n",
        "      if dates[i] in test.keys():\n",
        "          temp=json.load(open('test.json'))[dates[i]]\n",
        "          if j in temp.keys():\n",
        "            if 'districts' in temp[j].keys():\n",
        "              if k in temp[j]['districts']:\n",
        "                if 'total' in temp[j]['districts'][k].keys():\n",
        "                  if 'confirmed' in temp[j]['districts'][k]['total'].keys():\n",
        "                    pos_cum[i]=temp[j]['districts'][k]['total']['confirmed']\n",
        "\n",
        "                  if 'tested' in temp[j]['districts'][k]['total'].keys():\n",
        "                    tested_cum[i]=abs(temp[j]['districts'][k]['total']['tested'])\n",
        "                    test_per_million[i]=temp[j]['districts'][k]['total']['tested']*1000000/int(population[\"Population\"][k])\n",
        "                      \n",
        "                  if 'deceased' in temp[j]['districts'][k]['total'].keys():\n",
        "                    deceased_cum[i]=temp[j]['districts'][k]['total']['deceased']\n",
        "                  \n",
        "                  if 'recovered' in temp[j]['districts'][k]['total'].keys():\n",
        "                    recovered_cum[i]=temp[j]['districts'][k]['total']['recovered']\n",
        "                  \n",
        "                  if len(str(pos_cum[i])) and len(str(tested_cum[i])):\n",
        "                    pos_rate_cum[i]= pos_cum[i]*100/tested_cum[i]\n",
        "\n",
        "\n",
        "                if 'delta' in temp[j]['districts'][k].keys():\n",
        "                  if 'confirmed' in temp[j]['districts'][k]['delta'].keys():\n",
        "                    daily_pos[i]=temp[j]['districts'][k]['delta']['confirmed']\n",
        "                    daily_case_per_million[i] =temp[j]['delta']['confirmed']*1000000/int(population[\"Population\"][k])   #New\n",
        "\n",
        "                  if 'tested' in temp[j]['districts'][k]['delta'].keys():\n",
        "                    daily_tested[i]=abs(temp[j]['districts'][k]['delta']['tested'])\n",
        "                    daily_test_per_million[i] = temp[j]['delta']['tested']*1000000/int(population[\"Population\"][k])    #New\n",
        "\n",
        "                  if 'deceased' in temp[j]['districts'][k]['delta'].keys():\n",
        "                    daily_deceased[i]=temp[j]['districts'][k]['delta']['deceased']\n",
        "                  \n",
        "                  if 'recovered' in temp[j]['districts'][k]['delta'].keys():\n",
        "                    daily_recovered[i]=temp[j]['districts'][k]['delta']['recovered']\n",
        "                  \n",
        "                  if len(str(daily_pos[i])) and len(str(daily_tested[i])):\n",
        "                    daily_pos_rate[i]=int(daily_pos[i])*100/int(daily_tested[i])\n",
        "\n",
        "        #print(pos_cum,k)\n",
        "\n",
        "    for w in range(7,len(daily_pos)):\n",
        "                  sum1=0\n",
        "                  sum2=0\n",
        "                  for s in range(7):\n",
        "                    if (len(str(daily_pos[w-s]))!=0 and len(str(daily_tested[w-s]))!=0):\n",
        "                      sum1+=int(daily_pos[w-s])\n",
        "                      sum2+=int(daily_tested[w-s])\n",
        "                  if (sum2!=0):\n",
        "                    daily_pos_rate_ma[w]=sum1*100/abs(sum2)\n",
        "                \n",
        "    for w in range(7,len(daily_pos)):\n",
        "                  sum1=0\n",
        "                  count=0\n",
        "                  for s in range(7):\n",
        "                    if (len(str(daily_pos[w-s]))!=0):\n",
        "                      sum1+=int(daily_pos[w-s])\n",
        "                      count+=1\n",
        "                  if count!=0:\n",
        "                    daily_pos_ma[w]=sum1/count\n",
        "\n",
        "    #New\n",
        "    for w in range(7,len(daily_tested)):\n",
        "      sum1=0\n",
        "      count=0\n",
        "      for s in range(7):\n",
        "        if (len(str(daily_tested[w-s]))!=0):\n",
        "          sum1+=int(daily_tested[w-s])\n",
        "        \n",
        "          count+=1\n",
        "      if count!=0:\n",
        "        daily_test_ma[w]=sum1/count\n",
        "        \n",
        "    #New\n",
        "    for w in range(7,len(daily_deceased)):\n",
        "      sum1=0\n",
        "      count=0\n",
        "      for s in range(7):\n",
        "        if (len(str(daily_deceased[w-s]))!=0):\n",
        "          sum1+=int(daily_deceased[w-s])\n",
        "          count+=1\n",
        "      if count!=0:\n",
        "        daily_deceased_ma[w]=sum1/count\n",
        "\n",
        "\n",
        "\n",
        "    print(daily_pos_rate,k)\n",
        "\n",
        "    for i in range(len(dates)):\n",
        "                  csv_dates.append(dates1[i])\n",
        "                  csv_states.append(k)\n",
        "                  csv_total_cases.append(pos_cum[i])\n",
        "                  csv_positivity_rate_cumulative.append(pos_rate_cum[i])\n",
        "                  csv_daily_positive_cases.append(daily_pos[i])\n",
        "                  csv_cum_recovered.append(recovered_cum[i])\n",
        "                  csv_daily_recovered.append(daily_recovered[i])\n",
        "                  csv_cum_deceased.append(deceased_cum[i])\n",
        "                  csv_daily_deceased.append(daily_deceased[i])\n",
        "                  csv_daily_positivity_rate.append(daily_pos_rate[i])\n",
        "                  csv_daily_positive_cases_ma.append(daily_pos_ma[i])\n",
        "                  csv_daily_positivity_rate_ma.append(daily_pos_rate_ma[i])\n",
        "                  csv_daily_tested.append(daily_tested[i])\n",
        "                  csv_cum_tested.append(tested_cum[i])\n",
        "                  csv_test_per_million.append(test_per_million[i])\n",
        "\n",
        "                  #New\n",
        "                  csv_daily_case_per_million.append(daily_case_per_million[i])\n",
        "                  csv_daily_test_per_million.append(daily_test_per_million[i])\n",
        "                  csv_daily_test_ma.append(daily_test_ma[i])\n",
        "                  csv_daily_deceased_ma.append(daily_deceased_ma[i])\n",
        "      \n",
        "    states[k]={\n",
        "                                  'dates':dates1[:-1],\n",
        "                                  'cum_positive_cases':pos_cum[:-1],\n",
        "                                  'cum_positivity_rate':pos_rate_cum[:-1],\n",
        "                                  'daily_positive_cases':daily_pos[:-1],\n",
        "                                  'cum_recovered':recovered_cum[:-1],\n",
        "                                  'daily_recovered':daily_recovered[:-1],\n",
        "                                  'cum_deceased':deceased_cum[:-1],\n",
        "                                  'daily_deceased':daily_deceased[:-1],\n",
        "                                  'daily_positivity_rate':daily_pos_rate[:-1],\n",
        "                                  'daily_positive_cases_ma': daily_pos_ma[:-1],\n",
        "                                  'daily_positivity_rate_ma':daily_pos_rate_ma[:-1] , \n",
        "                                  'daily_tests': daily_tested[:-1],\n",
        "                                  'cum_tests': tested_cum[:-1],\n",
        "                                  'test_per_million':test_per_million[:-1],\n",
        "\n",
        "                                  #New\n",
        "                                  'daily_cases_per_million':daily_case_per_million[:-1],\n",
        "                                  'daily_tests_per_million':daily_test_per_million[:-1],\n",
        "                                  'daily_tests_ma':daily_test_ma[:-1],\n",
        "                                  'daily_deceased_ma':daily_deceased_ma[:-1]\n",
        "\n",
        "                            }\n",
        "end=datetime.now()\n",
        "print(end-start)"
      ],
      "execution_count": null,
      "outputs": [
        {
          "output_type": "stream",
          "text": [
            "Working :  Ahmedabad\n",
            "Progress : 25%\n",
            "Progress : 50%\n",
            "Progress : 75%\n",
            "Progres : 100&\n",
            "['', '', '', '', '', '', '', '', '', '', '', '', '', '', '', '', '', '', '', '', '', '', '', '', '', '', '', '', '', '', '', '', '', '', '', '', '', '', '', '', '', '', '', '', '', '', '', '', '', '', '', '', '', '', '', '', '', '', '', '', '', '', '', '', '', '', '', '', '', '', '', '', '', '', '', '', '', '', '', '', '', '', '', '', '', '', '', '', '', '', '', '', '', '', '', '', '', '', '', '', '', '', '', '', '', '', '', '', '', 0.4105746477990378, 16.364734299516908, 15.62709590878605, 11.797511797511797, '', 8.526894865525673, 30.57199211045365, 33.82749326145552, 22.08800690250216, 20.756302521008404, '', 12.522045855379188, '', 8.775852431525992, 16.421424367274867, 11.641910879164994, 14.637826961770624, 19.126328217237308, 17.894736842105264, 17.161359956826768, 21.611492816989383, 19.121894858463317, 21.357409713574096, 16.483516483516482, 20.172732880937694, 15.364001786511835, 20.617283950617285, 22.094594594594593, 22.43243243243243, 14.36656508489334, 16.772486772486772, 15.392205229403059, 17.545871559633028, 14.772727272727273, 22.90299051787017, 12.188796680497925, 12.004466778336125, 15.484710474951203, 10.911808669656203, 11.423930698429887, 10.052405907575036, 17.251461988304094, 8.78679750223015, 9.121764955451846, 11.217437533227008, 11.141452758055708, 10.934520025429116, 9.44, 17.528735632183906, 11.761006289308176, 9.13884007029877, 9.981515711645102, 11.66077738515901, 12.447552447552448, 10.30557219892151, 14.642857142857142, 7.724329324699353, 8.59840954274354, 6.286905175408128, 6.207827260458839, 9.70258410531448, 7.528409090909091, 7.550860719874804, 6.6178915862986365, 6.328705198579271, 5.68489442338928, 5.566097406704618, 5.936675461741425, 1.4096687710801694, 1.130707306581454, 1.707343767100799, 1.5744769007665216, 1.4607368812802382, 1.5468447881877307, 1.3524779990736453, 1.446435237028742, 1.696057508704931, 1.6411026493617935, 1.5158647961585539, 1.5441251661724102, 1.5199682098152196, 1.6511652210262306, 1.3550615534496502, ''] Ahmedabad\n",
            "Working :  Surat\n",
            "Progress : 25%\n",
            "Progress : 50%\n",
            "Progress : 75%\n"
          ],
          "name": "stdout"
        },
        {
          "output_type": "error",
          "ename": "KeyboardInterrupt",
          "evalue": "ignored",
          "traceback": [
            "\u001b[0;31m---------------------------------------------------------------------------\u001b[0m",
            "\u001b[0;31mKeyboardInterrupt\u001b[0m                         Traceback (most recent call last)",
            "\u001b[0;32m<ipython-input-21-744af1803272>\u001b[0m in \u001b[0;36m<module>\u001b[0;34m()\u001b[0m\n\u001b[1;32m     61\u001b[0m \u001b[0;34m\u001b[0m\u001b[0m\n\u001b[1;32m     62\u001b[0m       \u001b[0;32mif\u001b[0m \u001b[0mdates\u001b[0m\u001b[0;34m[\u001b[0m\u001b[0mi\u001b[0m\u001b[0;34m]\u001b[0m \u001b[0;32min\u001b[0m \u001b[0mtest\u001b[0m\u001b[0;34m.\u001b[0m\u001b[0mkeys\u001b[0m\u001b[0;34m(\u001b[0m\u001b[0;34m)\u001b[0m\u001b[0;34m:\u001b[0m\u001b[0;34m\u001b[0m\u001b[0;34m\u001b[0m\u001b[0m\n\u001b[0;32m---> 63\u001b[0;31m           \u001b[0mtemp\u001b[0m\u001b[0;34m=\u001b[0m\u001b[0mjson\u001b[0m\u001b[0;34m.\u001b[0m\u001b[0mload\u001b[0m\u001b[0;34m(\u001b[0m\u001b[0mopen\u001b[0m\u001b[0;34m(\u001b[0m\u001b[0;34m'test.json'\u001b[0m\u001b[0;34m)\u001b[0m\u001b[0;34m)\u001b[0m\u001b[0;34m[\u001b[0m\u001b[0mdates\u001b[0m\u001b[0;34m[\u001b[0m\u001b[0mi\u001b[0m\u001b[0;34m]\u001b[0m\u001b[0;34m]\u001b[0m\u001b[0;34m\u001b[0m\u001b[0;34m\u001b[0m\u001b[0m\n\u001b[0m\u001b[1;32m     64\u001b[0m           \u001b[0;32mif\u001b[0m \u001b[0mj\u001b[0m \u001b[0;32min\u001b[0m \u001b[0mtemp\u001b[0m\u001b[0;34m.\u001b[0m\u001b[0mkeys\u001b[0m\u001b[0;34m(\u001b[0m\u001b[0;34m)\u001b[0m\u001b[0;34m:\u001b[0m\u001b[0;34m\u001b[0m\u001b[0;34m\u001b[0m\u001b[0m\n\u001b[1;32m     65\u001b[0m             \u001b[0;32mif\u001b[0m \u001b[0;34m'districts'\u001b[0m \u001b[0;32min\u001b[0m \u001b[0mtemp\u001b[0m\u001b[0;34m[\u001b[0m\u001b[0mj\u001b[0m\u001b[0;34m]\u001b[0m\u001b[0;34m.\u001b[0m\u001b[0mkeys\u001b[0m\u001b[0;34m(\u001b[0m\u001b[0;34m)\u001b[0m\u001b[0;34m:\u001b[0m\u001b[0;34m\u001b[0m\u001b[0;34m\u001b[0m\u001b[0m\n",
            "\u001b[0;32m/usr/lib/python3.6/json/__init__.py\u001b[0m in \u001b[0;36mload\u001b[0;34m(fp, cls, object_hook, parse_float, parse_int, parse_constant, object_pairs_hook, **kw)\u001b[0m\n\u001b[1;32m    297\u001b[0m         \u001b[0mcls\u001b[0m\u001b[0;34m=\u001b[0m\u001b[0mcls\u001b[0m\u001b[0;34m,\u001b[0m \u001b[0mobject_hook\u001b[0m\u001b[0;34m=\u001b[0m\u001b[0mobject_hook\u001b[0m\u001b[0;34m,\u001b[0m\u001b[0;34m\u001b[0m\u001b[0;34m\u001b[0m\u001b[0m\n\u001b[1;32m    298\u001b[0m         \u001b[0mparse_float\u001b[0m\u001b[0;34m=\u001b[0m\u001b[0mparse_float\u001b[0m\u001b[0;34m,\u001b[0m \u001b[0mparse_int\u001b[0m\u001b[0;34m=\u001b[0m\u001b[0mparse_int\u001b[0m\u001b[0;34m,\u001b[0m\u001b[0;34m\u001b[0m\u001b[0;34m\u001b[0m\u001b[0m\n\u001b[0;32m--> 299\u001b[0;31m         parse_constant=parse_constant, object_pairs_hook=object_pairs_hook, **kw)\n\u001b[0m\u001b[1;32m    300\u001b[0m \u001b[0;34m\u001b[0m\u001b[0m\n\u001b[1;32m    301\u001b[0m \u001b[0;34m\u001b[0m\u001b[0m\n",
            "\u001b[0;32m/usr/lib/python3.6/json/__init__.py\u001b[0m in \u001b[0;36mloads\u001b[0;34m(s, encoding, cls, object_hook, parse_float, parse_int, parse_constant, object_pairs_hook, **kw)\u001b[0m\n\u001b[1;32m    352\u001b[0m             \u001b[0mparse_int\u001b[0m \u001b[0;32mis\u001b[0m \u001b[0;32mNone\u001b[0m \u001b[0;32mand\u001b[0m \u001b[0mparse_float\u001b[0m \u001b[0;32mis\u001b[0m \u001b[0;32mNone\u001b[0m \u001b[0;32mand\u001b[0m\u001b[0;34m\u001b[0m\u001b[0;34m\u001b[0m\u001b[0m\n\u001b[1;32m    353\u001b[0m             parse_constant is None and object_pairs_hook is None and not kw):\n\u001b[0;32m--> 354\u001b[0;31m         \u001b[0;32mreturn\u001b[0m \u001b[0m_default_decoder\u001b[0m\u001b[0;34m.\u001b[0m\u001b[0mdecode\u001b[0m\u001b[0;34m(\u001b[0m\u001b[0ms\u001b[0m\u001b[0;34m)\u001b[0m\u001b[0;34m\u001b[0m\u001b[0;34m\u001b[0m\u001b[0m\n\u001b[0m\u001b[1;32m    355\u001b[0m     \u001b[0;32mif\u001b[0m \u001b[0mcls\u001b[0m \u001b[0;32mis\u001b[0m \u001b[0;32mNone\u001b[0m\u001b[0;34m:\u001b[0m\u001b[0;34m\u001b[0m\u001b[0;34m\u001b[0m\u001b[0m\n\u001b[1;32m    356\u001b[0m         \u001b[0mcls\u001b[0m \u001b[0;34m=\u001b[0m \u001b[0mJSONDecoder\u001b[0m\u001b[0;34m\u001b[0m\u001b[0;34m\u001b[0m\u001b[0m\n",
            "\u001b[0;32m/usr/lib/python3.6/json/decoder.py\u001b[0m in \u001b[0;36mdecode\u001b[0;34m(self, s, _w)\u001b[0m\n\u001b[1;32m    337\u001b[0m \u001b[0;34m\u001b[0m\u001b[0m\n\u001b[1;32m    338\u001b[0m         \"\"\"\n\u001b[0;32m--> 339\u001b[0;31m         \u001b[0mobj\u001b[0m\u001b[0;34m,\u001b[0m \u001b[0mend\u001b[0m \u001b[0;34m=\u001b[0m \u001b[0mself\u001b[0m\u001b[0;34m.\u001b[0m\u001b[0mraw_decode\u001b[0m\u001b[0;34m(\u001b[0m\u001b[0ms\u001b[0m\u001b[0;34m,\u001b[0m \u001b[0midx\u001b[0m\u001b[0;34m=\u001b[0m\u001b[0m_w\u001b[0m\u001b[0;34m(\u001b[0m\u001b[0ms\u001b[0m\u001b[0;34m,\u001b[0m \u001b[0;36m0\u001b[0m\u001b[0;34m)\u001b[0m\u001b[0;34m.\u001b[0m\u001b[0mend\u001b[0m\u001b[0;34m(\u001b[0m\u001b[0;34m)\u001b[0m\u001b[0;34m)\u001b[0m\u001b[0;34m\u001b[0m\u001b[0;34m\u001b[0m\u001b[0m\n\u001b[0m\u001b[1;32m    340\u001b[0m         \u001b[0mend\u001b[0m \u001b[0;34m=\u001b[0m \u001b[0m_w\u001b[0m\u001b[0;34m(\u001b[0m\u001b[0ms\u001b[0m\u001b[0;34m,\u001b[0m \u001b[0mend\u001b[0m\u001b[0;34m)\u001b[0m\u001b[0;34m.\u001b[0m\u001b[0mend\u001b[0m\u001b[0;34m(\u001b[0m\u001b[0;34m)\u001b[0m\u001b[0;34m\u001b[0m\u001b[0;34m\u001b[0m\u001b[0m\n\u001b[1;32m    341\u001b[0m         \u001b[0;32mif\u001b[0m \u001b[0mend\u001b[0m \u001b[0;34m!=\u001b[0m \u001b[0mlen\u001b[0m\u001b[0;34m(\u001b[0m\u001b[0ms\u001b[0m\u001b[0;34m)\u001b[0m\u001b[0;34m:\u001b[0m\u001b[0;34m\u001b[0m\u001b[0;34m\u001b[0m\u001b[0m\n",
            "\u001b[0;32m/usr/lib/python3.6/json/decoder.py\u001b[0m in \u001b[0;36mraw_decode\u001b[0;34m(self, s, idx)\u001b[0m\n\u001b[1;32m    353\u001b[0m         \"\"\"\n\u001b[1;32m    354\u001b[0m         \u001b[0;32mtry\u001b[0m\u001b[0;34m:\u001b[0m\u001b[0;34m\u001b[0m\u001b[0;34m\u001b[0m\u001b[0m\n\u001b[0;32m--> 355\u001b[0;31m             \u001b[0mobj\u001b[0m\u001b[0;34m,\u001b[0m \u001b[0mend\u001b[0m \u001b[0;34m=\u001b[0m \u001b[0mself\u001b[0m\u001b[0;34m.\u001b[0m\u001b[0mscan_once\u001b[0m\u001b[0;34m(\u001b[0m\u001b[0ms\u001b[0m\u001b[0;34m,\u001b[0m \u001b[0midx\u001b[0m\u001b[0;34m)\u001b[0m\u001b[0;34m\u001b[0m\u001b[0;34m\u001b[0m\u001b[0m\n\u001b[0m\u001b[1;32m    356\u001b[0m         \u001b[0;32mexcept\u001b[0m \u001b[0mStopIteration\u001b[0m \u001b[0;32mas\u001b[0m \u001b[0merr\u001b[0m\u001b[0;34m:\u001b[0m\u001b[0;34m\u001b[0m\u001b[0;34m\u001b[0m\u001b[0m\n\u001b[1;32m    357\u001b[0m             \u001b[0;32mraise\u001b[0m \u001b[0mJSONDecodeError\u001b[0m\u001b[0;34m(\u001b[0m\u001b[0;34m\"Expecting value\"\u001b[0m\u001b[0;34m,\u001b[0m \u001b[0ms\u001b[0m\u001b[0;34m,\u001b[0m \u001b[0merr\u001b[0m\u001b[0;34m.\u001b[0m\u001b[0mvalue\u001b[0m\u001b[0;34m)\u001b[0m \u001b[0;32mfrom\u001b[0m \u001b[0;32mNone\u001b[0m\u001b[0;34m\u001b[0m\u001b[0;34m\u001b[0m\u001b[0m\n",
            "\u001b[0;31mKeyboardInterrupt\u001b[0m: "
          ]
        }
      ]
    },
    {
      "cell_type": "code",
      "metadata": {
        "id": "UPVrpXYT5JsF",
        "colab_type": "code",
        "colab": {
          "base_uri": "https://localhost:8080/",
          "height": 802
        },
        "outputId": "75dd96e3-41bc-4fed-ad4a-13864b26b377"
      },
      "source": [
        "'''csv_dates=[]\n",
        "csv_states=[]\n",
        "csv_total_cases=[]\n",
        "csv_cum_recovered=[]\n",
        "csv_daily_recovered=[]\n",
        "csv_cum_deceased=[]\n",
        "csv_daily_deceased=[]\n",
        "csv_positivity_rate_cumulative=[]\n",
        "csv_daily_positive_cases=[]\n",
        "csv_daily_positivity_rate=[]\n",
        "csv_daily_positive_cases_ma=[]\n",
        "csv_daily_positivity_rate_ma=[]\n",
        "csv_test_per_million=[]\n",
        "csv_daily_tested=[]\n",
        "csv_cum_tested=[]\n",
        "for x in t:\n",
        "  temp = json.load(open('test.json'))[x]\n",
        "  temp1 = json.load(open('positivity_Rate_dist.json'))\n",
        "  states={}\n",
        "  for j in state_id.keys():\n",
        "    for k in state_id[j]:\n",
        "      #k=state_id[j]\n",
        "      print(k)\n",
        "      test_per_million = temp1[k]['test_per_million']\n",
        "      pos_cum = temp1[k]['cum_positive_cases']\n",
        "      pos_rate_cum = temp1[k]['cum_positivity_rate']\n",
        "      daily_pos = temp1[k]['daily_positive_cases']\n",
        "      daily_pos_ma = temp1[k]['daily_positive_cases_ma']\n",
        "      daily_pos_rate = temp1[k]['daily_positivity_rate']\n",
        "      daily_pos_rate_ma = temp1[k]['daily_positivity_rate_ma']\n",
        "      tested_cum = temp1[k]['cum_tests']\n",
        "      daily_tested = temp1[k]['daily_tests']\n",
        "      deceased_cum = temp1[k]['cum_deceased']\n",
        "      daily_deceased = temp1[k]['daily_deceased']\n",
        "      recovered_cum = temp1[k]['cum_recovered']\n",
        "      daily_recovered = temp1[k]['daily_recovered'] \n",
        "\n",
        "      dates=temp1[k]['dates']\n",
        "      if convert(x) not in dates :\n",
        "        print(1)\n",
        "        dates.append(convert(x))\n",
        "        test_per_million.append('')\n",
        "        pos_cum.append('')\n",
        "        pos_rate_cum.append('')\n",
        "        daily_pos.append('')\n",
        "        daily_pos_ma.append('')\n",
        "        daily_pos_rate.append('')\n",
        "        daily_pos_rate_ma.append('')\n",
        "        tested_cum.append('')\n",
        "        daily_tested.append('')\n",
        "        deceased_cum.append('')\n",
        "        daily_deceased.append('')\n",
        "        recovered_cum.append('')\n",
        "        daily_recovered.append('')\n",
        "        i=len(dates)-1\n",
        "      for l in range(len(dates)):\n",
        "        if convert(x)==dates[l]:\n",
        "          i=l\n",
        "          break\n",
        "      \n",
        "\n",
        "      if k in temp1.keys():\n",
        "          if 'total' in temp[j]['districts'][k].keys():\n",
        "            if 'confirmed' in temp[j]['districts'][k]['total'].keys():\n",
        "              pos_cum[i]=temp[j]['districts'][k]['total']['confirmed']\n",
        "\n",
        "            if 'tested' in temp[j]['districts'][k]['total'].keys():\n",
        "              tested_cum[i]=abs(temp[j]['districts'][k]['total']['tested'])\n",
        "              test_per_million[i]=temp[j]['districts'][k]['total']['tested']*1000000/int(population[\"Population\"][k])\n",
        "                \n",
        "            if 'deceased' in temp[j]['districts'][k]['total'].keys():\n",
        "              deceased_cum[i]=temp[j]['districts'][k]['total']['deceased']\n",
        "            \n",
        "            if 'recovered' in temp[j]['districts'][k]['total'].keys():\n",
        "              recovered_cum[i]=temp[j]['districts'][k]['total']['recovered']\n",
        "            \n",
        "            if len(str(pos_cum[i])) and len(str(tested_cum[i])):\n",
        "              pos_rate_cum[i]= pos_cum[i]*100/tested_cum[i]\n",
        "\n",
        "          if 'delta' in temp[j].keys():\n",
        "            if 'confirmed' in temp[j]['districts'][k]['delta'].keys():\n",
        "              daily_pos[i]=temp[j]['districts'][k]['delta']['confirmed']\n",
        "\n",
        "            if 'tested' in temp[j]['districts'][k]['delta'].keys():\n",
        "              daily_tested[i]=abs(temp[j]['districts'][k]['delta']['tested'])\n",
        "            \n",
        "            if 'deceased' in temp[j]['districts'][k]['delta'].keys():\n",
        "              daily_deceased[i]=temp[j]['districts'][k]['delta']['deceased']\n",
        "            \n",
        "            if 'recovered' in temp[j]['districts'][k]['delta'].keys():\n",
        "              daily_recovered[i]=temp[j]['districts'][k]['delta']['recovered']\n",
        "            \n",
        "            if len(str(daily_pos[i])) and len(str(daily_tested[i])):\n",
        "              daily_pos_rate[i]=int(daily_pos[i])*100/int(daily_tested[i])\n",
        "\n",
        "      for w in range(7,len(daily_pos)):\n",
        "        sum1=0\n",
        "        sum2=0\n",
        "        for s in range(7):\n",
        "          if (len(str(daily_pos[w-s]))!=0 and len(str(daily_tested[w-s]))!=0):\n",
        "            sum1+=int(daily_pos[w-s])\n",
        "            sum2+=int(daily_tested[w-s])\n",
        "        if (sum2!=0):\n",
        "          daily_pos_rate_ma[w]=sum1*100/abs(sum2)\n",
        "      \n",
        "      for w in range(7,len(daily_pos)):\n",
        "        sum1=0\n",
        "        count=0\n",
        "        for s in range(7):\n",
        "          if (len(str(daily_pos[w-s]))!=0):\n",
        "            sum1+=int(daily_pos[w-s])\n",
        "            count+=1\n",
        "        if count!=0:\n",
        "          daily_pos_ma[w]=sum1/count\n",
        "\n",
        "      st=k\n",
        "      for i in range(len(dates)):\n",
        "        csv_dates.append(dates[i])\n",
        "        csv_states.append(st)\n",
        "        csv_total_cases.append(pos_cum[i])\n",
        "        csv_positivity_rate_cumulative.append(pos_rate_cum[i])\n",
        "        csv_daily_positive_cases.append(daily_pos[i])\n",
        "        csv_cum_recovered.append(recovered_cum[i])\n",
        "        csv_daily_recovered.append(daily_recovered[i])\n",
        "        csv_cum_deceased.append(deceased_cum[i])\n",
        "        csv_daily_deceased.append(daily_deceased[i])\n",
        "        csv_daily_positivity_rate.append(daily_pos_rate[i])\n",
        "        csv_daily_positive_cases_ma.append(daily_pos_ma[i])\n",
        "        csv_daily_positivity_rate_ma.append(daily_pos_rate_ma[i])\n",
        "        csv_daily_tested.append(daily_tested[i])\n",
        "        csv_cum_tested.append(tested_cum[i])\n",
        "        csv_test_per_million.append(test_per_million[i])\n",
        "      #print(st)\n",
        "      states[st]={\n",
        "                      'dates':dates,\n",
        "                      'cum_positive_cases':pos_cum,\n",
        "                      'cum_positivity_rate':pos_rate_cum,\n",
        "                      'daily_positive_cases':daily_pos,\n",
        "                      'cum_recovered':recovered_cum,\n",
        "                      'daily_recovered':daily_recovered,\n",
        "                      'cum_deceased':deceased_cum,\n",
        "                      'daily_deceased':daily_deceased,\n",
        "                      'daily_positivity_rate':daily_pos_rate,\n",
        "                      'daily_positive_cases_ma': daily_pos_ma,\n",
        "                      'daily_positivity_rate_ma':daily_pos_rate_ma , \n",
        "                      'daily_tests': daily_tested,\n",
        "                      'cum_tests': tested_cum,\n",
        "                      'test_per_million':test_per_million,    \n",
        "                }\n",
        "    states['datetime']=str(datetime.now(pytz.timezone('Asia/Kolkata')))\n",
        "    with open('positivity_Rate_dist.json', 'w') as outfile:\n",
        "      json.dump(states, outfile,indent=4)'''"
      ],
      "execution_count": null,
      "outputs": [
        {
          "output_type": "stream",
          "text": [
            "Ahmedabad\n",
            "Surat\n",
            "Anantapur\n",
            "Chittoor\n",
            "East Godavari\n",
            "Guntur\n",
            "Kurnool\n",
            "West Godavari\n",
            "Aurangabad\n",
            "Jalgaon\n",
            "Mumbai\n",
            "Nashik\n",
            "Palghar\n",
            "Pune\n",
            "Raigad\n",
            "Solapur\n",
            "Thane\n",
            "Bengaluru Urban\n",
            "Chengalpattu\n",
            "Chennai\n",
            "Kancheepuram\n",
            "Madurai\n",
            "Thiruvallur\n",
            "Tiruvannamalai\n",
            "Vellore\n",
            "Faridabad\n",
            "Gurugram\n",
            "Ganjam\n",
            "Gautam Buddha Nagar\n",
            "Ghaziabad\n",
            "Hyderabad\n"
          ],
          "name": "stdout"
        },
        {
          "output_type": "error",
          "ename": "KeyError",
          "evalue": "ignored",
          "traceback": [
            "\u001b[0;31m---------------------------------------------------------------------------\u001b[0m",
            "\u001b[0;31mKeyError\u001b[0m                                  Traceback (most recent call last)",
            "\u001b[0;32m<ipython-input-96-35879afec5e1>\u001b[0m in \u001b[0;36m<module>\u001b[0;34m()\u001b[0m\n\u001b[1;32m     61\u001b[0m \u001b[0;34m\u001b[0m\u001b[0m\n\u001b[1;32m     62\u001b[0m       \u001b[0;32mif\u001b[0m \u001b[0mk\u001b[0m \u001b[0;32min\u001b[0m \u001b[0mtemp1\u001b[0m\u001b[0;34m.\u001b[0m\u001b[0mkeys\u001b[0m\u001b[0;34m(\u001b[0m\u001b[0;34m)\u001b[0m\u001b[0;34m:\u001b[0m\u001b[0;34m\u001b[0m\u001b[0;34m\u001b[0m\u001b[0m\n\u001b[0;32m---> 63\u001b[0;31m           \u001b[0;32mif\u001b[0m \u001b[0;34m'total'\u001b[0m \u001b[0;32min\u001b[0m \u001b[0mtemp\u001b[0m\u001b[0;34m[\u001b[0m\u001b[0mj\u001b[0m\u001b[0;34m]\u001b[0m\u001b[0;34m[\u001b[0m\u001b[0;34m'districts'\u001b[0m\u001b[0;34m]\u001b[0m\u001b[0;34m[\u001b[0m\u001b[0mk\u001b[0m\u001b[0;34m]\u001b[0m\u001b[0;34m.\u001b[0m\u001b[0mkeys\u001b[0m\u001b[0;34m(\u001b[0m\u001b[0;34m)\u001b[0m\u001b[0;34m:\u001b[0m\u001b[0;34m\u001b[0m\u001b[0;34m\u001b[0m\u001b[0m\n\u001b[0m\u001b[1;32m     64\u001b[0m             \u001b[0;32mif\u001b[0m \u001b[0;34m'confirmed'\u001b[0m \u001b[0;32min\u001b[0m \u001b[0mtemp\u001b[0m\u001b[0;34m[\u001b[0m\u001b[0mj\u001b[0m\u001b[0;34m]\u001b[0m\u001b[0;34m[\u001b[0m\u001b[0;34m'districts'\u001b[0m\u001b[0;34m]\u001b[0m\u001b[0;34m[\u001b[0m\u001b[0mk\u001b[0m\u001b[0;34m]\u001b[0m\u001b[0;34m[\u001b[0m\u001b[0;34m'total'\u001b[0m\u001b[0;34m]\u001b[0m\u001b[0;34m.\u001b[0m\u001b[0mkeys\u001b[0m\u001b[0;34m(\u001b[0m\u001b[0;34m)\u001b[0m\u001b[0;34m:\u001b[0m\u001b[0;34m\u001b[0m\u001b[0;34m\u001b[0m\u001b[0m\n\u001b[1;32m     65\u001b[0m               \u001b[0mpos_cum\u001b[0m\u001b[0;34m[\u001b[0m\u001b[0mi\u001b[0m\u001b[0;34m]\u001b[0m\u001b[0;34m=\u001b[0m\u001b[0mtemp\u001b[0m\u001b[0;34m[\u001b[0m\u001b[0mj\u001b[0m\u001b[0;34m]\u001b[0m\u001b[0;34m[\u001b[0m\u001b[0;34m'districts'\u001b[0m\u001b[0;34m]\u001b[0m\u001b[0;34m[\u001b[0m\u001b[0mk\u001b[0m\u001b[0;34m]\u001b[0m\u001b[0;34m[\u001b[0m\u001b[0;34m'total'\u001b[0m\u001b[0;34m]\u001b[0m\u001b[0;34m[\u001b[0m\u001b[0;34m'confirmed'\u001b[0m\u001b[0;34m]\u001b[0m\u001b[0;34m\u001b[0m\u001b[0;34m\u001b[0m\u001b[0m\n",
            "\u001b[0;31mKeyError\u001b[0m: 'Hyderabad'"
          ]
        }
      ]
    },
    {
      "cell_type": "code",
      "metadata": {
        "id": "TQ0nSiskMEXa",
        "colab_type": "code",
        "colab": {}
      },
      "source": [
        "states['datetime']=str(datetime.now(pytz.timezone('Asia/Kolkata')))\n",
        "with open('positivity_Rate_dist.json', 'w') as outfile:\n",
        "    json.dump(states, outfile,indent=4)"
      ],
      "execution_count": null,
      "outputs": []
    },
    {
      "cell_type": "code",
      "metadata": {
        "id": "cGNKh4fFkNEX",
        "colab_type": "code",
        "colab": {}
      },
      "source": [
        "df=pd.DataFrame()\n",
        "\n",
        "df['dates']=csv_dates\n",
        "df['state']=csv_states\n",
        "df['cum_positive_cases']=csv_total_cases\n",
        "df['cum_positivity_rate']=csv_positivity_rate_cumulative\n",
        "df['cum_recovered']=csv_cum_recovered\n",
        "df['daily_recovered']:csv_daily_recovered\n",
        "df['cum_deceased']=csv_cum_deceased\n",
        "df['daily_deceased']:daily_deceased\n",
        "df['daily_positive_cases']=csv_daily_positive_cases\n",
        "df['daily_positivity_rate']=csv_daily_positivity_rate\n",
        "df['daily_positive_cases_ma']=csv_daily_positive_cases_ma\n",
        "df['daily_positivity_rate_ma']=    csv_daily_positivity_rate_ma\n",
        "df['daily_tests']=csv_daily_tested\n",
        "df['cum_tested']=csv_cum_tested\n",
        "df['test_per_million']=csv_test_per_million\n",
        "\n",
        "#New\n",
        "#New\n",
        "df['daily_cases_per_million'] = csv_daily_case_per_million\n",
        "df['daily_tests_per_million'] = csv_daily_test_per_million\n",
        "df['daily_tests_ma'] = csv_daily_test_ma\n",
        "df['daily_deceased_ma'] = csv_daily_deceased_ma\n",
        "\n",
        "df.to_csv('positivity_Rate_dist.csv',index=False)"
      ],
      "execution_count": null,
      "outputs": []
    },
    {
      "cell_type": "code",
      "metadata": {
        "id": "KiTQ0sj5FaZr",
        "colab_type": "code",
        "colab": {
          "base_uri": "https://localhost:8080/",
          "height": 617
        },
        "outputId": "51bd62fc-4c26-412f-ed24-52db52a06101"
      },
      "source": [
        "df"
      ],
      "execution_count": null,
      "outputs": [
        {
          "output_type": "execute_result",
          "data": {
            "text/html": [
              "<div>\n",
              "<style scoped>\n",
              "    .dataframe tbody tr th:only-of-type {\n",
              "        vertical-align: middle;\n",
              "    }\n",
              "\n",
              "    .dataframe tbody tr th {\n",
              "        vertical-align: top;\n",
              "    }\n",
              "\n",
              "    .dataframe thead th {\n",
              "        text-align: right;\n",
              "    }\n",
              "</style>\n",
              "<table border=\"1\" class=\"dataframe\">\n",
              "  <thead>\n",
              "    <tr style=\"text-align: right;\">\n",
              "      <th></th>\n",
              "      <th>dates</th>\n",
              "      <th>state</th>\n",
              "      <th>cum_positive_cases</th>\n",
              "      <th>cum_positivity_rate</th>\n",
              "      <th>cum_recovered</th>\n",
              "      <th>cum_deceased</th>\n",
              "      <th>daily_positive_cases</th>\n",
              "      <th>daily_positivity_rate</th>\n",
              "      <th>daily_positive_cases_ma</th>\n",
              "      <th>daily_positivity_rate_ma</th>\n",
              "      <th>daily_tests</th>\n",
              "      <th>cum_tested</th>\n",
              "      <th>test_per_million</th>\n",
              "      <th>daily_cases_per_million</th>\n",
              "      <th>daily_tests_per_million</th>\n",
              "      <th>daily_tests_ma</th>\n",
              "      <th>daily_deceased_ma</th>\n",
              "    </tr>\n",
              "  </thead>\n",
              "  <tbody>\n",
              "    <tr>\n",
              "      <th>0</th>\n",
              "      <td>31 January</td>\n",
              "      <td>Ahmedabad</td>\n",
              "      <td></td>\n",
              "      <td></td>\n",
              "      <td></td>\n",
              "      <td></td>\n",
              "      <td></td>\n",
              "      <td></td>\n",
              "      <td></td>\n",
              "      <td></td>\n",
              "      <td></td>\n",
              "      <td></td>\n",
              "      <td></td>\n",
              "      <td></td>\n",
              "      <td></td>\n",
              "      <td></td>\n",
              "      <td></td>\n",
              "    </tr>\n",
              "    <tr>\n",
              "      <th>1</th>\n",
              "      <td>01 February</td>\n",
              "      <td>Ahmedabad</td>\n",
              "      <td></td>\n",
              "      <td></td>\n",
              "      <td></td>\n",
              "      <td></td>\n",
              "      <td></td>\n",
              "      <td></td>\n",
              "      <td></td>\n",
              "      <td></td>\n",
              "      <td></td>\n",
              "      <td></td>\n",
              "      <td></td>\n",
              "      <td></td>\n",
              "      <td></td>\n",
              "      <td></td>\n",
              "      <td></td>\n",
              "    </tr>\n",
              "    <tr>\n",
              "      <th>2</th>\n",
              "      <td>02 February</td>\n",
              "      <td>Ahmedabad</td>\n",
              "      <td></td>\n",
              "      <td></td>\n",
              "      <td></td>\n",
              "      <td></td>\n",
              "      <td></td>\n",
              "      <td></td>\n",
              "      <td></td>\n",
              "      <td></td>\n",
              "      <td></td>\n",
              "      <td></td>\n",
              "      <td></td>\n",
              "      <td></td>\n",
              "      <td></td>\n",
              "      <td></td>\n",
              "      <td></td>\n",
              "    </tr>\n",
              "    <tr>\n",
              "      <th>3</th>\n",
              "      <td>03 February</td>\n",
              "      <td>Ahmedabad</td>\n",
              "      <td></td>\n",
              "      <td></td>\n",
              "      <td></td>\n",
              "      <td></td>\n",
              "      <td></td>\n",
              "      <td></td>\n",
              "      <td></td>\n",
              "      <td></td>\n",
              "      <td></td>\n",
              "      <td></td>\n",
              "      <td></td>\n",
              "      <td></td>\n",
              "      <td></td>\n",
              "      <td></td>\n",
              "      <td></td>\n",
              "    </tr>\n",
              "    <tr>\n",
              "      <th>4</th>\n",
              "      <td>04 February</td>\n",
              "      <td>Ahmedabad</td>\n",
              "      <td></td>\n",
              "      <td></td>\n",
              "      <td></td>\n",
              "      <td></td>\n",
              "      <td></td>\n",
              "      <td></td>\n",
              "      <td></td>\n",
              "      <td></td>\n",
              "      <td></td>\n",
              "      <td></td>\n",
              "      <td></td>\n",
              "      <td></td>\n",
              "      <td></td>\n",
              "      <td></td>\n",
              "      <td></td>\n",
              "    </tr>\n",
              "    <tr>\n",
              "      <th>...</th>\n",
              "      <td>...</td>\n",
              "      <td>...</td>\n",
              "      <td>...</td>\n",
              "      <td>...</td>\n",
              "      <td>...</td>\n",
              "      <td>...</td>\n",
              "      <td>...</td>\n",
              "      <td>...</td>\n",
              "      <td>...</td>\n",
              "      <td>...</td>\n",
              "      <td>...</td>\n",
              "      <td>...</td>\n",
              "      <td>...</td>\n",
              "      <td>...</td>\n",
              "      <td>...</td>\n",
              "      <td>...</td>\n",
              "      <td>...</td>\n",
              "    </tr>\n",
              "    <tr>\n",
              "      <th>188</th>\n",
              "      <td>06 August</td>\n",
              "      <td>Ahmedabad</td>\n",
              "      <td>27434</td>\n",
              "      <td>8.60899</td>\n",
              "      <td>22152</td>\n",
              "      <td>1622</td>\n",
              "      <td>151</td>\n",
              "      <td>1.54413</td>\n",
              "      <td>156.143</td>\n",
              "      <td>1.52835</td>\n",
              "      <td>9779</td>\n",
              "      <td>318667</td>\n",
              "      <td>44172</td>\n",
              "      <td>143.328</td>\n",
              "      <td>3405.63</td>\n",
              "      <td>10216.4</td>\n",
              "      <td>4.14286</td>\n",
              "    </tr>\n",
              "    <tr>\n",
              "      <th>189</th>\n",
              "      <td>07 August</td>\n",
              "      <td>Ahmedabad</td>\n",
              "      <td>27587</td>\n",
              "      <td>8.39192</td>\n",
              "      <td>22272</td>\n",
              "      <td>1625</td>\n",
              "      <td>153</td>\n",
              "      <td>1.51997</td>\n",
              "      <td>152.857</td>\n",
              "      <td>1.52415</td>\n",
              "      <td>10066</td>\n",
              "      <td>328733</td>\n",
              "      <td>45567.3</td>\n",
              "      <td>148.873</td>\n",
              "      <td>3685.91</td>\n",
              "      <td>10029</td>\n",
              "      <td>4</td>\n",
              "    </tr>\n",
              "    <tr>\n",
              "      <th>190</th>\n",
              "      <td>08 August</td>\n",
              "      <td>Ahmedabad</td>\n",
              "      <td>27745</td>\n",
              "      <td>8.20125</td>\n",
              "      <td>22393</td>\n",
              "      <td>1630</td>\n",
              "      <td>158</td>\n",
              "      <td>1.65117</td>\n",
              "      <td>154.571</td>\n",
              "      <td>1.56864</td>\n",
              "      <td>9569</td>\n",
              "      <td>338302</td>\n",
              "      <td>46893.7</td>\n",
              "      <td>152.615</td>\n",
              "      <td>3641.69</td>\n",
              "      <td>9853.86</td>\n",
              "      <td>4.14286</td>\n",
              "    </tr>\n",
              "    <tr>\n",
              "      <th>191</th>\n",
              "      <td>09 August</td>\n",
              "      <td>Ahmedabad</td>\n",
              "      <td>27898</td>\n",
              "      <td>7.98014</td>\n",
              "      <td>22499</td>\n",
              "      <td>1633</td>\n",
              "      <td>153</td>\n",
              "      <td>1.35506</td>\n",
              "      <td>154.286</td>\n",
              "      <td>1.5528</td>\n",
              "      <td>11291</td>\n",
              "      <td>349593</td>\n",
              "      <td>48458.8</td>\n",
              "      <td>149.427</td>\n",
              "      <td>4294.99</td>\n",
              "      <td>9936</td>\n",
              "      <td>4.28571</td>\n",
              "    </tr>\n",
              "    <tr>\n",
              "      <th>192</th>\n",
              "      <td>10 August</td>\n",
              "      <td>Ahmedabad</td>\n",
              "      <td>27898</td>\n",
              "      <td>7.98014</td>\n",
              "      <td>22499</td>\n",
              "      <td>1633</td>\n",
              "      <td></td>\n",
              "      <td></td>\n",
              "      <td>154.833</td>\n",
              "      <td>1.53176</td>\n",
              "      <td></td>\n",
              "      <td>349593</td>\n",
              "      <td>48458.8</td>\n",
              "      <td></td>\n",
              "      <td></td>\n",
              "      <td>10108.2</td>\n",
              "      <td>4</td>\n",
              "    </tr>\n",
              "  </tbody>\n",
              "</table>\n",
              "<p>193 rows × 17 columns</p>\n",
              "</div>"
            ],
            "text/plain": [
              "           dates      state  ... daily_tests_ma daily_deceased_ma\n",
              "0     31 January  Ahmedabad  ...                                 \n",
              "1    01 February  Ahmedabad  ...                                 \n",
              "2    02 February  Ahmedabad  ...                                 \n",
              "3    03 February  Ahmedabad  ...                                 \n",
              "4    04 February  Ahmedabad  ...                                 \n",
              "..           ...        ...  ...            ...               ...\n",
              "188    06 August  Ahmedabad  ...        10216.4           4.14286\n",
              "189    07 August  Ahmedabad  ...          10029                 4\n",
              "190    08 August  Ahmedabad  ...        9853.86           4.14286\n",
              "191    09 August  Ahmedabad  ...           9936           4.28571\n",
              "192    10 August  Ahmedabad  ...        10108.2                 4\n",
              "\n",
              "[193 rows x 17 columns]"
            ]
          },
          "metadata": {
            "tags": []
          },
          "execution_count": 26
        }
      ]
    },
    {
      "cell_type": "code",
      "metadata": {
        "id": "tLk2A1Qvt6zN",
        "colab_type": "code",
        "colab": {
          "base_uri": "https://localhost:8080/",
          "height": 174
        },
        "outputId": "6a29912b-8edc-40b9-8b0c-02f295cc5611"
      },
      "source": [
        "df_to_concat = copy.deepcopy(df)"
      ],
      "execution_count": null,
      "outputs": [
        {
          "output_type": "error",
          "ename": "NameError",
          "evalue": "ignored",
          "traceback": [
            "\u001b[0;31m---------------------------------------------------------------------------\u001b[0m",
            "\u001b[0;31mNameError\u001b[0m                                 Traceback (most recent call last)",
            "\u001b[0;32m<ipython-input-27-7261a1163c08>\u001b[0m in \u001b[0;36m<module>\u001b[0;34m()\u001b[0m\n\u001b[0;32m----> 1\u001b[0;31m \u001b[0mdf_to_concat\u001b[0m \u001b[0;34m=\u001b[0m \u001b[0mcopy\u001b[0m\u001b[0;34m.\u001b[0m\u001b[0mdeepcopy\u001b[0m\u001b[0;34m(\u001b[0m\u001b[0mdf\u001b[0m\u001b[0;34m)\u001b[0m\u001b[0;34m\u001b[0m\u001b[0;34m\u001b[0m\u001b[0m\n\u001b[0m",
            "\u001b[0;31mNameError\u001b[0m: name 'copy' is not defined"
          ]
        }
      ]
    },
    {
      "cell_type": "code",
      "metadata": {
        "id": "iss2vxWpv7kq",
        "colab_type": "code",
        "colab": {
          "base_uri": "https://localhost:8080/",
          "height": 268
        },
        "outputId": "984a7ea5-1ba4-45be-af50-679faca747b8"
      },
      "source": [
        "data_recovered = pd.DataFrame()\n",
        "districts=[]\n",
        "data_deceased = pd.DataFrame()\n",
        "data_confirmed = pd.DataFrame()\n",
        "for s in state_id.keys():\n",
        "    st=state_id[s]\n",
        "    districts+=st\n",
        "    print(st)\n",
        "    for k in st:\n",
        "      data_confirmed[k] = np.array(states[k]['daily_positive_cases'])\n",
        "      data_deceased[k] = np.array(states[k]['daily_deceased'])\n",
        "      data_recovered[k] = np.array(states[k]['daily_recovered'])"
      ],
      "execution_count": null,
      "outputs": [
        {
          "output_type": "stream",
          "text": [
            "['Ahmedabad', 'Surat']\n"
          ],
          "name": "stdout"
        },
        {
          "output_type": "error",
          "ename": "KeyError",
          "evalue": "ignored",
          "traceback": [
            "\u001b[0;31m---------------------------------------------------------------------------\u001b[0m",
            "\u001b[0;31mKeyError\u001b[0m                                  Traceback (most recent call last)",
            "\u001b[0;32m<ipython-input-24-e668e2a7149b>\u001b[0m in \u001b[0;36m<module>\u001b[0;34m()\u001b[0m\n\u001b[1;32m      8\u001b[0m     \u001b[0mprint\u001b[0m\u001b[0;34m(\u001b[0m\u001b[0mst\u001b[0m\u001b[0;34m)\u001b[0m\u001b[0;34m\u001b[0m\u001b[0;34m\u001b[0m\u001b[0m\n\u001b[1;32m      9\u001b[0m     \u001b[0;32mfor\u001b[0m \u001b[0mk\u001b[0m \u001b[0;32min\u001b[0m \u001b[0mst\u001b[0m\u001b[0;34m:\u001b[0m\u001b[0;34m\u001b[0m\u001b[0;34m\u001b[0m\u001b[0m\n\u001b[0;32m---> 10\u001b[0;31m       \u001b[0mdata_confirmed\u001b[0m\u001b[0;34m[\u001b[0m\u001b[0mk\u001b[0m\u001b[0;34m]\u001b[0m \u001b[0;34m=\u001b[0m \u001b[0mnp\u001b[0m\u001b[0;34m.\u001b[0m\u001b[0marray\u001b[0m\u001b[0;34m(\u001b[0m\u001b[0mstates\u001b[0m\u001b[0;34m[\u001b[0m\u001b[0mk\u001b[0m\u001b[0;34m]\u001b[0m\u001b[0;34m[\u001b[0m\u001b[0;34m'daily_positive_cases'\u001b[0m\u001b[0;34m]\u001b[0m\u001b[0;34m)\u001b[0m\u001b[0;34m\u001b[0m\u001b[0;34m\u001b[0m\u001b[0m\n\u001b[0m\u001b[1;32m     11\u001b[0m       \u001b[0mdata_deceased\u001b[0m\u001b[0;34m[\u001b[0m\u001b[0mk\u001b[0m\u001b[0;34m]\u001b[0m \u001b[0;34m=\u001b[0m \u001b[0mnp\u001b[0m\u001b[0;34m.\u001b[0m\u001b[0marray\u001b[0m\u001b[0;34m(\u001b[0m\u001b[0mstates\u001b[0m\u001b[0;34m[\u001b[0m\u001b[0mk\u001b[0m\u001b[0;34m]\u001b[0m\u001b[0;34m[\u001b[0m\u001b[0;34m'daily_deceased'\u001b[0m\u001b[0;34m]\u001b[0m\u001b[0;34m)\u001b[0m\u001b[0;34m\u001b[0m\u001b[0;34m\u001b[0m\u001b[0m\n\u001b[1;32m     12\u001b[0m       \u001b[0mdata_recovered\u001b[0m\u001b[0;34m[\u001b[0m\u001b[0mk\u001b[0m\u001b[0;34m]\u001b[0m \u001b[0;34m=\u001b[0m \u001b[0mnp\u001b[0m\u001b[0;34m.\u001b[0m\u001b[0marray\u001b[0m\u001b[0;34m(\u001b[0m\u001b[0mstates\u001b[0m\u001b[0;34m[\u001b[0m\u001b[0mk\u001b[0m\u001b[0;34m]\u001b[0m\u001b[0;34m[\u001b[0m\u001b[0;34m'daily_recovered'\u001b[0m\u001b[0;34m]\u001b[0m\u001b[0;34m)\u001b[0m\u001b[0;34m\u001b[0m\u001b[0;34m\u001b[0m\u001b[0m\n",
            "\u001b[0;31mKeyError\u001b[0m: 'Surat'"
          ]
        }
      ]
    },
    {
      "cell_type": "markdown",
      "metadata": {
        "id": "qa8JfE_DF_c1",
        "colab_type": "text"
      },
      "source": [
        "#CFR"
      ]
    },
    {
      "cell_type": "code",
      "metadata": {
        "id": "-D-HglEbRQif",
        "colab_type": "code",
        "colab": {}
      },
      "source": [
        "def n2z(x):\n",
        "    x[np.logical_or(np.isnan(x),np.isinf(x))] = 0\n",
        "    return x"
      ],
      "execution_count": null,
      "outputs": []
    },
    {
      "cell_type": "code",
      "metadata": {
        "id": "1106Wl0cUHQV",
        "colab_type": "code",
        "colab": {}
      },
      "source": [
        "dates=dates[1:]"
      ],
      "execution_count": null,
      "outputs": []
    },
    {
      "cell_type": "code",
      "metadata": {
        "id": "drgecThKRS-h",
        "colab_type": "code",
        "colab": {}
      },
      "source": [
        "data_recovered = data_recovered.replace(r'^\\s*$', np.NaN, regex=True).fillna(0)\n",
        "data_recovered = data_recovered.astype(np.int32)\n",
        "data_confirmed = data_confirmed.replace(r'^\\s*$', np.NaN, regex=True).fillna(0)\n",
        "data_confirmed = data_confirmed.astype(np.int32)\n",
        "data_deceased = data_deceased.replace(r'^\\s*$', np.NaN, regex=True).fillna(0)\n",
        "data_deceased = data_deceased.astype(np.int32)\n",
        "data_deceased['date'] = dates\n",
        "data_recovered['date'] = dates\n",
        "data_confirmed['date'] = dates"
      ],
      "execution_count": null,
      "outputs": []
    },
    {
      "cell_type": "code",
      "metadata": {
        "id": "RbeAytADS2b6",
        "colab_type": "code",
        "colab": {
          "base_uri": "https://localhost:8080/",
          "height": 723
        },
        "outputId": "22419be6-fe5b-4799-f202-1bd4e1b96e8b"
      },
      "source": [
        "json_data={}\n",
        "cfr = pd.DataFrame()\n",
        "final=pd.DataFrame()\n",
        "plt.figure(1, figsize=(15, 7))\n",
        "for st in districts:\n",
        "    state=st\n",
        "    boots = 100\n",
        "    conf = []\n",
        "    for n in range(boots):\n",
        "        #print(\"Iteration: \",n+1,end='\\r')\n",
        "        dataset = np.copy(data_confirmed[state].values)\n",
        "        mean = 13.0+(20.9-8.7)/4*np.random.normal()\n",
        "        sd = 12.7+(26.0-6.4)/4*np.random.normal()\n",
        "        phi = np.sqrt(sd**2 + mean**2)\n",
        "        mu = np.log(mean**2/phi)\n",
        "        sigma = np.sqrt(np.log(phi**2/mean**2))\n",
        "        L = lognorm(s=sigma,scale=np.exp(mu))\n",
        "        for i in range(len(dataset)-1,-1,-1):\n",
        "            send_forward = np.round(L.rvs(np.max([dataset[i],0])))\n",
        "            send_forward = send_forward[i+send_forward<len(dataset)]\n",
        "            dataset[i] = 0\n",
        "            for j in np.unique(np.int32(send_forward)):\n",
        "                dataset[i+j] += np.sum(send_forward==j)\n",
        "        conf.append(dataset)\n",
        "    CFR = np.cumsum(data_deceased[state].values)/np.cumsum(conf,axis=1)\n",
        "    col_mean = np.nanmean(CFR, axis=0)\n",
        "    inds = np.where(np.isnan(CFR))\n",
        "    CFR[inds] = np.take(col_mean, inds[1])\n",
        "    #temp1=list(pd.Series(dates).dt.strftime('%m-%d-%Y'))\n",
        "    #print(temp1[0])\n",
        "    temp={}\n",
        "    temp = {\n",
        "        'dates':dates1[1:],\n",
        "        'cfr1_point':list(n2z(100*np.cumsum(data_deceased[state].values)/np.cumsum(data_confirmed[state].values))),\n",
        "        'cfr2_point':list(n2z(100*np.cumsum(data_deceased[state].values)/(np.cumsum(data_deceased[state].values)+np.cumsum(data_recovered[state].values)))),\n",
        "        'cfr3_point':list(n2z(100*np.median(CFR,axis=0))),\n",
        "        'cfr3_l95':list(n2z(100*np.quantile(CFR,0.025,axis=0))),\n",
        "        'cfr3_u95':list(n2z(100*np.quantile(CFR,0.975,axis=0))),\n",
        "        'cfr3_l50':list(n2z(100*np.quantile(CFR,0.25,axis=0))),\n",
        "        'cfr3_u50':list(n2z(100*np.quantile(CFR,0.75,axis=0))),\n",
        "        }\n",
        "    a=st\n",
        "    #print(a)\n",
        "    states[state].update(temp)\n",
        "    json_data[state] = temp\n",
        "    cfr_state=pd.DataFrame()\n",
        "    cfr_state['state']=[str(a)]*(len(dates))\n",
        "    cfr_state['dates']=dates1[1:]\n",
        "    cfr_state['cfr1_point']=(list(100*n2z(np.cumsum(data_deceased[state].values)/np.cumsum(data_confirmed[state].values))))\n",
        "    cfr_state['cfr2_point']=(list(100*n2z(np.cumsum(data_deceased[state].values)/(np.cumsum(data_deceased[state].values)+np.cumsum(data_recovered[state].values)))))\n",
        "    cfr_state['cfr3_point']=(list(100*n2z(np.median(CFR,axis=0))))\n",
        "    cfr_state['cfr3_l95']=(list(100*n2z(np.quantile(CFR,0.025,axis=0))))\n",
        "    cfr_state['cfr3_u95']=(list(100*n2z(np.quantile(CFR,0.975,axis=0))))\n",
        "    cfr_state['cfr3_l50']=(list(100*n2z(np.quantile(CFR,0.25,axis=0))))\n",
        "    cfr_state['cfr3_u50']=(list(100*n2z(np.quantile(CFR,0.75,axis=0))))\n",
        "    cfr=pd.concat([cfr, cfr_state])\n",
        "      \n",
        "    plt.plot(temp['cfr3_point'],label=state)\n",
        "plt.legend()"
      ],
      "execution_count": null,
      "outputs": [
        {
          "output_type": "stream",
          "text": [
            "/usr/local/lib/python3.6/dist-packages/ipykernel_launcher.py:25: RuntimeWarning: divide by zero encountered in true_divide\n",
            "/usr/local/lib/python3.6/dist-packages/ipykernel_launcher.py:25: RuntimeWarning: invalid value encountered in true_divide\n",
            "/usr/local/lib/python3.6/dist-packages/ipykernel_launcher.py:26: RuntimeWarning: Mean of empty slice\n",
            "/usr/local/lib/python3.6/dist-packages/ipykernel_launcher.py:34: RuntimeWarning: invalid value encountered in true_divide\n",
            "/usr/local/lib/python3.6/dist-packages/ipykernel_launcher.py:35: RuntimeWarning: invalid value encountered in true_divide\n",
            "/usr/local/lib/python3.6/dist-packages/ipykernel_launcher.py:49: RuntimeWarning: invalid value encountered in true_divide\n",
            "/usr/local/lib/python3.6/dist-packages/ipykernel_launcher.py:50: RuntimeWarning: invalid value encountered in true_divide\n"
          ],
          "name": "stderr"
        },
        {
          "output_type": "execute_result",
          "data": {
            "text/plain": [
              "<matplotlib.legend.Legend at 0x7fc1bc84e438>"
            ]
          },
          "metadata": {
            "tags": []
          },
          "execution_count": 20
        },
        {
          "output_type": "display_data",
          "data": {
            "image/png": "[encoded data removed]",
            "text/plain": [
              "<Figure size 1080x504 with 1 Axes>"
            ]
          },
          "metadata": {
            "tags": [],
            "needs_background": "light"
          }
        }
      ]
    },
    {
      "cell_type": "code",
      "metadata": {
        "id": "TN3eAntGkVj1",
        "colab_type": "code",
        "colab": {}
      },
      "source": [
        "cfr.to_csv('cfr_district.csv',index=False)\n",
        "from datetime import datetime\n",
        "json_data['datetime']=str(datetime.now())"
      ],
      "execution_count": null,
      "outputs": []
    },
    {
      "cell_type": "code",
      "metadata": {
        "id": "av-31CLKqycJ",
        "colab_type": "code",
        "colab": {}
      },
      "source": [
        "json_data_indented = json.dumps(json_data, indent = 4)\n",
        "with open(\"cfr_district.json\", \"w\") as outfile: \n",
        "    outfile.write(json_data_indented)"
      ],
      "execution_count": null,
      "outputs": []
    },
    {
      "cell_type": "code",
      "metadata": {
        "id": "CgdGumeOq01N",
        "colab_type": "code",
        "colab": {}
      },
      "source": [
        "def calc_doublingtimes(x):\n",
        "    vals = []\n",
        "    for i in range(x.shape[0]):\n",
        "        for j in range(i+1,x.shape[0]):\n",
        "            if len(str(x[j])) and len(str(x[i])):\n",
        "                vals.append(np.log(2)*(j-i)/np.log(int(x[j])/int(x[i])))\n",
        "    return np.mean(vals),np.mean(vals)-1.96*np.std(vals),np.mean(vals)+1.96*np.std(vals)"
      ],
      "execution_count": null,
      "outputs": []
    },
    {
      "cell_type": "code",
      "metadata": {
        "id": "FdOL1gkeq3Ov",
        "colab_type": "code",
        "colab": {}
      },
      "source": [
        "start=datetime.now()\n",
        "x=datetime.now(pytz.timezone('Asia/Kolkata')).date()\n",
        "dd=pd.date_range(start=\"2020-01-31\",end=x)\n",
        "datess=[]\n",
        "for i in range(len(dd)):\n",
        "  datess.append((str(dd[i])[:10]))"
      ],
      "execution_count": null,
      "outputs": []
    },
    {
      "cell_type": "code",
      "metadata": {
        "id": "ncybvtl2q5UA",
        "colab_type": "code",
        "colab": {
          "base_uri": "https://localhost:8080/",
          "height": 35
        },
        "outputId": "3f8e5c0e-c318-49cf-8db6-bc2f10b4e62d"
      },
      "source": [
        "'''dates1=[]\n",
        "for w in range (len(dates)):\n",
        "  if len(dates[w]):\n",
        "    dates1.append(convert(datess[w]))'''"
      ],
      "execution_count": null,
      "outputs": [
        {
          "output_type": "execute_result",
          "data": {
            "application/vnd.google.colaboratory.intrinsic+json": {
              "type": "string"
            },
            "text/plain": [
              "'dates1=[]\\nfor w in range (len(dates)):\\n  if len(dates[w]):\\n    dates1.append(convert(datess[w]))'"
            ]
          },
          "metadata": {
            "tags": []
          },
          "execution_count": 25
        }
      ]
    },
    {
      "cell_type": "code",
      "metadata": {
        "id": "WtWUfNf0JAUv",
        "colab_type": "code",
        "colab": {}
      },
      "source": [
        "stt=states"
      ],
      "execution_count": null,
      "outputs": []
    },
    {
      "cell_type": "code",
      "metadata": {
        "id": "UR-v6WNXq722",
        "colab_type": "code",
        "colab": {}
      },
      "source": [
        "json_data={}\n",
        "test=json.load(open('test.json'))\n",
        "for j in state_id.keys():\n",
        "    cumul=['']*len(dates)\n",
        "    #st=state_id[j]\n",
        "    for st in state_id[j]:\n",
        "        print(st)\n",
        "        cumul=states[st]['cum_positive_cases']\n",
        "        cumul_cases=np.array(cumul)\n",
        "        dbt = np.zeros((3,cumul_cases.shape[0]))\n",
        "        for i in range(cumul_cases.shape[0]):\n",
        "            dbt[:,i] = calc_doublingtimes(cumul_cases[i-7:i])\n",
        "        #st=state_id[j]\n",
        "        #temp={}\n",
        "        temp1 = {'dates':dates1,'dbt_point':pd.Series((list(dbt[0,:]))).fillna('').tolist(),'dbt_l95':pd.Series((list(dbt[1,:]))).fillna('').tolist(),'dbt_u95':pd.Series((list(dbt[2,:]))).fillna('').tolist()}\n",
        "        print(st)\n",
        "        states[st].update(temp1)"
      ],
      "execution_count": null,
      "outputs": []
    },
    {
      "cell_type": "code",
      "metadata": {
        "id": "p5PM95QJsreN",
        "colab_type": "code",
        "colab": {
          "base_uri": "https://localhost:8080/",
          "height": 35
        },
        "outputId": "c3e3ceff-03fd-4175-c1ce-ec68b7e18f33"
      },
      "source": [
        "len(states['Mumbai']['dates'])-1"
      ],
      "execution_count": null,
      "outputs": [
        {
          "output_type": "execute_result",
          "data": {
            "text/plain": [
              "191"
            ]
          },
          "metadata": {
            "tags": []
          },
          "execution_count": 28
        }
      ]
    },
    {
      "cell_type": "markdown",
      "metadata": {
        "id": "QfAmZZ1kd8t4",
        "colab_type": "text"
      },
      "source": [
        "# RT"
      ]
    },
    {
      "cell_type": "code",
      "metadata": {
        "id": "oAmTYkYeeFej",
        "colab_type": "code",
        "colab": {}
      },
      "source": [
        "rt = pd.DataFrame()\n",
        "# plt.figure(1, figsize=(15, 7))\n",
        "for j in state_id.keys():\n",
        "  for st in state_id[j]:\n",
        "    state=st\n",
        "    temp = pd.DataFrame()\n",
        "    temp[\"active\"] = data_confirmed[state]\n",
        "    temp.to_csv('confirmed.csv')\n",
        "    call(['RScript.exe','scripts/boot_rt_back.R'])\n",
        "    values = {\n",
        "            'rt_point':[],\n",
        "            'rt_sd':[],\n",
        "            'rt_l95':[],\n",
        "            'rt_u95':[],\n",
        "            'rt_l50':[],\n",
        "            'rt_u50':[],\n",
        "            't_end':[]\n",
        "            }\n",
        "    for df in [pd.read_csv('rt_temp/'+temp) for temp in os.listdir('rt_temp/')]:\n",
        "        values['rt_point'].append(df['Mean(R)'])\n",
        "        values['rt_sd'].append(df['Std(R)'])\n",
        "        values['rt_l95'].append(df['Quantile.0.025(R)'])\n",
        "        values['rt_u95'].append(df['Quantile.0.975(R)'])\n",
        "        values['rt_l50'].append(df['Quantile.0.25(R)'])\n",
        "        values['rt_u50'].append(df['Quantile.0.75(R)'])\n",
        "        values['t_end'].append(df['t_end']-1)\n",
        "    for i in values:\n",
        "        values[i] = np.median(values[i],axis=0)\n",
        "    values['dates'] = list(data_confirmed['date'][values['t_end']-1])\n",
        "    rt_state=pd.DataFrame()\n",
        "    rt_state['state']=[str(state)]*len(values['dates'])\n",
        "    rt_state['dates']= values['dates']\n",
        "    rt_state['rt_point'] = values['rt_point']\n",
        "    rt_state['rt_sd'] = values['rt_sd']    \n",
        "    rt_state['rt_l95'] = values['rt_l95']    \n",
        "    rt_state['rt_u95'] = values['rt_u95']    \n",
        "    rt_state['rt_l50'] = values['rt_l50']\n",
        "    rt_state['rt_u50'] = values['rt_u50']\n",
        "    rt=pd.concat([rt, rt_state])\n",
        "  \n",
        "    plt.plot(range(len(values['rt_point'])),values['rt_point'],label=state)\n",
        "    plt.fill_between(range(len(values['rt_point'])),values['rt_l95'],values['rt_u95'],alpha=0.5)\n",
        "    plt.ylim(0,4)\n",
        "    plt.legend()\n",
        "    plt.show()"
      ],
      "execution_count": null,
      "outputs": []
    },
    {
      "cell_type": "markdown",
      "metadata": {
        "id": "DFfKU2TVGYAH",
        "colab_type": "text"
      },
      "source": [
        "## Rt shifting"
      ]
    },
    {
      "cell_type": "code",
      "metadata": {
        "id": "MtH6zdMU0EkO",
        "colab_type": "code",
        "colab": {}
      },
      "source": [
        "def shift_rt_metrics(dict,key,days=9):\n",
        "  values_shifted = collections.deque(dict[key])\n",
        "  values_shifted.rotate(-9)\n",
        "\n",
        "  new_val = list(values_shifted)\n",
        "\n",
        "  size = len(dict['dates'])\n",
        "  \n",
        "  for i in range(days):\n",
        "    new_val[size-1-i]=''\n",
        "\n",
        "  return new_val\n",
        " "
      ],
      "execution_count": null,
      "outputs": []
    },
    {
      "cell_type": "code",
      "metadata": {
        "id": "wTn9cl6_Gn1E",
        "colab_type": "code",
        "colab": {
          "base_uri": "https://localhost:8080/",
          "height": 223
        },
        "outputId": "0dba0f55-9df1-403c-d1d4-4cd270fcfdb0"
      },
      "source": [
        "!wget https://github.com/CovidToday/backend/blob/master/population_districts.csv"
      ],
      "execution_count": null,
      "outputs": [
        {
          "output_type": "stream",
          "text": [
            "--2020-08-10 16:01:52--  https://github.com/CovidToday/backend/blob/master/population_districts.csv\n",
            "Resolving github.com (github.com)... 140.82.118.4\n",
            "Connecting to github.com (github.com)|140.82.118.4|:443... connected.\n",
            "HTTP request sent, awaiting response... 200 OK\n",
            "Length: unspecified [text/html]\n",
            "Saving to: ‘population_districts.csv’\n",
            "\n",
            "\rpopulation_district     [<=>                 ]       0  --.-KB/s               \rpopulation_district     [ <=>                ]  87.18K  --.-KB/s    in 0.01s   \n",
            "\n",
            "2020-08-10 16:01:53 (7.92 MB/s) - ‘population_districts.csv’ saved [89277]\n",
            "\n"
          ],
          "name": "stdout"
        }
      ]
    },
    {
      "cell_type": "code",
      "metadata": {
        "id": "_J5_DRvX-SdA",
        "colab_type": "code",
        "colab": {}
      },
      "source": [
        "values_shifted = copy.deepcopy(values)\n",
        "values_shifted['rt_point'] = shift_rt_metrics(values_shifted,'rt_point')\n",
        "values_shifted['rt_sd'] = shift_rt_metrics(values_shifted,'rt_sd')\n",
        "values_shifted['rt_l95'] = shift_rt_metrics(values_shifted,'rt_195')\n",
        "values_shifted['rt_u95'] = shift_rt_metrics(values_shifted,'rt_u96')\n",
        "values_shifted['rt_l50'] = shift_rt_metrics(values_shifted,'rt_150')\n",
        "values_shifted['rt_u50'] = shift_rt_metrics(values_shifted,'rt_u50')\n",
        "values_shifted['t_end'] = shift_rt_metrics(values_shifted,'t_end')"
      ],
      "execution_count": null,
      "outputs": []
    },
    {
      "cell_type": "markdown",
      "metadata": {
        "id": "aVXkhSzq_XBI",
        "colab_type": "text"
      },
      "source": [
        "## Rt changes for review"
      ]
    },
    {
      "cell_type": "code",
      "metadata": {
        "id": "aApEDCL7-_gr",
        "colab_type": "code",
        "colab": {}
      },
      "source": [
        "print('Last 15 days : ',values_shifted['rt_point'][-15:])\n",
        "print('Last 15 days : ',values_shifted['u95'][-15:])\n",
        "print('Last 15 days : ',values_shifted['rt_l95'][-15:])"
      ],
      "execution_count": null,
      "outputs": []
    },
    {
      "cell_type": "code",
      "metadata": {
        "id": "SjNaxt3p_ZhS",
        "colab_type": "code",
        "colab": {}
      },
      "source": [
        "with open('rt_shifted.json', 'w') as outfile:\n",
        "  json.dump(values_shifted, outfile,indent=4)"
      ],
      "execution_count": null,
      "outputs": []
    },
    {
      "cell_type": "code",
      "metadata": {
        "id": "LKYkPwynzndj",
        "colab_type": "code",
        "colab": {}
      },
      "source": [
        "rt.to.csv('rt.csv',index=False)\n",
        "\n",
        "with open('rt.json', 'w') as outfile:\n",
        "  json.dump(values, outfile,indent=4)"
      ],
      "execution_count": null,
      "outputs": []
    },
    {
      "cell_type": "code",
      "metadata": {
        "id": "p-6gZXTQzMas",
        "colab_type": "code",
        "colab": {}
      },
      "source": [
        "df_list = [df,cfr,rt]\n",
        "all_dataframes = pd.concat(df_list)\n",
        "all_dataframes.to_csv('complete_districts_all_metrics.csv',index=False)"
      ],
      "execution_count": null,
      "outputs": []
    },
    {
      "cell_type": "markdown",
      "metadata": {
        "id": "KG2M5AlwCblS",
        "colab_type": "text"
      },
      "source": [
        "#Complete"
      ]
    },
    {
      "cell_type": "code",
      "metadata": {
        "id": "BzWm_ctpq-Bw",
        "colab_type": "code",
        "colab": {}
      },
      "source": [
        "cols=list(states['Mumbai'].keys())\n",
        "q=['state']\n",
        "complete=pd.DataFrame(columns=q+cols)\n",
        "keys=list(states.keys())[:-1]\n",
        "for i in keys:\n",
        "  temp=pd.DataFrame()\n",
        "  t=len(states['Mumbai']['dates'])-1\n",
        "  temp['state']=[str(i)]*t\n",
        "  for j in cols:\n",
        "    print(i,j)\n",
        "    temp[j]=list(states[i][j])[:t]\n",
        "  complete = pd.concat([complete,temp])"
      ],
      "execution_count": null,
      "outputs": []
    },
    {
      "cell_type": "code",
      "metadata": {
        "id": "PdzJ-AgorCfj",
        "colab_type": "code",
        "colab": {}
      },
      "source": [
        "complete.to_csv('complete_districts.csv',index=False)"
      ],
      "execution_count": null,
      "outputs": []
    },
    {
      "cell_type": "code",
      "metadata": {
        "id": "bvTUzFnsrF0I",
        "colab_type": "code",
        "colab": {}
      },
      "source": [
        "json_data_indented = json.dumps(json_data, indent = 4)\n",
        "with open(\"doubling_rate_dist.json\", \"w\") as outfile: \n",
        "    outfile.write(json_data_indented)"
      ],
      "execution_count": null,
      "outputs": []
    },
    {
      "cell_type": "code",
      "metadata": {
        "id": "EE8aancUrH3B",
        "colab_type": "code",
        "colab": {}
      },
      "source": [
        "states_indented = json.dumps(states, indent = 4)\n",
        "with open(\"covidtoday_dist.json\", \"w\") as outfile: \n",
        "    outfile.write(states_indented)"
      ],
      "execution_count": null,
      "outputs": []
    },
    {
      "cell_type": "code",
      "metadata": {
        "id": "6b5SctHhMn2D",
        "colab_type": "code",
        "colab": {}
      },
      "source": [
        ""
      ],
      "execution_count": null,
      "outputs": []
    }
  ]
}