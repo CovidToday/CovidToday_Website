{
  "nbformat": 4,
  "nbformat_minor": 0,
  "metadata": {
    "colab": {
      "name": "unified_states_metrics.ipynb",
      "provenance": [],
      "collapsed_sections": []
    },
    "kernelspec": {
      "display_name": "Python 3",
      "language": "python",
      "name": "python3"
    },
    "language_info": {
      "codemirror_mode": {
        "name": "ipython",
        "version": 3
      },
      "file_extension": ".py",
      "mimetype": "text/x-python",
      "name": "python",
      "nbconvert_exporter": "python",
      "pygments_lexer": "ipython3",
      "version": "3.6.8"
    }
  },
  "cells": [
    {
      "cell_type": "code",
      "metadata": {
        "id": "1MGiletA7xev",
        "colab_type": "code",
        "colab": {
          "base_uri": "https://localhost:8080/",
          "height": 54
        },
        "outputId": "059dce16-ffa3-4e90-8689-b915c4d673b5"
      },
      "source": [
        "!pip install wget\n",
        "!pip install urllib3"
      ],
      "execution_count": null,
      "outputs": [
        {
          "output_type": "stream",
          "text": [
            "Requirement already satisfied: wget in /usr/local/lib/python3.6/dist-packages (3.2)\n",
            "Requirement already satisfied: urllib3 in /usr/local/lib/python3.6/dist-packages (1.24.3)\n"
          ],
          "name": "stdout"
        }
      ]
    },
    {
      "cell_type": "code",
      "metadata": {
        "colab_type": "code",
        "id": "5Bg5JGkOoFkM",
        "colab": {}
      },
      "source": [
        "\n",
        "import numpy as np\n",
        "import matplotlib.pyplot as plt\n",
        "import pandas as pd\n",
        "from subprocess import call\n",
        "from scipy.stats.distributions import gamma,lognorm\n",
        "import json \n",
        "import wget\n",
        "import os\n",
        "import os.path\n",
        "from datetime import datetime,timedelta\n",
        "import pytz \n",
        "from collections import OrderedDict\n",
        "# from google.colab import drive\n",
        "#os.chdir('/content/gdrive/My Drive')\n",
        "# drive.mount('/content/gdrive')\n",
        "\n",
        "from urllib.request import urlopen"
      ],
      "execution_count": null,
      "outputs": []
    },
    {
      "cell_type": "code",
      "metadata": {
        "id": "Mbqk2GCWvBe2",
        "colab_type": "code",
        "colab": {
          "base_uri": "https://localhost:8080/",
          "height": 148
        },
        "outputId": "ee0e60f0-d446-4242-f850-6456a19bacef"
      },
      "source": [
        "!git clone https://github.com/CovidToday/backend"
      ],
      "execution_count": null,
      "outputs": [
        {
          "output_type": "stream",
          "text": [
            "Cloning into 'backend'...\n",
            "remote: Enumerating objects: 43, done.\u001b[K\n",
            "remote: Counting objects: 100% (43/43), done.\u001b[K\n",
            "remote: Compressing objects: 100% (32/32), done.\u001b[K\n",
            "remote: Total 1887 (delta 19), reused 26 (delta 11), pack-reused 1844\u001b[K\n",
            "Receiving objects: 100% (1887/1887), 80.86 MiB | 21.79 MiB/s, done.\n",
            "Resolving deltas: 100% (1162/1162), done.\n"
          ],
          "name": "stdout"
        }
      ]
    },
    {
      "cell_type": "code",
      "metadata": {
        "colab_type": "code",
        "id": "W81xO0pjosrK",
        "colab": {}
      },
      "source": [
        "# os.chdir('/content/gdrive/My Drive/test')"
      ],
      "execution_count": null,
      "outputs": []
    },
    {
      "cell_type": "code",
      "metadata": {
        "colab_type": "code",
        "id": "GbTAAECqo4b8",
        "colab": {
          "base_uri": "https://localhost:8080/",
          "height": 36
        },
        "outputId": "9747abb6-2a6f-458c-8a99-2e993c2849c7"
      },
      "source": [
        "if os.path.exists(\"test.json\"):\n",
        "  os.remove(\"test.json\")\n",
        "wget.download('https://api.covid19india.org/v3/data-all.json', os.path.join(os.getcwd(),'test.json')) #os.path.join instead of concating string together"
      ],
      "execution_count": null,
      "outputs": [
        {
          "output_type": "execute_result",
          "data": {
            "application/vnd.google.colaboratory.intrinsic+json": {
              "type": "string"
            },
            "text/plain": [
              "'/content/test.json'"
            ]
          },
          "metadata": {
            "tags": []
          },
          "execution_count": 7
        }
      ]
    },
    {
      "cell_type": "code",
      "metadata": {
        "id": "8FJoM4RqWdBe",
        "colab_type": "code",
        "colab": {}
      },
      "source": [
        ""
      ],
      "execution_count": null,
      "outputs": []
    },
    {
      "cell_type": "code",
      "metadata": {
        "colab_type": "code",
        "id": "b_Mmdu4qo8np",
        "colab": {}
      },
      "source": [
        "# Removed bulky fn and convert code\n",
        "# Handles errors too\n",
        "'''\n",
        "def fn(mon):\n",
        "  if(mon == \"01\"):\n",
        "    return \" January\"\n",
        "  if(mon == \"02\"):\n",
        "    return \" February\"\n",
        "  if(mon == \"03\"):\n",
        "    return \" March\"\n",
        "  if(mon == \"04\"):\n",
        "    return \" April\"\n",
        "  if(mon == \"05\"):\n",
        "    return \" May\"\n",
        "  if(mon == \"06\"):\n",
        "    return \" June\"\n",
        "  if(mon == \"07\"):\n",
        "    return \" July\"\n",
        "  if(mon == \"08\"):\n",
        "    return \" August\"\n",
        "  if(mon == \"09\"):\n",
        "    return \" September\"\n",
        "  if(mon == \"10\"):\n",
        "    return \" October\"\n",
        "  if(mon == \"11\"):\n",
        "    return \" November\"\n",
        "  if(mon == \"12\"):\n",
        "    return \" December\"\n",
        "'''\n",
        "\n",
        "def convert(dat): \n",
        "    return datetime.strptime(dat, '%Y-%m-%d').strftime('%d %B')\n"
      ],
      "execution_count": null,
      "outputs": []
    },
    {
      "cell_type": "code",
      "metadata": {
        "id": "EH9igVdY8IwB",
        "colab_type": "code",
        "colab": {
          "base_uri": "https://localhost:8080/",
          "height": 36
        },
        "outputId": "5754ec20-6c04-4ae0-cf90-237ad733ece8"
      },
      "source": [
        "dt = '2020-05-30'\n",
        "convert(dt)"
      ],
      "execution_count": null,
      "outputs": [
        {
          "output_type": "execute_result",
          "data": {
            "application/vnd.google.colaboratory.intrinsic+json": {
              "type": "string"
            },
            "text/plain": [
              "'30 May'"
            ]
          },
          "metadata": {
            "tags": []
          },
          "execution_count": 10
        }
      ]
    },
    {
      "cell_type": "code",
      "metadata": {
        "id": "mwwDMhrB9Axj",
        "colab_type": "code",
        "colab": {}
      },
      "source": [
        "# maybe helpful \n",
        "\n",
        "def split_date_json(pos_rate_json,state):\n",
        "  td =  pd.DataFrame(pos_rate_json[state]['dates'])\n",
        "  \n",
        "  df = td.apply(lambda x: [x[0][:3],x[0][3:]],  result_type=\"expand\",axis=1)\n",
        "  df.columns=['date','month']\n",
        "  return df"
      ],
      "execution_count": null,
      "outputs": []
    },
    {
      "cell_type": "code",
      "metadata": {
        "id": "9cPpDeZkOFO2",
        "colab_type": "code",
        "colab": {}
      },
      "source": [
        "temp1['Goa']['dates']"
      ],
      "execution_count": null,
      "outputs": []
    },
    {
      "cell_type": "code",
      "metadata": {
        "id": "R_gm8kXqNu39",
        "colab_type": "code",
        "colab": {
          "base_uri": "https://localhost:8080/",
          "height": 174
        },
        "outputId": "bce445b3-a3e4-46c3-d1f2-28a3375cc5d4"
      },
      "source": [
        "split_date_json(temp1,'Goa')"
      ],
      "execution_count": null,
      "outputs": [
        {
          "output_type": "error",
          "ename": "NameError",
          "evalue": "ignored",
          "traceback": [
            "\u001b[0;31m---------------------------------------------------------------------------\u001b[0m",
            "\u001b[0;31mNameError\u001b[0m                                 Traceback (most recent call last)",
            "\u001b[0;32m<ipython-input-11-a22565c748f3>\u001b[0m in \u001b[0;36m<module>\u001b[0;34m()\u001b[0m\n\u001b[0;32m----> 1\u001b[0;31m \u001b[0msplit_date_json\u001b[0m\u001b[0;34m(\u001b[0m\u001b[0mtemp1\u001b[0m\u001b[0;34m,\u001b[0m\u001b[0;34m'Goa'\u001b[0m\u001b[0;34m)\u001b[0m\u001b[0;34m\u001b[0m\u001b[0;34m\u001b[0m\u001b[0m\n\u001b[0m",
            "\u001b[0;31mNameError\u001b[0m: name 'split_date_json' is not defined"
          ]
        }
      ]
    },
    {
      "cell_type": "code",
      "metadata": {
        "id": "_1P2EXAOvbII",
        "colab_type": "code",
        "colab": {}
      },
      "source": [
        "#%cd /content/backend/testing-and-cfr"
      ],
      "execution_count": null,
      "outputs": []
    },
    {
      "cell_type": "code",
      "metadata": {
        "colab_type": "code",
        "id": "hx19gK_Vo_5J",
        "colab": {
          "base_uri": "https://localhost:8080/",
          "height": 247
        },
        "outputId": "fb834f48-6485-4bc9-fc9e-3691af36f730"
      },
      "source": [
        "dataset=pd.read_csv('https://raw.githubusercontent.com/CovidToday/backend/master/testing-and-cfr/population.csv')\n",
        "population=pd.DataFrame()\n",
        "population[\"State\"]=dataset['State'][:37]\n",
        "population[\"Population\"]=dataset['Population'][:37]\n",
        "population=population.set_index('State')"
      ],
      "execution_count": 1,
      "outputs": [
        {
          "output_type": "error",
          "ename": "NameError",
          "evalue": "ignored",
          "traceback": [
            "\u001b[0;31m---------------------------------------------------------------------------\u001b[0m",
            "\u001b[0;31mNameError\u001b[0m                                 Traceback (most recent call last)",
            "\u001b[0;32m<ipython-input-1-48f02c105f00>\u001b[0m in \u001b[0;36m<module>\u001b[0;34m()\u001b[0m\n\u001b[0;32m----> 1\u001b[0;31m \u001b[0mdataset\u001b[0m\u001b[0;34m=\u001b[0m\u001b[0mpd\u001b[0m\u001b[0;34m.\u001b[0m\u001b[0mread_csv\u001b[0m\u001b[0;34m(\u001b[0m\u001b[0;34m'https://raw.githubusercontent.com/CovidToday/backend/master/testing-and-cfr/population.csv'\u001b[0m\u001b[0;34m)\u001b[0m\u001b[0;34m\u001b[0m\u001b[0;34m\u001b[0m\u001b[0m\n\u001b[0m\u001b[1;32m      2\u001b[0m \u001b[0mpopulation\u001b[0m\u001b[0;34m=\u001b[0m\u001b[0mpd\u001b[0m\u001b[0;34m.\u001b[0m\u001b[0mDataFrame\u001b[0m\u001b[0;34m(\u001b[0m\u001b[0;34m)\u001b[0m\u001b[0;34m\u001b[0m\u001b[0;34m\u001b[0m\u001b[0m\n\u001b[1;32m      3\u001b[0m \u001b[0mpopulation\u001b[0m\u001b[0;34m[\u001b[0m\u001b[0;34m\"State\"\u001b[0m\u001b[0;34m]\u001b[0m\u001b[0;34m=\u001b[0m\u001b[0mdataset\u001b[0m\u001b[0;34m[\u001b[0m\u001b[0;34m'State'\u001b[0m\u001b[0;34m]\u001b[0m\u001b[0;34m[\u001b[0m\u001b[0;34m:\u001b[0m\u001b[0;36m37\u001b[0m\u001b[0;34m]\u001b[0m\u001b[0;34m\u001b[0m\u001b[0;34m\u001b[0m\u001b[0m\n\u001b[1;32m      4\u001b[0m \u001b[0mpopulation\u001b[0m\u001b[0;34m[\u001b[0m\u001b[0;34m\"Population\"\u001b[0m\u001b[0;34m]\u001b[0m\u001b[0;34m=\u001b[0m\u001b[0mdataset\u001b[0m\u001b[0;34m[\u001b[0m\u001b[0;34m'Population'\u001b[0m\u001b[0;34m]\u001b[0m\u001b[0;34m[\u001b[0m\u001b[0;34m:\u001b[0m\u001b[0;36m37\u001b[0m\u001b[0;34m]\u001b[0m\u001b[0;34m\u001b[0m\u001b[0;34m\u001b[0m\u001b[0m\n\u001b[1;32m      5\u001b[0m \u001b[0mpopulation\u001b[0m\u001b[0;34m=\u001b[0m\u001b[0mpopulation\u001b[0m\u001b[0;34m.\u001b[0m\u001b[0mset_index\u001b[0m\u001b[0;34m(\u001b[0m\u001b[0;34m'State'\u001b[0m\u001b[0;34m)\u001b[0m\u001b[0;34m\u001b[0m\u001b[0;34m\u001b[0m\u001b[0m\n",
            "\u001b[0;31mNameError\u001b[0m: name 'pd' is not defined"
          ]
        }
      ]
    },
    {
      "cell_type": "code",
      "metadata": {
        "colab_type": "code",
        "id": "489_2jZ1pDAe",
        "colab": {}
      },
      "source": [
        "state_id = {\n",
        "  \"TT\":\"India\",\n",
        "  \"MH\":\"Maharashtra\",\n",
        "  \"TN\":\"Tamil Nadu\",\n",
        "  \"DL\":\"Delhi\",\n",
        "  \"GJ\":\"Gujarat\",\n",
        "  \"RJ\":\"Rajasthan\",\n",
        "  \"UP\":\"Uttar Pradesh\",\n",
        "  \"MP\":\"Madhya Pradesh\",\n",
        "  \"WB\":\"West Bengal\",\n",
        "  \"KA\":\"Karnataka\",\n",
        "  \"BR\":\"Bihar\",\n",
        "  \"AP\":\"Andhra Pradesh\",\n",
        "  \"HR\":\"Haryana\",\n",
        "  \"TG\":\"Telangana\",\n",
        "  \"JK\":\"Jammu and Kashmir\",\n",
        "  \"OR\":\"Odisha\",\n",
        "  \"PB\":\"Punjab\",\n",
        "  \"AS\":\"Assam\",\n",
        "  \"KL\":\"Kerala\",\n",
        "  \"UT\":\"Uttarakhand\",\n",
        "  \"JH\":\"Jharkhand\",\n",
        "  \"CT\":\"Chhattisgarh\",\n",
        "  \"TR\":\"Tripura\",\n",
        "  \"HP\":\"Himachal Pradesh\",\n",
        "  \"CH\":\"Chandigarh\",\n",
        "  \"GA\":\"Goa\",\n",
        "  \"MN\":\"Manipur\",\n",
        "  \"NL\":\"Nagaland\",\n",
        "  \"PY\":\"Puducherry\",\n",
        "  \"LA\":\"Ladakh\",\n",
        "  \"AR\":\"Arunachal Pradesh\",\n",
        "  \"AN\":\"Andaman and Nicobar Islands\",\n",
        "  \"ML\":\"Meghalaya\",\n",
        "  \"MZ\":\"Mizoram\",\n",
        "  \"DN\":\"Dadra and Nagar Haveli and Daman and Diu\",\n",
        "  \"SK\":\"Sikkim\",\n",
        "}"
      ],
      "execution_count": null,
      "outputs": []
    },
    {
      "cell_type": "code",
      "metadata": {
        "id": "a8WgQ4lC84xC",
        "colab_type": "code",
        "colab": {}
      },
      "source": [
        "datetime.today()"
      ],
      "execution_count": null,
      "outputs": []
    },
    {
      "cell_type": "code",
      "metadata": {
        "colab_type": "code",
        "id": "AmRFhGM1pFYS",
        "colab": {}
      },
      "source": [
        "#Changed\n",
        "\n",
        "'''\n",
        "from datetime import timedelta\n",
        "start=datetime.now()\n",
        "x1=datetime.now(pytz.timezone('Asia/Kolkata')).date()\n",
        "#x1 = datetime.today()\n",
        "#y1 = timedelta(days=7)\n",
        "y1=[]\n",
        "#x1=str(x1)[:10]\n",
        "for i in range(7,0,-1):\n",
        "  y1.append(str(datetime.today()-timedelta(days=i))[:10])\n",
        "#print(y1)\n",
        "##y1=str(y1)[:10]\n",
        "t=y1\n",
        "t\n",
        "'''\n",
        "def dates_gen(periods=7):\n",
        "  t = pd.Series(pd.date_range(end = datetime.now(pytz.timezone('Asia/Kolkata'))-timedelta(1), periods = periods)).dt.strftime('%Y-%m-%d').tolist()\n",
        "\n",
        "  return t"
      ],
      "execution_count": null,
      "outputs": []
    },
    {
      "cell_type": "code",
      "metadata": {
        "id": "eLQNCLEM6rMx",
        "colab_type": "code",
        "colab": {
          "base_uri": "https://localhost:8080/",
          "height": 148
        },
        "outputId": "57757cd3-864b-4f8f-c3b5-131bf83be964"
      },
      "source": [
        "dates_gen()"
      ],
      "execution_count": null,
      "outputs": [
        {
          "output_type": "execute_result",
          "data": {
            "text/plain": [
              "['2020-08-03',\n",
              " '2020-08-04',\n",
              " '2020-08-05',\n",
              " '2020-08-06',\n",
              " '2020-08-07',\n",
              " '2020-08-08',\n",
              " '2020-08-09']"
            ]
          },
          "metadata": {
            "tags": []
          },
          "execution_count": 63
        }
      ]
    },
    {
      "cell_type": "code",
      "metadata": {
        "id": "OthKZGr36TQ-",
        "colab_type": "code",
        "colab": {}
      },
      "source": [
        "t=dates_gen()"
      ],
      "execution_count": null,
      "outputs": []
    },
    {
      "cell_type": "markdown",
      "metadata": {
        "id": "tSQkd78jaS2a",
        "colab_type": "text"
      },
      "source": [
        "#Positive Rate (All metrics)\n",
        "\n"
      ]
    },
    {
      "cell_type": "code",
      "metadata": {
        "id": "L24ra_WHIMJs",
        "colab_type": "code",
        "colab": {}
      },
      "source": [
        "csv_dates=[]\n",
        "csv_states=[]\n",
        "csv_total_cases=[]\n",
        "csv_cum_recovered=[]\n",
        "csv_daily_recovered=[]\n",
        "csv_cum_deceased=[]\n",
        "csv_daily_deceased=[]\n",
        "csv_positivity_rate_cumulative=[]\n",
        "csv_daily_positive_cases=[]\n",
        "csv_daily_positivity_rate=[]\n",
        "csv_daily_positive_cases_ma=[]\n",
        "csv_daily_positivity_rate_ma=[]\n",
        "csv_test_per_million=[]\n",
        "csv_daily_tested=[]\n",
        "csv_cum_tested=[]\n",
        "\n",
        "#New\n",
        "csv_daily_case_per_million = []\n",
        "csv_daily_test_per_million = []\n",
        "csv_daily_test_ma = []\n",
        "csv_daily_deceased_ma = []\n",
        "\n",
        "#Proposed method\n",
        "\n",
        "test_json_url = 'https://api.covid19india.org/v3/data-all.json'\n",
        "test_json = json.loads(urlopen(test_json_url).read())\n",
        "\n",
        "posrat_json_url = 'https://raw.githubusercontent.com/CovidToday/backend/master/testing-and-cfr/positivity_Rate.json'\n",
        "posrat_json = json.loads(urlopen(posrat_json_url).read())\n",
        "\n",
        "\n",
        "test =test_json\n",
        "temp1 = json.load(open('positivity_Rate.json'))\n",
        "\n",
        "'''\n",
        "#Old method\n",
        "#test = json.load(open('test.json'))\n",
        "\n",
        "test = json.load(open('test.json'))\n",
        "#temp1 = json.load(open('positivity_Rate.json'))\n",
        "'''\n",
        "\n",
        "\n",
        "for date in t:  \n",
        " \n",
        "  #temp = json.load(open('test.json'))[date]\n",
        "  #temp1 = json.load(open('positivity_Rate.json'))\n",
        "  states={}\n",
        "  temp = test[date]\n",
        "  \n",
        "\n",
        "  for i,j in enumerate(state_id.keys()):\n",
        "    k = state_id[j]\n",
        "    print('posrate() -- Working : ',state_id[j])\n",
        "\n",
        "    test_per_million = temp1[k]['test_per_million']\n",
        "    pos_cum = temp1[k]['cum_positive_cases']\n",
        "    pos_rate_cum = temp1[k]['cum_positivity_rate']\n",
        "    daily_pos = temp1[k]['daily_positive_cases']\n",
        "    daily_pos_ma = temp1[k]['daily_positive_cases_ma']\n",
        "    daily_pos_rate = temp1[k]['daily_positivity_rate']\n",
        "    daily_pos_rate_ma = temp1[k]['daily_positivity_rate_ma']\n",
        "    tested_cum = temp1[k]['cum_tests']\n",
        "    daily_tested = temp1[k]['daily_tests']\n",
        "    deceased_cum = temp1[k]['cum_deceased']\n",
        "    daily_deceased = temp1[k]['daily_deceased']\n",
        "    recovered_cum = temp1[k]['cum_recovered']\n",
        "    daily_recovered = temp1[k]['daily_recovered'] \n",
        "    \n",
        "    \n",
        "    \n",
        "    #New added\n",
        "    daily_case_per_million  = temp1[k]['daily_cases_per_million']\n",
        "    daily_test_per_million  = temp1[k]['daily_tests_per_million']\n",
        "    daily_test_ma  = temp1[k]['daily_tests_ma']\n",
        "    daily_deceased_ma  = temp1[k]['daily_deceased_ma']\n",
        "  \n",
        "    dates=temp1[k]['dates']\n",
        "    if convert(date) not in dates :\n",
        "      print(1)\n",
        "      dates.append(convert(date))\n",
        "      test_per_million.append('')\n",
        "      pos_cum.append('')\n",
        "      pos_rate_cum.append('')\n",
        "      daily_pos.append('')\n",
        "      daily_pos_ma.append('')\n",
        "      daily_pos_rate.append('')\n",
        "      daily_pos_rate_ma.append('')\n",
        "      tested_cum.append('')\n",
        "      daily_tested.append('')\n",
        "      deceased_cum.append('')\n",
        "      daily_deceased.append('')\n",
        "      recovered_cum.append('')\n",
        "      daily_recovered.append('')\n",
        "      \n",
        "      #New added\n",
        "      print(\"Appends\")\n",
        "      daily_case_per_million.append('')\n",
        "      daily_test_per_million.append('')\n",
        "      daily_test_ma.append('')\n",
        "      daily_deceased_ma.append('')\n",
        "\n",
        "      i=len(dates)-1\n",
        "      \n",
        "    for l in range(len(dates)):\n",
        "      if convert(date)==dates[l]:\n",
        "        i=l\n",
        "        break\n",
        "    \n",
        "\n",
        "    if k in temp1.keys():\n",
        "        if 'total' in temp[j].keys():\n",
        "          if 'confirmed' in temp[j]['total'].keys():\n",
        "            pos_cum[i]=temp[j]['total']['confirmed']\n",
        "\n",
        "          if 'tested' in temp[j]['total'].keys():\n",
        "            tested_cum[i]=abs(temp[j]['total']['tested'])\n",
        "            test_per_million[i]=temp[j]['total']['tested']*1000000/int(population[\"Population\"][k])\n",
        "              \n",
        "          if 'deceased' in temp[j]['total'].keys():\n",
        "            deceased_cum[i]=temp[j]['total']['deceased']\n",
        "          \n",
        "          if 'recovered' in temp[j]['total'].keys():\n",
        "            recovered_cum[i]=temp[j]['total']['recovered']\n",
        "          \n",
        "          if len(str(pos_cum[i])) and len(str(tested_cum[i])):\n",
        "            pos_rate_cum[i]= pos_cum[i]*100/tested_cum[i]\n",
        "\n",
        "        if 'delta' in temp[j].keys():\n",
        "          if 'confirmed' in temp[j]['delta'].keys():\n",
        "            daily_pos[i]=temp[j]['delta']['confirmed']\n",
        "            daily_case_per_million[i] =temp[j]['delta']['confirmed']*1000000/int(population[\"Population\"][k])   #New\n",
        "\n",
        "          if 'tested' in temp[j]['delta'].keys():\n",
        "            daily_tested[i]=abs(temp[j]['delta']['tested'])\n",
        "            daily_test_per_million[i] = temp[j]['delta']['tested']*1000000/int(population[\"Population\"][k])    #New\n",
        "\n",
        "          if 'deceased' in temp[j]['delta'].keys():\n",
        "            daily_deceased[i]=temp[j]['delta']['deceased']\n",
        "          \n",
        "          if 'recovered' in temp[j]['delta'].keys():\n",
        "            daily_recovered[i]=temp[j]['delta']['recovered']\n",
        "          \n",
        "          if len(str(daily_pos[i])) and len(str(daily_tested[i])):\n",
        "            daily_pos_rate[i]=int(daily_pos[i])*100/int(daily_tested[i])\n",
        "    \n",
        "    print(len(daily_case_per_million),len(pos_cum))\n",
        "    \n",
        "    for w in range(7,len(daily_pos)):\n",
        "      sum1=0\n",
        "      sum2=0\n",
        "      for s in range(7):\n",
        "        if (len(str(daily_pos[w-s]))!=0 and len(str(daily_tested[w-s]))!=0):\n",
        "          sum1+=int(daily_pos[w-s])\n",
        "          sum2+=int(daily_tested[w-s])\n",
        "      if (sum2!=0):\n",
        "        daily_pos_rate_ma[w]=sum1*100/abs(sum2)\n",
        "    \n",
        "    for w in range(7,len(daily_pos)):\n",
        "      sum1=0\n",
        "      count=0\n",
        "      for s in range(7):\n",
        "        if (len(str(daily_pos[w-s]))!=0):\n",
        "          sum1+=int(daily_pos[w-s])\n",
        "          count+=1\n",
        "      if count!=0:\n",
        "        daily_pos_ma[w]=sum1/count\n",
        "  \n",
        "    #New\n",
        "    for w in range(7,len(daily_tested)):\n",
        "      sum1=0\n",
        "      count=0\n",
        "      for s in range(7):\n",
        "        if (len(str(daily_tested[w-s]))!=0):\n",
        "          sum1+=int(daily_tested[w-s])\n",
        "        \n",
        "          count+=1\n",
        "      if count!=0:\n",
        "        daily_test_ma[w]=sum1/count\n",
        "        \n",
        "    #New\n",
        "    for w in range(7,len(daily_deceased)):\n",
        "      sum1=0\n",
        "      count=0\n",
        "      for s in range(7):\n",
        "        if (len(str(daily_deceased[w-s]))!=0):\n",
        "          sum1+=int(daily_deceased[w-s])\n",
        "          count+=1\n",
        "      if count!=0:\n",
        "        daily_deceased_ma[w]=sum1/count\n",
        "   \n",
        "    \n",
        "    #print(len)\n",
        "    st=state_id[j]\n",
        "    for i in range(len(dates)):\n",
        "      '''\n",
        "      if i  == len(dates)//4:\n",
        "        print(\"Progress : 25%\")\n",
        "      if i  == len(dates)//2:\n",
        "        print(\"Progress : 50%\")\n",
        "      if i  == (len(dates)*3)//4:\n",
        "        print(\"Progress : 75%\")  \n",
        "      if i  == len(dates)-1:\n",
        "        print(\"Progres : 100&\")\n",
        "      '''\n",
        "      csv_dates.append(dates[i])\n",
        "      csv_states.append(st)\n",
        "      csv_total_cases.append(pos_cum[i])\n",
        "      csv_positivity_rate_cumulative.append(pos_rate_cum[i])\n",
        "      csv_daily_positive_cases.append(daily_pos[i])\n",
        "      csv_cum_recovered.append(recovered_cum[i])\n",
        "      csv_daily_recovered.append(daily_recovered[i])\n",
        "      csv_cum_deceased.append(deceased_cum[i])\n",
        "      csv_daily_deceased.append(daily_deceased[i])\n",
        "      csv_daily_positivity_rate.append(daily_pos_rate[i])\n",
        "      csv_daily_positive_cases_ma.append(daily_pos_ma[i])\n",
        "      csv_daily_positivity_rate_ma.append(daily_pos_rate_ma[i])\n",
        "      csv_daily_tested.append(daily_tested[i])\n",
        "      csv_cum_tested.append(tested_cum[i])\n",
        "      csv_test_per_million.append(test_per_million[i])\n",
        "\n",
        "      #New\n",
        "      csv_daily_case_per_million.append(daily_case_per_million[i])\n",
        "      csv_daily_test_per_million.append(daily_test_per_million[i])\n",
        "      csv_daily_test_ma.append(daily_test_ma[i])\n",
        "      csv_daily_deceased_ma.append(daily_deceased_ma[i])\n",
        "    \n",
        "    #print(st)\n",
        "    states[st]={\n",
        "                    'dates':dates,\n",
        "                    'cum_positive_cases':pos_cum,\n",
        "                    'cum_positivity_rate':pos_rate_cum,\n",
        "                    'daily_positive_cases':daily_pos,\n",
        "                    'cum_recovered':recovered_cum,\n",
        "                    'daily_recovered':daily_recovered,\n",
        "                    'cum_deceased':deceased_cum,\n",
        "                    'daily_deceased':daily_deceased,\n",
        "                    'daily_positivity_rate':daily_pos_rate,\n",
        "                    'daily_positive_cases_ma': daily_pos_ma,\n",
        "                    'daily_positivity_rate_ma':daily_pos_rate_ma , \n",
        "                    'daily_tests': daily_tested,\n",
        "                    'cum_tests': tested_cum,\n",
        "                    'test_per_million':test_per_million,\n",
        "                    #New\n",
        "                    'daily_cases_per_million':daily_case_per_million,\n",
        "                    'daily_tests_per_million':daily_test_per_million,\n",
        "                    'daily_tests_ma':daily_test_ma,\n",
        "                    'daily_deceased_ma':daily_deceased_ma\n",
        "\n",
        "                   }\n",
        "      \n",
        "  states['datetime']=str(datetime.now(pytz.timezone('Asia/Kolkata')))\n",
        "  with open('positivity_Rate.json', 'w') as outfile:\n",
        "    json.dump(states, outfile,indent=4)"
      ],
      "execution_count": null,
      "outputs": []
    },
    {
      "cell_type": "markdown",
      "metadata": {
        "id": "T4RFAVgPSWtq",
        "colab_type": "text"
      },
      "source": [
        "#CSV"
      ]
    },
    {
      "cell_type": "code",
      "metadata": {
        "colab_type": "code",
        "id": "KLyUpPIY7Cr0",
        "colab": {}
      },
      "source": [
        "n_states = len(state_id.keys())\n",
        "n_dates = len(dates)\n",
        "\n",
        "rows = n_states*n_dates\n",
        "\n",
        "\n",
        "df=pd.DataFrame()\n",
        "df['dates']=csv_dates[:rows]\n",
        "df['state']=csv_states[:rows]\n",
        "df['cum_positive_cases']=csv_total_cases[:rows]\n",
        "df['cum_positivity_rate']=csv_positivity_rate_cumulative[:rows]\n",
        "\n",
        "df['cum_recovered']=csv_cum_recovered[:rows]\n",
        "df['daily_recovered']:csv_daily_recovered[:rows]\n",
        "df['cum_deceased']=csv_cum_deceased[:rows]\n",
        "df['daily_deceased']=csv_daily_deceased[:rows]\n",
        "df['daily_positive_cases']=csv_daily_positive_cases[:rows]\n",
        "df['daily_positivity_rate']=csv_daily_positivity_rate[:rows]\n",
        "df['daily_positive_cases_ma']=csv_daily_positive_cases_ma[:rows]\n",
        "df['daily_positivity_rate_ma']=    csv_daily_positivity_rate_ma[:rows]\n",
        "df['daily_tests']=csv_daily_tested[:rows]\n",
        "df['cum_tested']=csv_cum_tested[:rows]\n",
        "df['test_per_million']=csv_test_per_million[:rows]\n",
        "\n",
        "#New\n",
        "df['daily_cases_per_million'] = csv_daily_case_per_million[:rows]\n",
        "df['daily_tests_per_million'] = csv_daily_test_per_million[:rows]\n",
        "df['daily_tests_ma'] = csv_daily_test_ma[:rows]\n",
        "df['daily_deceased_ma'] = csv_daily_deceased_ma[:rows]\n",
        "\n",
        "df.to_csv('positivity_Rate.csv',index=False)"
      ],
      "execution_count": null,
      "outputs": []
    },
    {
      "cell_type": "code",
      "metadata": {
        "id": "__Mof2jNcBFT",
        "colab_type": "code",
        "colab": {
          "base_uri": "https://localhost:8080/",
          "height": 148
        },
        "outputId": "7c6fb622-6ec6-4591-f731-d4d5001c1cf7"
      },
      "source": [
        "df.columns"
      ],
      "execution_count": null,
      "outputs": [
        {
          "output_type": "execute_result",
          "data": {
            "text/plain": [
              "Index(['dates', 'state', 'cum_positive_cases', 'cum_positivity_rate',\n",
              "       'cum_recovered', 'cum_deceased', 'daily_deceased',\n",
              "       'daily_positive_cases', 'daily_positivity_rate',\n",
              "       'daily_positive_cases_ma', 'daily_positivity_rate_ma', 'daily_tests',\n",
              "       'cum_tested', 'test_per_million', 'daily_cases_per_million',\n",
              "       'daily_tests_per_million', 'daily_tests_ma', 'daily_deceased_ma'],\n",
              "      dtype='object')"
            ]
          },
          "metadata": {
            "tags": []
          },
          "execution_count": 25
        }
      ]
    },
    {
      "cell_type": "code",
      "metadata": {
        "id": "ga1avWC1ZMiy",
        "colab_type": "code",
        "colab": {
          "base_uri": "https://localhost:8080/",
          "height": 617
        },
        "outputId": "f95e8bee-f601-4f63-e603-0cdd7aed14af"
      },
      "source": [
        "df[df['state']=='India']"
      ],
      "execution_count": null,
      "outputs": [
        {
          "output_type": "execute_result",
          "data": {
            "text/html": [
              "<div>\n",
              "<style scoped>\n",
              "    .dataframe tbody tr th:only-of-type {\n",
              "        vertical-align: middle;\n",
              "    }\n",
              "\n",
              "    .dataframe tbody tr th {\n",
              "        vertical-align: top;\n",
              "    }\n",
              "\n",
              "    .dataframe thead th {\n",
              "        text-align: right;\n",
              "    }\n",
              "</style>\n",
              "<table border=\"1\" class=\"dataframe\">\n",
              "  <thead>\n",
              "    <tr style=\"text-align: right;\">\n",
              "      <th></th>\n",
              "      <th>dates</th>\n",
              "      <th>state</th>\n",
              "      <th>cum_positive_cases</th>\n",
              "      <th>cum_positivity_rate</th>\n",
              "      <th>cum_recovered</th>\n",
              "      <th>cum_deceased</th>\n",
              "      <th>daily_deceased</th>\n",
              "      <th>daily_positive_cases</th>\n",
              "      <th>daily_positivity_rate</th>\n",
              "      <th>daily_positive_cases_ma</th>\n",
              "      <th>daily_positivity_rate_ma</th>\n",
              "      <th>daily_tests</th>\n",
              "      <th>cum_tested</th>\n",
              "      <th>test_per_million</th>\n",
              "      <th>daily_cases_per_million</th>\n",
              "      <th>daily_tests_per_million</th>\n",
              "      <th>daily_tests_ma</th>\n",
              "      <th>daily_deceased_ma</th>\n",
              "    </tr>\n",
              "  </thead>\n",
              "  <tbody>\n",
              "    <tr>\n",
              "      <th>0</th>\n",
              "      <td>30 January</td>\n",
              "      <td>India</td>\n",
              "      <td>1</td>\n",
              "      <td></td>\n",
              "      <td></td>\n",
              "      <td></td>\n",
              "      <td></td>\n",
              "      <td>1</td>\n",
              "      <td></td>\n",
              "      <td></td>\n",
              "      <td></td>\n",
              "      <td></td>\n",
              "      <td></td>\n",
              "      <td></td>\n",
              "      <td></td>\n",
              "      <td></td>\n",
              "      <td></td>\n",
              "      <td></td>\n",
              "    </tr>\n",
              "    <tr>\n",
              "      <th>1</th>\n",
              "      <td>31 January</td>\n",
              "      <td>India</td>\n",
              "      <td></td>\n",
              "      <td></td>\n",
              "      <td></td>\n",
              "      <td></td>\n",
              "      <td></td>\n",
              "      <td></td>\n",
              "      <td></td>\n",
              "      <td></td>\n",
              "      <td></td>\n",
              "      <td></td>\n",
              "      <td></td>\n",
              "      <td></td>\n",
              "      <td></td>\n",
              "      <td></td>\n",
              "      <td></td>\n",
              "      <td></td>\n",
              "    </tr>\n",
              "    <tr>\n",
              "      <th>2</th>\n",
              "      <td>01 February</td>\n",
              "      <td>India</td>\n",
              "      <td></td>\n",
              "      <td></td>\n",
              "      <td></td>\n",
              "      <td></td>\n",
              "      <td></td>\n",
              "      <td></td>\n",
              "      <td></td>\n",
              "      <td></td>\n",
              "      <td></td>\n",
              "      <td></td>\n",
              "      <td></td>\n",
              "      <td></td>\n",
              "      <td></td>\n",
              "      <td></td>\n",
              "      <td></td>\n",
              "      <td></td>\n",
              "    </tr>\n",
              "    <tr>\n",
              "      <th>3</th>\n",
              "      <td>02 February</td>\n",
              "      <td>India</td>\n",
              "      <td>2</td>\n",
              "      <td></td>\n",
              "      <td></td>\n",
              "      <td></td>\n",
              "      <td></td>\n",
              "      <td>1</td>\n",
              "      <td></td>\n",
              "      <td></td>\n",
              "      <td></td>\n",
              "      <td></td>\n",
              "      <td></td>\n",
              "      <td></td>\n",
              "      <td></td>\n",
              "      <td></td>\n",
              "      <td></td>\n",
              "      <td></td>\n",
              "    </tr>\n",
              "    <tr>\n",
              "      <th>4</th>\n",
              "      <td>03 February</td>\n",
              "      <td>India</td>\n",
              "      <td>3</td>\n",
              "      <td></td>\n",
              "      <td></td>\n",
              "      <td></td>\n",
              "      <td></td>\n",
              "      <td>1</td>\n",
              "      <td></td>\n",
              "      <td></td>\n",
              "      <td></td>\n",
              "      <td></td>\n",
              "      <td></td>\n",
              "      <td></td>\n",
              "      <td></td>\n",
              "      <td></td>\n",
              "      <td></td>\n",
              "      <td></td>\n",
              "    </tr>\n",
              "    <tr>\n",
              "      <th>...</th>\n",
              "      <td>...</td>\n",
              "      <td>...</td>\n",
              "      <td>...</td>\n",
              "      <td>...</td>\n",
              "      <td>...</td>\n",
              "      <td>...</td>\n",
              "      <td>...</td>\n",
              "      <td>...</td>\n",
              "      <td>...</td>\n",
              "      <td>...</td>\n",
              "      <td>...</td>\n",
              "      <td>...</td>\n",
              "      <td>...</td>\n",
              "      <td>...</td>\n",
              "      <td>...</td>\n",
              "      <td>...</td>\n",
              "      <td>...</td>\n",
              "      <td>...</td>\n",
              "    </tr>\n",
              "    <tr>\n",
              "      <th>187</th>\n",
              "      <td>05 August</td>\n",
              "      <td>India</td>\n",
              "      <td>1963239</td>\n",
              "      <td>8.86364</td>\n",
              "      <td>1327141</td>\n",
              "      <td>40742</td>\n",
              "      <td>919</td>\n",
              "      <td>56626</td>\n",
              "      <td>8.51584</td>\n",
              "      <td>54091.3</td>\n",
              "      <td>9.56408</td>\n",
              "      <td>664949</td>\n",
              "      <td>22149351</td>\n",
              "      <td>16151.4</td>\n",
              "      <td>41.2918</td>\n",
              "      <td>484.883</td>\n",
              "      <td>565567</td>\n",
              "      <td>819.429</td>\n",
              "    </tr>\n",
              "    <tr>\n",
              "      <th>188</th>\n",
              "      <td>06 August</td>\n",
              "      <td>India</td>\n",
              "      <td>2025409</td>\n",
              "      <td>8.8879</td>\n",
              "      <td>1377282</td>\n",
              "      <td>41641</td>\n",
              "      <td>899</td>\n",
              "      <td>62170</td>\n",
              "      <td>9.72863</td>\n",
              "      <td>55120.1</td>\n",
              "      <td>9.75473</td>\n",
              "      <td>639042</td>\n",
              "      <td>22788393</td>\n",
              "      <td>16617.4</td>\n",
              "      <td>45.3345</td>\n",
              "      <td>465.991</td>\n",
              "      <td>565060</td>\n",
              "      <td>835.857</td>\n",
              "    </tr>\n",
              "    <tr>\n",
              "      <th>189</th>\n",
              "      <td>07 August</td>\n",
              "      <td>India</td>\n",
              "      <td>2086864</td>\n",
              "      <td>8.92311</td>\n",
              "      <td>1427669</td>\n",
              "      <td>42578</td>\n",
              "      <td>937</td>\n",
              "      <td>61455</td>\n",
              "      <td>10.2634</td>\n",
              "      <td>55687.1</td>\n",
              "      <td>9.67628</td>\n",
              "      <td>598778</td>\n",
              "      <td>23387171</td>\n",
              "      <td>17054</td>\n",
              "      <td>44.8132</td>\n",
              "      <td>436.631</td>\n",
              "      <td>575502</td>\n",
              "      <td>860.571</td>\n",
              "    </tr>\n",
              "    <tr>\n",
              "      <th>190</th>\n",
              "      <td>08 August</td>\n",
              "      <td>India</td>\n",
              "      <td>2152020</td>\n",
              "      <td>8.92712</td>\n",
              "      <td>1479804</td>\n",
              "      <td>43453</td>\n",
              "      <td>875</td>\n",
              "      <td>65156</td>\n",
              "      <td>9.05745</td>\n",
              "      <td>57121.3</td>\n",
              "      <td>9.33201</td>\n",
              "      <td>719364</td>\n",
              "      <td>24106535</td>\n",
              "      <td>17578.6</td>\n",
              "      <td>47.5119</td>\n",
              "      <td>524.562</td>\n",
              "      <td>612101</td>\n",
              "      <td>863.571</td>\n",
              "    </tr>\n",
              "    <tr>\n",
              "      <th>191</th>\n",
              "      <td>09 August</td>\n",
              "      <td>India</td>\n",
              "      <td>2214137</td>\n",
              "      <td>9.1848</td>\n",
              "      <td>1534278</td>\n",
              "      <td>44466</td>\n",
              "      <td>1013</td>\n",
              "      <td>62117</td>\n",
              "      <td></td>\n",
              "      <td>58470.6</td>\n",
              "      <td>8.89359</td>\n",
              "      <td></td>\n",
              "      <td>24106535</td>\n",
              "      <td>17578.6</td>\n",
              "      <td>45.2959</td>\n",
              "      <td>288.301</td>\n",
              "      <td>650613</td>\n",
              "      <td>899.714</td>\n",
              "    </tr>\n",
              "  </tbody>\n",
              "</table>\n",
              "<p>192 rows × 18 columns</p>\n",
              "</div>"
            ],
            "text/plain": [
              "           dates  state  ... daily_tests_ma daily_deceased_ma\n",
              "0     30 January  India  ...                                 \n",
              "1     31 January  India  ...                                 \n",
              "2    01 February  India  ...                                 \n",
              "3    02 February  India  ...                                 \n",
              "4    03 February  India  ...                                 \n",
              "..           ...    ...  ...            ...               ...\n",
              "187    05 August  India  ...         565567           819.429\n",
              "188    06 August  India  ...         565060           835.857\n",
              "189    07 August  India  ...         575502           860.571\n",
              "190    08 August  India  ...         612101           863.571\n",
              "191    09 August  India  ...         650613           899.714\n",
              "\n",
              "[192 rows x 18 columns]"
            ]
          },
          "metadata": {
            "tags": []
          },
          "execution_count": 26
        }
      ]
    },
    {
      "cell_type": "markdown",
      "metadata": {
        "colab_type": "text",
        "id": "ye3tsK0SXa9y"
      },
      "source": [
        "# CFR"
      ]
    },
    {
      "cell_type": "code",
      "metadata": {
        "colab_type": "code",
        "id": "vlmqEdncXzt2",
        "colab": {}
      },
      "source": [
        "#dates = np.array([pd.to_datetime(i['date']) for i in filter(lambda v: v['status'] == 'Confirmed',json.load(open('states.json',))['states_daily'])])\n",
        "#print(dates)\n",
        "data_recovered = pd.DataFrame()\n",
        "data_deceased = pd.DataFrame()\n",
        "data_confirmed = pd.DataFrame()\n",
        "\n",
        "for s in state_id.keys():\n",
        "    st=state_id[s]\n",
        "    data_confirmed[st] = np.array(states[st]['daily_positive_cases'])\n",
        "    data_deceased[st] = np.array(states[st]['daily_deceased'])\n",
        "    data_recovered[st] = np.array(states[st]['daily_recovered'])"
      ],
      "execution_count": null,
      "outputs": []
    },
    {
      "cell_type": "code",
      "metadata": {
        "colab_type": "code",
        "id": "xK8aH0zUiL4h",
        "colab": {}
      },
      "source": [
        "def n2z(x):\n",
        "    x[np.logical_or(np.isnan(x),np.isinf(x))] = 0\n",
        "    return x"
      ],
      "execution_count": null,
      "outputs": []
    },
    {
      "cell_type": "code",
      "metadata": {
        "colab_type": "code",
        "id": "YylW_gHIjGaX",
        "colab": {}
      },
      "source": [
        "data_recovered = data_recovered.replace(r'^\\s*$', np.NaN, regex=True).fillna(0)\n",
        "data_recovered = data_recovered.astype(np.int32)\n",
        "data_confirmed = data_confirmed.replace(r'^\\s*$', np.NaN, regex=True).fillna(0)\n",
        "data_confirmed = data_confirmed.astype(np.int32)\n",
        "data_deceased = data_deceased.replace(r'^\\s*$', np.NaN, regex=True).fillna(0)\n",
        "data_deceased = data_deceased.astype(np.int32)\n",
        "data_deceased['date'] = dates\n",
        "data_recovered['date'] = dates\n",
        "data_confirmed['date'] = dates"
      ],
      "execution_count": null,
      "outputs": []
    },
    {
      "cell_type": "code",
      "metadata": {
        "colab_type": "code",
        "id": "z-bxCxt9dKPA",
        "colab": {}
      },
      "source": [
        "json_data={}\n",
        "cfr = pd.DataFrame()\n",
        "final=pd.DataFrame\n",
        "plt.figure(1, figsize=(15, 7))\n",
        "for st in state_id.keys():\n",
        "    print(\"cfr() -- Working : \",state_id[st])\n",
        "\n",
        "    state=state_id[st]\n",
        "    boots = 100\n",
        "    conf = []\n",
        "    for n in range(boots):\n",
        "        if n  == boots//4:\n",
        "          print(\"Progress : 25%\")\n",
        "        if n  == boots//2:\n",
        "          print(\"Progress : 50%\")\n",
        "        if n  == (boots*3)//4:\n",
        "          print(\"Progress : 75%\")  \n",
        "        if n  == boots-1:\n",
        "          print(\"Progress : 100%\")\n",
        "\n",
        "        dataset = np.copy(data_confirmed[state].values)\n",
        "        mean = 13.0+(20.9-8.7)/4*np.random.normal()\n",
        "        sd = 12.7+(26.0-6.4)/4*np.random.normal()\n",
        "        phi = np.sqrt(sd**2 + mean**2)\n",
        "        mu = np.log(mean**2/phi)\n",
        "        sigma = np.sqrt(np.log(phi**2/mean**2))\n",
        "        L = lognorm(s=sigma,scale=np.exp(mu))\n",
        "        for i in range(len(dataset)-1,-1,-1):\n",
        "            send_forward = np.round(L.rvs(np.max([dataset[i],0])))\n",
        "            send_forward = send_forward[i+send_forward<len(dataset)]\n",
        "            dataset[i] = 0\n",
        "            for j in np.unique(np.int32(send_forward)):\n",
        "                dataset[i+j] += np.sum(send_forward==j)\n",
        "        conf.append(dataset)\n",
        "    CFR = np.cumsum(data_deceased[state].values)/np.cumsum(conf,axis=1)\n",
        "    col_mean = np.nanmean(CFR, axis=0)\n",
        "    inds = np.where(np.isnan(CFR))\n",
        "    CFR[inds] = np.take(col_mean, inds[1])\n",
        "    #temp1=list(pd.Series(dates).dt.strftime('%m-%d-%Y'))\n",
        "    #print(temp1[0])\n",
        "    dates = states[state]['dates']\n",
        "    temp = {\n",
        "        'dates':dates,\n",
        "        'cfr1_point':list(n2z(100*np.cumsum(data_deceased[state].values)/np.cumsum(data_confirmed[state].values))),\n",
        "        'cfr2_point':list(n2z(100*np.cumsum(data_deceased[state].values)/(np.cumsum(data_deceased[state].values)+np.cumsum(data_recovered[state].values)))),\n",
        "        'cfr3_point':list(n2z(100*np.median(CFR,axis=0))),\n",
        "        'cfr3_l95':list(n2z(100*np.quantile(CFR,0.025,axis=0))),\n",
        "        'cfr3_u95':list(n2z(100*np.quantile(CFR,0.975,axis=0))),\n",
        "        'cfr3_l50':list(n2z(100*np.quantile(CFR,0.25,axis=0))),\n",
        "        'cfr3_u50':list(n2z(100*np.quantile(CFR,0.75,axis=0))),\n",
        "        }\n",
        "    a=state_id[st]\n",
        "    #print(a)\n",
        "    states[state].update(temp)\n",
        "    json_data[state] = temp\n",
        "    cfr_state=pd.DataFrame()\n",
        "    cfr_state['state']=[str(a)]*len(dates)\n",
        "    cfr_state['dates']=dates\n",
        "    cfr_state['cfr1_point']=(list(100*n2z(np.cumsum(data_deceased[state].values)/np.cumsum(data_confirmed[state].values))))\n",
        "    cfr_state['cfr2_point']=(list(100*n2z(np.cumsum(data_deceased[state].values)/(np.cumsum(data_deceased[state].values)+np.cumsum(data_recovered[state].values)))))\n",
        "    cfr_state['cfr3_point']=(list(100*n2z(np.median(CFR,axis=0))))\n",
        "    cfr_state['cfr3_l95']=(list(100*n2z(np.quantile(CFR,0.025,axis=0))))\n",
        "    cfr_state['cfr3_u95']=(list(100*n2z(np.quantile(CFR,0.975,axis=0))))\n",
        "    cfr_state['cfr3_l50']=(list(100*n2z(np.quantile(CFR,0.25,axis=0))))\n",
        "    cfr_state['cfr3_u50']=(list(100*n2z(np.quantile(CFR,0.75,axis=0))))\n",
        "    cfr=pd.concat([cfr, cfr_state])\n",
        "      \n",
        "    plt.plot(temp['cfr3_point'],label=state)\n",
        "plt.legend()"
      ],
      "execution_count": null,
      "outputs": []
    },
    {
      "cell_type": "code",
      "metadata": {
        "colab_type": "code",
        "id": "lmm0jRg2ihwc",
        "colab": {}
      },
      "source": [
        "cfr.to_csv('cfr.csv',index=False)\n",
        "from datetime import datetime\n",
        "json_data['datetime']=str(datetime.now(pytz.timezone('Asia/Kolkata')))"
      ],
      "execution_count": null,
      "outputs": []
    },
    {
      "cell_type": "code",
      "metadata": {
        "colab_type": "code",
        "id": "L71oau76mlox",
        "colab": {}
      },
      "source": [
        "json_data_indented = json.dumps(json_data, indent = 4)\n",
        "with open(\"cfr.json\", \"w\") as outfile: \n",
        "    outfile.write(json_data_indented)"
      ],
      "execution_count": null,
      "outputs": []
    },
    {
      "cell_type": "markdown",
      "metadata": {
        "colab_type": "text",
        "id": "wEhhFwc2dc5l"
      },
      "source": [
        "#Doubling Rate"
      ]
    },
    {
      "cell_type": "code",
      "metadata": {
        "colab_type": "code",
        "id": "hRXAaZHxmn7l",
        "colab": {}
      },
      "source": [
        "def calc_doublingtimes(x):\n",
        "    vals = []\n",
        "    for i in range(x.shape[0]):\n",
        "        for j in range(i+1,x.shape[0]):\n",
        "            if len(str(x[j])) and len(str(x[i])):\n",
        "                vals.append(np.log(2)*(j-i)/np.log(int(x[j])/int(x[i])))\n",
        "    if not vals:\n",
        "        return 0,0,0\n",
        "    return np.median(vals),np.quantile(vals,0.025),np.quantile(vals,0.975)"
      ],
      "execution_count": null,
      "outputs": []
    },
    {
      "cell_type": "code",
      "metadata": {
        "colab_type": "code",
        "id": "kWkEzdp2dtJv",
        "colab": {}
      },
      "source": [
        "start=datetime.now()\n",
        "x=datetime.now(pytz.timezone('Asia/Kolkata')).date()\n",
        "dd=pd.date_range(start=\"2020-01-30\",end=x)\n",
        "datess=[]\n",
        "for i in range(len(dd)):\n",
        "  datess.append((str(dd[i])[:10]))"
      ],
      "execution_count": null,
      "outputs": []
    },
    {
      "cell_type": "code",
      "metadata": {
        "colab_type": "code",
        "id": "8R0wO5ONgrCK",
        "colab": {}
      },
      "source": [
        "dates1=[]\n",
        "for w in range (len(dates)):\n",
        "  if len(dates[w]):\n",
        "    dates1.append(convert(datess[w]))"
      ],
      "execution_count": null,
      "outputs": []
    },
    {
      "cell_type": "code",
      "metadata": {
        "colab_type": "code",
        "id": "uOGYyp1Rd8N6",
        "colab": {
          "base_uri": "https://localhost:8080/",
          "height": 92
        },
        "outputId": "9b144637-bbc1-47f5-d8bd-532e4bc531a2"
      },
      "source": [
        "json_data={}\n",
        "\n",
        "test_json_url = 'https://api.covid19india.org/v3/data-all.json'\n",
        "test_json = json.loads(urlopen(test_json_url).read())\n",
        "test= test_json\n",
        "\n",
        "for j in state_id.keys():\n",
        "    cumul=['']*len(dates)\n",
        "    st=state_id[j]\n",
        "    cumul=states[st]['cum_positive_cases']\n",
        "\n",
        "    cumul_cases=np.array(cumul)\n",
        "    dbt = np.zeros((3,cumul_cases.shape[0]))\n",
        "    for i in range(cumul_cases.shape[0]):\n",
        "        dbt[:,i] = calc_doublingtimes(cumul_cases[i-7:i])\n",
        "    st=state_id[j]\n",
        "    json_data[st] = {\n",
        "            'dates':dates1,\n",
        "            'dbt_point':pd.Series((list(dbt[0,:]))).fillna('').tolist(),\n",
        "            'dbt_l95':pd.Series((list(dbt[1,:]))).fillna('').tolist(),\n",
        "            'dbt_u95':pd.Series((list(dbt[2,:]))).fillna('').tolist()\n",
        "            }\n",
        "    states[st].update(json_data[st])"
      ],
      "execution_count": null,
      "outputs": [
        {
          "output_type": "stream",
          "text": [
            "/usr/local/lib/python3.6/dist-packages/ipykernel_launcher.py:6: RuntimeWarning: divide by zero encountered in double_scalars\n",
            "  \n",
            "/usr/local/lib/python3.6/dist-packages/numpy/lib/function_base.py:3942: RuntimeWarning: invalid value encountered in multiply\n",
            "  x2 = take(ap, indices_above, axis=axis) * weights_above\n"
          ],
          "name": "stderr"
        }
      ]
    },
    {
      "cell_type": "markdown",
      "metadata": {
        "id": "qGM2uPiQuKGq",
        "colab_type": "text"
      },
      "source": [
        "#Rt Calculation"
      ]
    },
    {
      "cell_type": "code",
      "metadata": {
        "id": "pUoj8Owqk_vi",
        "colab_type": "code",
        "colab": {}
      },
      "source": [
        "def shift_rt(li,day=9):\n",
        "  collections.deque([1, 2, 3, 4, 5])"
      ],
      "execution_count": null,
      "outputs": []
    },
    {
      "cell_type": "code",
      "metadata": {
        "id": "jzCGqUfXuKGs",
        "colab_type": "code",
        "colab": {}
      },
      "source": [
        "data_recovered = pd.DataFrame()\n",
        "data_deceased = pd.DataFrame()\n",
        "data_confirmed = pd.DataFrame()\n",
        "for s in state_id.keys():\n",
        "    st=state_id[s]\n",
        "    data_confirmed[st] = np.array(states[st]['daily_positive_cases'])\n",
        "    data_deceased[st] = np.array(states[st]['daily_deceased'])\n",
        "    data_recovered[st] = np.array(states[st]['daily_recovered'])"
      ],
      "execution_count": null,
      "outputs": []
    },
    {
      "cell_type": "code",
      "metadata": {
        "id": "vQlPY_0nuKG3",
        "colab_type": "code",
        "colab": {}
      },
      "source": [
        "data_recovered = data_recovered.replace(r'^\\s*$', np.NaN, regex=True).fillna(0)\n",
        "data_recovered = data_recovered.astype(np.int32)\n",
        "data_confirmed = data_confirmed.replace(r'^\\s*$', np.NaN, regex=True).fillna(0)\n",
        "data_confirmed = data_confirmed.astype(np.int32)\n",
        "data_deceased = data_deceased.replace(r'^\\s*$', np.NaN, regex=True).fillna(0)\n",
        "data_deceased = data_deceased.astype(np.int32)\n",
        "data_deceased['date'] = dates\n",
        "data_recovered['date'] = dates\n",
        "data_confirmed['date'] = dates"
      ],
      "execution_count": null,
      "outputs": []
    },
    {
      "cell_type": "code",
      "metadata": {
        "scrolled": false,
        "id": "dv1aI8w8uKG-",
        "colab_type": "code",
        "colab": {}
      },
      "source": [
        "rt = pd.DataFrame()\n",
        "# plt.figure(1, figsize=(15, 7))\n",
        "for st in state_id.keys():\n",
        "    state=state_id[st]\n",
        "    temp = pd.DataFrame()\n",
        "    temp[\"active\"] = data_confirmed[state]\n",
        "    temp.to_csv('confirmed.csv')\n",
        "    call(['RScript.exe','scripts/boot_rt_back.R'])\n",
        "    values = {\n",
        "            'rt_point':[],\n",
        "            'rt_sd':[],\n",
        "            'rt_l95':[],\n",
        "            'rt_u95':[],\n",
        "            'rt_l50':[],\n",
        "            'rt_u50':[],\n",
        "            't_end':[]\n",
        "            }\n",
        "    for df in [pd.read_csv('rt_temp/'+temp) for temp in os.listdir('rt_temp/')]:\n",
        "        values['rt_point'].append(df['Mean(R)'])\n",
        "        values['rt_sd'].append(df['Std(R)'])\n",
        "        values['rt_l95'].append(df['Quantile.0.025(R)'])\n",
        "        values['rt_u95'].append(df['Quantile.0.975(R)'])\n",
        "        values['rt_l50'].append(df['Quantile.0.25(R)'])\n",
        "        values['rt_u50'].append(df['Quantile.0.75(R)'])\n",
        "        values['t_end'].append(df['t_end']-1)\n",
        "    for i in values:\n",
        "        values[i] = np.median(values[i],axis=0)\n",
        "    values['dates'] = list(data_confirmed['date'][values['t_end']-1])\n",
        "    rt_state=pd.DataFrame()\n",
        "    rt_state['state']=[str(state)]*len(values['dates'])\n",
        "    rt_state['dates']= values['dates']\n",
        "    rt_state['rt_point'] = values['rt_point']\n",
        "    rt_state['rt_sd'] = values['rt_sd']    \n",
        "    rt_state['rt_l95'] = values['rt_l95']    \n",
        "    rt_state['rt_u95'] = values['rt_u95']    \n",
        "    rt_state['rt_l50'] = values['rt_l50']\n",
        "    rt_state['rt_u50'] = values['rt_u50']\n",
        "    rt=pd.concat([rt, rt_state])\n",
        "    plt.plot(range(len(values['rt_point'])),values['rt_point'],label=state)\n",
        "    plt.fill_between(range(len(values['rt_point'])),values['rt_l95'],values['rt_u95'],alpha=0.5)\n",
        "    plt.ylim(0,4)\n",
        "    plt.legend()\n",
        "    plt.show()"
      ],
      "execution_count": null,
      "outputs": []
    },
    {
      "cell_type": "code",
      "metadata": {
        "id": "KEfUZftEuKHJ",
        "colab_type": "code",
        "colab": {}
      },
      "source": [
        "rt.to_csv('rt.csv',index=False)"
      ],
      "execution_count": null,
      "outputs": []
    },
    {
      "cell_type": "markdown",
      "metadata": {
        "id": "NLsCNBKpCx7O",
        "colab_type": "text"
      },
      "source": [
        "##Rt Shifting"
      ]
    },
    {
      "cell_type": "code",
      "metadata": {
        "id": "MtH6zdMU0EkO",
        "colab_type": "code",
        "colab": {}
      },
      "source": [
        "def shift_rt_metrics(dict,key,days=9):\n",
        "  values_shifted = collections.deque(dict[key])\n",
        "  values_shifted.rotate(-9)\n",
        "\n",
        "  new_val = list(values_shifted)\n",
        "\n",
        "  size = len(dict['dates'])\n",
        "  \n",
        "  for i in range(days):\n",
        "    new_val[size-1-i]=''\n",
        "\n",
        "  return new_val\n",
        " "
      ],
      "execution_count": null,
      "outputs": []
    },
    {
      "cell_type": "code",
      "metadata": {
        "id": "_J5_DRvX-SdA",
        "colab_type": "code",
        "colab": {}
      },
      "source": [
        "values_shifted = copy.deepcopy(values)\n",
        "values_shifted['rt_point'] = shift_rt_metrics(values_shifted,'rt_point')\n",
        "values_shifted['rt_sd'] = shift_rt_metrics(values_shifted,'rt_sd')\n",
        "values_shifted['rt_l95'] = shift_rt_metrics(values_shifted,'rt_195')\n",
        "values_shifted['rt_u95'] = shift_rt_metrics(values_shifted,'rt_u96')\n",
        "values_shifted['rt_l50'] = shift_rt_metrics(values_shifted,'rt_150')\n",
        "values_shifted['rt_u50'] = shift_rt_metrics(values_shifted,'rt_u50')\n",
        "values_shifted['t_end'] = shift_rt_metrics(values_shifted,'t_end')"
      ],
      "execution_count": null,
      "outputs": []
    },
    {
      "cell_type": "markdown",
      "metadata": {
        "id": "aVXkhSzq_XBI",
        "colab_type": "text"
      },
      "source": [
        "##Rt changes for review"
      ]
    },
    {
      "cell_type": "code",
      "metadata": {
        "id": "aApEDCL7-_gr",
        "colab_type": "code",
        "colab": {}
      },
      "source": [
        "print('Last 15 days : ',values_shifted['rt_point'][-15:])\n",
        "print('Last 15 days : ',values_shifted['u95'][-15:])\n",
        "print('Last 15 days : ',values_shifted['rt_l95'][-15:])"
      ],
      "execution_count": null,
      "outputs": []
    },
    {
      "cell_type": "code",
      "metadata": {
        "id": "SjNaxt3p_ZhS",
        "colab_type": "code",
        "colab": {}
      },
      "source": [
        "with open('rt_shifted.json', 'w') as outfile:\n",
        "  json.dump(values_shifted, outfile,indent=4)"
      ],
      "execution_count": null,
      "outputs": []
    },
    {
      "cell_type": "code",
      "metadata": {
        "id": "LKYkPwynzndj",
        "colab_type": "code",
        "colab": {}
      },
      "source": [
        "swith open('rt.json', 'w') as outfile:\n",
        "  json.dump(values, outfile,indent=4)"
      ],
      "execution_count": null,
      "outputs": []
    },
    {
      "cell_type": "code",
      "metadata": {
        "id": "p-6gZXTQzMas",
        "colab_type": "code",
        "colab": {}
      },
      "source": [
        "df_list = [df,cfr,rt]\n",
        "all_dataframes = pd.concat(df_list)\n",
        "all_dataframes.to_csv('complete_districts_all_metrics.csv',index=False)"
      ],
      "execution_count": null,
      "outputs": []
    },
    {
      "cell_type": "markdown",
      "metadata": {
        "id": "-7sizcxPuKHZ",
        "colab_type": "text"
      },
      "source": [
        "#Pooling"
      ]
    },
    {
      "cell_type": "code",
      "metadata": {
        "colab_type": "code",
        "id": "117lq5wLXCvL",
        "colab": {
          "base_uri": "https://localhost:8080/",
          "height": 73
        },
        "outputId": "eb349fbf-f6de-4886-9b9e-912d0f0ff08b"
      },
      "source": [
        "print(\"No of days of data present: \",len(dates))\n",
        "print(\"Data rows for state dict: \",len(states['India']['dbt_u95']))\n",
        "print(\"No. of states : \",len(states.keys())-1)"
      ],
      "execution_count": null,
      "outputs": [
        {
          "output_type": "stream",
          "text": [
            "No of days of data present:  192\n",
            "Data rows for state dict:  192\n",
            "No. of states :  36\n"
          ],
          "name": "stdout"
        }
      ]
    },
    {
      "cell_type": "code",
      "metadata": {
        "colab_type": "code",
        "id": "AYcRWGwfbFqa",
        "colab": {
          "base_uri": "https://localhost:8080/",
          "height": 36
        },
        "outputId": "b385a3c7-a443-4a3e-a372-3c7fe9c8f7ec"
      },
      "source": [
        "print(\"Date updated : \",states['datetime'])"
      ],
      "execution_count": null,
      "outputs": [
        {
          "output_type": "stream",
          "text": [
            "Date updated :  2020-08-10 17:46:05.704713+05:30\n"
          ],
          "name": "stdout"
        }
      ]
    },
    {
      "cell_type": "code",
      "metadata": {
        "colab_type": "code",
        "id": "HWcFATKDGfY5",
        "colab": {}
      },
      "source": [
        "cols=list(states['India'].keys())\n",
        "q=['state']\n",
        "complete=pd.DataFrame(columns=q+cols)\n",
        "keys=list(states.keys())[:-1]\n",
        "for i in keys:\n",
        "  temp=pd.DataFrame()\n",
        "  temp['state']=[str(i)]*len(states['India']['dates'])\n",
        "  for j in cols:\n",
        "\n",
        "    temp[j]=list(states[i][j])\n",
        "  complete = pd.concat([complete,temp])"
      ],
      "execution_count": null,
      "outputs": []
    },
    {
      "cell_type": "code",
      "metadata": {
        "colab_type": "code",
        "id": "dhye4Qn26bTF",
        "colab": {}
      },
      "source": [
        "complete.to_csv('com.csv',index=False)"
      ],
      "execution_count": null,
      "outputs": []
    },
    {
      "cell_type": "code",
      "metadata": {
        "colab_type": "code",
        "id": "yoIG5b-qeBF2",
        "colab": {}
      },
      "source": [
        "json_data_indented = json.dumps(json_data, indent = 4)\n",
        "with open(\"doubling_rate.json\", \"w\") as outfile: \n",
        "    outfile.write(json_data_indented)"
      ],
      "execution_count": null,
      "outputs": []
    },
    {
      "cell_type": "code",
      "metadata": {
        "colab_type": "code",
        "id": "LF5HPhfgniCs",
        "colab": {}
      },
      "source": [
        "states_indented = json.dumps(states, indent = 4)\n",
        "with open(\"covidtoday.json\", \"w\") as outfile: \n",
        "    outfile.write(states_indented)"
      ],
      "execution_count": null,
      "outputs": []
    },
    {
      "cell_type": "code",
      "metadata": {
        "colab_type": "code",
        "id": "OuEakH5cA7u2",
        "colab": {
          "base_uri": "https://localhost:8080/",
          "height": 185
        },
        "outputId": "ccb5b868-e181-4b54-88dc-4e718bc384b6"
      },
      "source": [
        "complete.columns"
      ],
      "execution_count": null,
      "outputs": [
        {
          "output_type": "execute_result",
          "data": {
            "text/plain": [
              "Index(['state', 'dates', 'cum_positive_cases', 'cum_positivity_rate',\n",
              "       'daily_positive_cases', 'cum_recovered', 'daily_recovered',\n",
              "       'cum_deceased', 'daily_deceased', 'daily_positivity_rate',\n",
              "       'daily_positive_cases_ma', 'daily_positivity_rate_ma', 'daily_tests',\n",
              "       'cum_tests', 'test_per_million', 'daily_cases_per_million',\n",
              "       'daily_tests_per_million', 'daily_tests_ma', 'daily_deceased_ma',\n",
              "       'cfr1_point', 'cfr2_point', 'cfr3_point', 'cfr3_l95', 'cfr3_u95',\n",
              "       'cfr3_l50', 'cfr3_u50', 'dbt_point', 'dbt_l95', 'dbt_u95'],\n",
              "      dtype='object')"
            ]
          },
          "metadata": {
            "tags": []
          },
          "execution_count": 59
        }
      ]
    },
    {
      "cell_type": "code",
      "metadata": {
        "id": "Zjj1BR4ouKIx",
        "colab_type": "code",
        "colab": {}
      },
      "source": [
        ""
      ],
      "execution_count": null,
      "outputs": []
    }
  ]
}