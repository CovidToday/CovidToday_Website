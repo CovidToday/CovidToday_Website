{
 "cells": [
  {
   "cell_type": "code",
   "execution_count": 1,
   "metadata": {
    "colab": {
     "base_uri": "https://localhost:8080/",
     "height": 219
    },
    "colab_type": "code",
    "id": "1MGiletA7xev",
    "outputId": "f3ecf2bf-ff62-4abd-9c05-0e00424051a8",
    "scrolled": false
   },
   "outputs": [],
   "source": [
    "#!pip install wget\n",
    "#!pip install urllib3"
   ]
  },
  {
   "cell_type": "code",
   "execution_count": 2,
   "metadata": {
    "colab": {},
    "colab_type": "code",
    "id": "5Bg5JGkOoFkM",
    "scrolled": false
   },
   "outputs": [],
   "source": [
    "import numpy as np\n",
    "import matplotlib.pyplot as plt\n",
    "import pandas as pd\n",
    "from subprocess import call\n",
    "from scipy.stats.distributions import gamma,lognorm\n",
    "import json \n",
    "import wget\n",
    "import os\n",
    "import os.path\n",
    "from datetime import datetime,timedelta\n",
    "import pytz \n",
    "from collections import OrderedDict\n",
    "\n",
    "from urllib.request import urlopen\n",
    "import copy\n",
    "import collections"
   ]
  },
  {
   "cell_type": "code",
   "execution_count": 3,
   "metadata": {
    "colab": {},
    "colab_type": "code",
    "id": "Mbqk2GCWvBe2",
    "scrolled": false
   },
   "outputs": [],
   "source": [
    "#!git clone https://github.com/CovidToday/backend"
   ]
  },
  {
   "cell_type": "code",
   "execution_count": 4,
   "metadata": {
    "colab": {
     "base_uri": "https://localhost:8080/",
     "height": 36
    },
    "colab_type": "code",
    "id": "GbTAAECqo4b8",
    "outputId": "0f734e94-212c-45fe-d590-10b55a2954cb",
    "scrolled": false
   },
   "outputs": [
    {
     "name": "stdout",
     "output_type": "stream",
     "text": [
      "100% [....................................................] 32249721 / 32249721"
     ]
    },
    {
     "data": {
      "text/plain": [
       "'C:\\\\Users\\\\asus\\\\Documents\\\\GitHub\\\\CovidToday_Website\\\\unified\\\\state_data\\\\test.json'"
      ]
     },
     "execution_count": 4,
     "metadata": {},
     "output_type": "execute_result"
    }
   ],
   "source": [
    "if os.path.exists(\"test.json\"):\n",
    "  os.remove(\"test.json\")\n",
    "wget.download('https://api.covid19india.org/v3/data-all.json', os.path.join(os.getcwd(),'test.json')) #os.path.join instead of concating string together"
   ]
  },
  {
   "cell_type": "code",
   "execution_count": 138,
   "metadata": {
    "colab": {},
    "colab_type": "code",
    "id": "b_Mmdu4qo8np",
    "scrolled": false
   },
   "outputs": [],
   "source": [
    "# Removed bulky fn and convert code\n",
    "# Handles errors too\n",
    "'''\n",
    "def fn(mon):\n",
    "  if(mon == \"01\"):\n",
    "    return \" January\"\n",
    "  if(mon == \"02\"):\n",
    "    return \" February\"\n",
    "  if(mon == \"03\"):\n",
    "    return \" March\"\n",
    "  if(mon == \"04\"):\n",
    "    return \" April\"\n",
    "  if(mon == \"05\"):\n",
    "    return \" May\"\n",
    "  if(mon == \"06\"):\n",
    "    return \" June\"\n",
    "  if(mon == \"07\"):\n",
    "    return \" July\"\n",
    "  if(mon == \"08\"):\n",
    "    return \" August\"\n",
    "  if(mon == \"09\"):\n",
    "    return \" September\"\n",
    "  if(mon == \"10\"):\n",
    "    return \" October\"\n",
    "  if(mon == \"11\"):\n",
    "    return \" November\"\n",
    "  if(mon == \"12\"):\n",
    "    return \" December\"\n",
    "'''\n",
    "\n",
    "def convert(dat): \n",
    "    return datetime.strptime(dat, '%Y-%m-%d').strftime('%d %B')\n"
   ]
  },
  {
   "cell_type": "code",
   "execution_count": 139,
   "metadata": {},
   "outputs": [
    {
     "data": {
      "text/plain": [
       "dict_keys(['2020-01-30', '2020-02-02', '2020-02-03', '2020-02-14', '2020-03-02', '2020-03-03', '2020-03-04', '2020-03-05', '2020-03-06', '2020-03-07', '2020-03-08', '2020-03-09', '2020-03-10', '2020-03-11', '2020-03-12', '2020-03-13', '2020-03-14', '2020-03-15', '2020-03-16', '2020-03-17', '2020-03-18', '2020-03-19', '2020-03-20', '2020-03-21', '2020-03-22', '2020-03-23', '2020-03-24', '2020-03-25', '2020-03-26', '2020-03-27', '2020-03-28', '2020-03-29', '2020-03-30', '2020-03-31', '2020-04-01', '2020-04-02', '2020-04-03', '2020-04-04', '2020-04-05', '2020-04-06', '2020-04-07', '2020-04-08', '2020-04-09', '2020-04-10', '2020-04-11', '2020-04-12', '2020-04-13', '2020-04-14', '2020-04-15', '2020-04-16', '2020-04-17', '2020-04-18', '2020-04-19', '2020-04-20', '2020-04-21', '2020-04-22', '2020-04-23', '2020-04-24', '2020-04-25', '2020-04-26', '2020-04-27', '2020-04-28', '2020-04-29', '2020-04-30', '2020-05-01', '2020-05-02', '2020-05-03', '2020-05-04', '2020-05-05', '2020-05-06', '2020-05-07', '2020-05-08', '2020-05-09', '2020-05-10', '2020-05-11', '2020-05-12', '2020-05-13', '2020-05-14', '2020-05-15', '2020-05-16', '2020-05-17', '2020-05-18', '2020-05-19', '2020-05-20', '2020-05-21', '2020-05-22', '2020-05-23', '2020-05-24', '2020-05-25', '2020-05-26', '2020-05-27', '2020-05-28', '2020-05-29', '2020-05-30', '2020-05-31', '2020-06-01', '2020-06-02', '2020-06-03', '2020-06-04', '2020-06-05', '2020-06-06', '2020-06-07', '2020-06-08', '2020-06-09', '2020-06-10', '2020-06-11', '2020-06-12', '2020-06-13', '2020-06-14', '2020-06-15', '2020-06-16', '2020-06-17', '2020-06-18', '2020-06-19', '2020-06-20', '2020-06-21', '2020-06-22', '2020-06-23', '2020-06-24', '2020-06-25', '2020-06-26', '2020-06-27', '2020-06-28', '2020-06-29', '2020-06-30', '2020-07-01', '2020-07-02', '2020-07-03', '2020-07-04', '2020-07-05', '2020-07-06', '2020-07-07', '2020-07-08', '2020-07-09', '2020-07-10', '2020-07-11', '2020-07-12', '2020-07-13', '2020-07-14', '2020-07-15', '2020-07-16', '2020-07-17', '2020-07-18', '2020-07-19', '2020-07-20', '2020-07-21', '2020-07-22', '2020-07-23', '2020-07-24', '2020-07-25', '2020-07-26', '2020-07-27', '2020-07-28', '2020-07-29', '2020-07-30', '2020-07-31', '2020-08-01', '2020-08-02', '2020-08-03', '2020-08-04', '2020-08-05', '2020-08-06', '2020-08-07', '2020-08-08', '2020-08-09', '2020-08-10', '2020-08-11', '2020-08-12', '2020-08-13', '2020-08-14', '2020-08-15', '2020-08-16', '2020-08-17', '2020-08-18', '2020-08-19', '2020-08-20', '2020-08-21', '2020-08-22'])"
      ]
     },
     "execution_count": 139,
     "metadata": {},
     "output_type": "execute_result"
    }
   ],
   "source": [
    "json.load(open('test.json')).keys()"
   ]
  },
  {
   "cell_type": "code",
   "execution_count": 140,
   "metadata": {
    "colab": {
     "base_uri": "https://localhost:8080/",
     "height": 36
    },
    "colab_type": "code",
    "id": "EH9igVdY8IwB",
    "outputId": "4a6e7f07-dc00-4974-dee1-c04059c3a07f",
    "scrolled": false
   },
   "outputs": [
    {
     "data": {
      "text/plain": [
       "'30 May'"
      ]
     },
     "execution_count": 140,
     "metadata": {},
     "output_type": "execute_result"
    }
   ],
   "source": [
    "dt = '2020-05-30'\n",
    "convert(dt)"
   ]
  },
  {
   "cell_type": "code",
   "execution_count": 141,
   "metadata": {
    "colab": {},
    "colab_type": "code",
    "id": "mwwDMhrB9Axj",
    "scrolled": false
   },
   "outputs": [],
   "source": [
    "# maybe helpful \n",
    "\n",
    "def split_date_json(pos_rate_json,state):\n",
    "  td =  pd.DataFrame(pos_rate_json[state]['dates'])\n",
    "  \n",
    "  df = td.apply(lambda x: [x[0][:3],x[0][3:]],  result_type=\"expand\",axis=1)\n",
    "  df.columns=['date','month']\n",
    "  return df"
   ]
  },
  {
   "cell_type": "code",
   "execution_count": 142,
   "metadata": {
    "colab": {},
    "colab_type": "code",
    "id": "hx19gK_Vo_5J",
    "scrolled": false
   },
   "outputs": [],
   "source": [
    "#dataset=pd.read_csv('https://raw.githubusercontent.com/CovidToday/backend/master/testing-and-cfr/population.csv')\n",
    "dataset=pd.read_csv('population.csv')\n",
    "population=pd.DataFrame()\n",
    "population[\"State\"]=dataset['State'][:37]\n",
    "population[\"Population\"]=dataset['Population'][:37]\n",
    "population=population.set_index('State')"
   ]
  },
  {
   "cell_type": "code",
   "execution_count": 143,
   "metadata": {
    "colab": {},
    "colab_type": "code",
    "id": "489_2jZ1pDAe",
    "scrolled": false
   },
   "outputs": [],
   "source": [
    "state_id = {\n",
    "  \"TT\":\"India\",\n",
    "  \"MH\":\"Maharashtra\",\n",
    "  \"TN\":\"Tamil Nadu\",\n",
    "  \"DL\":\"Delhi\",\n",
    "  \"GJ\":\"Gujarat\",\n",
    "  \"RJ\":\"Rajasthan\",\n",
    "  \"UP\":\"Uttar Pradesh\",\n",
    "  \"MP\":\"Madhya Pradesh\",\n",
    "  \"WB\":\"West Bengal\",\n",
    "  \"KA\":\"Karnataka\",\n",
    "  \"BR\":\"Bihar\",\n",
    "  \"AP\":\"Andhra Pradesh\",\n",
    "  \"HR\":\"Haryana\",\n",
    "  \"TG\":\"Telangana\",\n",
    "  \"JK\":\"Jammu and Kashmir\",\n",
    "  \"OR\":\"Odisha\",\n",
    "  \"PB\":\"Punjab\",\n",
    "  \"AS\":\"Assam\",\n",
    "  \"KL\":\"Kerala\",\n",
    "  \"UT\":\"Uttarakhand\",\n",
    "  \"JH\":\"Jharkhand\",\n",
    "  \"CT\":\"Chhattisgarh\",\n",
    "  \"TR\":\"Tripura\",\n",
    "  \"HP\":\"Himachal Pradesh\",\n",
    "  \"CH\":\"Chandigarh\",\n",
    "  \"GA\":\"Goa\",\n",
    "  \"MN\":\"Manipur\",\n",
    "  \"NL\":\"Nagaland\",\n",
    "  \"PY\":\"Puducherry\",\n",
    "  \"LA\":\"Ladakh\",\n",
    "  \"AR\":\"Arunachal Pradesh\",\n",
    "  \"AN\":\"Andaman and Nicobar Islands\",\n",
    "  \"ML\":\"Meghalaya\",\n",
    "  \"MZ\":\"Mizoram\",\n",
    "  \"DN\":\"Dadra and Nagar Haveli and Daman and Diu\",\n",
    "  \"SK\":\"Sikkim\",\n",
    "}"
   ]
  },
  {
   "cell_type": "code",
   "execution_count": 144,
   "metadata": {
    "colab": {},
    "colab_type": "code",
    "id": "AmRFhGM1pFYS",
    "scrolled": false
   },
   "outputs": [],
   "source": [
    "#Changed\n",
    "\n",
    "'''\n",
    "from datetime import timedelta\n",
    "start=datetime.now()\n",
    "x1=datetime.now(pytz.timezone('Asia/Kolkata')).date()\n",
    "#x1 = datetime.today()\n",
    "#y1 = timedelta(days=7)\n",
    "y1=[]\n",
    "#x1=str(x1)[:10]\n",
    "for i in range(7,0,-1):\n",
    "  y1.append(str(datetime.today()-timedelta(days=i))[:10])\n",
    "#print(y1)\n",
    "##y1=str(y1)[:10]\n",
    "t=y1\n",
    "t\n",
    "'''\n",
    "def dates_gen(periods=60):\n",
    "  t = pd.Series(pd.date_range(end = datetime.now(pytz.timezone('Asia/Kolkata'))-timedelta(1), periods = periods)).dt.strftime('%Y-%m-%d').tolist()\n",
    "\n",
    "  return t"
   ]
  },
  {
   "cell_type": "code",
   "execution_count": 145,
   "metadata": {
    "colab": {},
    "colab_type": "code",
    "id": "OthKZGr36TQ-",
    "scrolled": false
   },
   "outputs": [],
   "source": [
    "t=dates_gen()"
   ]
  },
  {
   "cell_type": "code",
   "execution_count": 149,
   "metadata": {},
   "outputs": [],
   "source": [
    "from datetime import datetime\n",
    "x=datetime.today()\n",
    "dd=pd.date_range(start=\"2020-01-30\",end=x)\n",
    "dates=[]\n",
    "for i in range(len(dd)):\n",
    "  dates.append((str(dd[i])[:10]))\n",
    "#dates\n",
    "dates1=[]\n",
    "for w in range (len(dates)):\n",
    "  if len(dates[w]):\n",
    "    dates1.append(convert(dates[w]))"
   ]
  },
  {
   "cell_type": "code",
   "execution_count": 150,
   "metadata": {},
   "outputs": [
    {
     "data": {
      "text/plain": [
       "'2020-08-22'"
      ]
     },
     "execution_count": 150,
     "metadata": {},
     "output_type": "execute_result"
    }
   ],
   "source": [
    "dates[-1]"
   ]
  },
  {
   "cell_type": "markdown",
   "metadata": {
    "colab_type": "text",
    "id": "tSQkd78jaS2a"
   },
   "source": [
    "# Positive Rate (All metrics)\n",
    "\n"
   ]
  },
  {
   "cell_type": "code",
   "execution_count": 151,
   "metadata": {},
   "outputs": [
    {
     "name": "stdout",
     "output_type": "stream",
     "text": [
      "Working :  India\n",
      "Working :  Maharashtra\n",
      "Working :  Tamil Nadu\n",
      "Working :  Delhi\n",
      "Working :  Gujarat\n",
      "Working :  Rajasthan\n",
      "Working :  Uttar Pradesh\n",
      "Working :  Madhya Pradesh\n",
      "Working :  West Bengal\n",
      "Working :  Karnataka\n",
      "Working :  Bihar\n",
      "Working :  Andhra Pradesh\n",
      "Working :  Haryana\n",
      "Working :  Telangana\n",
      "Working :  Jammu and Kashmir\n",
      "Working :  Odisha\n",
      "Working :  Punjab\n",
      "Working :  Assam\n",
      "Working :  Kerala\n",
      "Working :  Uttarakhand\n",
      "Working :  Jharkhand\n",
      "Working :  Chhattisgarh\n",
      "Working :  Tripura\n",
      "Working :  Himachal Pradesh\n",
      "Working :  Chandigarh\n",
      "Working :  Goa\n",
      "Working :  Manipur\n",
      "Working :  Nagaland\n",
      "Working :  Puducherry\n",
      "Working :  Ladakh\n",
      "Working :  Arunachal Pradesh\n",
      "Working :  Andaman and Nicobar Islands\n",
      "Working :  Meghalaya\n",
      "Working :  Mizoram\n",
      "Working :  Dadra and Nagar Haveli and Daman and Diu\n",
      "Working :  Sikkim\n"
     ]
    }
   ],
   "source": [
    "start=datetime.now()\n",
    "states={}\n",
    "\n",
    "csv_dates=[]\n",
    "csv_states=[]\n",
    "csv_total_cases=[]\n",
    "csv_cum_recovered=[]\n",
    "csv_daily_recovered=[]\n",
    "csv_cum_deceased=[]\n",
    "csv_daily_deceased=[]\n",
    "csv_positivity_rate_cumulative=[]\n",
    "csv_daily_positive_cases=[]\n",
    "csv_daily_positivity_rate=[]\n",
    "csv_daily_positive_cases_ma=[]\n",
    "csv_daily_positivity_rate_ma=[]\n",
    "csv_test_per_million=[]\n",
    "csv_daily_tested=[]\n",
    "csv_cum_tested=[]\n",
    "\n",
    "csv_daily_case_per_million = []\n",
    "csv_daily_test_per_million = []\n",
    "csv_daily_test_ma = []\n",
    "csv_daily_deceased_ma = []\n",
    "\n",
    "\n",
    "test=json.load(open('test.json'))\n",
    "\n",
    "for j in state_id.keys():\n",
    "  print(\"Working : \",state_id[j])\n",
    "  test_per_million=['']*len(dates)\n",
    "  pos_cum=['']*len(dates)\n",
    "  pos_rate_cum=['']*len(dates)\n",
    "  daily_pos=['']*len(dates)\n",
    "  daily_pos_ma=['']*len(dates)\n",
    "  daily_tested=['']*len(dates)\n",
    "  daily_pos_rate=['']*len(dates)\n",
    "  daily_pos_rate_ma=['']*len(dates)\n",
    "  tested_cum=['']*len(dates)\n",
    "  tested_daily=['']*len(dates)\n",
    "  deceased_cum=['']*len(dates)\n",
    "  daily_deceased=['']*len(dates)\n",
    "  recovered_cum=['']*len(dates)\n",
    "  daily_recovered=['']*len(dates)\n",
    "    \n",
    "  \n",
    "  daily_case_per_million = ['']*len(dates)\n",
    "  daily_test_per_million = ['']*len(dates)\n",
    "  daily_test_ma = ['']*len(dates)\n",
    "  daily_deceased_ma = ['']*len(dates)\n",
    "    \n",
    "  for i in range(len(dates)):\n",
    "    if dates[i] in test.keys():\n",
    "        temp=test[dates[i]]\n",
    "    \n",
    "        if j in temp.keys():\n",
    "          if 'total' in temp[j].keys():\n",
    "            if 'confirmed' in temp[j]['total'].keys():\n",
    "              pos_cum[i]=temp[j]['total']['confirmed']\n",
    "\n",
    "            if 'tested' in temp[j]['total'].keys():\n",
    "              tested_cum[i]=abs(temp[j]['total']['tested'])\n",
    "              test_per_million[i]=temp[j]['total']['tested']*1000000/int(population[\"Population\"][state_id[j]])\n",
    "\n",
    "            if 'deceased' in temp[j]['total'].keys():\n",
    "              deceased_cum[i]=temp[j]['total']['deceased']\n",
    "\n",
    "            if 'recovered' in temp[j]['total'].keys():\n",
    "              recovered_cum[i]=temp[j]['total']['recovered']\n",
    "\n",
    "            if len(str(pos_cum[i])) and len(str(tested_cum[i])):\n",
    "              pos_rate_cum[i]= pos_cum[i]*100/tested_cum[i]\n",
    "\n",
    "          if 'delta' in temp[j].keys():\n",
    "            if 'confirmed' in temp[j]['delta'].keys():\n",
    "              daily_pos[i]=temp[j]['delta']['confirmed']\n",
    "              daily_case_per_million[i] =temp[j]['delta']['confirmed']*1000000/int(population[\"Population\"][k])   #New\n",
    "\n",
    "            if 'tested' in temp[j]['delta'].keys():\n",
    "              daily_tested[i]=abs(temp[j]['delta']['tested'])\n",
    "              daily_test_per_million[i] = temp[j]['delta']['tested']*1000000/int(population[\"Population\"][k])    #New\n",
    "\n",
    "            if 'deceased' in temp[j]['delta'].keys():\n",
    "              daily_deceased[i]=temp[j]['delta']['deceased']\n",
    "\n",
    "            if 'recovered' in temp[j]['delta'].keys():\n",
    "              daily_recovered[i]=temp[j]['delta']['recovered']\n",
    "\n",
    "            if len(str(daily_pos[i])) and len(str(daily_tested[i])):\n",
    "              daily_pos_rate[i]=int(daily_pos[i])*100/int(daily_tested[i])\n",
    "\n",
    "  for w in range(7,len(daily_pos)):\n",
    "    sum1=0\n",
    "    sum2=0\n",
    "    for s in range(7):\n",
    "      if (len(str(daily_pos[w-s]))!=0 and len(str(daily_tested[w-s]))!=0):\n",
    "        sum1+=int(daily_pos[w-s])\n",
    "        sum2+=int(daily_tested[w-s])\n",
    "    if (sum2!=0):\n",
    "      daily_pos_rate_ma[w]=sum1*100/abs(sum2)\n",
    "  \n",
    "  for w in range(7,len(daily_pos)):\n",
    "    sum1=0\n",
    "    count=0\n",
    "    for s in range(7):\n",
    "      if (len(str(daily_pos[w-s]))!=0):\n",
    "        sum1+=int(daily_pos[w-s])\n",
    "        count+=1\n",
    "    if count!=0:\n",
    "      daily_pos_ma[w]=sum1/count\n",
    "    \n",
    "  #New\n",
    "    for w in range(7,len(daily_tested)):\n",
    "      sum1=0\n",
    "      count=0\n",
    "      for s in range(7):\n",
    "        if (len(str(daily_tested[w-s]))!=0):\n",
    "          sum1+=int(daily_tested[w-s])\n",
    "        \n",
    "          count+=1\n",
    "      if count!=0:\n",
    "        daily_test_ma[w]=sum1/count\n",
    "        \n",
    "    #New\n",
    "    for w in range(7,len(daily_deceased)):\n",
    "      sum1=0\n",
    "      count=0\n",
    "      for s in range(7):\n",
    "        if (len(str(daily_deceased[w-s]))!=0):\n",
    "          sum1+=int(daily_deceased[w-s])\n",
    "          count+=1\n",
    "      if count!=0:\n",
    "        daily_deceased_ma[w]=sum1/count\n",
    "\n",
    "  st=state_id[j]\n",
    "\n",
    "  for i in range(len(dates)-1):\n",
    "    csv_dates.append(dates1[i])\n",
    "    csv_states.append(st)\n",
    "    csv_total_cases.append(pos_cum[i])\n",
    "    csv_positivity_rate_cumulative.append(pos_rate_cum[i])\n",
    "    csv_daily_positive_cases.append(daily_pos[i])\n",
    "    csv_cum_recovered.append(recovered_cum[i])\n",
    "    csv_daily_recovered.append(daily_recovered[i])\n",
    "    csv_cum_deceased.append(deceased_cum[i])\n",
    "    csv_daily_deceased.append(daily_deceased[i])\n",
    "    csv_daily_positivity_rate.append(daily_pos_rate[i])\n",
    "    csv_daily_positive_cases_ma.append(daily_pos_ma[i])\n",
    "    csv_daily_positivity_rate_ma.append(daily_pos_rate_ma[i])\n",
    "    csv_daily_tested.append(daily_tested[i])\n",
    "    csv_cum_tested.append(tested_cum[i])\n",
    "    csv_test_per_million.append(test_per_million[i])\n",
    "    \n",
    "    #New\n",
    "    csv_daily_case_per_million.append(daily_case_per_million[i])\n",
    "    csv_daily_test_per_million.append(daily_test_per_million[i])\n",
    "    csv_daily_test_ma.append(daily_test_ma[i])\n",
    "    csv_daily_deceased_ma.append(daily_deceased_ma[i])\n",
    "\n",
    "  states[st]={\n",
    "                    'dates':dates1[:-1],\n",
    "                    'cum_positive_cases':pos_cum[:-1],\n",
    "                    'cum_positivity_rate':pos_rate_cum[:-1],\n",
    "                    'daily_positive_cases':daily_pos[:-1],\n",
    "                    'cum_recovered':recovered_cum[:-1],\n",
    "                    'daily_recovered':daily_recovered[:-1],\n",
    "                    'cum_deceased':deceased_cum[:-1],\n",
    "                    'daily_deceased':daily_deceased[:-1],\n",
    "                    'daily_positivity_rate':daily_pos_rate[:-1],\n",
    "                    'daily_positive_cases_ma': daily_pos_ma[:-1],\n",
    "                    'daily_positivity_rate_ma':daily_pos_rate_ma[:-1] , \n",
    "                    'daily_tests': daily_tested[:-1],\n",
    "                    'cum_tests': tested_cum[:-1],\n",
    "                    'test_per_million':test_per_million[:-1],    \n",
    "                    #New\n",
    "                    'daily_cases_per_million':daily_case_per_million[:-1],\n",
    "                    'daily_tests_per_million':daily_test_per_million[:-1],\n",
    "                    'daily_tests_ma':daily_test_ma[:-1],\n",
    "                    'daily_deceased_ma':daily_deceased_ma[:-1]\n",
    "\n",
    "                   }\n",
    "      \n",
    "states['datetime']=str(datetime.now(pytz.timezone('Asia/Kolkata')))\n",
    "with open('positivity_Rate_new.json', 'w') as outfile:\n",
    "  json.dump(states, outfile,indent=4)"
   ]
  },
  {
   "cell_type": "code",
   "execution_count": 152,
   "metadata": {},
   "outputs": [
    {
     "data": {
      "text/plain": [
       "205.0"
      ]
     },
     "execution_count": 152,
     "metadata": {},
     "output_type": "execute_result"
    }
   ],
   "source": [
    "len(csv_cum_tested)/36"
   ]
  },
  {
   "cell_type": "code",
   "execution_count": 153,
   "metadata": {},
   "outputs": [
    {
     "name": "stdout",
     "output_type": "stream",
     "text": [
      "205\n",
      "205\n",
      "205\n",
      "205\n",
      "205\n",
      "205\n",
      "205\n",
      "205\n",
      "205\n",
      "205\n",
      "205\n",
      "205\n",
      "205\n",
      "205\n",
      "205\n",
      "205\n",
      "205\n",
      "205\n"
     ]
    }
   ],
   "source": [
    "for k in states['India'].keys():\n",
    "    print(len(states['India'][k]))"
   ]
  },
  {
   "cell_type": "code",
   "execution_count": 155,
   "metadata": {
    "colab": {},
    "colab_type": "code",
    "id": "L24ra_WHIMJs",
    "scrolled": false
   },
   "outputs": [],
   "source": [
    "csv_dates=[]\n",
    "csv_states=[]\n",
    "csv_total_cases=[]\n",
    "csv_cum_recovered=[]\n",
    "csv_daily_recovered=[]\n",
    "csv_cum_deceased=[]\n",
    "csv_daily_deceased=[]\n",
    "csv_positivity_rate_cumulative=[]\n",
    "csv_daily_positive_cases=[]\n",
    "csv_daily_positivity_rate=[]\n",
    "csv_daily_positive_cases_ma=[]\n",
    "csv_daily_positivity_rate_ma=[]\n",
    "csv_test_per_million=[]\n",
    "csv_daily_tested=[]\n",
    "csv_cum_tested=[]\n",
    "\n",
    "#New\n",
    "csv_daily_case_per_million = []\n",
    "csv_daily_test_per_million = []\n",
    "csv_daily_test_ma = []\n",
    "csv_daily_deceased_ma = []\n",
    "'''\n",
    "#Proposed method\n",
    "\n",
    "test_json_url = 'https://api.covid19india.org/v3/data-all.json'\n",
    "test_json = json.loads(urlopen(test_json_url).read())\n",
    "\n",
    "posrat_json_url = 'https://raw.githubusercontent.com/CovidToday/backend/master/testing-and-cfr/positivity_Rate.json'\n",
    "posrat_json = json.loads(urlopen(posrat_json_url).read())\n",
    "\n",
    "\n",
    "test =test_json\n",
    "temp1 = posrat_json\n",
    "\n",
    "'''\n",
    "#Old method\n",
    "\n",
    "#test_json_url = 'https://api.covid19india.org/v3/data-all.json'\n",
    "#test_json = json.loads(urlopen(test_json_url).read())\n",
    "\n",
    "#test = test_json\n",
    "test = json.load(open('test.json'))\n",
    "temp1 = json.load(open('positivity_Rate_new.json'))\n",
    "\n",
    "\n",
    "for date in t:  \n",
    " \n",
    "  states={}\n",
    "  temp = test[date]\n",
    "  \n",
    "\n",
    "  for i,j in enumerate(state_id.keys()):\n",
    "    k = state_id[j]\n",
    "    #print('posrate() -- Working : ',state_id[j])\n",
    "\n",
    "    test_per_million = temp1[k]['test_per_million']\n",
    "    pos_cum = temp1[k]['cum_positive_cases']\n",
    "    pos_rate_cum = temp1[k]['cum_positivity_rate']\n",
    "    daily_pos = temp1[k]['daily_positive_cases']\n",
    "    daily_pos_ma = temp1[k]['daily_positive_cases_ma']\n",
    "    daily_pos_rate = temp1[k]['daily_positivity_rate']\n",
    "    daily_pos_rate_ma = temp1[k]['daily_positivity_rate_ma']\n",
    "    tested_cum = temp1[k]['cum_tests']\n",
    "    daily_tested = temp1[k]['daily_tests']\n",
    "    deceased_cum = temp1[k]['cum_deceased']\n",
    "    daily_deceased = temp1[k]['daily_deceased']\n",
    "    recovered_cum = temp1[k]['cum_recovered']\n",
    "    daily_recovered = temp1[k]['daily_recovered'] \n",
    "    \n",
    "    \n",
    "    \n",
    "    #New added\n",
    "    daily_case_per_million  = temp1[k]['daily_cases_per_million']\n",
    "    daily_test_per_million  = temp1[k]['daily_tests_per_million']\n",
    "    daily_test_ma  = temp1[k]['daily_tests_ma']\n",
    "    daily_deceased_ma  = temp1[k]['daily_deceased_ma']\n",
    "  \n",
    "    dates=temp1[k]['dates']\n",
    "\n",
    "    if convert(date) not in dates :\n",
    "      print(1)\n",
    "      dates.append(convert(date))\n",
    "      test_per_million.append('')\n",
    "      pos_cum.append('')\n",
    "      pos_rate_cum.append('')\n",
    "      daily_pos.append('')\n",
    "      daily_pos_ma.append('')\n",
    "      daily_pos_rate.append('')\n",
    "      daily_pos_rate_ma.append('')\n",
    "      tested_cum.append('')\n",
    "      daily_tested.append('')\n",
    "      deceased_cum.append('')\n",
    "      daily_deceased.append('')\n",
    "      recovered_cum.append('')\n",
    "      daily_recovered.append('')\n",
    "      \n",
    "      #New added\n",
    "      print(\"Appends\")\n",
    "      daily_case_per_million.append('')\n",
    "      daily_test_per_million.append('')\n",
    "      daily_test_ma.append('')\n",
    "      daily_deceased_ma.append('')\n",
    "\n",
    "      i=len(dates)-1\n",
    "      \n",
    "    for l in range(len(dates)):\n",
    "      if convert(date)==dates[l]:\n",
    "        i=l\n",
    "        break\n",
    "    \n",
    "\n",
    "    if k in temp1.keys():\n",
    "        if 'total' in temp[j].keys():\n",
    "          if 'confirmed' in temp[j]['total'].keys():\n",
    "            pos_cum[i]=temp[j]['total']['confirmed']\n",
    "\n",
    "          if 'tested' in temp[j]['total'].keys():\n",
    "            tested_cum[i]=abs(temp[j]['total']['tested'])\n",
    "            test_per_million[i]=temp[j]['total']['tested']*1000000/int(population[\"Population\"][k])\n",
    "              \n",
    "          if 'deceased' in temp[j]['total'].keys():\n",
    "            deceased_cum[i]=temp[j]['total']['deceased']\n",
    "          \n",
    "          if 'recovered' in temp[j]['total'].keys():\n",
    "            recovered_cum[i]=temp[j]['total']['recovered']\n",
    "          \n",
    "          if len(str(pos_cum[i])) and len(str(tested_cum[i])):\n",
    "            pos_rate_cum[i]= pos_cum[i]*100/tested_cum[i]\n",
    "\n",
    "        if 'delta' in temp[j].keys():\n",
    "          if 'confirmed' in temp[j]['delta'].keys():\n",
    "            daily_pos[i]=temp[j]['delta']['confirmed']\n",
    "            daily_case_per_million[i] =temp[j]['delta']['confirmed']*1000000/int(population[\"Population\"][k])   #New\n",
    "\n",
    "          if 'tested' in temp[j]['delta'].keys():\n",
    "            daily_tested[i]=abs(temp[j]['delta']['tested'])\n",
    "            daily_test_per_million[i] = temp[j]['delta']['tested']*1000000/int(population[\"Population\"][k])    #New\n",
    "\n",
    "          if 'deceased' in temp[j]['delta'].keys():\n",
    "            daily_deceased[i]=temp[j]['delta']['deceased']\n",
    "          \n",
    "          if 'recovered' in temp[j]['delta'].keys():\n",
    "            daily_recovered[i]=temp[j]['delta']['recovered']\n",
    "          \n",
    "          if len(str(daily_pos[i])) and len(str(daily_tested[i])):\n",
    "            daily_pos_rate[i]=int(daily_pos[i])*100/int(daily_tested[i])\n",
    "    \n",
    "   \n",
    "    for w in range(7,len(daily_pos)):\n",
    "      sum1=0\n",
    "      sum2=0\n",
    "      for s in range(7):\n",
    "        if (len(str(daily_pos[w-s]))!=0 and len(str(daily_tested[w-s]))!=0):\n",
    "          sum1+=int(daily_pos[w-s])\n",
    "          sum2+=int(daily_tested[w-s])\n",
    "      if (sum2!=0):\n",
    "        daily_pos_rate_ma[w]=sum1*100/abs(sum2)\n",
    "    \n",
    "    for w in range(7,len(daily_pos)):\n",
    "      sum1=0\n",
    "      count=0\n",
    "      for s in range(7):\n",
    "        if (len(str(daily_pos[w-s]))!=0):\n",
    "          sum1+=int(daily_pos[w-s])\n",
    "          count+=1\n",
    "      if count!=0:\n",
    "        daily_pos_ma[w]=sum1/count\n",
    "  \n",
    "    #New\n",
    "    for w in range(7,len(daily_tested)):\n",
    "      sum1=0\n",
    "      count=0\n",
    "      for s in range(7):\n",
    "        if (len(str(daily_tested[w-s]))!=0):\n",
    "          sum1+=int(daily_tested[w-s])\n",
    "        \n",
    "          count+=1\n",
    "      if count!=0:\n",
    "        daily_test_ma[w]=sum1/count\n",
    "        \n",
    "    #New\n",
    "    for w in range(7,len(daily_deceased)):\n",
    "      sum1=0\n",
    "      count=0\n",
    "      for s in range(7):\n",
    "        if (len(str(daily_deceased[w-s]))!=0):\n",
    "          sum1+=int(daily_deceased[w-s])\n",
    "          count+=1\n",
    "      if count!=0:\n",
    "        daily_deceased_ma[w]=sum1/count\n",
    "   \n",
    "    \n",
    "    #print(len)\n",
    "    st=state_id[j]\n",
    "    for i in range(len(dates)):\n",
    "      '''\n",
    "      if i  == len(dates)//4:\n",
    "        print(\"Progress : 25%\")\n",
    "      if i  == len(dates)//2:\n",
    "        print(\"Progress : 50%\")\n",
    "      if i  == (len(dates)*3)//4:\n",
    "        print(\"Progress : 75%\")  \n",
    "      if i  == len(dates)-1:\n",
    "        print(\"Progres : 100&\")\n",
    "      '''\n",
    "      csv_dates.append(dates[i])\n",
    "      csv_states.append(st)\n",
    "      csv_total_cases.append(pos_cum[i])\n",
    "      csv_positivity_rate_cumulative.append(pos_rate_cum[i])\n",
    "      csv_daily_positive_cases.append(daily_pos[i])\n",
    "      csv_cum_recovered.append(recovered_cum[i])\n",
    "      csv_daily_recovered.append(daily_recovered[i])\n",
    "      csv_cum_deceased.append(deceased_cum[i])\n",
    "      csv_daily_deceased.append(daily_deceased[i])\n",
    "      csv_daily_positivity_rate.append(daily_pos_rate[i])\n",
    "      csv_daily_positive_cases_ma.append(daily_pos_ma[i])\n",
    "      csv_daily_positivity_rate_ma.append(daily_pos_rate_ma[i])\n",
    "      csv_daily_tested.append(daily_tested[i])\n",
    "      csv_cum_tested.append(tested_cum[i])\n",
    "      csv_test_per_million.append(test_per_million[i])\n",
    "\n",
    "      #New\n",
    "      csv_daily_case_per_million.append(daily_case_per_million[i])\n",
    "      csv_daily_test_per_million.append(daily_test_per_million[i])\n",
    "      csv_daily_test_ma.append(daily_test_ma[i])\n",
    "      csv_daily_deceased_ma.append(daily_deceased_ma[i])\n",
    "    \n",
    "    #print(st)\n",
    "    states[st]={\n",
    "                    'dates':dates,\n",
    "                    'cum_positive_cases':pos_cum,\n",
    "                    'cum_positivity_rate':pos_rate_cum,\n",
    "                    'daily_positive_cases':daily_pos,\n",
    "                    'cum_recovered':recovered_cum,\n",
    "                    'daily_recovered':daily_recovered,\n",
    "                    'cum_deceased':deceased_cum,\n",
    "                    'daily_deceased':daily_deceased,\n",
    "                    'daily_positivity_rate':daily_pos_rate,\n",
    "                    'daily_positive_cases_ma': daily_pos_ma,\n",
    "                    'daily_positivity_rate_ma':daily_pos_rate_ma , \n",
    "                    'daily_tests': daily_tested,\n",
    "                    'cum_tests': tested_cum,\n",
    "                    'test_per_million':test_per_million,\n",
    "                    #New\n",
    "                    'daily_cases_per_million':daily_case_per_million,\n",
    "                    'daily_tests_per_million':daily_test_per_million,\n",
    "                    'daily_tests_ma':daily_test_ma,\n",
    "                    'daily_deceased_ma':daily_deceased_ma\n",
    "\n",
    "                   }\n",
    "      \n",
    "states['datetime']=str(datetime.now(pytz.timezone('Asia/Kolkata')))\n",
    "with open('positivity_Rate.json', 'w') as outfile:\n",
    "    json.dump(states, outfile,indent=4)"
   ]
  },
  {
   "cell_type": "code",
   "execution_count": 156,
   "metadata": {},
   "outputs": [
    {
     "data": {
      "text/plain": [
       "['30 January',\n",
       " '31 January',\n",
       " '01 February',\n",
       " '02 February',\n",
       " '03 February',\n",
       " '04 February',\n",
       " '05 February',\n",
       " '06 February',\n",
       " '07 February',\n",
       " '08 February',\n",
       " '09 February',\n",
       " '10 February',\n",
       " '11 February',\n",
       " '12 February',\n",
       " '13 February',\n",
       " '14 February',\n",
       " '15 February',\n",
       " '16 February',\n",
       " '17 February',\n",
       " '18 February',\n",
       " '19 February',\n",
       " '20 February',\n",
       " '21 February',\n",
       " '22 February',\n",
       " '23 February',\n",
       " '24 February',\n",
       " '25 February',\n",
       " '26 February',\n",
       " '27 February',\n",
       " '28 February',\n",
       " '29 February',\n",
       " '01 March',\n",
       " '02 March',\n",
       " '03 March',\n",
       " '04 March',\n",
       " '05 March',\n",
       " '06 March',\n",
       " '07 March',\n",
       " '08 March',\n",
       " '09 March',\n",
       " '10 March',\n",
       " '11 March',\n",
       " '12 March',\n",
       " '13 March',\n",
       " '14 March',\n",
       " '15 March',\n",
       " '16 March',\n",
       " '17 March',\n",
       " '18 March',\n",
       " '19 March',\n",
       " '20 March',\n",
       " '21 March',\n",
       " '22 March',\n",
       " '23 March',\n",
       " '24 March',\n",
       " '25 March',\n",
       " '26 March',\n",
       " '27 March',\n",
       " '28 March',\n",
       " '29 March',\n",
       " '30 March',\n",
       " '31 March',\n",
       " '01 April',\n",
       " '02 April',\n",
       " '03 April',\n",
       " '04 April',\n",
       " '05 April',\n",
       " '06 April',\n",
       " '07 April',\n",
       " '08 April',\n",
       " '09 April',\n",
       " '10 April',\n",
       " '11 April',\n",
       " '12 April',\n",
       " '13 April',\n",
       " '14 April',\n",
       " '15 April',\n",
       " '16 April',\n",
       " '17 April',\n",
       " '18 April',\n",
       " '19 April',\n",
       " '20 April',\n",
       " '21 April',\n",
       " '22 April',\n",
       " '23 April',\n",
       " '24 April',\n",
       " '25 April',\n",
       " '26 April',\n",
       " '27 April',\n",
       " '28 April',\n",
       " '29 April',\n",
       " '30 April',\n",
       " '01 May',\n",
       " '02 May',\n",
       " '03 May',\n",
       " '04 May',\n",
       " '05 May',\n",
       " '06 May',\n",
       " '07 May',\n",
       " '08 May',\n",
       " '09 May',\n",
       " '10 May',\n",
       " '11 May',\n",
       " '12 May',\n",
       " '13 May',\n",
       " '14 May',\n",
       " '15 May',\n",
       " '16 May',\n",
       " '17 May',\n",
       " '18 May',\n",
       " '19 May',\n",
       " '20 May',\n",
       " '21 May',\n",
       " '22 May',\n",
       " '23 May',\n",
       " '24 May',\n",
       " '25 May',\n",
       " '26 May',\n",
       " '27 May',\n",
       " '28 May',\n",
       " '29 May',\n",
       " '30 May',\n",
       " '31 May',\n",
       " '01 June',\n",
       " '02 June',\n",
       " '03 June',\n",
       " '04 June',\n",
       " '05 June',\n",
       " '06 June',\n",
       " '07 June',\n",
       " '08 June',\n",
       " '09 June',\n",
       " '10 June',\n",
       " '11 June',\n",
       " '12 June',\n",
       " '13 June',\n",
       " '14 June',\n",
       " '15 June',\n",
       " '16 June',\n",
       " '17 June',\n",
       " '18 June',\n",
       " '19 June',\n",
       " '20 June',\n",
       " '21 June',\n",
       " '22 June',\n",
       " '23 June',\n",
       " '24 June',\n",
       " '25 June',\n",
       " '26 June',\n",
       " '27 June',\n",
       " '28 June',\n",
       " '29 June',\n",
       " '30 June',\n",
       " '01 July',\n",
       " '02 July',\n",
       " '03 July',\n",
       " '04 July',\n",
       " '05 July',\n",
       " '06 July',\n",
       " '07 July',\n",
       " '08 July',\n",
       " '09 July',\n",
       " '10 July',\n",
       " '11 July',\n",
       " '12 July',\n",
       " '13 July',\n",
       " '14 July',\n",
       " '15 July',\n",
       " '16 July',\n",
       " '17 July',\n",
       " '18 July',\n",
       " '19 July',\n",
       " '20 July',\n",
       " '21 July',\n",
       " '22 July',\n",
       " '23 July',\n",
       " '24 July',\n",
       " '25 July',\n",
       " '26 July',\n",
       " '27 July',\n",
       " '28 July',\n",
       " '29 July',\n",
       " '30 July',\n",
       " '31 July',\n",
       " '01 August',\n",
       " '02 August',\n",
       " '03 August',\n",
       " '04 August',\n",
       " '05 August',\n",
       " '06 August',\n",
       " '07 August',\n",
       " '08 August',\n",
       " '09 August',\n",
       " '10 August',\n",
       " '11 August',\n",
       " '12 August',\n",
       " '13 August',\n",
       " '14 August',\n",
       " '15 August',\n",
       " '16 August',\n",
       " '17 August',\n",
       " '18 August',\n",
       " '19 August',\n",
       " '20 August',\n",
       " '21 August']"
      ]
     },
     "execution_count": 156,
     "metadata": {},
     "output_type": "execute_result"
    }
   ],
   "source": [
    "dates"
   ]
  },
  {
   "cell_type": "code",
   "execution_count": 157,
   "metadata": {},
   "outputs": [
    {
     "data": {
      "text/plain": [
       "205"
      ]
     },
     "execution_count": 157,
     "metadata": {},
     "output_type": "execute_result"
    }
   ],
   "source": [
    "len(pos_cum)"
   ]
  },
  {
   "cell_type": "code",
   "execution_count": 158,
   "metadata": {},
   "outputs": [
    {
     "data": {
      "text/plain": [
       "'21 August'"
      ]
     },
     "execution_count": 158,
     "metadata": {},
     "output_type": "execute_result"
    }
   ],
   "source": [
    "dates[-1]"
   ]
  },
  {
   "cell_type": "code",
   "execution_count": 166,
   "metadata": {},
   "outputs": [
    {
     "data": {
      "text/plain": [
       "'21 August'"
      ]
     },
     "execution_count": 166,
     "metadata": {},
     "output_type": "execute_result"
    }
   ],
   "source": [
    "csv_dates[-1]"
   ]
  },
  {
   "cell_type": "code",
   "execution_count": 161,
   "metadata": {},
   "outputs": [
    {
     "data": {
      "text/plain": [
       "7380"
      ]
     },
     "execution_count": 161,
     "metadata": {},
     "output_type": "execute_result"
    }
   ],
   "source": [
    "n_states = len(state_id.keys())\n",
    "n_dates = len(dates)\n",
    "\n",
    "rows = n_states*n_dates\n",
    "\n",
    "rows"
   ]
  },
  {
   "cell_type": "code",
   "execution_count": 128,
   "metadata": {},
   "outputs": [
    {
     "data": {
      "text/plain": [
       "'20 August'"
      ]
     },
     "execution_count": 128,
     "metadata": {},
     "output_type": "execute_result"
    }
   ],
   "source": [
    "csv_dates[203]"
   ]
  },
  {
   "cell_type": "code",
   "execution_count": 169,
   "metadata": {},
   "outputs": [
    {
     "data": {
      "text/plain": [
       "60.0"
      ]
     },
     "execution_count": 169,
     "metadata": {},
     "output_type": "execute_result"
    }
   ],
   "source": [
    "len(csv_dates)/(36*205)"
   ]
  },
  {
   "cell_type": "markdown",
   "metadata": {
    "colab_type": "text",
    "id": "T4RFAVgPSWtq"
   },
   "source": [
    "# CSV"
   ]
  },
  {
   "cell_type": "code",
   "execution_count": 171,
   "metadata": {
    "colab": {},
    "colab_type": "code",
    "id": "KLyUpPIY7Cr0",
    "scrolled": false
   },
   "outputs": [],
   "source": [
    "n_states = len(state_id.keys())\n",
    "n_dates = len(dates)\n",
    "\n",
    "rows = n_states*n_dates\n",
    "\n",
    "\n",
    "df=pd.DataFrame()\n",
    "df['dates']=csv_dates[:rows]\n",
    "df['state']=csv_states[:rows]\n",
    "df['cum_positive_cases']=csv_total_cases[:rows]\n",
    "df['cum_positivity_rate']=csv_positivity_rate_cumulative[:rows]\n",
    "\n",
    "df['cum_recovered']=csv_cum_recovered[:rows]\n",
    "df['daily_recovered']:csv_daily_recovered[:rows]\n",
    "df['cum_deceased']=csv_cum_deceased[:rows]\n",
    "df['daily_deceased']=csv_daily_deceased[:rows]\n",
    "df['daily_positive_cases']=csv_daily_positive_cases[:rows]\n",
    "df['daily_positivity_rate']=csv_daily_positivity_rate[:rows]\n",
    "df['daily_positive_cases_ma']=csv_daily_positive_cases_ma[:rows]\n",
    "df['daily_positivity_rate_ma']=    csv_daily_positivity_rate_ma[:rows]\n",
    "df['daily_tests']=csv_daily_tested[:rows]\n",
    "df['cum_tested']=csv_cum_tested[:rows]\n",
    "df['test_per_million']=csv_test_per_million[:rows]\n",
    "\n",
    "#New\n",
    "df['daily_cases_per_million'] = csv_daily_case_per_million[:rows]\n",
    "df['daily_tests_per_million'] = csv_daily_test_per_million[:rows]\n",
    "df['daily_tests_ma'] = csv_daily_test_ma[:rows]\n",
    "df['daily_deceased_ma'] = csv_daily_deceased_ma[:rows]\n",
    "\n",
    "df.to_csv('positivity_Rate_new.csv',index=False)\n",
    "\n",
    "df_to_concat = copy.deepcopy(df)"
   ]
  },
  {
   "cell_type": "code",
   "execution_count": 172,
   "metadata": {
    "colab": {
     "base_uri": "https://localhost:8080/",
     "height": 144
    },
    "colab_type": "code",
    "id": "__Mof2jNcBFT",
    "outputId": "3a776f8a-cf5f-4720-bb76-37a6ee85f758",
    "scrolled": false
   },
   "outputs": [
    {
     "data": {
      "text/plain": [
       "Index(['dates', 'state', 'cum_positive_cases', 'cum_positivity_rate',\n",
       "       'cum_recovered', 'cum_deceased', 'daily_deceased',\n",
       "       'daily_positive_cases', 'daily_positivity_rate',\n",
       "       'daily_positive_cases_ma', 'daily_positivity_rate_ma', 'daily_tests',\n",
       "       'cum_tested', 'test_per_million', 'daily_cases_per_million',\n",
       "       'daily_tests_per_million', 'daily_tests_ma', 'daily_deceased_ma'],\n",
       "      dtype='object')"
      ]
     },
     "execution_count": 172,
     "metadata": {},
     "output_type": "execute_result"
    }
   ],
   "source": [
    "df.columns"
   ]
  },
  {
   "cell_type": "code",
   "execution_count": 16,
   "metadata": {
    "colab": {
     "base_uri": "https://localhost:8080/",
     "height": 617
    },
    "colab_type": "code",
    "id": "ga1avWC1ZMiy",
    "outputId": "2d86eb62-ed57-40a5-b7ce-b30a1481e1aa",
    "scrolled": false
   },
   "outputs": [
    {
     "data": {
      "text/html": [
       "<div>\n",
       "<style scoped>\n",
       "    .dataframe tbody tr th:only-of-type {\n",
       "        vertical-align: middle;\n",
       "    }\n",
       "\n",
       "    .dataframe tbody tr th {\n",
       "        vertical-align: top;\n",
       "    }\n",
       "\n",
       "    .dataframe thead th {\n",
       "        text-align: right;\n",
       "    }\n",
       "</style>\n",
       "<table border=\"1\" class=\"dataframe\">\n",
       "  <thead>\n",
       "    <tr style=\"text-align: right;\">\n",
       "      <th></th>\n",
       "      <th>dates</th>\n",
       "      <th>state</th>\n",
       "      <th>cum_positive_cases</th>\n",
       "      <th>cum_positivity_rate</th>\n",
       "      <th>cum_recovered</th>\n",
       "      <th>cum_deceased</th>\n",
       "      <th>daily_deceased</th>\n",
       "      <th>daily_positive_cases</th>\n",
       "      <th>daily_positivity_rate</th>\n",
       "      <th>daily_positive_cases_ma</th>\n",
       "      <th>daily_positivity_rate_ma</th>\n",
       "      <th>daily_tests</th>\n",
       "      <th>cum_tested</th>\n",
       "      <th>test_per_million</th>\n",
       "      <th>daily_cases_per_million</th>\n",
       "      <th>daily_tests_per_million</th>\n",
       "      <th>daily_tests_ma</th>\n",
       "      <th>daily_deceased_ma</th>\n",
       "    </tr>\n",
       "  </thead>\n",
       "  <tbody>\n",
       "    <tr>\n",
       "      <th>0</th>\n",
       "      <td>30 January</td>\n",
       "      <td>India</td>\n",
       "      <td>1</td>\n",
       "      <td></td>\n",
       "      <td></td>\n",
       "      <td></td>\n",
       "      <td></td>\n",
       "      <td>1</td>\n",
       "      <td></td>\n",
       "      <td></td>\n",
       "      <td></td>\n",
       "      <td></td>\n",
       "      <td></td>\n",
       "      <td></td>\n",
       "      <td></td>\n",
       "      <td></td>\n",
       "      <td></td>\n",
       "      <td></td>\n",
       "    </tr>\n",
       "    <tr>\n",
       "      <th>1</th>\n",
       "      <td>31 January</td>\n",
       "      <td>India</td>\n",
       "      <td></td>\n",
       "      <td></td>\n",
       "      <td></td>\n",
       "      <td></td>\n",
       "      <td></td>\n",
       "      <td></td>\n",
       "      <td></td>\n",
       "      <td></td>\n",
       "      <td></td>\n",
       "      <td></td>\n",
       "      <td></td>\n",
       "      <td></td>\n",
       "      <td></td>\n",
       "      <td></td>\n",
       "      <td></td>\n",
       "      <td></td>\n",
       "    </tr>\n",
       "    <tr>\n",
       "      <th>2</th>\n",
       "      <td>01 February</td>\n",
       "      <td>India</td>\n",
       "      <td></td>\n",
       "      <td></td>\n",
       "      <td></td>\n",
       "      <td></td>\n",
       "      <td></td>\n",
       "      <td></td>\n",
       "      <td></td>\n",
       "      <td></td>\n",
       "      <td></td>\n",
       "      <td></td>\n",
       "      <td></td>\n",
       "      <td></td>\n",
       "      <td></td>\n",
       "      <td></td>\n",
       "      <td></td>\n",
       "      <td></td>\n",
       "    </tr>\n",
       "    <tr>\n",
       "      <th>3</th>\n",
       "      <td>02 February</td>\n",
       "      <td>India</td>\n",
       "      <td>2</td>\n",
       "      <td></td>\n",
       "      <td></td>\n",
       "      <td></td>\n",
       "      <td></td>\n",
       "      <td>1</td>\n",
       "      <td></td>\n",
       "      <td></td>\n",
       "      <td></td>\n",
       "      <td></td>\n",
       "      <td></td>\n",
       "      <td></td>\n",
       "      <td></td>\n",
       "      <td></td>\n",
       "      <td></td>\n",
       "      <td></td>\n",
       "    </tr>\n",
       "    <tr>\n",
       "      <th>4</th>\n",
       "      <td>03 February</td>\n",
       "      <td>India</td>\n",
       "      <td>3</td>\n",
       "      <td></td>\n",
       "      <td></td>\n",
       "      <td></td>\n",
       "      <td></td>\n",
       "      <td>1</td>\n",
       "      <td></td>\n",
       "      <td></td>\n",
       "      <td></td>\n",
       "      <td></td>\n",
       "      <td></td>\n",
       "      <td></td>\n",
       "      <td></td>\n",
       "      <td></td>\n",
       "      <td></td>\n",
       "      <td></td>\n",
       "    </tr>\n",
       "    <tr>\n",
       "      <th>...</th>\n",
       "      <td>...</td>\n",
       "      <td>...</td>\n",
       "      <td>...</td>\n",
       "      <td>...</td>\n",
       "      <td>...</td>\n",
       "      <td>...</td>\n",
       "      <td>...</td>\n",
       "      <td>...</td>\n",
       "      <td>...</td>\n",
       "      <td>...</td>\n",
       "      <td>...</td>\n",
       "      <td>...</td>\n",
       "      <td>...</td>\n",
       "      <td>...</td>\n",
       "      <td>...</td>\n",
       "      <td>...</td>\n",
       "      <td>...</td>\n",
       "      <td>...</td>\n",
       "    </tr>\n",
       "    <tr>\n",
       "      <th>7375</th>\n",
       "      <td>01 March</td>\n",
       "      <td>India</td>\n",
       "      <td></td>\n",
       "      <td></td>\n",
       "      <td></td>\n",
       "      <td></td>\n",
       "      <td></td>\n",
       "      <td></td>\n",
       "      <td></td>\n",
       "      <td></td>\n",
       "      <td></td>\n",
       "      <td></td>\n",
       "      <td></td>\n",
       "      <td></td>\n",
       "      <td></td>\n",
       "      <td></td>\n",
       "      <td></td>\n",
       "      <td></td>\n",
       "    </tr>\n",
       "    <tr>\n",
       "      <th>7376</th>\n",
       "      <td>02 March</td>\n",
       "      <td>India</td>\n",
       "      <td>5</td>\n",
       "      <td></td>\n",
       "      <td>3</td>\n",
       "      <td></td>\n",
       "      <td></td>\n",
       "      <td>2</td>\n",
       "      <td></td>\n",
       "      <td>2</td>\n",
       "      <td></td>\n",
       "      <td></td>\n",
       "      <td></td>\n",
       "      <td></td>\n",
       "      <td></td>\n",
       "      <td></td>\n",
       "      <td></td>\n",
       "      <td></td>\n",
       "    </tr>\n",
       "    <tr>\n",
       "      <th>7377</th>\n",
       "      <td>03 March</td>\n",
       "      <td>India</td>\n",
       "      <td>6</td>\n",
       "      <td></td>\n",
       "      <td>3</td>\n",
       "      <td></td>\n",
       "      <td></td>\n",
       "      <td>1</td>\n",
       "      <td></td>\n",
       "      <td>1.5</td>\n",
       "      <td></td>\n",
       "      <td></td>\n",
       "      <td></td>\n",
       "      <td></td>\n",
       "      <td></td>\n",
       "      <td></td>\n",
       "      <td></td>\n",
       "      <td></td>\n",
       "    </tr>\n",
       "    <tr>\n",
       "      <th>7378</th>\n",
       "      <td>04 March</td>\n",
       "      <td>India</td>\n",
       "      <td>28</td>\n",
       "      <td></td>\n",
       "      <td>3</td>\n",
       "      <td></td>\n",
       "      <td></td>\n",
       "      <td>22</td>\n",
       "      <td></td>\n",
       "      <td>8.33333</td>\n",
       "      <td></td>\n",
       "      <td></td>\n",
       "      <td></td>\n",
       "      <td></td>\n",
       "      <td></td>\n",
       "      <td></td>\n",
       "      <td></td>\n",
       "      <td></td>\n",
       "    </tr>\n",
       "    <tr>\n",
       "      <th>7379</th>\n",
       "      <td>05 March</td>\n",
       "      <td>India</td>\n",
       "      <td>30</td>\n",
       "      <td></td>\n",
       "      <td>3</td>\n",
       "      <td></td>\n",
       "      <td></td>\n",
       "      <td>2</td>\n",
       "      <td></td>\n",
       "      <td>6.75</td>\n",
       "      <td></td>\n",
       "      <td></td>\n",
       "      <td></td>\n",
       "      <td></td>\n",
       "      <td></td>\n",
       "      <td></td>\n",
       "      <td></td>\n",
       "      <td></td>\n",
       "    </tr>\n",
       "  </tbody>\n",
       "</table>\n",
       "<p>240 rows × 18 columns</p>\n",
       "</div>"
      ],
      "text/plain": [
       "            dates  state cum_positive_cases cum_positivity_rate cum_recovered  \\\n",
       "0      30 January  India                  1                                     \n",
       "1      31 January  India                                                        \n",
       "2     01 February  India                                                        \n",
       "3     02 February  India                  2                                     \n",
       "4     03 February  India                  3                                     \n",
       "...           ...    ...                ...                 ...           ...   \n",
       "7375     01 March  India                                                        \n",
       "7376     02 March  India                  5                                 3   \n",
       "7377     03 March  India                  6                                 3   \n",
       "7378     04 March  India                 28                                 3   \n",
       "7379     05 March  India                 30                                 3   \n",
       "\n",
       "     cum_deceased daily_deceased daily_positive_cases daily_positivity_rate  \\\n",
       "0                                                   1                         \n",
       "1                                                                             \n",
       "2                                                                             \n",
       "3                                                   1                         \n",
       "4                                                   1                         \n",
       "...           ...            ...                  ...                   ...   \n",
       "7375                                                                          \n",
       "7376                                                2                         \n",
       "7377                                                1                         \n",
       "7378                                               22                         \n",
       "7379                                                2                         \n",
       "\n",
       "     daily_positive_cases_ma daily_positivity_rate_ma daily_tests cum_tested  \\\n",
       "0                                                                              \n",
       "1                                                                              \n",
       "2                                                                              \n",
       "3                                                                              \n",
       "4                                                                              \n",
       "...                      ...                      ...         ...        ...   \n",
       "7375                                                                           \n",
       "7376                       2                                                   \n",
       "7377                     1.5                                                   \n",
       "7378                 8.33333                                                   \n",
       "7379                    6.75                                                   \n",
       "\n",
       "     test_per_million daily_cases_per_million daily_tests_per_million  \\\n",
       "0                                                                       \n",
       "1                                                                       \n",
       "2                                                                       \n",
       "3                                                                       \n",
       "4                                                                       \n",
       "...               ...                     ...                     ...   \n",
       "7375                                                                    \n",
       "7376                                                                    \n",
       "7377                                                                    \n",
       "7378                                                                    \n",
       "7379                                                                    \n",
       "\n",
       "     daily_tests_ma daily_deceased_ma  \n",
       "0                                      \n",
       "1                                      \n",
       "2                                      \n",
       "3                                      \n",
       "4                                      \n",
       "...             ...               ...  \n",
       "7375                                   \n",
       "7376                                   \n",
       "7377                                   \n",
       "7378                                   \n",
       "7379                                   \n",
       "\n",
       "[240 rows x 18 columns]"
      ]
     },
     "execution_count": 16,
     "metadata": {},
     "output_type": "execute_result"
    }
   ],
   "source": [
    "df[df['state']=='India']"
   ]
  },
  {
   "cell_type": "markdown",
   "metadata": {
    "colab_type": "text",
    "id": "ye3tsK0SXa9y"
   },
   "source": [
    "# CFR"
   ]
  },
  {
   "cell_type": "code",
   "execution_count": 17,
   "metadata": {
    "colab": {},
    "colab_type": "code",
    "id": "vlmqEdncXzt2",
    "scrolled": false
   },
   "outputs": [],
   "source": [
    "#dates = np.array([pd.to_datetime(i['date']) for i in filter(lambda v: v['status'] == 'Confirmed',json.load(open('states.json',))['states_daily'])])\n",
    "#print(dates)\n",
    "data_recovered = pd.DataFrame()\n",
    "data_deceased = pd.DataFrame()\n",
    "data_confirmed = pd.DataFrame()\n",
    "\n",
    "for s in state_id.keys():\n",
    "    st=state_id[s]\n",
    "    data_confirmed[st] = np.array(states[st]['daily_positive_cases'])\n",
    "    data_deceased[st] = np.array(states[st]['daily_deceased'])\n",
    "    data_recovered[st] = np.array(states[st]['daily_recovered'])"
   ]
  },
  {
   "cell_type": "code",
   "execution_count": 18,
   "metadata": {
    "colab": {},
    "colab_type": "code",
    "id": "xK8aH0zUiL4h",
    "scrolled": false
   },
   "outputs": [],
   "source": [
    "def n2z(x):\n",
    "    x[np.logical_or(np.isnan(x),np.isinf(x))] = 0\n",
    "    return x"
   ]
  },
  {
   "cell_type": "code",
   "execution_count": 19,
   "metadata": {
    "colab": {},
    "colab_type": "code",
    "id": "YylW_gHIjGaX",
    "scrolled": false
   },
   "outputs": [],
   "source": [
    "data_recovered = data_recovered.replace(r'^\\s*$', np.NaN, regex=True).fillna(0)\n",
    "data_recovered = data_recovered.astype(np.int32)\n",
    "data_confirmed = data_confirmed.replace(r'^\\s*$', np.NaN, regex=True).fillna(0)\n",
    "data_confirmed = data_confirmed.astype(np.int32)\n",
    "data_deceased = data_deceased.replace(r'^\\s*$', np.NaN, regex=True).fillna(0)\n",
    "data_deceased = data_deceased.astype(np.int32)\n",
    "data_deceased['date'] = dates\n",
    "data_recovered['date'] = dates\n",
    "data_confirmed['date'] = dates"
   ]
  },
  {
   "cell_type": "code",
   "execution_count": 20,
   "metadata": {
    "colab": {
     "base_uri": "https://localhost:8080/",
     "height": 1000
    },
    "colab_type": "code",
    "id": "z-bxCxt9dKPA",
    "outputId": "e38f38d7-0295-416a-c3b9-af0a4fd3b361",
    "scrolled": true
   },
   "outputs": [
    {
     "name": "stdout",
     "output_type": "stream",
     "text": [
      "cfr() -- Working :  India\n",
      "Progress : 25%\n",
      "Progress : 50%\n",
      "Progress : 75%\n",
      "Progress : 100%\n"
     ]
    },
    {
     "name": "stderr",
     "output_type": "stream",
     "text": [
      "F:\\Anaconda3\\lib\\site-packages\\ipykernel_launcher.py:35: RuntimeWarning: invalid value encountered in true_divide\n",
      "F:\\Anaconda3\\lib\\site-packages\\ipykernel_launcher.py:36: RuntimeWarning: Mean of empty slice\n",
      "F:\\Anaconda3\\lib\\site-packages\\ipykernel_launcher.py:45: RuntimeWarning: invalid value encountered in true_divide\n",
      "F:\\Anaconda3\\lib\\site-packages\\ipykernel_launcher.py:60: RuntimeWarning: invalid value encountered in true_divide\n"
     ]
    },
    {
     "name": "stdout",
     "output_type": "stream",
     "text": [
      "cfr() -- Working :  Maharashtra\n",
      "Progress : 25%\n"
     ]
    },
    {
     "ename": "KeyboardInterrupt",
     "evalue": "",
     "output_type": "error",
     "traceback": [
      "\u001b[1;31m---------------------------------------------------------------------------\u001b[0m",
      "\u001b[1;31mKeyboardInterrupt\u001b[0m                         Traceback (most recent call last)",
      "\u001b[1;32m<ipython-input-20-1d9af56f659d>\u001b[0m in \u001b[0;36m<module>\u001b[1;34m\u001b[0m\n\u001b[0;32m     27\u001b[0m         \u001b[0mL\u001b[0m \u001b[1;33m=\u001b[0m \u001b[0mlognorm\u001b[0m\u001b[1;33m(\u001b[0m\u001b[0ms\u001b[0m\u001b[1;33m=\u001b[0m\u001b[0msigma\u001b[0m\u001b[1;33m,\u001b[0m\u001b[0mscale\u001b[0m\u001b[1;33m=\u001b[0m\u001b[0mnp\u001b[0m\u001b[1;33m.\u001b[0m\u001b[0mexp\u001b[0m\u001b[1;33m(\u001b[0m\u001b[0mmu\u001b[0m\u001b[1;33m)\u001b[0m\u001b[1;33m)\u001b[0m\u001b[1;33m\u001b[0m\u001b[1;33m\u001b[0m\u001b[0m\n\u001b[0;32m     28\u001b[0m         \u001b[1;32mfor\u001b[0m \u001b[0mi\u001b[0m \u001b[1;32min\u001b[0m \u001b[0mrange\u001b[0m\u001b[1;33m(\u001b[0m\u001b[0mlen\u001b[0m\u001b[1;33m(\u001b[0m\u001b[0mdataset\u001b[0m\u001b[1;33m)\u001b[0m\u001b[1;33m-\u001b[0m\u001b[1;36m1\u001b[0m\u001b[1;33m,\u001b[0m\u001b[1;33m-\u001b[0m\u001b[1;36m1\u001b[0m\u001b[1;33m,\u001b[0m\u001b[1;33m-\u001b[0m\u001b[1;36m1\u001b[0m\u001b[1;33m)\u001b[0m\u001b[1;33m:\u001b[0m\u001b[1;33m\u001b[0m\u001b[1;33m\u001b[0m\u001b[0m\n\u001b[1;32m---> 29\u001b[1;33m             \u001b[0msend_forward\u001b[0m \u001b[1;33m=\u001b[0m \u001b[0mnp\u001b[0m\u001b[1;33m.\u001b[0m\u001b[0mround\u001b[0m\u001b[1;33m(\u001b[0m\u001b[0mL\u001b[0m\u001b[1;33m.\u001b[0m\u001b[0mrvs\u001b[0m\u001b[1;33m(\u001b[0m\u001b[0mnp\u001b[0m\u001b[1;33m.\u001b[0m\u001b[0mmax\u001b[0m\u001b[1;33m(\u001b[0m\u001b[1;33m[\u001b[0m\u001b[0mdataset\u001b[0m\u001b[1;33m[\u001b[0m\u001b[0mi\u001b[0m\u001b[1;33m]\u001b[0m\u001b[1;33m,\u001b[0m\u001b[1;36m0\u001b[0m\u001b[1;33m]\u001b[0m\u001b[1;33m)\u001b[0m\u001b[1;33m)\u001b[0m\u001b[1;33m)\u001b[0m\u001b[1;33m\u001b[0m\u001b[1;33m\u001b[0m\u001b[0m\n\u001b[0m\u001b[0;32m     30\u001b[0m             \u001b[0msend_forward\u001b[0m \u001b[1;33m=\u001b[0m \u001b[0msend_forward\u001b[0m\u001b[1;33m[\u001b[0m\u001b[0mi\u001b[0m\u001b[1;33m+\u001b[0m\u001b[0msend_forward\u001b[0m\u001b[1;33m<\u001b[0m\u001b[0mlen\u001b[0m\u001b[1;33m(\u001b[0m\u001b[0mdataset\u001b[0m\u001b[1;33m)\u001b[0m\u001b[1;33m]\u001b[0m\u001b[1;33m\u001b[0m\u001b[1;33m\u001b[0m\u001b[0m\n\u001b[0;32m     31\u001b[0m             \u001b[0mdataset\u001b[0m\u001b[1;33m[\u001b[0m\u001b[0mi\u001b[0m\u001b[1;33m]\u001b[0m \u001b[1;33m=\u001b[0m \u001b[1;36m0\u001b[0m\u001b[1;33m\u001b[0m\u001b[1;33m\u001b[0m\u001b[0m\n",
      "\u001b[1;32m<__array_function__ internals>\u001b[0m in \u001b[0;36mround_\u001b[1;34m(*args, **kwargs)\u001b[0m\n",
      "\u001b[1;32mF:\\Anaconda3\\lib\\site-packages\\numpy\\core\\fromnumeric.py\u001b[0m in \u001b[0;36mround_\u001b[1;34m(a, decimals, out)\u001b[0m\n\u001b[0;32m   3597\u001b[0m     \u001b[0maround\u001b[0m \u001b[1;33m:\u001b[0m \u001b[0mequivalent\u001b[0m \u001b[0mfunction\u001b[0m\u001b[1;33m;\u001b[0m \u001b[0msee\u001b[0m \u001b[1;32mfor\u001b[0m \u001b[0mdetails\u001b[0m\u001b[1;33m.\u001b[0m\u001b[1;33m\u001b[0m\u001b[1;33m\u001b[0m\u001b[0m\n\u001b[0;32m   3598\u001b[0m     \"\"\"\n\u001b[1;32m-> 3599\u001b[1;33m     \u001b[1;32mreturn\u001b[0m \u001b[0maround\u001b[0m\u001b[1;33m(\u001b[0m\u001b[0ma\u001b[0m\u001b[1;33m,\u001b[0m \u001b[0mdecimals\u001b[0m\u001b[1;33m=\u001b[0m\u001b[0mdecimals\u001b[0m\u001b[1;33m,\u001b[0m \u001b[0mout\u001b[0m\u001b[1;33m=\u001b[0m\u001b[0mout\u001b[0m\u001b[1;33m)\u001b[0m\u001b[1;33m\u001b[0m\u001b[1;33m\u001b[0m\u001b[0m\n\u001b[0m\u001b[0;32m   3600\u001b[0m \u001b[1;33m\u001b[0m\u001b[0m\n\u001b[0;32m   3601\u001b[0m \u001b[1;33m\u001b[0m\u001b[0m\n",
      "\u001b[1;32m<__array_function__ internals>\u001b[0m in \u001b[0;36maround\u001b[1;34m(*args, **kwargs)\u001b[0m\n",
      "\u001b[1;32mF:\\Anaconda3\\lib\\site-packages\\numpy\\core\\fromnumeric.py\u001b[0m in \u001b[0;36maround\u001b[1;34m(a, decimals, out)\u001b[0m\n\u001b[0;32m   3222\u001b[0m \u001b[1;33m\u001b[0m\u001b[0m\n\u001b[0;32m   3223\u001b[0m     \"\"\"\n\u001b[1;32m-> 3224\u001b[1;33m     \u001b[1;32mreturn\u001b[0m \u001b[0m_wrapfunc\u001b[0m\u001b[1;33m(\u001b[0m\u001b[0ma\u001b[0m\u001b[1;33m,\u001b[0m \u001b[1;34m'round'\u001b[0m\u001b[1;33m,\u001b[0m \u001b[0mdecimals\u001b[0m\u001b[1;33m=\u001b[0m\u001b[0mdecimals\u001b[0m\u001b[1;33m,\u001b[0m \u001b[0mout\u001b[0m\u001b[1;33m=\u001b[0m\u001b[0mout\u001b[0m\u001b[1;33m)\u001b[0m\u001b[1;33m\u001b[0m\u001b[1;33m\u001b[0m\u001b[0m\n\u001b[0m\u001b[0;32m   3225\u001b[0m \u001b[1;33m\u001b[0m\u001b[0m\n\u001b[0;32m   3226\u001b[0m \u001b[1;33m\u001b[0m\u001b[0m\n",
      "\u001b[1;32mF:\\Anaconda3\\lib\\site-packages\\numpy\\core\\fromnumeric.py\u001b[0m in \u001b[0;36m_wrapfunc\u001b[1;34m(obj, method, *args, **kwds)\u001b[0m\n\u001b[0;32m     59\u001b[0m \u001b[1;33m\u001b[0m\u001b[0m\n\u001b[0;32m     60\u001b[0m     \u001b[1;32mtry\u001b[0m\u001b[1;33m:\u001b[0m\u001b[1;33m\u001b[0m\u001b[1;33m\u001b[0m\u001b[0m\n\u001b[1;32m---> 61\u001b[1;33m         \u001b[1;32mreturn\u001b[0m \u001b[0mbound\u001b[0m\u001b[1;33m(\u001b[0m\u001b[1;33m*\u001b[0m\u001b[0margs\u001b[0m\u001b[1;33m,\u001b[0m \u001b[1;33m**\u001b[0m\u001b[0mkwds\u001b[0m\u001b[1;33m)\u001b[0m\u001b[1;33m\u001b[0m\u001b[1;33m\u001b[0m\u001b[0m\n\u001b[0m\u001b[0;32m     62\u001b[0m     \u001b[1;32mexcept\u001b[0m \u001b[0mTypeError\u001b[0m\u001b[1;33m:\u001b[0m\u001b[1;33m\u001b[0m\u001b[1;33m\u001b[0m\u001b[0m\n\u001b[0;32m     63\u001b[0m         \u001b[1;31m# A TypeError occurs if the object does have such a method in its\u001b[0m\u001b[1;33m\u001b[0m\u001b[1;33m\u001b[0m\u001b[1;33m\u001b[0m\u001b[0m\n",
      "\u001b[1;31mKeyboardInterrupt\u001b[0m: "
     ]
    },
    {
     "data": {
      "image/png": "[encoded data removed]",
      "text/plain": [
       "<Figure size 1080x504 with 1 Axes>"
      ]
     },
     "metadata": {
      "needs_background": "light"
     },
     "output_type": "display_data"
    }
   ],
   "source": [
    "json_data={}\n",
    "cfr = pd.DataFrame()\n",
    "final=pd.DataFrame\n",
    "plt.figure(1, figsize=(15, 7))\n",
    "for st in state_id.keys():\n",
    "    print(\"cfr() -- Working : \",state_id[st])\n",
    "\n",
    "    state=state_id[st]\n",
    "    boots = 100\n",
    "    conf = []\n",
    "    for n in range(boots):\n",
    "        if n  == boots//4:\n",
    "          print(\"Progress : 25%\")\n",
    "        if n  == boots//2:\n",
    "          print(\"Progress : 50%\")\n",
    "        if n  == (boots*3)//4:\n",
    "          print(\"Progress : 75%\")  \n",
    "        if n  == boots-1:\n",
    "          print(\"Progress : 100%\")\n",
    "\n",
    "        dataset = np.copy(data_confirmed[state].values)\n",
    "        mean = 13.0+(20.9-8.7)/4*np.random.normal()\n",
    "        sd = 12.7+(26.0-6.4)/4*np.random.normal()\n",
    "        phi = np.sqrt(sd**2 + mean**2)\n",
    "        mu = np.log(mean**2/phi)\n",
    "        sigma = np.sqrt(np.log(phi**2/mean**2))\n",
    "        L = lognorm(s=sigma,scale=np.exp(mu))\n",
    "        for i in range(len(dataset)-1,-1,-1):\n",
    "            send_forward = np.round(L.rvs(np.max([dataset[i],0])))\n",
    "            send_forward = send_forward[i+send_forward<len(dataset)]\n",
    "            dataset[i] = 0\n",
    "            for j in np.unique(np.int32(send_forward)):\n",
    "                dataset[i+j] += np.sum(send_forward==j)\n",
    "        conf.append(dataset)\n",
    "    CFR = np.cumsum(data_deceased[state].values)/np.cumsum(conf,axis=1)\n",
    "    col_mean = np.nanmean(CFR, axis=0)\n",
    "    inds = np.where(np.isnan(CFR))\n",
    "    CFR[inds] = np.take(col_mean, inds[1])\n",
    "    #temp1=list(pd.Series(dates).dt.strftime('%m-%d-%Y'))\n",
    "    #print(temp1[0])\n",
    "    dates = states[state]['dates']\n",
    "    temp = {\n",
    "        'dates':dates,\n",
    "        'cfr1_point':list(n2z(100*np.cumsum(data_deceased[state].values)/np.cumsum(data_confirmed[state].values))),\n",
    "        'cfr2_point':list(n2z(100*np.cumsum(data_deceased[state].values)/(np.cumsum(data_deceased[state].values)+np.cumsum(data_recovered[state].values)))),\n",
    "        'cfr3_point':list(n2z(100*np.median(CFR,axis=0))),\n",
    "        'cfr3_l95':list(n2z(100*np.quantile(CFR,0.025,axis=0))),\n",
    "        'cfr3_u95':list(n2z(100*np.quantile(CFR,0.975,axis=0))),\n",
    "        'cfr3_l50':list(n2z(100*np.quantile(CFR,0.25,axis=0))),\n",
    "        'cfr3_u50':list(n2z(100*np.quantile(CFR,0.75,axis=0))),\n",
    "        }\n",
    "    a=state_id[st]\n",
    "    #print(a)\n",
    "    states[state].update(temp)\n",
    "    json_data[state] = temp\n",
    "    cfr_state=pd.DataFrame()\n",
    "    cfr_state['state']=[str(a)]*len(dates)\n",
    "    cfr_state['dates']=dates\n",
    "    cfr_state['cfr1_point']=(list(100*n2z(np.cumsum(data_deceased[state].values)/np.cumsum(data_confirmed[state].values))))\n",
    "    cfr_state['cfr2_point']=(list(100*n2z(np.cumsum(data_deceased[state].values)/(np.cumsum(data_deceased[state].values)+np.cumsum(data_recovered[state].values)))))\n",
    "    cfr_state['cfr3_point']=(list(100*n2z(np.median(CFR,axis=0))))\n",
    "    cfr_state['cfr3_l95']=(list(100*n2z(np.quantile(CFR,0.025,axis=0))))\n",
    "    cfr_state['cfr3_u95']=(list(100*n2z(np.quantile(CFR,0.975,axis=0))))\n",
    "    cfr_state['cfr3_l50']=(list(100*n2z(np.quantile(CFR,0.25,axis=0))))\n",
    "    cfr_state['cfr3_u50']=(list(100*n2z(np.quantile(CFR,0.75,axis=0))))\n",
    "    cfr=pd.concat([cfr, cfr_state])\n",
    "      \n",
    "    plt.plot(temp['cfr3_point'],label=state)\n",
    "plt.legend()"
   ]
  },
  {
   "cell_type": "code",
   "execution_count": null,
   "metadata": {
    "colab": {},
    "colab_type": "code",
    "id": "lmm0jRg2ihwc",
    "scrolled": false
   },
   "outputs": [],
   "source": [
    "cfr.to_csv('cfr.csv',index=False)\n",
    "from datetime import datetime\n",
    "json_data['datetime']=str(datetime.now(pytz.timezone('Asia/Kolkata')))"
   ]
  },
  {
   "cell_type": "code",
   "execution_count": null,
   "metadata": {
    "colab": {},
    "colab_type": "code",
    "id": "L71oau76mlox",
    "scrolled": false
   },
   "outputs": [],
   "source": [
    "json_data_indented = json.dumps(json_data, indent = 4)\n",
    "with open(\"cfr.json\", \"w\") as outfile: \n",
    "    outfile.write(json_data_indented)"
   ]
  },
  {
   "cell_type": "markdown",
   "metadata": {
    "colab_type": "text",
    "id": "wEhhFwc2dc5l"
   },
   "source": [
    "# Doubling Rate"
   ]
  },
  {
   "cell_type": "code",
   "execution_count": null,
   "metadata": {
    "colab": {},
    "colab_type": "code",
    "id": "hRXAaZHxmn7l",
    "scrolled": false
   },
   "outputs": [],
   "source": [
    "def calc_doublingtimes(x):\n",
    "    vals = []\n",
    "    for i in range(x.shape[0]):\n",
    "        for j in range(i+1,x.shape[0]):\n",
    "            if len(str(x[j])) and len(str(x[i])):\n",
    "                vals.append(np.log(2)*(j-i)/np.log(int(x[j])/int(x[i])))\n",
    "    if not vals:\n",
    "        return 0,0,0\n",
    "    return np.median(vals),np.quantile(vals,0.025),np.quantile(vals,0.975)"
   ]
  },
  {
   "cell_type": "code",
   "execution_count": null,
   "metadata": {
    "colab": {},
    "colab_type": "code",
    "id": "kWkEzdp2dtJv",
    "scrolled": false
   },
   "outputs": [],
   "source": [
    "start=datetime.now()\n",
    "x=datetime.now(pytz.timezone('Asia/Kolkata')).date()\n",
    "dd=pd.date_range(start=\"2020-01-30\",end=x)\n",
    "datess=[]\n",
    "for i in range(len(dd)):\n",
    "  datess.append((str(dd[i])[:10]))"
   ]
  },
  {
   "cell_type": "code",
   "execution_count": null,
   "metadata": {
    "colab": {},
    "colab_type": "code",
    "id": "8R0wO5ONgrCK",
    "scrolled": false
   },
   "outputs": [],
   "source": [
    "dates1=[]\n",
    "for w in range (len(dates)):\n",
    "  if len(dates[w]):\n",
    "    dates1.append(convert(datess[w]))"
   ]
  },
  {
   "cell_type": "code",
   "execution_count": null,
   "metadata": {
    "colab": {
     "base_uri": "https://localhost:8080/",
     "height": 90
    },
    "colab_type": "code",
    "id": "uOGYyp1Rd8N6",
    "outputId": "3390c6a4-70b1-476f-de96-debceb588573",
    "scrolled": false
   },
   "outputs": [],
   "source": [
    "json_data={}\n",
    "\n",
    "#test_json_url = 'https://api.covid19india.org/v3/data-all.json'\n",
    "#test_json = json.loads(urlopen(test_json_url).read())\n",
    "test= json.load(open('test.json'))\n",
    "\n",
    "for j in state_id.keys():\n",
    "    cumul=['']*len(dates)\n",
    "    st=state_id[j]\n",
    "    cumul=states[st]['cum_positive_cases']\n",
    "\n",
    "    cumul_cases=np.array(cumul)\n",
    "    dbt = np.zeros((3,cumul_cases.shape[0]))\n",
    "    for i in range(cumul_cases.shape[0]):\n",
    "        dbt[:,i] = calc_doublingtimes(cumul_cases[i-7:i])\n",
    "    st=state_id[j]\n",
    "    json_data[st] = {\n",
    "            'dates':dates1,\n",
    "            'dbt_point':pd.Series((list(dbt[0,:]))).fillna('').tolist(),\n",
    "            'dbt_l95':pd.Series((list(dbt[1,:]))).fillna('').tolist(),\n",
    "            'dbt_u95':pd.Series((list(dbt[2,:]))).fillna('').tolist()\n",
    "            }\n",
    "    states[st].update(json_data[st])"
   ]
  },
  {
   "cell_type": "markdown",
   "metadata": {
    "colab_type": "text",
    "id": "qGM2uPiQuKGq"
   },
   "source": [
    "# Rt Calculation"
   ]
  },
  {
   "cell_type": "code",
   "execution_count": null,
   "metadata": {
    "colab": {},
    "colab_type": "code",
    "id": "jzCGqUfXuKGs",
    "scrolled": false
   },
   "outputs": [],
   "source": [
    "data_recovered = pd.DataFrame()\n",
    "data_deceased = pd.DataFrame()\n",
    "data_confirmed = pd.DataFrame()\n",
    "for s in state_id.keys():\n",
    "    st=state_id[s]\n",
    "    data_confirmed[st] = np.array(states[st]['daily_positive_cases'])\n",
    "    data_deceased[st] = np.array(states[st]['daily_deceased'])\n",
    "    data_recovered[st] = np.array(states[st]['daily_recovered'])"
   ]
  },
  {
   "cell_type": "code",
   "execution_count": null,
   "metadata": {
    "colab": {},
    "colab_type": "code",
    "id": "vQlPY_0nuKG3",
    "scrolled": false
   },
   "outputs": [],
   "source": [
    "data_recovered = data_recovered.replace(r'^\\s*$', np.NaN, regex=True).fillna(0)\n",
    "data_recovered = data_recovered.astype(np.int32)\n",
    "data_confirmed = data_confirmed.replace(r'^\\s*$', np.NaN, regex=True).fillna(0)\n",
    "data_confirmed = data_confirmed.astype(np.int32)\n",
    "data_deceased = data_deceased.replace(r'^\\s*$', np.NaN, regex=True).fillna(0)\n",
    "data_deceased = data_deceased.astype(np.int32)\n",
    "data_deceased['date'] = dates\n",
    "data_recovered['date'] = dates\n",
    "data_confirmed['date'] = dates"
   ]
  },
  {
   "cell_type": "code",
   "execution_count": null,
   "metadata": {
    "colab": {
     "base_uri": "https://localhost:8080/",
     "height": 1000
    },
    "colab_type": "code",
    "id": "dv1aI8w8uKG-",
    "outputId": "cebbcb05-0b7a-4bbb-e2c7-7f4fefde4575",
    "scrolled": true
   },
   "outputs": [],
   "source": [
    "rt_json = {}\n",
    "\n",
    "rt = pd.DataFrame()\n",
    "# plt.figure(1, figsize=(15, 7))\n",
    "for st in list(state_id.keys()):\n",
    "    state=state_id[st]\n",
    "    print(\"Working : \",state)\n",
    "    \n",
    "    temp = pd.DataFrame()\n",
    "    temp[\"active\"] = np.array(data_confirmed[state]).clip(0).tolist()\n",
    "    temp.to_csv('confirmed.csv')\n",
    "    \n",
    "    #os.system(\"Rscript.exe scripts/Rt_analysis_newGT_TJ.R\")  #Changed\n",
    "    call(['RScript.exe',\"scripts/Rt_analysis_newGT_TJ.R\"])\n",
    "    \n",
    "    values = {\n",
    "\n",
    "            'rt_point':[],\n",
    "            'rt_sd':[],\n",
    "            'rt_l95':[],\n",
    "            'rt_u95':[],\n",
    "            'rt_l50':[],\n",
    "            'rt_u50':[],\n",
    "            't_end':[]\n",
    "            }\n",
    "    for df in [pd.read_csv('rt_temp/'+temp) for temp in os.listdir('rt_temp/')]:\n",
    "        values['rt_point'].append(df['Mean(R)'])\n",
    "        values['rt_sd'].append(df['Std(R)'])\n",
    "        values['rt_l95'].append(df['Quantile.0.025(R)'])\n",
    "        values['rt_u95'].append(df['Quantile.0.975(R)'])\n",
    "        values['rt_l50'].append(df['Quantile.0.25(R)'])\n",
    "        values['rt_u50'].append(df['Quantile.0.75(R)'])\n",
    "        values['t_end'].append(df['t_end']-1)\n",
    "    for i in values:\n",
    "        values[i] = np.median(values[i],axis=0)\n",
    "    values['dates'] = list(data_confirmed['date'][values['t_end']-1])\n",
    "    rt_state=pd.DataFrame()\n",
    "    rt_state['state']=[str(state)]*len(values['dates'])\n",
    "    rt_state['dates']= values['dates']\n",
    "    rt_state['rt_point'] = values['rt_point']\n",
    "    rt_state['rt_sd'] = values['rt_sd']    \n",
    "    rt_state['rt_l95'] = values['rt_l95']    \n",
    "    rt_state['rt_u95'] = values['rt_u95']    \n",
    "    rt_state['rt_l50'] = values['rt_l50']\n",
    "    rt_state['rt_u50'] = values['rt_u50']\n",
    "    rt=pd.concat([rt, rt_state])\n",
    "    \n",
    "    rt_json[st] = values\n",
    "    plt.plot(range(len(values['rt_point'])),values['rt_point'],label=state)\n",
    "    plt.fill_between(range(len(values['rt_point'])),values['rt_l95'],values['rt_u95'],alpha=0.5)\n",
    "    plt.ylim(0,4)\n",
    "    plt.legend()\n",
    "    plt.show()"
   ]
  },
  {
   "cell_type": "code",
   "execution_count": null,
   "metadata": {},
   "outputs": [],
   "source": [
    "for st in state_id.keys():\n",
    "    state = state_id[st]\n",
    "    states[state].update(rt_json[st])"
   ]
  },
  {
   "cell_type": "code",
   "execution_count": null,
   "metadata": {
    "colab": {},
    "colab_type": "code",
    "id": "KEfUZftEuKHJ",
    "scrolled": false
   },
   "outputs": [],
   "source": [
    "rt.to_csv('rt.csv',index=False)"
   ]
  },
  {
   "cell_type": "code",
   "execution_count": null,
   "metadata": {},
   "outputs": [],
   "source": [
    "len(dates)"
   ]
  },
  {
   "cell_type": "code",
   "execution_count": null,
   "metadata": {},
   "outputs": [],
   "source": [
    "states['Maharashtra'].keys()"
   ]
  },
  {
   "cell_type": "markdown",
   "metadata": {
    "colab_type": "text",
    "id": "NLsCNBKpCx7O"
   },
   "source": [
    "##Rt Shifting"
   ]
  },
  {
   "cell_type": "code",
   "execution_count": null,
   "metadata": {
    "colab": {},
    "colab_type": "code",
    "id": "MtH6zdMU0EkO",
    "scrolled": false
   },
   "outputs": [],
   "source": [
    "def shift_rt_metrics(dict,key,days=9):\n",
    "  arr = copy.deepcopy(dict[key])\n",
    "  values_shift = collections.deque(arr)\n",
    "  values_shift.rotate(-1*days)\n",
    "\n",
    "  new_val = list(values_shift)\n",
    "\n",
    "  size = len(dict['dates'])\n",
    "  \n",
    "  for i in range(days):\n",
    "    new_val[size-1-i]=''\n",
    "\n",
    "  return new_val\n",
    " "
   ]
  },
  {
   "cell_type": "code",
   "execution_count": null,
   "metadata": {
    "scrolled": false
   },
   "outputs": [],
   "source": [
    "rt_json_shifted = copy.deepcopy(rt_json)\n",
    "\n",
    "for st in state_id.keys():\n",
    "    \n",
    "    rt_json_shifted[st]['rt_point'] = shift_rt_metrics(rt_json[st],'rt_point',2)\n",
    "    rt_json_shifted[st]['rt_sd'] = shift_rt_metrics(rt_json[st],'rt_sd',2)\n",
    "    rt_json_shifted[st]['rt_l95'] = shift_rt_metrics(rt_json[st],'rt_l95',2)\n",
    "    rt_json_shifted[st]['rt_u95'] = shift_rt_metrics(rt_json[st],'rt_u95',2)\n",
    "    rt_json_shifted[st]['rt_l50'] = shift_rt_metrics(rt_json[st],'rt_l50',2)\n",
    "    rt_json_shifted[st]['rt_u50'] = shift_rt_metrics(rt_json[st],'rt_u50',2)\n",
    "    rt_json_shifted[st]['t_end'] = shift_rt_metrics(rt_json[st],'t_end',2) \n"
   ]
  },
  {
   "cell_type": "code",
   "execution_count": null,
   "metadata": {},
   "outputs": [],
   "source": [
    "dates[-1]"
   ]
  },
  {
   "cell_type": "code",
   "execution_count": null,
   "metadata": {},
   "outputs": [],
   "source": [
    "for st in state_id.keys():\n",
    "    state = state_id[st]\n",
    "    leng = len(dates)\n",
    "    \n",
    "    #states[state]['dates'] =  temp1['India']['dates']\n",
    "    for keys in list(rt_json_shifted[st].keys())[:-1]:\n",
    "        if len(rt_json_shifted[st][keys])<leng:\n",
    "            rt_json_shifted[st][keys].extend(['' for i in range(leng-len(rt_json_shifted[st][keys]))]) \n",
    "                \n",
    "    rt_json_shifted[st]['dates'] = dates"
   ]
  },
  {
   "cell_type": "code",
   "execution_count": null,
   "metadata": {
    "scrolled": false
   },
   "outputs": [],
   "source": [
    "states_shifted = copy.deepcopy(states)\n",
    "\n",
    "for st in state_id.keys():\n",
    "    state = state_id[st]\n",
    "    states_shifted[state].update(rt_json_shifted[st])"
   ]
  },
  {
   "cell_type": "code",
   "execution_count": null,
   "metadata": {
    "colab": {},
    "colab_type": "code",
    "id": "AzXymvM9-k2e",
    "scrolled": false
   },
   "outputs": [],
   "source": [
    "for st in state_id.keys():\n",
    "    for key in rt_json[st].keys():\n",
    "      try:\n",
    "        rt_json[st][key]=rt_json[st][key].tolist()\n",
    "      except:\n",
    "        pass\n"
   ]
  },
  {
   "cell_type": "code",
   "execution_count": null,
   "metadata": {
    "scrolled": false
   },
   "outputs": [],
   "source": [
    "for st in state_id.keys():\n",
    "    state = state_id[st]\n",
    "    \n",
    "    for key in states[state].keys():\n",
    "      try:\n",
    "        states[state][key]=states[state][key].tolist()\n",
    "      except:\n",
    "        pass\n"
   ]
  },
  {
   "cell_type": "code",
   "execution_count": null,
   "metadata": {
    "scrolled": false
   },
   "outputs": [],
   "source": [
    "for st in state_id.keys():\n",
    "    state = state_id[st]\n",
    "    leng = len(temp1['India']['dates'])\n",
    "    states[state]['dates'] =  temp1['India']['dates']\n",
    "    \n",
    "    for keys in list(states[state].keys())[1:]:\n",
    "        if len(states[state][keys])<leng:\n",
    "            states[state][keys].extend(['' for i in range(leng-len(states[state][keys]))]) "
   ]
  },
  {
   "cell_type": "code",
   "execution_count": null,
   "metadata": {
    "scrolled": false
   },
   "outputs": [],
   "source": [
    "for st in state_id.keys():\n",
    "    state = state_id[st]\n",
    "    leng = len(temp1['India']['dates'])\n",
    "    states_shifted[state]['dates'] =  temp1['India']['dates']\n",
    "    \n",
    "    for keys in list(states_shifted[state].keys())[1:]:\n",
    "        if len(states_shifted[state][keys])<leng:\n",
    "            states_shifted[state][keys].extend(['' for i in range(leng-len(states_shifted[state][keys]))]) "
   ]
  },
  {
   "cell_type": "markdown",
   "metadata": {
    "colab_type": "text",
    "id": "aVXkhSzq_XBI"
   },
   "source": [
    "## Rt changes for review"
   ]
  },
  {
   "cell_type": "code",
   "execution_count": null,
   "metadata": {
    "colab": {},
    "colab_type": "code",
    "id": "SjNaxt3p_ZhS",
    "scrolled": false
   },
   "outputs": [],
   "source": [
    "with open('rt_shifted.json', 'w') as outfile:\n",
    "  json.dump(rt_json_shifted, outfile,indent=4)"
   ]
  },
  {
   "cell_type": "code",
   "execution_count": null,
   "metadata": {
    "colab": {},
    "colab_type": "code",
    "id": "LKYkPwynzndj",
    "scrolled": false
   },
   "outputs": [],
   "source": [
    "with open('rt.json', 'w') as outfile:\n",
    "  json.dump(rt_json, outfile,indent=4)"
   ]
  },
  {
   "cell_type": "code",
   "execution_count": null,
   "metadata": {
    "colab": {
     "base_uri": "https://localhost:8080/",
     "height": 72
    },
    "colab_type": "code",
    "id": "p-6gZXTQzMas",
    "outputId": "fc527549-5140-4509-b3cb-ae8a21d4ad52",
    "scrolled": false
   },
   "outputs": [],
   "source": [
    "'''\n",
    "vals = min(len(df_to_concat),len(cfr),len(rt))\n",
    "one = df_to_concat.iloc[:vals]\n",
    "two = cfr.iloc[:vals]\n",
    "three = rt.iloc[:vals]\n",
    "df_list = [one,two]\n",
    "#df_list = [df_to_concat.iloc[:vals],cfr.iloc[:vals],rt.iloc[:vals]]\n",
    "all_dataframes = pd.concat([two,three],axis=1)\n",
    "all_dataframes.to_csv('allmetrics_state.csv',index=False)'''"
   ]
  },
  {
   "cell_type": "markdown",
   "metadata": {
    "colab_type": "text",
    "id": "-7sizcxPuKHZ"
   },
   "source": [
    "#Pooling"
   ]
  },
  {
   "cell_type": "code",
   "execution_count": null,
   "metadata": {
    "colab": {
     "base_uri": "https://localhost:8080/",
     "height": 72
    },
    "colab_type": "code",
    "id": "117lq5wLXCvL",
    "outputId": "222c76b2-da50-45c6-fd44-d5b5a7bbc02d",
    "scrolled": false
   },
   "outputs": [],
   "source": [
    "print(\"No of days of data present: \",len(dates))\n",
    "print(\"Data rows for state dict: \",len(states['India']['dbt_u95']))\n",
    "print(\"No. of states : \",len(states.keys())-1)"
   ]
  },
  {
   "cell_type": "code",
   "execution_count": null,
   "metadata": {
    "colab": {
     "base_uri": "https://localhost:8080/",
     "height": 35
    },
    "colab_type": "code",
    "id": "AYcRWGwfbFqa",
    "outputId": "401df559-9e67-4723-9316-4924aad6bb22",
    "scrolled": false
   },
   "outputs": [],
   "source": [
    "print(\"Date updated : \",states['datetime'])"
   ]
  },
  {
   "cell_type": "code",
   "execution_count": null,
   "metadata": {},
   "outputs": [],
   "source": [
    "len(states['India']['dates'])"
   ]
  },
  {
   "cell_type": "code",
   "execution_count": null,
   "metadata": {
    "colab": {},
    "colab_type": "code",
    "id": "HWcFATKDGfY5",
    "scrolled": true
   },
   "outputs": [],
   "source": [
    "cols=list(states['India'].keys())\n",
    "q=['state']\n",
    "complete=pd.DataFrame(columns=q+cols)\n",
    "keys=list(states.keys())[:-1]\n",
    "\n",
    "for i in keys:\n",
    "  temp=pd.DataFrame()\n",
    "  temp['state']=[str(i)]*len(states['India']['dates'])\n",
    "  for j in cols:\n",
    "    print(j)\n",
    "    temp[j]=list(states[i][j])\n",
    "  complete = pd.concat([complete,temp])"
   ]
  },
  {
   "cell_type": "code",
   "execution_count": null,
   "metadata": {},
   "outputs": [],
   "source": [
    "len(states_shifted['India']['dates'])"
   ]
  },
  {
   "cell_type": "code",
   "execution_count": null,
   "metadata": {
    "scrolled": true
   },
   "outputs": [],
   "source": [
    "cols=list(states_shifted['India'].keys())\n",
    "q=['state']\n",
    "complete_shifted=pd.DataFrame(columns=q+cols)\n",
    "keys=list(states_shifted.keys())[:-1]\n",
    "\n",
    "for i in keys:\n",
    "  temp=pd.DataFrame()\n",
    "  temp['state']=[str(i)]*len(states_shifted['India']['dates'])\n",
    "  for j in cols:\n",
    "    print(i,j)\n",
    "    temp[j]=list(states_shifted[i][j])\n",
    "  complete_shifted = pd.concat([complete_shifted,temp])"
   ]
  },
  {
   "cell_type": "code",
   "execution_count": null,
   "metadata": {
    "scrolled": false
   },
   "outputs": [],
   "source": [
    "complete_shifted.to_csv('com_shifted.csv',index=False)"
   ]
  },
  {
   "cell_type": "code",
   "execution_count": null,
   "metadata": {
    "colab": {},
    "colab_type": "code",
    "id": "dhye4Qn26bTF",
    "scrolled": false
   },
   "outputs": [],
   "source": [
    "complete.to_csv('com.csv',index=False)"
   ]
  },
  {
   "cell_type": "code",
   "execution_count": null,
   "metadata": {
    "colab": {},
    "colab_type": "code",
    "id": "yoIG5b-qeBF2",
    "scrolled": false
   },
   "outputs": [],
   "source": [
    "json_data_indented = json.dumps(json_data, indent = 4)\n",
    "with open(\"doubling_rate.json\", \"w\") as outfile: \n",
    "    outfile.write(json_data_indented)"
   ]
  },
  {
   "cell_type": "code",
   "execution_count": null,
   "metadata": {
    "colab": {},
    "colab_type": "code",
    "id": "LF5HPhfgniCs",
    "scrolled": false
   },
   "outputs": [],
   "source": [
    "states_indented = json.dumps(states, indent = 4)\n",
    "with open(\"covidtoday.json\", \"w\") as outfile: \n",
    "    outfile.write(states_indented)"
   ]
  },
  {
   "cell_type": "code",
   "execution_count": null,
   "metadata": {},
   "outputs": [],
   "source": [
    "states_indented = json.dumps(states_shifted, indent = 4)\n",
    "with open(\"covidtoday_shifted.json\", \"w\") as outfile: \n",
    "    outfile.write(states_indented)"
   ]
  },
  {
   "cell_type": "code",
   "execution_count": null,
   "metadata": {
    "colab": {
     "base_uri": "https://localhost:8080/",
     "height": 181
    },
    "colab_type": "code",
    "id": "OuEakH5cA7u2",
    "outputId": "afa8c1bd-461f-45e8-9ddc-b6234c69d5b2",
    "scrolled": false
   },
   "outputs": [],
   "source": [
    "complete.columns"
   ]
  },
  {
   "cell_type": "code",
   "execution_count": null,
   "metadata": {
    "colab": {},
    "colab_type": "code",
    "id": "OMap2Le5qG8Z",
    "scrolled": false
   },
   "outputs": [],
   "source": []
  },
  {
   "cell_type": "code",
   "execution_count": null,
   "metadata": {},
   "outputs": [],
   "source": []
  }
 ],
 "metadata": {
  "colab": {
   "collapsed_sections": [],
   "name": "unified_states_metrics.ipynb",
   "provenance": []
  },
  "kernelspec": {
   "display_name": "Python 3",
   "language": "python",
   "name": "python3"
  },
  "language_info": {
   "codemirror_mode": {
    "name": "ipython",
    "version": 3
   },
   "file_extension": ".py",
   "mimetype": "text/x-python",
   "name": "python",
   "nbconvert_exporter": "python",
   "pygments_lexer": "ipython3",
   "version": "3.7.6"
  }
 },
 "nbformat": 4,
 "nbformat_minor": 1
}
