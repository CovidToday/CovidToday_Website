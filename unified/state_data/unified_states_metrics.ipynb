{
  "nbformat": 4,
  "nbformat_minor": 0,
  "metadata": {
    "colab": {
      "name": "unified_states_metrics.ipynb",
      "provenance": [],
      "collapsed_sections": []
    },
    "kernelspec": {
      "display_name": "Python 3",
      "language": "python",
      "name": "python3"
    },
    "language_info": {
      "codemirror_mode": {
        "name": "ipython",
        "version": 3
      },
      "file_extension": ".py",
      "mimetype": "text/x-python",
      "name": "python",
      "nbconvert_exporter": "python",
      "pygments_lexer": "ipython3",
      "version": "3.6.8"
    }
  },
  "cells": [
    {
      "cell_type": "code",
      "metadata": {
        "id": "1MGiletA7xev",
        "colab_type": "code",
        "colab": {
          "base_uri": "https://localhost:8080/",
          "height": 53
        },
        "outputId": "8b2c94b0-45f3-4e82-bfd1-578fecb6b212"
      },
      "source": [
        "!pip install wget\n",
        "!pip install urllib3"
      ],
      "execution_count": 1,
      "outputs": [
        {
          "output_type": "stream",
          "text": [
            "Requirement already satisfied: wget in /usr/local/lib/python3.6/dist-packages (3.2)\n",
            "Requirement already satisfied: urllib3 in /usr/local/lib/python3.6/dist-packages (1.24.3)\n"
          ],
          "name": "stdout"
        }
      ]
    },
    {
      "cell_type": "code",
      "metadata": {
        "colab_type": "code",
        "id": "5Bg5JGkOoFkM",
        "colab": {}
      },
      "source": [
        "import numpy as np\n",
        "import matplotlib.pyplot as plt\n",
        "import pandas as pd\n",
        "from subprocess import call\n",
        "from scipy.stats.distributions import gamma,lognorm\n",
        "import json \n",
        "import wget\n",
        "import os\n",
        "import os.path\n",
        "from datetime import datetime,timedelta\n",
        "import pytz \n",
        "from collections import OrderedDict\n",
        "\n",
        "from urllib.request import urlopen"
      ],
      "execution_count": 20,
      "outputs": []
    },
    {
      "cell_type": "code",
      "metadata": {
        "id": "Mbqk2GCWvBe2",
        "colab_type": "code",
        "colab": {}
      },
      "source": [
        "#!git clone https://github.com/CovidToday/backend"
      ],
      "execution_count": 21,
      "outputs": []
    },
    {
      "cell_type": "code",
      "metadata": {
        "colab_type": "code",
        "id": "GbTAAECqo4b8",
        "colab": {
          "base_uri": "https://localhost:8080/",
          "height": 36
        },
        "outputId": "43e17392-1b98-475d-a25e-e09c6128f09c"
      },
      "source": [
        "if os.path.exists(\"test.json\"):\n",
        "  os.remove(\"test.json\")\n",
        "wget.download('https://api.covid19india.org/v3/data-all.json', os.path.join(os.getcwd(),'test.json')) #os.path.join instead of concating string together"
      ],
      "execution_count": 22,
      "outputs": [
        {
          "output_type": "execute_result",
          "data": {
            "application/vnd.google.colaboratory.intrinsic+json": {
              "type": "string"
            },
            "text/plain": [
              "'/content/test.json'"
            ]
          },
          "metadata": {
            "tags": []
          },
          "execution_count": 22
        }
      ]
    },
    {
      "cell_type": "code",
      "metadata": {
        "colab_type": "code",
        "id": "b_Mmdu4qo8np",
        "colab": {}
      },
      "source": [
        "# Removed bulky fn and convert code\n",
        "# Handles errors too\n",
        "'''\n",
        "def fn(mon):\n",
        "  if(mon == \"01\"):\n",
        "    return \" January\"\n",
        "  if(mon == \"02\"):\n",
        "    return \" February\"\n",
        "  if(mon == \"03\"):\n",
        "    return \" March\"\n",
        "  if(mon == \"04\"):\n",
        "    return \" April\"\n",
        "  if(mon == \"05\"):\n",
        "    return \" May\"\n",
        "  if(mon == \"06\"):\n",
        "    return \" June\"\n",
        "  if(mon == \"07\"):\n",
        "    return \" July\"\n",
        "  if(mon == \"08\"):\n",
        "    return \" August\"\n",
        "  if(mon == \"09\"):\n",
        "    return \" September\"\n",
        "  if(mon == \"10\"):\n",
        "    return \" October\"\n",
        "  if(mon == \"11\"):\n",
        "    return \" November\"\n",
        "  if(mon == \"12\"):\n",
        "    return \" December\"\n",
        "'''\n",
        "\n",
        "def convert(dat): \n",
        "    return datetime.strptime(dat, '%Y-%m-%d').strftime('%d %B')\n"
      ],
      "execution_count": 23,
      "outputs": []
    },
    {
      "cell_type": "code",
      "metadata": {
        "id": "EH9igVdY8IwB",
        "colab_type": "code",
        "colab": {
          "base_uri": "https://localhost:8080/",
          "height": 36
        },
        "outputId": "f0e5d2aa-879a-44f2-fd2a-96594a1f5d8e"
      },
      "source": [
        "dt = '2020-05-30'\n",
        "convert(dt)"
      ],
      "execution_count": 24,
      "outputs": [
        {
          "output_type": "execute_result",
          "data": {
            "application/vnd.google.colaboratory.intrinsic+json": {
              "type": "string"
            },
            "text/plain": [
              "'30 May'"
            ]
          },
          "metadata": {
            "tags": []
          },
          "execution_count": 24
        }
      ]
    },
    {
      "cell_type": "code",
      "metadata": {
        "id": "mwwDMhrB9Axj",
        "colab_type": "code",
        "colab": {}
      },
      "source": [
        "# maybe helpful \n",
        "\n",
        "def split_date_json(pos_rate_json,state):\n",
        "  td =  pd.DataFrame(pos_rate_json[state]['dates'])\n",
        "  \n",
        "  df = td.apply(lambda x: [x[0][:3],x[0][3:]],  result_type=\"expand\",axis=1)\n",
        "  df.columns=['date','month']\n",
        "  return df"
      ],
      "execution_count": 25,
      "outputs": []
    },
    {
      "cell_type": "code",
      "metadata": {
        "colab_type": "code",
        "id": "hx19gK_Vo_5J",
        "colab": {}
      },
      "source": [
        "dataset=pd.read_csv('https://raw.githubusercontent.com/CovidToday/backend/master/testing-and-cfr/population.csv')\n",
        "population=pd.DataFrame()\n",
        "population[\"State\"]=dataset['State'][:37]\n",
        "population[\"Population\"]=dataset['Population'][:37]\n",
        "population=population.set_index('State')"
      ],
      "execution_count": 26,
      "outputs": []
    },
    {
      "cell_type": "code",
      "metadata": {
        "colab_type": "code",
        "id": "489_2jZ1pDAe",
        "colab": {}
      },
      "source": [
        "state_id = {\n",
        "  \"TT\":\"India\",\n",
        "  \"MH\":\"Maharashtra\",\n",
        "  \"TN\":\"Tamil Nadu\",\n",
        "  \"DL\":\"Delhi\",\n",
        "  \"GJ\":\"Gujarat\",\n",
        "  \"RJ\":\"Rajasthan\",\n",
        "  \"UP\":\"Uttar Pradesh\",\n",
        "  \"MP\":\"Madhya Pradesh\",\n",
        "  \"WB\":\"West Bengal\",\n",
        "  \"KA\":\"Karnataka\",\n",
        "  \"BR\":\"Bihar\",\n",
        "  \"AP\":\"Andhra Pradesh\",\n",
        "  \"HR\":\"Haryana\",\n",
        "  \"TG\":\"Telangana\",\n",
        "  \"JK\":\"Jammu and Kashmir\",\n",
        "  \"OR\":\"Odisha\",\n",
        "  \"PB\":\"Punjab\",\n",
        "  \"AS\":\"Assam\",\n",
        "  \"KL\":\"Kerala\",\n",
        "  \"UT\":\"Uttarakhand\",\n",
        "  \"JH\":\"Jharkhand\",\n",
        "  \"CT\":\"Chhattisgarh\",\n",
        "  \"TR\":\"Tripura\",\n",
        "  \"HP\":\"Himachal Pradesh\",\n",
        "  \"CH\":\"Chandigarh\",\n",
        "  \"GA\":\"Goa\",\n",
        "  \"MN\":\"Manipur\",\n",
        "  \"NL\":\"Nagaland\",\n",
        "  \"PY\":\"Puducherry\",\n",
        "  \"LA\":\"Ladakh\",\n",
        "  \"AR\":\"Arunachal Pradesh\",\n",
        "  \"AN\":\"Andaman and Nicobar Islands\",\n",
        "  \"ML\":\"Meghalaya\",\n",
        "  \"MZ\":\"Mizoram\",\n",
        "  \"DN\":\"Dadra and Nagar Haveli and Daman and Diu\",\n",
        "  \"SK\":\"Sikkim\",\n",
        "}"
      ],
      "execution_count": 27,
      "outputs": []
    },
    {
      "cell_type": "code",
      "metadata": {
        "colab_type": "code",
        "id": "AmRFhGM1pFYS",
        "colab": {}
      },
      "source": [
        "#Changed\n",
        "\n",
        "'''\n",
        "from datetime import timedelta\n",
        "start=datetime.now()\n",
        "x1=datetime.now(pytz.timezone('Asia/Kolkata')).date()\n",
        "#x1 = datetime.today()\n",
        "#y1 = timedelta(days=7)\n",
        "y1=[]\n",
        "#x1=str(x1)[:10]\n",
        "for i in range(7,0,-1):\n",
        "  y1.append(str(datetime.today()-timedelta(days=i))[:10])\n",
        "#print(y1)\n",
        "##y1=str(y1)[:10]\n",
        "t=y1\n",
        "t\n",
        "'''\n",
        "def dates_gen(periods=7):\n",
        "  t = pd.Series(pd.date_range(end = datetime.now(pytz.timezone('Asia/Kolkata'))-timedelta(1), periods = periods)).dt.strftime('%Y-%m-%d').tolist()\n",
        "\n",
        "  return t"
      ],
      "execution_count": 28,
      "outputs": []
    },
    {
      "cell_type": "code",
      "metadata": {
        "id": "OthKZGr36TQ-",
        "colab_type": "code",
        "colab": {}
      },
      "source": [
        "t=dates_gen()"
      ],
      "execution_count": 29,
      "outputs": []
    },
    {
      "cell_type": "markdown",
      "metadata": {
        "id": "tSQkd78jaS2a",
        "colab_type": "text"
      },
      "source": [
        "#Positive Rate (All metrics)\n",
        "\n"
      ]
    },
    {
      "cell_type": "code",
      "metadata": {
        "id": "L24ra_WHIMJs",
        "colab_type": "code",
        "colab": {}
      },
      "source": [
        "csv_dates=[]\n",
        "csv_states=[]\n",
        "csv_total_cases=[]\n",
        "csv_cum_recovered=[]\n",
        "csv_daily_recovered=[]\n",
        "csv_cum_deceased=[]\n",
        "csv_daily_deceased=[]\n",
        "csv_positivity_rate_cumulative=[]\n",
        "csv_daily_positive_cases=[]\n",
        "csv_daily_positivity_rate=[]\n",
        "csv_daily_positive_cases_ma=[]\n",
        "csv_daily_positivity_rate_ma=[]\n",
        "csv_test_per_million=[]\n",
        "csv_daily_tested=[]\n",
        "csv_cum_tested=[]\n",
        "\n",
        "#New\n",
        "csv_daily_case_per_million = []\n",
        "csv_daily_test_per_million = []\n",
        "csv_daily_test_ma = []\n",
        "csv_daily_deceased_ma = []\n",
        "'''\n",
        "#Proposed method\n",
        "\n",
        "test_json_url = 'https://api.covid19india.org/v3/data-all.json'\n",
        "test_json = json.loads(urlopen(test_json_url).read())\n",
        "\n",
        "posrat_json_url = 'https://raw.githubusercontent.com/CovidToday/backend/master/testing-and-cfr/positivity_Rate.json'\n",
        "posrat_json = json.loads(urlopen(posrat_json_url).read())\n",
        "\n",
        "\n",
        "test =test_json\n",
        "temp1 = posrat_json\n",
        "\n",
        "'''\n",
        "#Old method\n",
        "#test = json.load(open('test.json'))\n",
        "test_json_url = 'https://api.covid19india.org/v3/data-all.json'\n",
        "test_json = json.loads(urlopen(test_json_url).read())\n",
        "\n",
        "test = test_json\n",
        "temp1 = json.load(open('positivity_Rate.json'))\n",
        "\n",
        "\n",
        "for date in t:  \n",
        " \n",
        "  states={}\n",
        "  temp = test[date]\n",
        "  \n",
        "\n",
        "  for i,j in enumerate(state_id.keys()):\n",
        "    k = state_id[j]\n",
        "    #print('posrate() -- Working : ',state_id[j])\n",
        "\n",
        "    test_per_million = temp1[k]['test_per_million']\n",
        "    pos_cum = temp1[k]['cum_positive_cases']\n",
        "    pos_rate_cum = temp1[k]['cum_positivity_rate']\n",
        "    daily_pos = temp1[k]['daily_positive_cases']\n",
        "    daily_pos_ma = temp1[k]['daily_positive_cases_ma']\n",
        "    daily_pos_rate = temp1[k]['daily_positivity_rate']\n",
        "    daily_pos_rate_ma = temp1[k]['daily_positivity_rate_ma']\n",
        "    tested_cum = temp1[k]['cum_tests']\n",
        "    daily_tested = temp1[k]['daily_tests']\n",
        "    deceased_cum = temp1[k]['cum_deceased']\n",
        "    daily_deceased = temp1[k]['daily_deceased']\n",
        "    recovered_cum = temp1[k]['cum_recovered']\n",
        "    daily_recovered = temp1[k]['daily_recovered'] \n",
        "    \n",
        "    \n",
        "    \n",
        "    #New added\n",
        "    daily_case_per_million  = temp1[k]['daily_cases_per_million']\n",
        "    daily_test_per_million  = temp1[k]['daily_tests_per_million']\n",
        "    daily_test_ma  = temp1[k]['daily_tests_ma']\n",
        "    daily_deceased_ma  = temp1[k]['daily_deceased_ma']\n",
        "  \n",
        "    dates=temp1[k]['dates']\n",
        "    if convert(date) not in dates :\n",
        "      print(1)\n",
        "      dates.append(convert(date))\n",
        "      test_per_million.append('')\n",
        "      pos_cum.append('')\n",
        "      pos_rate_cum.append('')\n",
        "      daily_pos.append('')\n",
        "      daily_pos_ma.append('')\n",
        "      daily_pos_rate.append('')\n",
        "      daily_pos_rate_ma.append('')\n",
        "      tested_cum.append('')\n",
        "      daily_tested.append('')\n",
        "      deceased_cum.append('')\n",
        "      daily_deceased.append('')\n",
        "      recovered_cum.append('')\n",
        "      daily_recovered.append('')\n",
        "      \n",
        "      #New added\n",
        "      print(\"Appends\")\n",
        "      daily_case_per_million.append('')\n",
        "      daily_test_per_million.append('')\n",
        "      daily_test_ma.append('')\n",
        "      daily_deceased_ma.append('')\n",
        "\n",
        "      i=len(dates)-1\n",
        "      \n",
        "    for l in range(len(dates)):\n",
        "      if convert(date)==dates[l]:\n",
        "        i=l\n",
        "        break\n",
        "    \n",
        "\n",
        "    if k in temp1.keys():\n",
        "        if 'total' in temp[j].keys():\n",
        "          if 'confirmed' in temp[j]['total'].keys():\n",
        "            pos_cum[i]=temp[j]['total']['confirmed']\n",
        "\n",
        "          if 'tested' in temp[j]['total'].keys():\n",
        "            tested_cum[i]=abs(temp[j]['total']['tested'])\n",
        "            test_per_million[i]=temp[j]['total']['tested']*1000000/int(population[\"Population\"][k])\n",
        "              \n",
        "          if 'deceased' in temp[j]['total'].keys():\n",
        "            deceased_cum[i]=temp[j]['total']['deceased']\n",
        "          \n",
        "          if 'recovered' in temp[j]['total'].keys():\n",
        "            recovered_cum[i]=temp[j]['total']['recovered']\n",
        "          \n",
        "          if len(str(pos_cum[i])) and len(str(tested_cum[i])):\n",
        "            pos_rate_cum[i]= pos_cum[i]*100/tested_cum[i]\n",
        "\n",
        "        if 'delta' in temp[j].keys():\n",
        "          if 'confirmed' in temp[j]['delta'].keys():\n",
        "            daily_pos[i]=temp[j]['delta']['confirmed']\n",
        "            daily_case_per_million[i] =temp[j]['delta']['confirmed']*1000000/int(population[\"Population\"][k])   #New\n",
        "\n",
        "          if 'tested' in temp[j]['delta'].keys():\n",
        "            daily_tested[i]=abs(temp[j]['delta']['tested'])\n",
        "            daily_test_per_million[i] = temp[j]['delta']['tested']*1000000/int(population[\"Population\"][k])    #New\n",
        "\n",
        "          if 'deceased' in temp[j]['delta'].keys():\n",
        "            daily_deceased[i]=temp[j]['delta']['deceased']\n",
        "          \n",
        "          if 'recovered' in temp[j]['delta'].keys():\n",
        "            daily_recovered[i]=temp[j]['delta']['recovered']\n",
        "          \n",
        "          if len(str(daily_pos[i])) and len(str(daily_tested[i])):\n",
        "            daily_pos_rate[i]=int(daily_pos[i])*100/int(daily_tested[i])\n",
        "    \n",
        "   \n",
        "    for w in range(7,len(daily_pos)):\n",
        "      sum1=0\n",
        "      sum2=0\n",
        "      for s in range(7):\n",
        "        if (len(str(daily_pos[w-s]))!=0 and len(str(daily_tested[w-s]))!=0):\n",
        "          sum1+=int(daily_pos[w-s])\n",
        "          sum2+=int(daily_tested[w-s])\n",
        "      if (sum2!=0):\n",
        "        daily_pos_rate_ma[w]=sum1*100/abs(sum2)\n",
        "    \n",
        "    for w in range(7,len(daily_pos)):\n",
        "      sum1=0\n",
        "      count=0\n",
        "      for s in range(7):\n",
        "        if (len(str(daily_pos[w-s]))!=0):\n",
        "          sum1+=int(daily_pos[w-s])\n",
        "          count+=1\n",
        "      if count!=0:\n",
        "        daily_pos_ma[w]=sum1/count\n",
        "  \n",
        "    #New\n",
        "    for w in range(7,len(daily_tested)):\n",
        "      sum1=0\n",
        "      count=0\n",
        "      for s in range(7):\n",
        "        if (len(str(daily_tested[w-s]))!=0):\n",
        "          sum1+=int(daily_tested[w-s])\n",
        "        \n",
        "          count+=1\n",
        "      if count!=0:\n",
        "        daily_test_ma[w]=sum1/count\n",
        "        \n",
        "    #New\n",
        "    for w in range(7,len(daily_deceased)):\n",
        "      sum1=0\n",
        "      count=0\n",
        "      for s in range(7):\n",
        "        if (len(str(daily_deceased[w-s]))!=0):\n",
        "          sum1+=int(daily_deceased[w-s])\n",
        "          count+=1\n",
        "      if count!=0:\n",
        "        daily_deceased_ma[w]=sum1/count\n",
        "   \n",
        "    \n",
        "    #print(len)\n",
        "    st=state_id[j]\n",
        "    for i in range(len(dates)):\n",
        "      '''\n",
        "      if i  == len(dates)//4:\n",
        "        print(\"Progress : 25%\")\n",
        "      if i  == len(dates)//2:\n",
        "        print(\"Progress : 50%\")\n",
        "      if i  == (len(dates)*3)//4:\n",
        "        print(\"Progress : 75%\")  \n",
        "      if i  == len(dates)-1:\n",
        "        print(\"Progres : 100&\")\n",
        "      '''\n",
        "      csv_dates.append(dates[i])\n",
        "      csv_states.append(st)\n",
        "      csv_total_cases.append(pos_cum[i])\n",
        "      csv_positivity_rate_cumulative.append(pos_rate_cum[i])\n",
        "      csv_daily_positive_cases.append(daily_pos[i])\n",
        "      csv_cum_recovered.append(recovered_cum[i])\n",
        "      csv_daily_recovered.append(daily_recovered[i])\n",
        "      csv_cum_deceased.append(deceased_cum[i])\n",
        "      csv_daily_deceased.append(daily_deceased[i])\n",
        "      csv_daily_positivity_rate.append(daily_pos_rate[i])\n",
        "      csv_daily_positive_cases_ma.append(daily_pos_ma[i])\n",
        "      csv_daily_positivity_rate_ma.append(daily_pos_rate_ma[i])\n",
        "      csv_daily_tested.append(daily_tested[i])\n",
        "      csv_cum_tested.append(tested_cum[i])\n",
        "      csv_test_per_million.append(test_per_million[i])\n",
        "\n",
        "      #New\n",
        "      csv_daily_case_per_million.append(daily_case_per_million[i])\n",
        "      csv_daily_test_per_million.append(daily_test_per_million[i])\n",
        "      csv_daily_test_ma.append(daily_test_ma[i])\n",
        "      csv_daily_deceased_ma.append(daily_deceased_ma[i])\n",
        "    \n",
        "    #print(st)\n",
        "    states[st]={\n",
        "                    'dates':dates,\n",
        "                    'cum_positive_cases':pos_cum,\n",
        "                    'cum_positivity_rate':pos_rate_cum,\n",
        "                    'daily_positive_cases':daily_pos,\n",
        "                    'cum_recovered':recovered_cum,\n",
        "                    'daily_recovered':daily_recovered,\n",
        "                    'cum_deceased':deceased_cum,\n",
        "                    'daily_deceased':daily_deceased,\n",
        "                    'daily_positivity_rate':daily_pos_rate,\n",
        "                    'daily_positive_cases_ma': daily_pos_ma,\n",
        "                    'daily_positivity_rate_ma':daily_pos_rate_ma , \n",
        "                    'daily_tests': daily_tested,\n",
        "                    'cum_tests': tested_cum,\n",
        "                    'test_per_million':test_per_million,\n",
        "                    #New\n",
        "                    'daily_cases_per_million':daily_case_per_million,\n",
        "                    'daily_tests_per_million':daily_test_per_million,\n",
        "                    'daily_tests_ma':daily_test_ma,\n",
        "                    'daily_deceased_ma':daily_deceased_ma\n",
        "\n",
        "                   }\n",
        "      \n",
        "  states['datetime']=str(datetime.now(pytz.timezone('Asia/Kolkata')))\n",
        "  with open('positivity_Rate.json', 'w') as outfile:\n",
        "    json.dump(states, outfile,indent=4)"
      ],
      "execution_count": 30,
      "outputs": []
    },
    {
      "cell_type": "markdown",
      "metadata": {
        "id": "T4RFAVgPSWtq",
        "colab_type": "text"
      },
      "source": [
        "#CSV"
      ]
    },
    {
      "cell_type": "code",
      "metadata": {
        "colab_type": "code",
        "id": "KLyUpPIY7Cr0",
        "colab": {}
      },
      "source": [
        "n_states = len(state_id.keys())\n",
        "n_dates = len(dates)\n",
        "\n",
        "rows = n_states*n_dates\n",
        "\n",
        "\n",
        "df=pd.DataFrame()\n",
        "df['dates']=csv_dates[:rows]\n",
        "df['state']=csv_states[:rows]\n",
        "df['cum_positive_cases']=csv_total_cases[:rows]\n",
        "df['cum_positivity_rate']=csv_positivity_rate_cumulative[:rows]\n",
        "\n",
        "df['cum_recovered']=csv_cum_recovered[:rows]\n",
        "df['daily_recovered']:csv_daily_recovered[:rows]\n",
        "df['cum_deceased']=csv_cum_deceased[:rows]\n",
        "df['daily_deceased']=csv_daily_deceased[:rows]\n",
        "df['daily_positive_cases']=csv_daily_positive_cases[:rows]\n",
        "df['daily_positivity_rate']=csv_daily_positivity_rate[:rows]\n",
        "df['daily_positive_cases_ma']=csv_daily_positive_cases_ma[:rows]\n",
        "df['daily_positivity_rate_ma']=    csv_daily_positivity_rate_ma[:rows]\n",
        "df['daily_tests']=csv_daily_tested[:rows]\n",
        "df['cum_tested']=csv_cum_tested[:rows]\n",
        "df['test_per_million']=csv_test_per_million[:rows]\n",
        "\n",
        "#New\n",
        "df['daily_cases_per_million'] = csv_daily_case_per_million[:rows]\n",
        "df['daily_tests_per_million'] = csv_daily_test_per_million[:rows]\n",
        "df['daily_tests_ma'] = csv_daily_test_ma[:rows]\n",
        "df['daily_deceased_ma'] = csv_daily_deceased_ma[:rows]\n",
        "\n",
        "df.to_csv('positivity_Rate.csv',index=False)"
      ],
      "execution_count": 31,
      "outputs": []
    },
    {
      "cell_type": "code",
      "metadata": {
        "id": "__Mof2jNcBFT",
        "colab_type": "code",
        "colab": {
          "base_uri": "https://localhost:8080/",
          "height": 144
        },
        "outputId": "c27d3367-b1ff-4f5a-92fe-11afc176e520"
      },
      "source": [
        "df.columns"
      ],
      "execution_count": 32,
      "outputs": [
        {
          "output_type": "execute_result",
          "data": {
            "text/plain": [
              "Index(['dates', 'state', 'cum_positive_cases', 'cum_positivity_rate',\n",
              "       'cum_recovered', 'cum_deceased', 'daily_deceased',\n",
              "       'daily_positive_cases', 'daily_positivity_rate',\n",
              "       'daily_positive_cases_ma', 'daily_positivity_rate_ma', 'daily_tests',\n",
              "       'cum_tested', 'test_per_million', 'daily_cases_per_million',\n",
              "       'daily_tests_per_million', 'daily_tests_ma', 'daily_deceased_ma'],\n",
              "      dtype='object')"
            ]
          },
          "metadata": {
            "tags": []
          },
          "execution_count": 32
        }
      ]
    },
    {
      "cell_type": "code",
      "metadata": {
        "id": "ga1avWC1ZMiy",
        "colab_type": "code",
        "colab": {
          "base_uri": "https://localhost:8080/",
          "height": 617
        },
        "outputId": "e3547e34-8c68-4a12-b472-4a20db7ca593"
      },
      "source": [
        "df[df['state']=='India']"
      ],
      "execution_count": 33,
      "outputs": [
        {
          "output_type": "execute_result",
          "data": {
            "text/html": [
              "<div>\n",
              "<style scoped>\n",
              "    .dataframe tbody tr th:only-of-type {\n",
              "        vertical-align: middle;\n",
              "    }\n",
              "\n",
              "    .dataframe tbody tr th {\n",
              "        vertical-align: top;\n",
              "    }\n",
              "\n",
              "    .dataframe thead th {\n",
              "        text-align: right;\n",
              "    }\n",
              "</style>\n",
              "<table border=\"1\" class=\"dataframe\">\n",
              "  <thead>\n",
              "    <tr style=\"text-align: right;\">\n",
              "      <th></th>\n",
              "      <th>dates</th>\n",
              "      <th>state</th>\n",
              "      <th>cum_positive_cases</th>\n",
              "      <th>cum_positivity_rate</th>\n",
              "      <th>cum_recovered</th>\n",
              "      <th>cum_deceased</th>\n",
              "      <th>daily_deceased</th>\n",
              "      <th>daily_positive_cases</th>\n",
              "      <th>daily_positivity_rate</th>\n",
              "      <th>daily_positive_cases_ma</th>\n",
              "      <th>daily_positivity_rate_ma</th>\n",
              "      <th>daily_tests</th>\n",
              "      <th>cum_tested</th>\n",
              "      <th>test_per_million</th>\n",
              "      <th>daily_cases_per_million</th>\n",
              "      <th>daily_tests_per_million</th>\n",
              "      <th>daily_tests_ma</th>\n",
              "      <th>daily_deceased_ma</th>\n",
              "    </tr>\n",
              "  </thead>\n",
              "  <tbody>\n",
              "    <tr>\n",
              "      <th>0</th>\n",
              "      <td>30 January</td>\n",
              "      <td>India</td>\n",
              "      <td>1</td>\n",
              "      <td></td>\n",
              "      <td></td>\n",
              "      <td></td>\n",
              "      <td></td>\n",
              "      <td>1</td>\n",
              "      <td></td>\n",
              "      <td></td>\n",
              "      <td></td>\n",
              "      <td></td>\n",
              "      <td></td>\n",
              "      <td></td>\n",
              "      <td></td>\n",
              "      <td></td>\n",
              "      <td></td>\n",
              "      <td></td>\n",
              "    </tr>\n",
              "    <tr>\n",
              "      <th>1</th>\n",
              "      <td>31 January</td>\n",
              "      <td>India</td>\n",
              "      <td></td>\n",
              "      <td></td>\n",
              "      <td></td>\n",
              "      <td></td>\n",
              "      <td></td>\n",
              "      <td></td>\n",
              "      <td></td>\n",
              "      <td></td>\n",
              "      <td></td>\n",
              "      <td></td>\n",
              "      <td></td>\n",
              "      <td></td>\n",
              "      <td></td>\n",
              "      <td></td>\n",
              "      <td></td>\n",
              "      <td></td>\n",
              "    </tr>\n",
              "    <tr>\n",
              "      <th>2</th>\n",
              "      <td>01 February</td>\n",
              "      <td>India</td>\n",
              "      <td></td>\n",
              "      <td></td>\n",
              "      <td></td>\n",
              "      <td></td>\n",
              "      <td></td>\n",
              "      <td></td>\n",
              "      <td></td>\n",
              "      <td></td>\n",
              "      <td></td>\n",
              "      <td></td>\n",
              "      <td></td>\n",
              "      <td></td>\n",
              "      <td></td>\n",
              "      <td></td>\n",
              "      <td></td>\n",
              "      <td></td>\n",
              "    </tr>\n",
              "    <tr>\n",
              "      <th>3</th>\n",
              "      <td>02 February</td>\n",
              "      <td>India</td>\n",
              "      <td>2</td>\n",
              "      <td></td>\n",
              "      <td></td>\n",
              "      <td></td>\n",
              "      <td></td>\n",
              "      <td>1</td>\n",
              "      <td></td>\n",
              "      <td></td>\n",
              "      <td></td>\n",
              "      <td></td>\n",
              "      <td></td>\n",
              "      <td></td>\n",
              "      <td></td>\n",
              "      <td></td>\n",
              "      <td></td>\n",
              "      <td></td>\n",
              "    </tr>\n",
              "    <tr>\n",
              "      <th>4</th>\n",
              "      <td>03 February</td>\n",
              "      <td>India</td>\n",
              "      <td>3</td>\n",
              "      <td></td>\n",
              "      <td></td>\n",
              "      <td></td>\n",
              "      <td></td>\n",
              "      <td>1</td>\n",
              "      <td></td>\n",
              "      <td></td>\n",
              "      <td></td>\n",
              "      <td></td>\n",
              "      <td></td>\n",
              "      <td></td>\n",
              "      <td></td>\n",
              "      <td></td>\n",
              "      <td></td>\n",
              "      <td></td>\n",
              "    </tr>\n",
              "    <tr>\n",
              "      <th>...</th>\n",
              "      <td>...</td>\n",
              "      <td>...</td>\n",
              "      <td>...</td>\n",
              "      <td>...</td>\n",
              "      <td>...</td>\n",
              "      <td>...</td>\n",
              "      <td>...</td>\n",
              "      <td>...</td>\n",
              "      <td>...</td>\n",
              "      <td>...</td>\n",
              "      <td>...</td>\n",
              "      <td>...</td>\n",
              "      <td>...</td>\n",
              "      <td>...</td>\n",
              "      <td>...</td>\n",
              "      <td>...</td>\n",
              "      <td>...</td>\n",
              "      <td>...</td>\n",
              "    </tr>\n",
              "    <tr>\n",
              "      <th>191</th>\n",
              "      <td>09 August</td>\n",
              "      <td>India</td>\n",
              "      <td>2214137</td>\n",
              "      <td>9.00658</td>\n",
              "      <td>1534278</td>\n",
              "      <td>44466</td>\n",
              "      <td>1013</td>\n",
              "      <td>62117</td>\n",
              "      <td>13.0218</td>\n",
              "      <td>58470.6</td>\n",
              "      <td>9.34312</td>\n",
              "      <td>477023</td>\n",
              "      <td>24583558</td>\n",
              "      <td>17926.4</td>\n",
              "      <td>45.2959</td>\n",
              "      <td>347.847</td>\n",
              "      <td>625814</td>\n",
              "      <td>899.714</td>\n",
              "    </tr>\n",
              "    <tr>\n",
              "      <th>192</th>\n",
              "      <td>10 August</td>\n",
              "      <td>India</td>\n",
              "      <td>2267153</td>\n",
              "      <td>8.96751</td>\n",
              "      <td>1581640</td>\n",
              "      <td>45353</td>\n",
              "      <td>887</td>\n",
              "      <td>53016</td>\n",
              "      <td>7.59226</td>\n",
              "      <td>58831.7</td>\n",
              "      <td>9.32336</td>\n",
              "      <td>698290</td>\n",
              "      <td>25281848</td>\n",
              "      <td>18435.6</td>\n",
              "      <td>38.6594</td>\n",
              "      <td>509.195</td>\n",
              "      <td>631014</td>\n",
              "      <td>911.286</td>\n",
              "    </tr>\n",
              "    <tr>\n",
              "      <th>193</th>\n",
              "      <td>11 August</td>\n",
              "      <td>India</td>\n",
              "      <td>2328405</td>\n",
              "      <td>8.95014</td>\n",
              "      <td>1638101</td>\n",
              "      <td>46188</td>\n",
              "      <td>835</td>\n",
              "      <td>61252</td>\n",
              "      <td>8.35123</td>\n",
              "      <td>60256</td>\n",
              "      <td>9.30924</td>\n",
              "      <td>733449</td>\n",
              "      <td>26015297</td>\n",
              "      <td>18970.4</td>\n",
              "      <td>44.6651</td>\n",
              "      <td>534.833</td>\n",
              "      <td>647271</td>\n",
              "      <td>909.286</td>\n",
              "    </tr>\n",
              "    <tr>\n",
              "      <th>194</th>\n",
              "      <td>12 August</td>\n",
              "      <td>India</td>\n",
              "      <td>2395471</td>\n",
              "      <td>8.92311</td>\n",
              "      <td>1695860</td>\n",
              "      <td>47138</td>\n",
              "      <td>950</td>\n",
              "      <td>67066</td>\n",
              "      <td>8.07644</td>\n",
              "      <td>61747.4</td>\n",
              "      <td>9.2036</td>\n",
              "      <td>830391</td>\n",
              "      <td>26845688</td>\n",
              "      <td>19576</td>\n",
              "      <td>48.9047</td>\n",
              "      <td>605.524</td>\n",
              "      <td>670905</td>\n",
              "      <td>913.714</td>\n",
              "    </tr>\n",
              "    <tr>\n",
              "      <th>195</th>\n",
              "      <td>13 August</td>\n",
              "      <td>India</td>\n",
              "      <td>2459613</td>\n",
              "      <td>9.16204</td>\n",
              "      <td>1750636</td>\n",
              "      <td>48144</td>\n",
              "      <td>1006</td>\n",
              "      <td>64142</td>\n",
              "      <td></td>\n",
              "      <td>62029.1</td>\n",
              "      <td>9.1209</td>\n",
              "      <td></td>\n",
              "      <td>26845688</td>\n",
              "      <td>19576</td>\n",
              "      <td>46.7725</td>\n",
              "      <td></td>\n",
              "      <td>676216</td>\n",
              "      <td>929</td>\n",
              "    </tr>\n",
              "  </tbody>\n",
              "</table>\n",
              "<p>196 rows × 18 columns</p>\n",
              "</div>"
            ],
            "text/plain": [
              "           dates  state  ... daily_tests_ma daily_deceased_ma\n",
              "0     30 January  India  ...                                 \n",
              "1     31 January  India  ...                                 \n",
              "2    01 February  India  ...                                 \n",
              "3    02 February  India  ...                                 \n",
              "4    03 February  India  ...                                 \n",
              "..           ...    ...  ...            ...               ...\n",
              "191    09 August  India  ...         625814           899.714\n",
              "192    10 August  India  ...         631014           911.286\n",
              "193    11 August  India  ...         647271           909.286\n",
              "194    12 August  India  ...         670905           913.714\n",
              "195    13 August  India  ...         676216               929\n",
              "\n",
              "[196 rows x 18 columns]"
            ]
          },
          "metadata": {
            "tags": []
          },
          "execution_count": 33
        }
      ]
    },
    {
      "cell_type": "markdown",
      "metadata": {
        "colab_type": "text",
        "id": "ye3tsK0SXa9y"
      },
      "source": [
        "# CFR"
      ]
    },
    {
      "cell_type": "code",
      "metadata": {
        "colab_type": "code",
        "id": "vlmqEdncXzt2",
        "colab": {}
      },
      "source": [
        "#dates = np.array([pd.to_datetime(i['date']) for i in filter(lambda v: v['status'] == 'Confirmed',json.load(open('states.json',))['states_daily'])])\n",
        "#print(dates)\n",
        "data_recovered = pd.DataFrame()\n",
        "data_deceased = pd.DataFrame()\n",
        "data_confirmed = pd.DataFrame()\n",
        "\n",
        "for s in state_id.keys():\n",
        "    st=state_id[s]\n",
        "    data_confirmed[st] = np.array(states[st]['daily_positive_cases'])\n",
        "    data_deceased[st] = np.array(states[st]['daily_deceased'])\n",
        "    data_recovered[st] = np.array(states[st]['daily_recovered'])"
      ],
      "execution_count": 34,
      "outputs": []
    },
    {
      "cell_type": "code",
      "metadata": {
        "colab_type": "code",
        "id": "xK8aH0zUiL4h",
        "colab": {}
      },
      "source": [
        "def n2z(x):\n",
        "    x[np.logical_or(np.isnan(x),np.isinf(x))] = 0\n",
        "    return x"
      ],
      "execution_count": 35,
      "outputs": []
    },
    {
      "cell_type": "code",
      "metadata": {
        "colab_type": "code",
        "id": "YylW_gHIjGaX",
        "colab": {}
      },
      "source": [
        "data_recovered = data_recovered.replace(r'^\\s*$', np.NaN, regex=True).fillna(0)\n",
        "data_recovered = data_recovered.astype(np.int32)\n",
        "data_confirmed = data_confirmed.replace(r'^\\s*$', np.NaN, regex=True).fillna(0)\n",
        "data_confirmed = data_confirmed.astype(np.int32)\n",
        "data_deceased = data_deceased.replace(r'^\\s*$', np.NaN, regex=True).fillna(0)\n",
        "data_deceased = data_deceased.astype(np.int32)\n",
        "data_deceased['date'] = dates\n",
        "data_recovered['date'] = dates\n",
        "data_confirmed['date'] = dates"
      ],
      "execution_count": 36,
      "outputs": []
    },
    {
      "cell_type": "code",
      "metadata": {
        "colab_type": "code",
        "id": "z-bxCxt9dKPA",
        "colab": {
          "base_uri": "https://localhost:8080/",
          "height": 1000
        },
        "outputId": "52ab57d1-34a1-4eed-fc74-df79f6ff1409"
      },
      "source": [
        "json_data={}\n",
        "cfr = pd.DataFrame()\n",
        "final=pd.DataFrame\n",
        "plt.figure(1, figsize=(15, 7))\n",
        "for st in state_id.keys():\n",
        "    print(\"cfr() -- Working : \",state_id[st])\n",
        "\n",
        "    state=state_id[st]\n",
        "    boots = 100\n",
        "    conf = []\n",
        "    for n in range(boots):\n",
        "        if n  == boots//4:\n",
        "          print(\"Progress : 25%\")\n",
        "        if n  == boots//2:\n",
        "          print(\"Progress : 50%\")\n",
        "        if n  == (boots*3)//4:\n",
        "          print(\"Progress : 75%\")  \n",
        "        if n  == boots-1:\n",
        "          print(\"Progress : 100%\")\n",
        "\n",
        "        dataset = np.copy(data_confirmed[state].values)\n",
        "        mean = 13.0+(20.9-8.7)/4*np.random.normal()\n",
        "        sd = 12.7+(26.0-6.4)/4*np.random.normal()\n",
        "        phi = np.sqrt(sd**2 + mean**2)\n",
        "        mu = np.log(mean**2/phi)\n",
        "        sigma = np.sqrt(np.log(phi**2/mean**2))\n",
        "        L = lognorm(s=sigma,scale=np.exp(mu))\n",
        "        for i in range(len(dataset)-1,-1,-1):\n",
        "            send_forward = np.round(L.rvs(np.max([dataset[i],0])))\n",
        "            send_forward = send_forward[i+send_forward<len(dataset)]\n",
        "            dataset[i] = 0\n",
        "            for j in np.unique(np.int32(send_forward)):\n",
        "                dataset[i+j] += np.sum(send_forward==j)\n",
        "        conf.append(dataset)\n",
        "    CFR = np.cumsum(data_deceased[state].values)/np.cumsum(conf,axis=1)\n",
        "    col_mean = np.nanmean(CFR, axis=0)\n",
        "    inds = np.where(np.isnan(CFR))\n",
        "    CFR[inds] = np.take(col_mean, inds[1])\n",
        "    #temp1=list(pd.Series(dates).dt.strftime('%m-%d-%Y'))\n",
        "    #print(temp1[0])\n",
        "    dates = states[state]['dates']\n",
        "    temp = {\n",
        "        'dates':dates,\n",
        "        'cfr1_point':list(n2z(100*np.cumsum(data_deceased[state].values)/np.cumsum(data_confirmed[state].values))),\n",
        "        'cfr2_point':list(n2z(100*np.cumsum(data_deceased[state].values)/(np.cumsum(data_deceased[state].values)+np.cumsum(data_recovered[state].values)))),\n",
        "        'cfr3_point':list(n2z(100*np.median(CFR,axis=0))),\n",
        "        'cfr3_l95':list(n2z(100*np.quantile(CFR,0.025,axis=0))),\n",
        "        'cfr3_u95':list(n2z(100*np.quantile(CFR,0.975,axis=0))),\n",
        "        'cfr3_l50':list(n2z(100*np.quantile(CFR,0.25,axis=0))),\n",
        "        'cfr3_u50':list(n2z(100*np.quantile(CFR,0.75,axis=0))),\n",
        "        }\n",
        "    a=state_id[st]\n",
        "    #print(a)\n",
        "    states[state].update(temp)\n",
        "    json_data[state] = temp\n",
        "    cfr_state=pd.DataFrame()\n",
        "    cfr_state['state']=[str(a)]*len(dates)\n",
        "    cfr_state['dates']=dates\n",
        "    cfr_state['cfr1_point']=(list(100*n2z(np.cumsum(data_deceased[state].values)/np.cumsum(data_confirmed[state].values))))\n",
        "    cfr_state['cfr2_point']=(list(100*n2z(np.cumsum(data_deceased[state].values)/(np.cumsum(data_deceased[state].values)+np.cumsum(data_recovered[state].values)))))\n",
        "    cfr_state['cfr3_point']=(list(100*n2z(np.median(CFR,axis=0))))\n",
        "    cfr_state['cfr3_l95']=(list(100*n2z(np.quantile(CFR,0.025,axis=0))))\n",
        "    cfr_state['cfr3_u95']=(list(100*n2z(np.quantile(CFR,0.975,axis=0))))\n",
        "    cfr_state['cfr3_l50']=(list(100*n2z(np.quantile(CFR,0.25,axis=0))))\n",
        "    cfr_state['cfr3_u50']=(list(100*n2z(np.quantile(CFR,0.75,axis=0))))\n",
        "    cfr=pd.concat([cfr, cfr_state])\n",
        "      \n",
        "    plt.plot(temp['cfr3_point'],label=state)\n",
        "plt.legend()"
      ],
      "execution_count": 37,
      "outputs": [
        {
          "output_type": "stream",
          "text": [
            "cfr() -- Working :  India\n",
            "Progress : 25%\n",
            "Progress : 50%\n",
            "Progress : 75%\n",
            "Progress : 100%\n"
          ],
          "name": "stdout"
        },
        {
          "output_type": "stream",
          "text": [
            "/usr/local/lib/python3.6/dist-packages/ipykernel_launcher.py:35: RuntimeWarning: invalid value encountered in true_divide\n",
            "/usr/local/lib/python3.6/dist-packages/ipykernel_launcher.py:45: RuntimeWarning: invalid value encountered in true_divide\n",
            "/usr/local/lib/python3.6/dist-packages/ipykernel_launcher.py:60: RuntimeWarning: invalid value encountered in true_divide\n"
          ],
          "name": "stderr"
        },
        {
          "output_type": "stream",
          "text": [
            "cfr() -- Working :  Maharashtra\n",
            "Progress : 25%\n",
            "Progress : 50%\n",
            "Progress : 75%\n",
            "Progress : 100%\n",
            "cfr() -- Working :  Tamil Nadu\n"
          ],
          "name": "stdout"
        },
        {
          "output_type": "stream",
          "text": [
            "/usr/local/lib/python3.6/dist-packages/ipykernel_launcher.py:36: RuntimeWarning: Mean of empty slice\n",
            "/usr/local/lib/python3.6/dist-packages/ipykernel_launcher.py:44: RuntimeWarning: invalid value encountered in true_divide\n",
            "/usr/local/lib/python3.6/dist-packages/ipykernel_launcher.py:59: RuntimeWarning: invalid value encountered in true_divide\n"
          ],
          "name": "stderr"
        },
        {
          "output_type": "stream",
          "text": [
            "Progress : 25%\n",
            "Progress : 50%\n",
            "Progress : 75%\n",
            "Progress : 100%\n",
            "cfr() -- Working :  Delhi\n"
          ],
          "name": "stdout"
        },
        {
          "output_type": "stream",
          "text": [
            "/usr/local/lib/python3.6/dist-packages/ipykernel_launcher.py:35: RuntimeWarning: divide by zero encountered in true_divide\n"
          ],
          "name": "stderr"
        },
        {
          "output_type": "stream",
          "text": [
            "Progress : 25%\n",
            "Progress : 50%\n",
            "Progress : 75%\n",
            "Progress : 100%\n",
            "cfr() -- Working :  Gujarat\n",
            "Progress : 25%\n",
            "Progress : 50%\n",
            "Progress : 75%\n",
            "Progress : 100%\n",
            "cfr() -- Working :  Rajasthan\n",
            "Progress : 25%\n",
            "Progress : 50%\n",
            "Progress : 75%\n",
            "Progress : 100%\n",
            "cfr() -- Working :  Uttar Pradesh\n",
            "Progress : 25%\n",
            "Progress : 50%\n",
            "Progress : 75%\n",
            "Progress : 100%\n",
            "cfr() -- Working :  Madhya Pradesh\n",
            "Progress : 25%\n",
            "Progress : 50%\n",
            "Progress : 75%\n",
            "Progress : 100%\n",
            "cfr() -- Working :  West Bengal\n",
            "Progress : 25%\n",
            "Progress : 50%\n",
            "Progress : 75%\n",
            "Progress : 100%\n",
            "cfr() -- Working :  Karnataka\n",
            "Progress : 25%\n",
            "Progress : 50%\n",
            "Progress : 75%\n",
            "Progress : 100%\n",
            "cfr() -- Working :  Bihar\n",
            "Progress : 25%\n",
            "Progress : 50%\n",
            "Progress : 75%\n",
            "Progress : 100%\n",
            "cfr() -- Working :  Andhra Pradesh\n",
            "Progress : 25%\n",
            "Progress : 50%\n",
            "Progress : 75%\n",
            "Progress : 100%\n",
            "cfr() -- Working :  Haryana\n",
            "Progress : 25%\n",
            "Progress : 50%\n",
            "Progress : 75%\n",
            "Progress : 100%\n",
            "cfr() -- Working :  Telangana\n",
            "Progress : 25%\n",
            "Progress : 50%\n",
            "Progress : 75%\n",
            "Progress : 100%\n",
            "cfr() -- Working :  Jammu and Kashmir\n",
            "Progress : 25%\n",
            "Progress : 50%\n",
            "Progress : 75%\n",
            "Progress : 100%\n",
            "cfr() -- Working :  Odisha\n",
            "Progress : 25%\n",
            "Progress : 50%\n",
            "Progress : 75%\n",
            "Progress : 100%\n",
            "cfr() -- Working :  Punjab\n",
            "Progress : 25%\n",
            "Progress : 50%\n",
            "Progress : 75%\n",
            "Progress : 100%\n",
            "cfr() -- Working :  Assam\n",
            "Progress : 25%\n",
            "Progress : 50%\n",
            "Progress : 75%\n",
            "Progress : 100%\n",
            "cfr() -- Working :  Kerala\n",
            "Progress : 25%\n",
            "Progress : 50%\n",
            "Progress : 75%\n",
            "Progress : 100%\n",
            "cfr() -- Working :  Uttarakhand\n",
            "Progress : 25%\n",
            "Progress : 50%\n",
            "Progress : 75%\n",
            "Progress : 100%\n",
            "cfr() -- Working :  Jharkhand\n",
            "Progress : 25%\n",
            "Progress : 50%\n",
            "Progress : 75%\n",
            "Progress : 100%\n",
            "cfr() -- Working :  Chhattisgarh\n",
            "Progress : 25%\n",
            "Progress : 50%\n",
            "Progress : 75%\n",
            "Progress : 100%\n",
            "cfr() -- Working :  Tripura\n",
            "Progress : 25%\n",
            "Progress : 50%\n",
            "Progress : 75%\n",
            "Progress : 100%\n",
            "cfr() -- Working :  Himachal Pradesh\n",
            "Progress : 25%\n",
            "Progress : 50%\n",
            "Progress : 75%\n",
            "Progress : 100%\n",
            "cfr() -- Working :  Chandigarh\n",
            "Progress : 25%\n",
            "Progress : 50%\n",
            "Progress : 75%\n",
            "Progress : 100%\n",
            "cfr() -- Working :  Goa\n",
            "Progress : 25%\n",
            "Progress : 50%\n",
            "Progress : 75%\n",
            "Progress : 100%\n",
            "cfr() -- Working :  Manipur\n",
            "Progress : 25%\n",
            "Progress : 50%\n",
            "Progress : 75%\n",
            "Progress : 100%\n",
            "cfr() -- Working :  Nagaland\n",
            "Progress : 25%\n",
            "Progress : 50%\n",
            "Progress : 75%\n",
            "Progress : 100%\n",
            "cfr() -- Working :  Puducherry\n",
            "Progress : 25%\n",
            "Progress : 50%\n",
            "Progress : 75%\n",
            "Progress : 100%\n",
            "cfr() -- Working :  Ladakh\n",
            "Progress : 25%\n",
            "Progress : 50%\n",
            "Progress : 75%\n",
            "Progress : 100%\n",
            "cfr() -- Working :  Arunachal Pradesh\n",
            "Progress : 25%\n",
            "Progress : 50%\n",
            "Progress : 75%\n",
            "Progress : 100%\n",
            "cfr() -- Working :  Andaman and Nicobar Islands\n",
            "Progress : 25%\n",
            "Progress : 50%\n",
            "Progress : 75%\n",
            "Progress : 100%\n",
            "cfr() -- Working :  Meghalaya\n",
            "Progress : 25%\n",
            "Progress : 50%\n",
            "Progress : 75%\n",
            "Progress : 100%\n",
            "cfr() -- Working :  Mizoram\n",
            "Progress : 25%\n",
            "Progress : 50%\n",
            "Progress : 75%\n",
            "Progress : 100%\n",
            "cfr() -- Working :  Dadra and Nagar Haveli and Daman and Diu\n",
            "Progress : 25%\n",
            "Progress : 50%\n",
            "Progress : 75%\n",
            "Progress : 100%\n",
            "cfr() -- Working :  Sikkim\n",
            "Progress : 25%\n",
            "Progress : 50%\n",
            "Progress : 75%\n",
            "Progress : 100%\n"
          ],
          "name": "stdout"
        },
        {
          "output_type": "execute_result",
          "data": {
            "text/plain": [
              "<matplotlib.legend.Legend at 0x7f977b2a7b00>"
            ]
          },
          "metadata": {
            "tags": []
          },
          "execution_count": 37
        },
        {
          "output_type": "display_data",
          "data": {
            "image/png": "[encoded data removed]",
            "text/plain": [
              "<Figure size 1080x504 with 1 Axes>"
            ]
          },
          "metadata": {
            "tags": [],
            "needs_background": "light"
          }
        }
      ]
    },
    {
      "cell_type": "code",
      "metadata": {
        "colab_type": "code",
        "id": "lmm0jRg2ihwc",
        "colab": {}
      },
      "source": [
        "cfr.to_csv('cfr.csv',index=False)\n",
        "from datetime import datetime\n",
        "json_data['datetime']=str(datetime.now(pytz.timezone('Asia/Kolkata')))"
      ],
      "execution_count": 38,
      "outputs": []
    },
    {
      "cell_type": "code",
      "metadata": {
        "colab_type": "code",
        "id": "L71oau76mlox",
        "colab": {}
      },
      "source": [
        "json_data_indented = json.dumps(json_data, indent = 4)\n",
        "with open(\"cfr.json\", \"w\") as outfile: \n",
        "    outfile.write(json_data_indented)"
      ],
      "execution_count": 39,
      "outputs": []
    },
    {
      "cell_type": "markdown",
      "metadata": {
        "colab_type": "text",
        "id": "wEhhFwc2dc5l"
      },
      "source": [
        "#Doubling Rate"
      ]
    },
    {
      "cell_type": "code",
      "metadata": {
        "colab_type": "code",
        "id": "hRXAaZHxmn7l",
        "colab": {}
      },
      "source": [
        "def calc_doublingtimes(x):\n",
        "    vals = []\n",
        "    for i in range(x.shape[0]):\n",
        "        for j in range(i+1,x.shape[0]):\n",
        "            if len(str(x[j])) and len(str(x[i])):\n",
        "                vals.append(np.log(2)*(j-i)/np.log(int(x[j])/int(x[i])))\n",
        "    if not vals:\n",
        "        return 0,0,0\n",
        "    return np.median(vals),np.quantile(vals,0.025),np.quantile(vals,0.975)"
      ],
      "execution_count": 40,
      "outputs": []
    },
    {
      "cell_type": "code",
      "metadata": {
        "colab_type": "code",
        "id": "kWkEzdp2dtJv",
        "colab": {}
      },
      "source": [
        "start=datetime.now()\n",
        "x=datetime.now(pytz.timezone('Asia/Kolkata')).date()\n",
        "dd=pd.date_range(start=\"2020-01-30\",end=x)\n",
        "datess=[]\n",
        "for i in range(len(dd)):\n",
        "  datess.append((str(dd[i])[:10]))"
      ],
      "execution_count": 41,
      "outputs": []
    },
    {
      "cell_type": "code",
      "metadata": {
        "colab_type": "code",
        "id": "8R0wO5ONgrCK",
        "colab": {}
      },
      "source": [
        "dates1=[]\n",
        "for w in range (len(dates)):\n",
        "  if len(dates[w]):\n",
        "    dates1.append(convert(datess[w]))"
      ],
      "execution_count": 42,
      "outputs": []
    },
    {
      "cell_type": "code",
      "metadata": {
        "colab_type": "code",
        "id": "uOGYyp1Rd8N6",
        "colab": {
          "base_uri": "https://localhost:8080/",
          "height": 90
        },
        "outputId": "22e29234-cc4f-4ac9-9ee1-a40e8a3cb9e1"
      },
      "source": [
        "json_data={}\n",
        "\n",
        "test_json_url = 'https://api.covid19india.org/v3/data-all.json'\n",
        "test_json = json.loads(urlopen(test_json_url).read())\n",
        "test= test_json\n",
        "\n",
        "for j in state_id.keys():\n",
        "    cumul=['']*len(dates)\n",
        "    st=state_id[j]\n",
        "    cumul=states[st]['cum_positive_cases']\n",
        "\n",
        "    cumul_cases=np.array(cumul)\n",
        "    dbt = np.zeros((3,cumul_cases.shape[0]))\n",
        "    for i in range(cumul_cases.shape[0]):\n",
        "        dbt[:,i] = calc_doublingtimes(cumul_cases[i-7:i])\n",
        "    st=state_id[j]\n",
        "    json_data[st] = {\n",
        "            'dates':dates1,\n",
        "            'dbt_point':pd.Series((list(dbt[0,:]))).fillna('').tolist(),\n",
        "            'dbt_l95':pd.Series((list(dbt[1,:]))).fillna('').tolist(),\n",
        "            'dbt_u95':pd.Series((list(dbt[2,:]))).fillna('').tolist()\n",
        "            }\n",
        "    states[st].update(json_data[st])"
      ],
      "execution_count": 43,
      "outputs": [
        {
          "output_type": "stream",
          "text": [
            "/usr/local/lib/python3.6/dist-packages/ipykernel_launcher.py:6: RuntimeWarning: divide by zero encountered in double_scalars\n",
            "  \n",
            "/usr/local/lib/python3.6/dist-packages/numpy/lib/function_base.py:3942: RuntimeWarning: invalid value encountered in multiply\n",
            "  x2 = take(ap, indices_above, axis=axis) * weights_above\n"
          ],
          "name": "stderr"
        }
      ]
    },
    {
      "cell_type": "markdown",
      "metadata": {
        "id": "qGM2uPiQuKGq",
        "colab_type": "text"
      },
      "source": [
        "#Rt Calculation"
      ]
    },
    {
      "cell_type": "code",
      "metadata": {
        "id": "pUoj8Owqk_vi",
        "colab_type": "code",
        "colab": {}
      },
      "source": [
        "def shift_rt(li,day=9):\n",
        "  collections.deque([1, 2, 3, 4, 5])"
      ],
      "execution_count": null,
      "outputs": []
    },
    {
      "cell_type": "code",
      "metadata": {
        "id": "jzCGqUfXuKGs",
        "colab_type": "code",
        "colab": {}
      },
      "source": [
        "data_recovered = pd.DataFrame()\n",
        "data_deceased = pd.DataFrame()\n",
        "data_confirmed = pd.DataFrame()\n",
        "for s in state_id.keys():\n",
        "    st=state_id[s]\n",
        "    data_confirmed[st] = np.array(states[st]['daily_positive_cases'])\n",
        "    data_deceased[st] = np.array(states[st]['daily_deceased'])\n",
        "    data_recovered[st] = np.array(states[st]['daily_recovered'])"
      ],
      "execution_count": null,
      "outputs": []
    },
    {
      "cell_type": "code",
      "metadata": {
        "id": "vQlPY_0nuKG3",
        "colab_type": "code",
        "colab": {}
      },
      "source": [
        "data_recovered = data_recovered.replace(r'^\\s*$', np.NaN, regex=True).fillna(0)\n",
        "data_recovered = data_recovered.astype(np.int32)\n",
        "data_confirmed = data_confirmed.replace(r'^\\s*$', np.NaN, regex=True).fillna(0)\n",
        "data_confirmed = data_confirmed.astype(np.int32)\n",
        "data_deceased = data_deceased.replace(r'^\\s*$', np.NaN, regex=True).fillna(0)\n",
        "data_deceased = data_deceased.astype(np.int32)\n",
        "data_deceased['date'] = dates\n",
        "data_recovered['date'] = dates\n",
        "data_confirmed['date'] = dates"
      ],
      "execution_count": null,
      "outputs": []
    },
    {
      "cell_type": "code",
      "metadata": {
        "scrolled": false,
        "id": "dv1aI8w8uKG-",
        "colab_type": "code",
        "colab": {}
      },
      "source": [
        "rt = pd.DataFrame()\n",
        "# plt.figure(1, figsize=(15, 7))\n",
        "for st in state_id.keys():\n",
        "    state=state_id[st]\n",
        "    temp = pd.DataFrame()\n",
        "    temp[\"active\"] = data_confirmed[state]\n",
        "    temp.to_csv('confirmed.csv')\n",
        "    call(['RScript.exe','scripts/boot_rt_back.R'])\n",
        "    values = {\n",
        "            'rt_point':[],\n",
        "            'rt_sd':[],\n",
        "            'rt_l95':[],\n",
        "            'rt_u95':[],\n",
        "            'rt_l50':[],\n",
        "            'rt_u50':[],\n",
        "            't_end':[]\n",
        "            }\n",
        "    for df in [pd.read_csv('rt_temp/'+temp) for temp in os.listdir('rt_temp/')]:\n",
        "        values['rt_point'].append(df['Mean(R)'])\n",
        "        values['rt_sd'].append(df['Std(R)'])\n",
        "        values['rt_l95'].append(df['Quantile.0.025(R)'])\n",
        "        values['rt_u95'].append(df['Quantile.0.975(R)'])\n",
        "        values['rt_l50'].append(df['Quantile.0.25(R)'])\n",
        "        values['rt_u50'].append(df['Quantile.0.75(R)'])\n",
        "        values['t_end'].append(df['t_end']-1)\n",
        "    for i in values:\n",
        "        values[i] = np.median(values[i],axis=0)\n",
        "    values['dates'] = list(data_confirmed['date'][values['t_end']-1])\n",
        "    rt_state=pd.DataFrame()\n",
        "    rt_state['state']=[str(state)]*len(values['dates'])\n",
        "    rt_state['dates']= values['dates']\n",
        "    rt_state['rt_point'] = values['rt_point']\n",
        "    rt_state['rt_sd'] = values['rt_sd']    \n",
        "    rt_state['rt_l95'] = values['rt_l95']    \n",
        "    rt_state['rt_u95'] = values['rt_u95']    \n",
        "    rt_state['rt_l50'] = values['rt_l50']\n",
        "    rt_state['rt_u50'] = values['rt_u50']\n",
        "    rt=pd.concat([rt, rt_state])\n",
        "    plt.plot(range(len(values['rt_point'])),values['rt_point'],label=state)\n",
        "    plt.fill_between(range(len(values['rt_point'])),values['rt_l95'],values['rt_u95'],alpha=0.5)\n",
        "    plt.ylim(0,4)\n",
        "    plt.legend()\n",
        "    plt.show()"
      ],
      "execution_count": null,
      "outputs": []
    },
    {
      "cell_type": "code",
      "metadata": {
        "id": "KEfUZftEuKHJ",
        "colab_type": "code",
        "colab": {}
      },
      "source": [
        "rt.to_csv('rt.csv',index=False)"
      ],
      "execution_count": null,
      "outputs": []
    },
    {
      "cell_type": "markdown",
      "metadata": {
        "id": "NLsCNBKpCx7O",
        "colab_type": "text"
      },
      "source": [
        "##Rt Shifting"
      ]
    },
    {
      "cell_type": "code",
      "metadata": {
        "id": "MtH6zdMU0EkO",
        "colab_type": "code",
        "colab": {}
      },
      "source": [
        "def shift_rt_metrics(dict,key,days=9):\n",
        "  values_shifted = collections.deque(dict[key])\n",
        "  values_shifted.rotate(-9)\n",
        "\n",
        "  new_val = list(values_shifted)\n",
        "\n",
        "  size = len(dict['dates'])\n",
        "  \n",
        "  for i in range(days):\n",
        "    new_val[size-1-i]=''\n",
        "\n",
        "  return new_val\n",
        " "
      ],
      "execution_count": null,
      "outputs": []
    },
    {
      "cell_type": "code",
      "metadata": {
        "id": "_J5_DRvX-SdA",
        "colab_type": "code",
        "colab": {}
      },
      "source": [
        "values_shifted = copy.deepcopy(values)\n",
        "values_shifted['rt_point'] = shift_rt_metrics(values_shifted,'rt_point')\n",
        "values_shifted['rt_sd'] = shift_rt_metrics(values_shifted,'rt_sd')\n",
        "values_shifted['rt_l95'] = shift_rt_metrics(values_shifted,'rt_195')\n",
        "values_shifted['rt_u95'] = shift_rt_metrics(values_shifted,'rt_u96')\n",
        "values_shifted['rt_l50'] = shift_rt_metrics(values_shifted,'rt_150')\n",
        "values_shifted['rt_u50'] = shift_rt_metrics(values_shifted,'rt_u50')\n",
        "values_shifted['t_end'] = shift_rt_metrics(values_shifted,'t_end')"
      ],
      "execution_count": null,
      "outputs": []
    },
    {
      "cell_type": "markdown",
      "metadata": {
        "id": "aVXkhSzq_XBI",
        "colab_type": "text"
      },
      "source": [
        "##Rt changes for review"
      ]
    },
    {
      "cell_type": "code",
      "metadata": {
        "id": "aApEDCL7-_gr",
        "colab_type": "code",
        "colab": {}
      },
      "source": [
        "print('Last 15 days : ',values_shifted['rt_point'][-15:])\n",
        "print('Last 15 days : ',values_shifted['u95'][-15:])\n",
        "print('Last 15 days : ',values_shifted['rt_l95'][-15:])"
      ],
      "execution_count": null,
      "outputs": []
    },
    {
      "cell_type": "code",
      "metadata": {
        "id": "SjNaxt3p_ZhS",
        "colab_type": "code",
        "colab": {}
      },
      "source": [
        "with open('rt_shifted.json', 'w') as outfile:\n",
        "  json.dump(values_shifted, outfile,indent=4)"
      ],
      "execution_count": null,
      "outputs": []
    },
    {
      "cell_type": "code",
      "metadata": {
        "id": "LKYkPwynzndj",
        "colab_type": "code",
        "colab": {}
      },
      "source": [
        "swith open('rt.json', 'w') as outfile:\n",
        "  json.dump(values, outfile,indent=4)"
      ],
      "execution_count": null,
      "outputs": []
    },
    {
      "cell_type": "code",
      "metadata": {
        "id": "p-6gZXTQzMas",
        "colab_type": "code",
        "colab": {}
      },
      "source": [
        "df_list = [df,cfr,rt]\n",
        "all_dataframes = pd.concat(df_list)\n",
        "all_dataframes.to_csv('complete_districts_all_metrics.csv',index=False)"
      ],
      "execution_count": null,
      "outputs": []
    },
    {
      "cell_type": "markdown",
      "metadata": {
        "id": "-7sizcxPuKHZ",
        "colab_type": "text"
      },
      "source": [
        "#Pooling"
      ]
    },
    {
      "cell_type": "code",
      "metadata": {
        "colab_type": "code",
        "id": "117lq5wLXCvL",
        "colab": {
          "base_uri": "https://localhost:8080/",
          "height": 72
        },
        "outputId": "8e325670-7a8d-4270-aaae-d456f032b75d"
      },
      "source": [
        "print(\"No of days of data present: \",len(dates))\n",
        "print(\"Data rows for state dict: \",len(states['India']['dbt_u95']))\n",
        "print(\"No. of states : \",len(states.keys())-1)"
      ],
      "execution_count": 44,
      "outputs": [
        {
          "output_type": "stream",
          "text": [
            "No of days of data present:  196\n",
            "Data rows for state dict:  196\n",
            "No. of states :  36\n"
          ],
          "name": "stdout"
        }
      ]
    },
    {
      "cell_type": "code",
      "metadata": {
        "colab_type": "code",
        "id": "AYcRWGwfbFqa",
        "colab": {
          "base_uri": "https://localhost:8080/",
          "height": 35
        },
        "outputId": "1b3ce962-e09b-4993-858c-5f353ff77b0a"
      },
      "source": [
        "print(\"Date updated : \",states['datetime'])"
      ],
      "execution_count": 45,
      "outputs": [
        {
          "output_type": "stream",
          "text": [
            "Date updated :  2020-08-14 02:18:32.714284+05:30\n"
          ],
          "name": "stdout"
        }
      ]
    },
    {
      "cell_type": "code",
      "metadata": {
        "colab_type": "code",
        "id": "HWcFATKDGfY5",
        "colab": {}
      },
      "source": [
        "cols=list(states['India'].keys())\n",
        "q=['state']\n",
        "complete=pd.DataFrame(columns=q+cols)\n",
        "keys=list(states.keys())[:-1]\n",
        "for i in keys:\n",
        "  temp=pd.DataFrame()\n",
        "  temp['state']=[str(i)]*len(states['India']['dates'])\n",
        "  for j in cols:\n",
        "\n",
        "    temp[j]=list(states[i][j])\n",
        "  complete = pd.concat([complete,temp])"
      ],
      "execution_count": 46,
      "outputs": []
    },
    {
      "cell_type": "code",
      "metadata": {
        "colab_type": "code",
        "id": "dhye4Qn26bTF",
        "colab": {}
      },
      "source": [
        "complete.to_csv('com.csv',index=False)"
      ],
      "execution_count": 47,
      "outputs": []
    },
    {
      "cell_type": "code",
      "metadata": {
        "colab_type": "code",
        "id": "yoIG5b-qeBF2",
        "colab": {}
      },
      "source": [
        "json_data_indented = json.dumps(json_data, indent = 4)\n",
        "with open(\"doubling_rate.json\", \"w\") as outfile: \n",
        "    outfile.write(json_data_indented)"
      ],
      "execution_count": 48,
      "outputs": []
    },
    {
      "cell_type": "code",
      "metadata": {
        "colab_type": "code",
        "id": "LF5HPhfgniCs",
        "colab": {}
      },
      "source": [
        "states_indented = json.dumps(states, indent = 4)\n",
        "with open(\"covidtoday.json\", \"w\") as outfile: \n",
        "    outfile.write(states_indented)"
      ],
      "execution_count": 49,
      "outputs": []
    },
    {
      "cell_type": "code",
      "metadata": {
        "colab_type": "code",
        "id": "OuEakH5cA7u2",
        "colab": {
          "base_uri": "https://localhost:8080/",
          "height": 181
        },
        "outputId": "6cb548c9-8e26-48df-c7e8-2cbae28848c7"
      },
      "source": [
        "complete.columns"
      ],
      "execution_count": 50,
      "outputs": [
        {
          "output_type": "execute_result",
          "data": {
            "text/plain": [
              "Index(['state', 'dates', 'cum_positive_cases', 'cum_positivity_rate',\n",
              "       'daily_positive_cases', 'cum_recovered', 'daily_recovered',\n",
              "       'cum_deceased', 'daily_deceased', 'daily_positivity_rate',\n",
              "       'daily_positive_cases_ma', 'daily_positivity_rate_ma', 'daily_tests',\n",
              "       'cum_tests', 'test_per_million', 'daily_cases_per_million',\n",
              "       'daily_tests_per_million', 'daily_tests_ma', 'daily_deceased_ma',\n",
              "       'cfr1_point', 'cfr2_point', 'cfr3_point', 'cfr3_l95', 'cfr3_u95',\n",
              "       'cfr3_l50', 'cfr3_u50', 'dbt_point', 'dbt_l95', 'dbt_u95'],\n",
              "      dtype='object')"
            ]
          },
          "metadata": {
            "tags": []
          },
          "execution_count": 50
        }
      ]
    },
    {
      "cell_type": "code",
      "metadata": {
        "id": "Zjj1BR4ouKIx",
        "colab_type": "code",
        "colab": {}
      },
      "source": [
        ""
      ],
      "execution_count": null,
      "outputs": []
    }
  ]
}