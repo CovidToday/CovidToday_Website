{
 "cells": [
  {
   "cell_type": "code",
   "execution_count": 1,
   "metadata": {
    "colab": {
     "base_uri": "https://localhost:8080/",
     "height": 34
    },
    "colab_type": "code",
    "id": "s0D3VVTL35WA",
    "outputId": "31eb3000-2b8c-4d91-ee40-16dc8cffe33a"
   },
   "outputs": [
    {
     "name": "stdout",
     "output_type": "stream",
     "text": [
      "Requirement already satisfied: wget in /usr/local/lib/python3.6/dist-packages (3.2)\n"
     ]
    }
   ],
   "source": [
    "!pip install wget"
   ]
  },
  {
   "cell_type": "code",
   "execution_count": 1,
   "metadata": {
    "colab": {
     "base_uri": "https://localhost:8080/",
     "height": 122
    },
    "colab_type": "code",
    "id": "3u31oVIUtrk4",
    "outputId": "6d0cb543-d72c-49bb-ecfa-f667577042bc"
   },
   "outputs": [
    {
     "name": "stdout",
     "output_type": "stream",
     "text": [
      "Collecting simplejson\n",
      "  Downloading simplejson-3.17.2-cp37-cp37m-win_amd64.whl (73 kB)\n",
      "Installing collected packages: simplejson\n",
      "Successfully installed simplejson-3.17.2\n"
     ]
    }
   ],
   "source": [
    "!pip install simplejson"
   ]
  },
  {
   "cell_type": "code",
   "execution_count": 4,
   "metadata": {
    "colab": {
     "base_uri": "https://localhost:8080/",
     "height": 34
    },
    "colab_type": "code",
    "id": "idHxfP778zNV",
    "outputId": "b6f0d510-5f85-4b24-9bd5-5c82243a5226"
   },
   "outputs": [
    {
     "name": "stdout",
     "output_type": "stream",
     "text": [
      "Drive already mounted at /content/gdrive; to attempt to forcibly remount, call drive.mount(\"/content/gdrive\", force_remount=True).\n"
     ]
    }
   ],
   "source": [
    "from __future__ import print_function\n",
    "from scipy.io import loadmat\n",
    "from tqdm import tqdm\n",
    "from google.colab import drive\n",
    "import numpy as np\n",
    "import scipy\n",
    "import os\n",
    "import matplotlib.pyplot as plt\n",
    "import csv\n",
    "import pandas as pd\n",
    "import wget\n",
    "import simplejson\n",
    "drive.mount('/content/gdrive')"
   ]
  },
  {
   "cell_type": "code",
   "execution_count": 5,
   "metadata": {
    "colab": {
     "base_uri": "https://localhost:8080/",
     "height": 71
    },
    "colab_type": "code",
    "id": "NCzWtuf84ATa",
    "outputId": "854ae450-4d09-4094-c73f-e621a9fb9ad1"
   },
   "outputs": [
    {
     "name": "stderr",
     "output_type": "stream",
     "text": [
      "/usr/local/lib/python3.6/dist-packages/IPython/core/interactiveshell.py:2718: DtypeWarning: Columns (4) have mixed types.Specify dtype option on import or set low_memory=False.\n",
      "  interactivity=interactivity, compiler=compiler, result=result)\n"
     ]
    }
   ],
   "source": [
    "wget.download('https://www.gstatic.com/covid19/mobility/Global_Mobility_Report.csv', os.getcwd()+\"/Global_Mobility_Report.csv\")\n",
    "g_list = pd.read_csv('Global_Mobility_Report.csv')"
   ]
  },
  {
   "cell_type": "code",
   "execution_count": 6,
   "metadata": {
    "colab": {},
    "colab_type": "code",
    "id": "gHBg2c1UJe3l"
   },
   "outputs": [],
   "source": [
    "def normalize(arr):\n",
    "  slope = int(arr[-1])-int(arr[-2])\n",
    "  return int(arr[-1])+slope"
   ]
  },
  {
   "cell_type": "code",
   "execution_count": 7,
   "metadata": {
    "colab": {},
    "colab_type": "code",
    "id": "wmesDR9t0cDm"
   },
   "outputs": [],
   "source": [
    "def fn(mon):\n",
    "  if(mon == \"01\"):\n",
    "    return \" January\"\n",
    "  if(mon == \"02\"):\n",
    "    return \" February\"\n",
    "  if(mon == \"03\"):\n",
    "    return \" March\"\n",
    "  if(mon == \"04\"):\n",
    "    return \" April\"\n",
    "  if(mon == \"05\"):\n",
    "    return \" May\"\n",
    "  if(mon == \"06\"):\n",
    "    return \" June\"\n",
    "  if(mon == \"07\"):\n",
    "    return \" July\"\n",
    "  if(mon == \"08\"):\n",
    "    return \" August\"\n",
    "  if(mon == \"09\"):\n",
    "    return \" September\"\n",
    "  if(mon == \"10\"):\n",
    "    return \" October\"\n",
    "  if(mon == \"11\"):\n",
    "    return \" November\"\n",
    "  if(mon == \"12\"):\n",
    "    return \" December\"\n",
    "def convert(dat): \n",
    "    return  str(dat[-2:]) + fn(str(dat[5:7]))"
   ]
  },
  {
   "cell_type": "code",
   "execution_count": 8,
   "metadata": {
    "colab": {},
    "colab_type": "code",
    "id": "s4LOkKFPuzsT"
   },
   "outputs": [],
   "source": [
    "def isNaN(num):\n",
    "    return num != num"
   ]
  },
  {
   "cell_type": "code",
   "execution_count": 9,
   "metadata": {
    "colab": {},
    "colab_type": "code",
    "id": "ZR7Wgleu9Xbg"
   },
   "outputs": [],
   "source": [
    "india_dict = {}\n",
    "df=pd.DataFrame()\n",
    "csv_state = []\n",
    "csv_dates = []\n",
    "csv_retail = []\n",
    "csv_grocery = []\n",
    "csv_parks = []\n",
    "csv_transit = []\n",
    "csv_workplace = []\n",
    "csv_residential = []\n",
    "csv_average_mobility = []\n",
    "temp=0\n",
    "columnDict = {}\n",
    "g_list = g_list[g_list['country_region'] == 'India']\n",
    "g_list = g_list.drop_duplicates(subset=['sub_region_1', 'date'])\n",
    "g_list.fillna(method='ffill')\n",
    "for index, row in g_list.iterrows():\n",
    "    if isNaN(row['sub_region_1']):\n",
    "      row['sub_region_1']='India'\n",
    "    if row['sub_region_1'] not in  india_dict.keys():\n",
    "      india_dict[row['sub_region_1']] = {}\n",
    "    state = row['sub_region_1']\n",
    "    dates = row['date']\n",
    "    # print(state,\" \",dates)\n",
    "    retail = row['retail_and_recreation_percent_change_from_baseline']\n",
    "    grocery = row['grocery_and_pharmacy_percent_change_from_baseline']\n",
    "    parks = row['parks_percent_change_from_baseline']\n",
    "    transit = row['transit_stations_percent_change_from_baseline']\n",
    "    workplace = row['workplaces_percent_change_from_baseline']\n",
    "    residential = row['residential_percent_change_from_baseline']\n",
    "    if 'dates' not in india_dict[state].keys():\n",
    "      india_dict[state]['dates'] = []\n",
    "      india_dict[state]['retail'] = []\n",
    "      india_dict[state]['grocery'] = []\n",
    "      india_dict[state]['parks'] = []\n",
    "      india_dict[state]['transit'] = []\n",
    "      india_dict[state]['workplace'] = []\n",
    "      india_dict[state]['residential'] = []\n",
    "      india_dict[state]['average_mobility'] = []\n",
    "    l = len(india_dict[state]['dates'])\n",
    "    if(l>1 and l%7<2):\n",
    "      india_dict[state]['workplace'].append(india_dict[state]['workplace'][-1])\n",
    "      india_dict[state]['retail'].append(india_dict[state]['retail'][-1])\n",
    "      india_dict[state]['grocery'].append(india_dict[state]['grocery'][-1])\n",
    "      india_dict[state]['parks'].append(india_dict[state]['parks'][-1])\n",
    "      india_dict[state]['transit'].append(india_dict[state]['transit'][-1])\n",
    "      india_dict[state]['residential'].append(india_dict[state]['residential'][-1])\n",
    "    else:\n",
    "      india_dict[state]['workplace'].append(row['workplaces_percent_change_from_baseline'])\n",
    "      india_dict[state]['retail'].append(row['retail_and_recreation_percent_change_from_baseline'])\n",
    "      india_dict[state]['grocery'].append(row['grocery_and_pharmacy_percent_change_from_baseline'])\n",
    "      india_dict[state]['parks'].append(row['parks_percent_change_from_baseline'])\n",
    "      india_dict[state]['transit'].append(row['transit_stations_percent_change_from_baseline'])\n",
    "      india_dict[state]['residential'].append(row['residential_percent_change_from_baseline'])\n",
    "    temp=[]\n",
    "    if(not isNaN((india_dict[state]['retail'][-1]))):\n",
    "      temp.append(int(india_dict[state]['retail'][-1]))\n",
    "    if(not isNaN((india_dict[state]['grocery'][-1]))):\n",
    "      temp.append(int(india_dict[state]['grocery'][-1]))\n",
    "    if(not isNaN((india_dict[state]['transit'][-1]))):\n",
    "      temp.append(int(india_dict[state]['transit'][-1]))\n",
    "    if(not isNaN((india_dict[state]['workplace'][-1]))):\n",
    "      temp.append(int(india_dict[state]['workplace'][-1]))\n",
    "    count = 0\n",
    "    sum=0\n",
    "    for i in temp:\n",
    "      sum+=i\n",
    "      count+=1\n",
    "    if(len(temp)>0):\n",
    "        avg=sum/count\n",
    "        india_dict[state]['average_mobility'].append(round(avg,2))\n",
    "    else:\n",
    "        india_dict[state]['average_mobility'].append('')\n",
    "    india_dict[state]['dates'].append(convert(row['date']))\n",
    "      \n",
    "    for i in range(len(india_dict[state]['dates'])):\n",
    "      if (temp!=india_dict[state]['dates'][-1]) :\n",
    "        csv_state.append(state)\n",
    "        csv_dates.append(india_dict[state]['dates'][-1])\n",
    "        csv_retail.append(india_dict[state]['retail'][-1])\n",
    "        csv_grocery.append(india_dict[state]['grocery'][-1])\n",
    "        csv_parks.append(india_dict[state]['parks'][-1])\n",
    "        csv_transit.append(india_dict[state]['transit'][-1])\n",
    "        csv_workplace.append(india_dict[state]['workplace'][-1])\n",
    "        csv_residential.append(india_dict[state]['residential'][-1])\n",
    "        csv_average_mobility.append(india_dict[state]['average_mobility'][-1])\n",
    "        temp=india_dict[state]['dates'][-1]"
   ]
  },
  {
   "cell_type": "code",
   "execution_count": 10,
   "metadata": {
    "colab": {},
    "colab_type": "code",
    "id": "1rreztjxMzlM"
   },
   "outputs": [],
   "source": [
    "df=pd.DataFrame()\n",
    "df['state']=csv_state\n",
    "df['dates']=csv_dates\n",
    "df['retail']=csv_retail\n",
    "df['grocery']=csv_grocery\n",
    "df['parks']=csv_parks\n",
    "df['transit']=csv_transit\n",
    "df['workplace']=csv_workplace\n",
    "df['residential']=csv_residential\n",
    "df['average_mobility']=csv_average_mobility\n",
    "df.fillna(method='ffill')\n",
    "df.to_csv('mobility.csv',index=False)"
   ]
  },
  {
   "cell_type": "code",
   "execution_count": 11,
   "metadata": {
    "colab": {},
    "colab_type": "code",
    "id": "fmHG2UDF9wbw"
   },
   "outputs": [],
   "source": [
    "from datetime import datetime\n",
    "import json\n",
    "india_dict['datetime']=str(datetime.now())\n",
    "mobility_json_indented = json.dumps(india_dict, indent = 4)\n",
    "mobility_json = json.dumps(india_dict)"
   ]
  },
  {
   "cell_type": "code",
   "execution_count": 12,
   "metadata": {
    "colab": {},
    "colab_type": "code",
    "id": "Q9A78glZqhsK"
   },
   "outputs": [],
   "source": [
    "with open(\"india_mobility_indented.json\", \"w\") as outfile: \n",
    "    outfile.write(simplejson.dumps(india_dict,ignore_nan=True,indent=4))"
   ]
  },
  {
   "cell_type": "code",
   "execution_count": 13,
   "metadata": {
    "colab": {},
    "colab_type": "code",
    "id": "uvTqo9vXqoE8"
   },
   "outputs": [],
   "source": [
    "with open(\"india_mobility.json\", \"w\") as outfile: \n",
    "    outfile.write(simplejson.dumps(india_dict,ignore_nan=True))"
   ]
  }
 ],
 "metadata": {
  "colab": {
   "collapsed_sections": [],
   "name": "Mobility_indices.ipynb",
   "provenance": []
  },
  "kernelspec": {
   "display_name": "Python 3",
   "language": "python",
   "name": "python3"
  },
  "language_info": {
   "codemirror_mode": {
    "name": "ipython",
    "version": 3
   },
   "file_extension": ".py",
   "mimetype": "text/x-python",
   "name": "python",
   "nbconvert_exporter": "python",
   "pygments_lexer": "ipython3",
   "version": "3.7.6"
  }
 },
 "nbformat": 4,
 "nbformat_minor": 1
}
