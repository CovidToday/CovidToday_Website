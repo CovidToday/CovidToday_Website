{
  "nbformat": 4,
  "nbformat_minor": 0,
  "metadata": {
    "colab": {
      "name": "Mobility_indices.ipynb",
      "provenance": [],
      "collapsed_sections": []
    },
    "kernelspec": {
      "display_name": "Python 3",
      "language": "python",
      "name": "python3"
    },
    "language_info": {
      "codemirror_mode": {
        "name": "ipython",
        "version": 3
      },
      "file_extension": ".py",
      "mimetype": "text/x-python",
      "name": "python",
      "nbconvert_exporter": "python",
      "pygments_lexer": "ipython3",
      "version": "3.7.1"
    }
  },
  "cells": [
    {
      "cell_type": "code",
      "metadata": {
        "colab_type": "code",
        "id": "s0D3VVTL35WA",
        "colab": {
          "base_uri": "https://localhost:8080/",
          "height": 34
        },
        "outputId": "d610bd85-af20-48fb-9087-e8824d544d39"
      },
      "source": [
        "!pip install wget"
      ],
      "execution_count": 45,
      "outputs": [
        {
          "output_type": "stream",
          "text": [
            "Requirement already satisfied: wget in /usr/local/lib/python3.6/dist-packages (3.2)\n"
          ],
          "name": "stdout"
        }
      ]
    },
    {
      "cell_type": "code",
      "metadata": {
        "colab_type": "code",
        "id": "idHxfP778zNV",
        "colab": {
          "base_uri": "https://localhost:8080/",
          "height": 54
        },
        "outputId": "10328571-f572-45c8-b5e0-d60e4c857424"
      },
      "source": [
        "from __future__ import print_function\n",
        "from scipy.io import loadmat\n",
        "from tqdm import tqdm\n",
        "from google.colab import drive\n",
        "import numpy as np\n",
        "import scipy\n",
        "import os\n",
        "import matplotlib.pyplot as plt\n",
        "import csv\n",
        "import pandas as pd\n",
        "import wget\n",
        "drive.mount('/content/gdrive')"
      ],
      "execution_count": 46,
      "outputs": [
        {
          "output_type": "stream",
          "text": [
            "Drive already mounted at /content/gdrive; to attempt to forcibly remount, call drive.mount(\"/content/gdrive\", force_remount=True).\n"
          ],
          "name": "stdout"
        }
      ]
    },
    {
      "cell_type": "code",
      "metadata": {
        "colab_type": "code",
        "id": "NCzWtuf84ATa",
        "colab": {
          "base_uri": "https://localhost:8080/",
          "height": 71
        },
        "outputId": "dbd2cda4-1153-4d22-9da5-b5db20e67d22"
      },
      "source": [
        "wget.download('https://www.gstatic.com/covid19/mobility/Global_Mobility_Report.csv', os.getcwd()+\"/Global_Mobility_Report.csv\")\n",
        "g_list = pd.read_csv('Global_Mobility_Report.csv')"
      ],
      "execution_count": 47,
      "outputs": [
        {
          "output_type": "stream",
          "text": [
            "/usr/local/lib/python3.6/dist-packages/IPython/core/interactiveshell.py:2718: DtypeWarning: Columns (4) have mixed types.Specify dtype option on import or set low_memory=False.\n",
            "  interactivity=interactivity, compiler=compiler, result=result)\n"
          ],
          "name": "stderr"
        }
      ]
    },
    {
      "cell_type": "code",
      "metadata": {
        "colab_type": "code",
        "id": "gHBg2c1UJe3l",
        "colab": {}
      },
      "source": [
        "def normalize(arr):\n",
        "  slope = int(arr[-1])-int(arr[-2])\n",
        "  return int(arr[-1])+slope"
      ],
      "execution_count": 48,
      "outputs": []
    },
    {
      "cell_type": "code",
      "metadata": {
        "colab_type": "code",
        "id": "wmesDR9t0cDm",
        "colab": {}
      },
      "source": [
        "def fn(mon):\n",
        "  if(mon == \"01\"):\n",
        "    return \" January\"\n",
        "  if(mon == \"02\"):\n",
        "    return \" February\"\n",
        "  if(mon == \"03\"):\n",
        "    return \" March\"\n",
        "  if(mon == \"04\"):\n",
        "    return \" April\"\n",
        "  if(mon == \"05\"):\n",
        "    return \" May\"\n",
        "  if(mon == \"06\"):\n",
        "    return \" June\"\n",
        "  if(mon == \"07\"):\n",
        "    return \" July\"\n",
        "  if(mon == \"08\"):\n",
        "    return \" August\"\n",
        "  if(mon == \"09\"):\n",
        "    return \" September\"\n",
        "  if(mon == \"10\"):\n",
        "    return \" October\"\n",
        "  if(mon == \"11\"):\n",
        "    return \" November\"\n",
        "  if(mon == \"12\"):\n",
        "    return \" December\"\n",
        "def convert(dat): \n",
        "    return  str(dat[-2:]) + fn(str(dat[5:7]))"
      ],
      "execution_count": 49,
      "outputs": []
    },
    {
      "cell_type": "code",
      "metadata": {
        "id": "s4LOkKFPuzsT",
        "colab_type": "code",
        "colab": {}
      },
      "source": [
        "def isNaN(num):\n",
        "    return num != num"
      ],
      "execution_count": 50,
      "outputs": []
    },
    {
      "cell_type": "code",
      "metadata": {
        "id": "4LsvYd14OA4z",
        "colab_type": "code",
        "colab": {}
      },
      "source": [
        "# g_listNew = g_list[g_list['country_region'] == 'India']\n",
        "# g_listNew = g_listNew.drop_duplicates(subset=['sub_region_1', 'date'])\n",
        "# g_listNew.fillna(method='ffill')\n",
        "# g_listNew"
      ],
      "execution_count": 51,
      "outputs": []
    },
    {
      "cell_type": "code",
      "metadata": {
        "colab_type": "code",
        "id": "ZR7Wgleu9Xbg",
        "colab": {}
      },
      "source": [
        "india_dict = {}\n",
        "df=pd.DataFrame()\n",
        "csv_state = []\n",
        "csv_dates = []\n",
        "csv_retail = []\n",
        "csv_grocery = []\n",
        "csv_parks = []\n",
        "csv_transit = []\n",
        "csv_workplace = []\n",
        "csv_residential = []\n",
        "csv_average_mobility = []\n",
        "temp=0\n",
        "columnDict = {}\n",
        "g_list = g_list[g_list['country_region'] == 'India']\n",
        "g_list = g_list.drop_duplicates(subset=['sub_region_1', 'date'])\n",
        "g_list.fillna(method='ffill')\n",
        "for index, row in g_list.iterrows():\n",
        "    if isNaN(row['sub_region_1']):\n",
        "      row['sub_region_1']='India'\n",
        "    if row['sub_region_1'] not in  india_dict.keys():\n",
        "      india_dict[row['sub_region_1']] = {}\n",
        "    state = row['sub_region_1']\n",
        "    dates = row['date']\n",
        "    # print(state,\" \",dates)\n",
        "    retail = row['retail_and_recreation_percent_change_from_baseline']\n",
        "    grocery = row['grocery_and_pharmacy_percent_change_from_baseline']\n",
        "    parks = row['parks_percent_change_from_baseline']\n",
        "    transit = row['transit_stations_percent_change_from_baseline']\n",
        "    workplace = row['workplaces_percent_change_from_baseline']\n",
        "    residential = row['residential_percent_change_from_baseline']\n",
        "    if 'dates' not in india_dict[state].keys():\n",
        "      india_dict[state]['dates'] = []\n",
        "      india_dict[state]['retail'] = []\n",
        "      india_dict[state]['grocery'] = []\n",
        "      india_dict[state]['parks'] = []\n",
        "      india_dict[state]['transit'] = []\n",
        "      india_dict[state]['workplace'] = []\n",
        "      india_dict[state]['residential'] = []\n",
        "      india_dict[state]['average_mobility'] = []\n",
        "    l = len(india_dict[state]['dates'])\n",
        "    if(l>1 and l%7<2):\n",
        "      india_dict[state]['workplace'].append(india_dict[state]['workplace'][-1])\n",
        "      india_dict[state]['retail'].append(india_dict[state]['retail'][-1])\n",
        "      india_dict[state]['grocery'].append(india_dict[state]['grocery'][-1])\n",
        "      india_dict[state]['parks'].append(india_dict[state]['parks'][-1])\n",
        "      india_dict[state]['transit'].append(india_dict[state]['transit'][-1])\n",
        "      india_dict[state]['residential'].append(india_dict[state]['residential'][-1])\n",
        "    else:\n",
        "      india_dict[state]['workplace'].append(row['workplaces_percent_change_from_baseline'])\n",
        "      india_dict[state]['retail'].append(row['retail_and_recreation_percent_change_from_baseline'])\n",
        "      india_dict[state]['grocery'].append(row['grocery_and_pharmacy_percent_change_from_baseline'])\n",
        "      india_dict[state]['parks'].append(row['parks_percent_change_from_baseline'])\n",
        "      india_dict[state]['transit'].append(row['transit_stations_percent_change_from_baseline'])\n",
        "      india_dict[state]['residential'].append(row['residential_percent_change_from_baseline'])\n",
        "    temp=[]\n",
        "    if(not isNaN((india_dict[state]['retail'][-1]))):\n",
        "      temp.append(int(india_dict[state]['retail'][-1]))\n",
        "    if(not isNaN((india_dict[state]['grocery'][-1]))):\n",
        "      temp.append(int(india_dict[state]['grocery'][-1]))\n",
        "    if(not isNaN((india_dict[state]['transit'][-1]))):\n",
        "      temp.append(int(india_dict[state]['transit'][-1]))\n",
        "    if(not isNaN((india_dict[state]['workplace'][-1]))):\n",
        "      temp.append(int(india_dict[state]['workplace'][-1]))\n",
        "    count = 0\n",
        "    sum=0\n",
        "    for i in temp:\n",
        "      sum+=i\n",
        "      count+=1\n",
        "    if(len(temp)>0):\n",
        "        avg=sum/count\n",
        "        india_dict[state]['average_mobility'].append(str(avg))\n",
        "    else:\n",
        "        india_dict[state]['average_mobility'].append('')\n",
        "#     if(len(india_dict[state]['retail'][-1])>0 and len(india_dict[state]['grocery'][-1])>0 and len(india_dict[state]['transit'][-1])>0 and len(india_dict[state]['workplace'][-1])>0 ):\n",
        "#       avg = (int(india_dict[state]['retail'][-1])+int(india_dict[state]['grocery'][-1])+int(india_dict[state]['transit'][-1])+int(india_dict[state]['workplace'][-1]))/4\n",
        "#       india_dict[state]['average_mobility'].append(str(avg))  # To change for average\n",
        "#     else:\n",
        "#       india_dict[state]['average_mobility'].append('')  # To change for average\n",
        "    india_dict[state]['dates'].append(convert(row['date']))\n",
        "      \n",
        "    for i in range(len(india_dict[state]['dates'])):\n",
        "      if (temp!=india_dict[state]['dates'][-1]) :\n",
        "        csv_state.append(state)\n",
        "        csv_dates.append(india_dict[state]['dates'][-1])\n",
        "        csv_retail.append(india_dict[state]['retail'][-1])\n",
        "        csv_grocery.append(india_dict[state]['grocery'][-1])\n",
        "        csv_parks.append(india_dict[state]['parks'][-1])\n",
        "        csv_transit.append(india_dict[state]['transit'][-1])\n",
        "        csv_workplace.append(india_dict[state]['workplace'][-1])\n",
        "        csv_residential.append(india_dict[state]['residential'][-1])\n",
        "        csv_average_mobility.append(india_dict[state]['average_mobility'][-1])\n",
        "        temp=india_dict[state]['dates'][-1]"
      ],
      "execution_count": 52,
      "outputs": []
    },
    {
      "cell_type": "code",
      "metadata": {
        "colab_type": "code",
        "id": "1rreztjxMzlM",
        "colab": {}
      },
      "source": [
        "df=pd.DataFrame()\n",
        "df['state']=csv_state\n",
        "df['dates']=csv_dates\n",
        "df['retail']=csv_retail\n",
        "df['grocery']=csv_grocery\n",
        "df['parks']=csv_parks\n",
        "df['transit']=csv_transit\n",
        "df['workplace']=csv_workplace\n",
        "df['residential']=csv_residential\n",
        "df['average_mobility']=csv_average_mobility\n",
        "df.fillna(method='ffill')\n",
        "df.to_csv('mobility.csv',index=False)"
      ],
      "execution_count": 53,
      "outputs": []
    },
    {
      "cell_type": "code",
      "metadata": {
        "colab_type": "code",
        "id": "fmHG2UDF9wbw",
        "colab": {}
      },
      "source": [
        "from datetime import datetime\n",
        "import json\n",
        "india_dict['datetime']=str(datetime.now())\n",
        "mobility_json_indented = json.dumps(india_dict, indent = 4)\n",
        "mobility_json = json.dumps(india_dict)\n"
      ],
      "execution_count": 54,
      "outputs": []
    },
    {
      "cell_type": "code",
      "metadata": {
        "colab_type": "code",
        "id": "ICFelX5IC9HX",
        "colab": {}
      },
      "source": [
        "with open(\"india_mobility.json\", \"w\") as outfile: \n",
        "    outfile.write(mobility_json)"
      ],
      "execution_count": 55,
      "outputs": []
    },
    {
      "cell_type": "code",
      "metadata": {
        "colab_type": "code",
        "id": "ql-6m77DOJ-k",
        "colab": {}
      },
      "source": [
        "with open(\"india_mobility_indented.json\", \"w\") as outfile: \n",
        "    outfile.write(mobility_json_indented)"
      ],
      "execution_count": 56,
      "outputs": []
    }
  ]
}